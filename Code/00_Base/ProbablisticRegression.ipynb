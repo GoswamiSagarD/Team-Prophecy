{
 "cells": [
  {
   "attachments": {},
   "cell_type": "markdown",
   "metadata": {},
   "source": [
    "# Probablistic Regression"
   ]
  },
  {
   "cell_type": "code",
   "execution_count": null,
   "metadata": {},
   "outputs": [],
   "source": [
    "# importing the required libraries\n",
    "import os\n",
    "import pandas as pd\n",
    "import matplotlib.pyplot as plt\n",
    "\n",
    "os.chdir( os.path.join(\"..\", \"..\") )\n",
    "\n",
    "from Code.src.modules.db_ops import *\n",
    "from Code.src.modules.dataManager import DataManager\n",
    "from Code.src.modules.eda import *\n",
    "\n",
    "DM = DataManager()"
   ]
  }
 ],
 "metadata": {
  "language_info": {
   "name": "python"
  },
  "orig_nbformat": 4
 },
 "nbformat": 4,
 "nbformat_minor": 2
}
