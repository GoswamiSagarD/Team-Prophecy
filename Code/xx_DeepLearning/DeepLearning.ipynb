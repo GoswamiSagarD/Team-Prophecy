{
 "cells": [
  {
   "attachments": {},
   "cell_type": "markdown",
   "id": "743dfbd1",
   "metadata": {},
   "source": [
    "# Deep Learning\n",
    "Training a Deep Learning model on the Enrollment Trends and Pattern and then using it to predict course demand in upcoming semesters, based on previous semester trends.\n",
    "\n",
    "This is a model that predicts what the actual course demand will look like for all courses in future. The ultimate goal for this model is to extract behaioral enrollment trends and features for various courses, and then use these features to improve the accuracy of course demand prediction to as close to reality as possible. It will be carried out in an iterative manner, where it begins with just the base model that only uses the past enrollment history, and then add more features with time as they are discovered. The best part about using a Deep Learning Model is that it automatically performs feature selection, and also learns from intricate patterns and relationships between the features, which is very crucial for this problem owning to a lot of complex factors that affect the enrollment of a course. Some of the major areas to focus are:\n",
    "- Course Information\n",
    "    - Course Contents\n",
    "    - Course Prerequisites\n",
    "    - Course Difficulty\n",
    "    - Course Requirement (Core / Concentration Core / Elective / Capstone)\n",
    "    - Course Offered by (Department)\n",
    "    - Course Offered in (Fall / Spring / Summer)\n",
    "    - Course Cluster (Use clustering algorithm to group similar courses together)\n",
    "- Course Instructor Information\n",
    "    - Insturctor Ratings\n",
    "    - Instructor Popularity (based on which sections are filled first)\n",
    "- Student Information (Aggregated at the course level)\n",
    "    - Student Program\n",
    "    - Student Admit Term\n",
    "    - Student Enrollment Term (1st Sem / 2nd Sem / ...)\n",
    "    - Student Status (Domestic / International)\n",
    "    - Prior Waitlisted (whether the student was waitlisted for this course in the prior semesters)\n",
    "    - Prior Enrolled (whether the student was enrolled for this course in the prior semesters)\n",
    "    - Prior Dropped (whether the student dropped this course in the prior semesters)\n",
    "- \n",
    "\n",
    "## Initialization"
   ]
  },
  {
   "cell_type": "code",
   "execution_count": 2,
   "id": "765920f8",
   "metadata": {},
   "outputs": [],
   "source": [
    "# importing the required libraries\n",
    "import os\n",
    "import pandas as pd\n",
    "\n",
    "os.chdir( os.path.join(\"..\", \"..\") )\n",
    "\n",
    "# importing custom modules\n",
    "from Code.src.modules.db_ops import *\n",
    "from Code.src.modules.dataManager import DataManager\n",
    "from Code.src.modules.eda import *\n",
    "from Code.src.modules.db_ops import *\n",
    "\n",
    "# initializing the DataManager\n",
    "DM = DataManager()"
   ]
  },
  {
   "cell_type": "code",
   "execution_count": 3,
   "id": "956f8849",
   "metadata": {},
   "outputs": [],
   "source": [
    "# importing the data for analysis\n",
    "df_finalEnrollment = DM.get_data('EnrollmentFinalStatus', 'pkl', 'processed')\n",
    "db_finalEnrollment = DM.get_data('EnrollmentFinalStatus', 'db', 'processed')"
   ]
  },
  {
   "cell_type": "code",
   "execution_count": 11,
   "id": "e6c63db5",
   "metadata": {},
   "outputs": [
    {
     "data": {
      "text/plain": [
       "Index(['rec_id', 'rec_ext_date', 'file_name', 'file_index', 'reg_term_code',\n",
       "       'reg_term_year', 'reg_term_name', 'reg_term_desc', 'stu_id',\n",
       "       'stu_deg_level', 'stu_college', 'stu_res', 'stu_visa', 'stu_bam',\n",
       "       'stu_new_ret', 'stu_dept', 'stu_dept_desc', 'stu_prog_code',\n",
       "       'stu_prog_level', 'stu_prog_desc', 'stu_admit_term_code',\n",
       "       'stu_admit_term_year', 'stu_admit_term_name', 'stu_admit_term_desc',\n",
       "       'crs', 'crs_type', 'crs_credits', 'crs_hours', 'crs_sect',\n",
       "       'crs_sect_clg', 'crs_sect_modality', 'crs_sect_wiley_ind', 'reg_status',\n",
       "       'reg_status_date', 'stu_act_reg_ind'],\n",
       "      dtype='object')"
      ]
     },
     "execution_count": 11,
     "metadata": {},
     "output_type": "execute_result"
    }
   ],
   "source": [
    "# Testing\n",
    "df_finalEnrollment.columns"
   ]
  },
  {
   "cell_type": "code",
   "execution_count": 15,
   "id": "1d01df88",
   "metadata": {},
   "outputs": [
    {
     "data": {
      "text/plain": [
       "F2F                   40111\n",
       "Online                17738\n",
       "Mix F2F and Online     1560\n",
       "Name: crs_sect_modality, dtype: int64"
      ]
     },
     "execution_count": 15,
     "metadata": {},
     "output_type": "execute_result"
    }
   ],
   "source": [
    "df_finalEnrollment.crs_sect_modality.value_counts()"
   ]
  },
  {
   "cell_type": "markdown",
   "id": "4bf07e6a",
   "metadata": {},
   "source": [
    "## Data Preparation\n",
    "Here, We prepare the data for Deep Learning."
   ]
  },
  {
   "cell_type": "code",
   "execution_count": 27,
   "id": "9c3acc97",
   "metadata": {},
   "outputs": [
    {
     "data": {
      "text/html": [
       "<div>\n",
       "<style scoped>\n",
       "    .dataframe tbody tr th:only-of-type {\n",
       "        vertical-align: middle;\n",
       "    }\n",
       "\n",
       "    .dataframe tbody tr th {\n",
       "        vertical-align: top;\n",
       "    }\n",
       "\n",
       "    .dataframe thead th {\n",
       "        text-align: right;\n",
       "    }\n",
       "</style>\n",
       "<table border=\"1\" class=\"dataframe\">\n",
       "  <thead>\n",
       "    <tr style=\"text-align: right;\">\n",
       "      <th></th>\n",
       "      <th>crs</th>\n",
       "      <th>Spring2018</th>\n",
       "      <th>Fall2018</th>\n",
       "      <th>Spring2019</th>\n",
       "      <th>Fall2019</th>\n",
       "      <th>Spring2020</th>\n",
       "      <th>Fall2020</th>\n",
       "      <th>Spring2021</th>\n",
       "      <th>Fall2021</th>\n",
       "      <th>Spring2022</th>\n",
       "      <th>Fall2022</th>\n",
       "      <th>Spring2023</th>\n",
       "    </tr>\n",
       "  </thead>\n",
       "  <tbody>\n",
       "    <tr>\n",
       "      <th>0</th>\n",
       "      <td>ACCT 672</td>\n",
       "      <td>0</td>\n",
       "      <td>0</td>\n",
       "      <td>0</td>\n",
       "      <td>1</td>\n",
       "      <td>0</td>\n",
       "      <td>0</td>\n",
       "      <td>0</td>\n",
       "      <td>0</td>\n",
       "      <td>0</td>\n",
       "      <td>0</td>\n",
       "      <td>0</td>\n",
       "    </tr>\n",
       "    <tr>\n",
       "      <th>1</th>\n",
       "      <td>AIT 502</td>\n",
       "      <td>0</td>\n",
       "      <td>11</td>\n",
       "      <td>0</td>\n",
       "      <td>10</td>\n",
       "      <td>0</td>\n",
       "      <td>2</td>\n",
       "      <td>0</td>\n",
       "      <td>0</td>\n",
       "      <td>0</td>\n",
       "      <td>7</td>\n",
       "      <td>0</td>\n",
       "    </tr>\n",
       "    <tr>\n",
       "      <th>2</th>\n",
       "      <td>AIT 512</td>\n",
       "      <td>0</td>\n",
       "      <td>24</td>\n",
       "      <td>0</td>\n",
       "      <td>47</td>\n",
       "      <td>0</td>\n",
       "      <td>35</td>\n",
       "      <td>0</td>\n",
       "      <td>29</td>\n",
       "      <td>0</td>\n",
       "      <td>49</td>\n",
       "      <td>0</td>\n",
       "    </tr>\n",
       "    <tr>\n",
       "      <th>3</th>\n",
       "      <td>AIT 524</td>\n",
       "      <td>0</td>\n",
       "      <td>121</td>\n",
       "      <td>0</td>\n",
       "      <td>98</td>\n",
       "      <td>0</td>\n",
       "      <td>101</td>\n",
       "      <td>0</td>\n",
       "      <td>129</td>\n",
       "      <td>0</td>\n",
       "      <td>128</td>\n",
       "      <td>0</td>\n",
       "    </tr>\n",
       "    <tr>\n",
       "      <th>4</th>\n",
       "      <td>AIT 526</td>\n",
       "      <td>0</td>\n",
       "      <td>0</td>\n",
       "      <td>0</td>\n",
       "      <td>0</td>\n",
       "      <td>0</td>\n",
       "      <td>0</td>\n",
       "      <td>0</td>\n",
       "      <td>21</td>\n",
       "      <td>0</td>\n",
       "      <td>83</td>\n",
       "      <td>0</td>\n",
       "    </tr>\n",
       "    <tr>\n",
       "      <th>...</th>\n",
       "      <td>...</td>\n",
       "      <td>...</td>\n",
       "      <td>...</td>\n",
       "      <td>...</td>\n",
       "      <td>...</td>\n",
       "      <td>...</td>\n",
       "      <td>...</td>\n",
       "      <td>...</td>\n",
       "      <td>...</td>\n",
       "      <td>...</td>\n",
       "      <td>...</td>\n",
       "      <td>...</td>\n",
       "    </tr>\n",
       "    <tr>\n",
       "      <th>665</th>\n",
       "      <td>TECM 746</td>\n",
       "      <td>0</td>\n",
       "      <td>0</td>\n",
       "      <td>0</td>\n",
       "      <td>0</td>\n",
       "      <td>0</td>\n",
       "      <td>0</td>\n",
       "      <td>0</td>\n",
       "      <td>1</td>\n",
       "      <td>0</td>\n",
       "      <td>1</td>\n",
       "      <td>0</td>\n",
       "    </tr>\n",
       "    <tr>\n",
       "      <th>666</th>\n",
       "      <td>TECM 747</td>\n",
       "      <td>0</td>\n",
       "      <td>0</td>\n",
       "      <td>0</td>\n",
       "      <td>0</td>\n",
       "      <td>0</td>\n",
       "      <td>0</td>\n",
       "      <td>0</td>\n",
       "      <td>1</td>\n",
       "      <td>0</td>\n",
       "      <td>1</td>\n",
       "      <td>0</td>\n",
       "    </tr>\n",
       "    <tr>\n",
       "      <th>667</th>\n",
       "      <td>TECM 749</td>\n",
       "      <td>0</td>\n",
       "      <td>0</td>\n",
       "      <td>0</td>\n",
       "      <td>0</td>\n",
       "      <td>0</td>\n",
       "      <td>0</td>\n",
       "      <td>0</td>\n",
       "      <td>1</td>\n",
       "      <td>0</td>\n",
       "      <td>1</td>\n",
       "      <td>0</td>\n",
       "    </tr>\n",
       "    <tr>\n",
       "      <th>668</th>\n",
       "      <td>TECM 761</td>\n",
       "      <td>0</td>\n",
       "      <td>0</td>\n",
       "      <td>0</td>\n",
       "      <td>0</td>\n",
       "      <td>0</td>\n",
       "      <td>0</td>\n",
       "      <td>0</td>\n",
       "      <td>1</td>\n",
       "      <td>0</td>\n",
       "      <td>0</td>\n",
       "      <td>0</td>\n",
       "    </tr>\n",
       "    <tr>\n",
       "      <th>669</th>\n",
       "      <td>VSE 794</td>\n",
       "      <td>0</td>\n",
       "      <td>0</td>\n",
       "      <td>0</td>\n",
       "      <td>0</td>\n",
       "      <td>0</td>\n",
       "      <td>11</td>\n",
       "      <td>0</td>\n",
       "      <td>0</td>\n",
       "      <td>0</td>\n",
       "      <td>0</td>\n",
       "      <td>0</td>\n",
       "    </tr>\n",
       "  </tbody>\n",
       "</table>\n",
       "<p>670 rows × 12 columns</p>\n",
       "</div>"
      ],
      "text/plain": [
       "          crs  Spring2018  Fall2018  Spring2019  Fall2019  Spring2020  \\\n",
       "0    ACCT 672           0         0           0         1           0   \n",
       "1     AIT 502           0        11           0        10           0   \n",
       "2     AIT 512           0        24           0        47           0   \n",
       "3     AIT 524           0       121           0        98           0   \n",
       "4     AIT 526           0         0           0         0           0   \n",
       "..        ...         ...       ...         ...       ...         ...   \n",
       "665  TECM 746           0         0           0         0           0   \n",
       "666  TECM 747           0         0           0         0           0   \n",
       "667  TECM 749           0         0           0         0           0   \n",
       "668  TECM 761           0         0           0         0           0   \n",
       "669   VSE 794           0         0           0         0           0   \n",
       "\n",
       "     Fall2020  Spring2021  Fall2021  Spring2022  Fall2022  Spring2023  \n",
       "0           0           0         0           0         0           0  \n",
       "1           2           0         0           0         7           0  \n",
       "2          35           0        29           0        49           0  \n",
       "3         101           0       129           0       128           0  \n",
       "4           0           0        21           0        83           0  \n",
       "..        ...         ...       ...         ...       ...         ...  \n",
       "665         0           0         1           0         1           0  \n",
       "666         0           0         1           0         1           0  \n",
       "667         0           0         1           0         1           0  \n",
       "668         0           0         1           0         0           0  \n",
       "669        11           0         0           0         0           0  \n",
       "\n",
       "[670 rows x 12 columns]"
      ]
     },
     "execution_count": 27,
     "metadata": {},
     "output_type": "execute_result"
    }
   ],
   "source": [
    "raw_df = db_finalEnrollment.runQuery(\"\"\"\n",
    "    SELECT\n",
    "        crs,\n",
    "        SUM(CASE WHEN reg_term_code = 201820 THEN 1 ELSE 0 END) AS Spring2018,\n",
    "        SUM(CASE WHEN reg_term_code = 201870 THEN 1 ELSE 0 END) AS Fall2018,\n",
    "        SUM(CASE WHEN reg_term_code = 201920 THEN 1 ELSE 0 END) AS Spring2019,\n",
    "        SUM(CASE WHEN reg_term_code = 201970 THEN 1 ELSE 0 END) AS Fall2019,\n",
    "        SUM(CASE WHEN reg_term_code = 202020 THEN 1 ELSE 0 END) AS Spring2020,\n",
    "        SUM(CASE WHEN reg_term_code = 202070 THEN 1 ELSE 0 END) AS Fall2020,\n",
    "        SUM(CASE WHEN reg_term_code = 202120 THEN 1 ELSE 0 END) AS Spring2021,\n",
    "        SUM(CASE WHEN reg_term_code = 202170 THEN 1 ELSE 0 END) AS Fall2021,\n",
    "        SUM(CASE WHEN reg_term_code = 202220 THEN 1 ELSE 0 END) AS Spring2022,\n",
    "        SUM(CASE WHEN reg_term_code = 202270 THEN 1 ELSE 0 END) AS Fall2022,\n",
    "        SUM(CASE WHEN reg_term_code = 202320 THEN 1 ELSE 0 END) AS Spring2023\n",
    "    FROM EnrollmentFinalStatus\n",
    "    WHERE\n",
    "                reg_status IN (\"**Web Registered**\", \"Wait Listed\", \"**Registered**\")\n",
    "    GROUP BY\n",
    "        crs\n",
    "\"\"\")\n",
    "\n",
    "raw_df"
   ]
  },
  {
   "cell_type": "code",
   "execution_count": 37,
   "id": "65e56878",
   "metadata": {},
   "outputs": [
    {
     "data": {
      "text/plain": [
       "7"
      ]
     },
     "execution_count": 37,
     "metadata": {},
     "output_type": "execute_result"
    }
   ],
   "source": [
    "\n",
    "raw_df.shape[1] - (trend_length+1)"
   ]
  },
  {
   "cell_type": "code",
   "execution_count": 45,
   "id": "1b337990",
   "metadata": {},
   "outputs": [
    {
     "data": {
      "text/plain": [
       "Index(['Spring2018', 'Fall2018', 'Spring2019', 'Fall2019', 'Spring2020'], dtype='object')"
      ]
     },
     "execution_count": 45,
     "metadata": {},
     "output_type": "execute_result"
    }
   ],
   "source": [
    "raw_df.columns[1:1+5]"
   ]
  },
  {
   "cell_type": "code",
   "execution_count": 64,
   "id": "6e663166",
   "metadata": {},
   "outputs": [
    {
     "name": "stdout",
     "output_type": "stream",
     "text": [
      "['Spring2018', 'Fall2018', 'Spring2019', 'Fall2019', 'Spring2020']\n",
      "['Fall2018', 'Spring2019', 'Fall2019', 'Spring2020', 'Fall2020']\n",
      "['Spring2019', 'Fall2019', 'Spring2020', 'Fall2020', 'Spring2021']\n",
      "['Fall2019', 'Spring2020', 'Fall2020', 'Spring2021', 'Fall2021']\n",
      "['Spring2020', 'Fall2020', 'Spring2021', 'Fall2021', 'Spring2022']\n",
      "['Fall2020', 'Spring2021', 'Fall2021', 'Spring2022', 'Fall2022']\n",
      "['Spring2021', 'Fall2021', 'Spring2022', 'Fall2022', 'Spring2023']\n"
     ]
    }
   ],
   "source": [
    "trend_length=4\n",
    "\n",
    "def generateTrends(trend_length):\n",
    "    sem_list = []\n",
    "    for i in range( raw_df.shape[1] - (trend_length+1) ):\n",
    "        sem_list.append(raw_df.columns[i+1:i+2+trend_length].to_list())\n",
    "    return sem_list\n",
    "\n",
    "df = pd.DataFrame()\n",
    "for i in generateTrends(trend_length):\n",
    "    print(i)"
   ]
  },
  {
   "cell_type": "code",
   "execution_count": null,
   "id": "c26d341f",
   "metadata": {},
   "outputs": [],
   "source": []
  }
 ],
 "metadata": {
  "kernelspec": {
   "display_name": "Python 3.9 (tensorflow)",
   "language": "python",
   "name": "deeplearning"
  },
  "language_info": {
   "codemirror_mode": {
    "name": "ipython",
    "version": 3
   },
   "file_extension": ".py",
   "mimetype": "text/x-python",
   "name": "python",
   "nbconvert_exporter": "python",
   "pygments_lexer": "ipython3",
   "version": "3.11.0"
  }
 },
 "nbformat": 4,
 "nbformat_minor": 5
}
