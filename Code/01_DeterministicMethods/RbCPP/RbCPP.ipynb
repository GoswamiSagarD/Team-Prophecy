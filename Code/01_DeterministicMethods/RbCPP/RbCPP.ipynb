{
 "cells": [
  {
   "attachments": {},
   "cell_type": "markdown",
   "metadata": {},
   "source": [
    "# **Rule-baased Constrained Proportional Fucking Projections**\n",
    "\n",
    "The way the problem has been presented, there are basically two ways to make predictions for course demand in the future.\n",
    "1. Realistic Models\n",
    "2. Idealistic Models\n",
    "\n",
    "**Realistic Models** focus on the randomness in the enrollment process, which aggregates the student enrollment data and accounts for the randomness to make predictions that are as close to reality as possible.\n",
    "**Idealistic Models** on the other hand focus on the department recommendations, and graduation pathway rules to make predictions while satisfying these constraints.\n",
    "Perhaps later, a combination of these models can be employed to make predictions that is built on the Idealistic Model, but also includes variability defined by the random nature of enrollment.\n",
    "\n",
    "The **RbCPP (Rule-based Constrained Proportional Projectoin)** lies closer to the idealistic model to make predictions for international students and mainly the core and capstone courses. The elective courses are predicted using the probability defined from previous enrollment data.\n",
    "\n",
    "### **Rules:**\n",
    "1. The core courses must be registered in the first two semesters.\n",
    "2. The core courses must be registered prior to any elective courses.\n",
    "3. The capstone course must be registered in the final semester.\n",
    "4. An international student must register for 10 courses in total.\n",
    "5. An international student registers for 3 courses in each semester, unless it is their final semester.\n",
    "6. The international students must graduate within 4 semesters.\n",
    "7. The international students does not register for any courses in the summer semester.\n",
    "8. The international students registers for only those courses that are counted towards their degree program.\n",
    "\n",
    "\n",
    "### **Assumptions:**\n",
    "- The proportions of the weights remains relatively same throughout the semesters.\n",
    "- Only working for International Students as they have a fixed 3-3-3-1 enrollment pattern.\n",
    "- The core courses are registered within the first two semesters of the degree program.\n",
    "    - x% of the core courses are registered in the first semester.\n",
    "    - 100% - x% of the core courses are registered in the second semester.\n",
    "    - Remaining course registrations are elective courses.\n",
    "- The capstone course which is also a core course in certain degrees, is considered as a separate category as they must be enrolled in the final semester only.\n",
    "- Some core courses have options, students can choose to take some of the options. In such cases, the model will treat them as elective courses.\n",
    "- Some elective courses are preferred to be enrolled in the first two semesters (elementary courses), whereas some advanced courses are preferred to be enrolled later in the semester. (Inferred form past enrollment trend.)\n",
    "    - The elective course registrations are similar for first two semesters.\n",
    "    - The third semester has a different enrollment proportions for elective courses compared to first two semesters.\n",
    "- The capstone courses (also core) are registered in the final semester.\n",
    "\n",
    "### **Methodology:**\n",
    "1. Get the Incoming Enrollment for previous semesters as well as expected incoming enrollment for the future semesters.\n",
    "2. Generate Pathway to Graduation for International Students based on the catalog data.\n",
    "3. Get the Course Demand History for latest 4 semesters.\n",
    "4. Calculate the weights for each course based on the course demand history.\n",
    "5. Calculate Expected Course Demand for the future semesters based on the incoming enrollment and the weights for each cohort.\n",
    "6. Calculate the Cumulative Course Demand for the future semesters by adding the expected course demand for each cohort."
   ]
  },
  {
   "attachments": {},
   "cell_type": "markdown",
   "metadata": {},
   "source": [
    "# Initialization\n",
    "### Importing libraries, custom modules and data"
   ]
  },
  {
   "cell_type": "code",
   "execution_count": 2,
   "metadata": {},
   "outputs": [],
   "source": [
    "# importing the required libraries\n",
    "import os\n",
    "import pandas as pd\n",
    "import matplotlib.pyplot as plt\n",
    "\n",
    "os.chdir( os.path.join(\"..\", \"..\", \"..\") )\n",
    "\n",
    "from Code.src.modules.db_ops import *\n",
    "from Code.src.modules.dataManager import DataManager\n",
    "from Code.src.modules.eda import *\n",
    "\n",
    "DM = DataManager()"
   ]
  },
  {
   "cell_type": "code",
   "execution_count": 3,
   "metadata": {},
   "outputs": [
    {
     "name": "stdout",
     "output_type": "stream",
     "text": [
      "{'course': {'d_desc': 'Course information obtained from Web Scraping the '\n",
      "                      'course catalog.',\n",
      "            'd_name': 'Courses Information',\n",
      "            'd_state': {'processed': {'db': 'Data\\\\02_processed\\\\course.db'}}},\n",
      " 'coursecatalog': {'d_desc': 'Program Requirements Information obtained from '\n",
      "                             'the Course Catalog.',\n",
      "                   'd_name': 'Course Catalog Data',\n",
      "                   'd_state': {'processed': {'json': 'Code\\\\src\\\\prop\\\\course_catalog.json'}}},\n",
      " 'enrollment': {'d_desc': 'Student Enrollment Status Information processed by '\n",
      "                          'merging 110 CSV files obtained from Enrollment '\n",
      "                          'Management at George Mason University.',\n",
      "                'd_name': 'Student Enrollment Status Data',\n",
      "                'd_state': {'processed': {'csv': 'Data\\\\02_processed\\\\enrollment.csv',\n",
      "                                          'db': 'Data\\\\02_processed\\\\CECData.db',\n",
      "                                          'pkl': 'Data\\\\02_processed\\\\enrollment.pkl'}}},\n",
      " 'enrollmentfinalstatus': {'d_desc': 'Student Final Enrollment Status '\n",
      "                                     'Information processed from the '\n",
      "                                     'Enrollment Data.',\n",
      "                           'd_name': 'Student Final Enrollment Status Data',\n",
      "                           'd_state': {'processed': {'csv': 'Data\\\\02_processed\\\\enrollmentFinalStatus.csv',\n",
      "                                                     'db': 'Data\\\\02_processed\\\\CECData.db',\n",
      "                                                     'pkl': 'Data\\\\02_processed\\\\enrollmentFinalStatus.pkl'}}},\n",
      " 'enrollmentlatestsnapshot': {'d_desc': 'Final Snapshot of Student Enrollment '\n",
      "                                        'Status Information processed from the '\n",
      "                                        'Enrollment Data.',\n",
      "                              'd_name': 'Final Snapshot of Student Enrollment '\n",
      "                                        'Status Data',\n",
      "                              'd_state': {'processed': {'csv': 'Data\\\\02_processed\\\\enrollmentLatestSnapshot.csv',\n",
      "                                                        'db': 'Data\\\\02_processed\\\\CECData.db',\n",
      "                                                        'pkl': 'Data\\\\02_processed\\\\enrollmentLatestSnapshot.pkl'}}},\n",
      " 'professor': {'d_desc': 'Professor Information obtained from Enrollment '\n",
      "                         'Management at George Mason University.',\n",
      "               'd_name': 'Professor Information',\n",
      "               'd_state': {'processed': {'csv': 'Data\\\\02_processed\\\\professor.csv',\n",
      "                                         'db': 'Data\\\\02_processed\\\\CECData.db',\n",
      "                                         'pkl': 'Data\\\\02_processed\\\\professor.pkl'}}}}\n"
     ]
    }
   ],
   "source": [
    "DM.get_data_info()"
   ]
  },
  {
   "cell_type": "code",
   "execution_count": 4,
   "metadata": {},
   "outputs": [],
   "source": [
    "course_catalog              = DM.get_data('coursecatalog', 'json')\n",
    "db                          = DM.get_data('enrollmentfinalstatus', 'db')\n",
    "df_enrollmentFinalStatus    = DM.get_data('enrollmentfinalstatus', 'pkl')"
   ]
  },
  {
   "attachments": {},
   "cell_type": "markdown",
   "metadata": {},
   "source": [
    "---\n",
    "## Automating the RbCPP\n",
    "\n",
    "### Classes and Functions\n",
    "- Semester (Module)\n",
    "    - Functions\n",
    "        - getSem\n",
    "        - getYear\n",
    "        - getNextSem\n",
    "        - getPrevSem\n",
    "        - getSemRange\n",
    "        - getCohorts\n",
    "- Program (Class)\n",
    "    - Attributes\n",
    "        - catalog\n",
    "        - pathway\n",
    "        - weights\n",
    "    - Methods\n",
    "        - getCatalog\n",
    "        - getPathway\n",
    "        - getWeights\n",
    "        - getCoreCourses\n",
    "        - getCapsCourses\n",
    "        - getElecCourses\n",
    "        - getCourseWeight\n",
    "- Weight (Module)\n",
    "    - Functions\n",
    "        - calSem1Weight\n",
    "        - calSem2Weight\n",
    "        - calSem3Weight\n",
    "        - calSem4Weight\n",
    "        - checkWeights\n",
    "        - calSem1WeightAlt"
   ]
  },
  {
   "attachments": {},
   "cell_type": "markdown",
   "metadata": {},
   "source": [
    "### Semester Module"
   ]
  },
  {
   "cell_type": "code",
   "execution_count": 5,
   "metadata": {},
   "outputs": [],
   "source": [
    "\n",
    "\n",
    "def codetosem(code):\n",
    "    if code%100 == 10:\n",
    "        sem = 'Spring'\n",
    "    elif code%100 == 70:\n",
    "        sem = 'Fall'\n",
    "    elif code%100 == 40:\n",
    "        raise ValueError(\"Detected Summer term in the data. Something's wrong. You shall not pass!!\")\n",
    "    else:\n",
    "        raise ValueError(\"Invalid term code.\")\n",
    "    return sem + ' ' + str(code//100)\n",
    "\n",
    "\n",
    "def __getSem__(str_sem):\n",
    "    return str_sem.split(' ')[0]\n",
    "\n",
    "\n",
    "def __getYear__(str_sem):\n",
    "    return int(str_sem.split(' ')[1])\n",
    "\n",
    "\n",
    "def getNextSem(str_sem, n=1):\n",
    "    # q: What would be a better name for this function?\n",
    "    # a: \n",
    "    sem = __getSem__(str_sem)\n",
    "    year = __getYear__(str_sem)\n",
    "    if n%2 == 0:\n",
    "        return __getSem__(str_sem) + ' ' + str(year+n//2)\n",
    "    else:\n",
    "        if sem == 'Fall':\n",
    "            return 'Spring ' + str(year+n//2+1)\n",
    "        elif sem == 'Spring':\n",
    "            return 'Fall ' + str(year+n//2)\n",
    "\n",
    "\n",
    "def getSemRange(str_sem_start, str_sem_end):\n",
    "    # Check if str_sem_start is before str_sem_end\n",
    "    if __getYear__(str_sem_start) >= __getYear__(str_sem_end):\n",
    "        if __getYear__(str_sem_start) == __getYear__(str_sem_end):\n",
    "            if __getSem__(str_sem_start) == 'Fall' and __getSem__(str_sem_end) == 'Spring':\n",
    "                raise Exception('Invalid Semester Range. You messed up brah...')\n",
    "        else:\n",
    "            raise Exception('Invalid Semester Range. You messed up brah...')\n",
    "    # Get the range of semesters\n",
    "    sem_range = []\n",
    "    str_sem_curr = str_sem_start\n",
    "    sem_range.append(str_sem_curr)\n",
    "    while str_sem_curr != str_sem_end:\n",
    "        str_sem_curr = getNextSem(str_sem_curr)\n",
    "        sem_range.append(str_sem_curr)\n",
    "    return sem_range\n",
    "\n",
    "\n",
    "def getCohorts(str_sem):\n",
    "    sem_range = {}\n",
    "    str_sem_curr = str_sem\n",
    "    SemN = 1\n",
    "    while SemN <= 4:\n",
    "        sem_range[\"Sem\"+str(SemN)] = str_sem_curr\n",
    "        str_sem_curr = getNextSem(str_sem_curr, -1)\n",
    "        SemN += 1\n",
    "    return sem_range\n",
    "\n"
   ]
  },
  {
   "cell_type": "code",
   "execution_count": 6,
   "metadata": {},
   "outputs": [
    {
     "data": {
      "text/plain": [
       "{'Sem1': 'Spring 2023',\n",
       " 'Sem2': 'Fall 2022',\n",
       " 'Sem3': 'Spring 2022',\n",
       " 'Sem4': 'Fall 2021'}"
      ]
     },
     "execution_count": 6,
     "metadata": {},
     "output_type": "execute_result"
    }
   ],
   "source": [
    "getCohorts('Spring 2023')"
   ]
  },
  {
   "attachments": {},
   "cell_type": "markdown",
   "metadata": {},
   "source": [
    "---\n",
    "# **Rb-CPP**\n",
    "### Defining Prediction Ranges "
   ]
  },
  {
   "cell_type": "code",
   "execution_count": 7,
   "metadata": {},
   "outputs": [
    {
     "data": {
      "text/plain": [
       "'Spring 2023'"
      ]
     },
     "execution_count": 7,
     "metadata": {},
     "output_type": "execute_result"
    }
   ],
   "source": [
    "# Getting the latest semester in the data\n",
    "latest_sem = df_enrollmentFinalStatus \\\n",
    "    .loc[\n",
    "        df_enrollmentFinalStatus.stu_admit_term_name.isin([\"Fall\", \"Spring\"]),\n",
    "        'stu_admit_term_code' ] \\\n",
    "    .max()\n",
    "\n",
    "latest_sem = int(latest_sem)\n",
    "latest_sem = codetosem(latest_sem)\n",
    "latest_sem"
   ]
  },
  {
   "cell_type": "code",
   "execution_count": 8,
   "metadata": {},
   "outputs": [
    {
     "data": {
      "text/plain": [
       "(['Spring 2023'], ['Fall 2023', 'Spring 2024'])"
      ]
     },
     "execution_count": 8,
     "metadata": {},
     "output_type": "execute_result"
    }
   ],
   "source": [
    "# Defining the range of semester to be considered for the analysis\n",
    "HistTerms = getSemRange( getNextSem(latest_sem, 0), latest_sem )\n",
    "AdmitTerms = getSemRange( getNextSem(latest_sem, 1), getNextSem(latest_sem, 2) )\n",
    "HistTerms, AdmitTerms"
   ]
  },
  {
   "cell_type": "code",
   "execution_count": 9,
   "metadata": {},
   "outputs": [
    {
     "data": {
      "text/plain": [
       "({'Spring 2023': {'Sem1': 'Spring 2023',\n",
       "   'Sem2': 'Fall 2022',\n",
       "   'Sem3': 'Spring 2022',\n",
       "   'Sem4': 'Fall 2021'}},\n",
       " {'Fall 2023': {'Sem1': 'Fall 2023',\n",
       "   'Sem2': 'Spring 2023',\n",
       "   'Sem3': 'Fall 2022',\n",
       "   'Sem4': 'Spring 2022'},\n",
       "  'Spring 2024': {'Sem1': 'Spring 2024',\n",
       "   'Sem2': 'Fall 2023',\n",
       "   'Sem3': 'Spring 2023',\n",
       "   'Sem4': 'Fall 2022'}})"
      ]
     },
     "execution_count": 9,
     "metadata": {},
     "output_type": "execute_result"
    }
   ],
   "source": [
    "# Getting the cohorts for each registration term\n",
    "a = HistTerms.copy()\n",
    "HistTerms = {}\n",
    "for sem in a:\n",
    "    HistTerms[sem] = getCohorts(sem)\n",
    "a = AdmitTerms.copy()\n",
    "AdmitTerms = {}\n",
    "for sem in a:\n",
    "    AdmitTerms[sem] = getCohorts(sem)\n",
    "HistTerms, AdmitTerms"
   ]
  },
  {
   "attachments": {},
   "cell_type": "markdown",
   "metadata": {},
   "source": [
    "## 1. Get the Incoming Enrollment for previous semesters as well as expected incoming enrollment for the future semesters\n"
   ]
  },
  {
   "cell_type": "code",
   "execution_count": 41,
   "metadata": {},
   "outputs": [
    {
     "data": {
      "text/html": [
       "<div>\n",
       "<style scoped>\n",
       "    .dataframe tbody tr th:only-of-type {\n",
       "        vertical-align: middle;\n",
       "    }\n",
       "\n",
       "    .dataframe tbody tr th {\n",
       "        vertical-align: top;\n",
       "    }\n",
       "\n",
       "    .dataframe thead th {\n",
       "        text-align: right;\n",
       "    }\n",
       "</style>\n",
       "<table border=\"1\" class=\"dataframe\">\n",
       "  <thead>\n",
       "    <tr style=\"text-align: right;\">\n",
       "      <th></th>\n",
       "      <th>stu_prog_desc</th>\n",
       "      <th>stu_admit_term_desc</th>\n",
       "      <th>IncomingEnrollment</th>\n",
       "    </tr>\n",
       "  </thead>\n",
       "  <tbody>\n",
       "    <tr>\n",
       "      <th>0</th>\n",
       "      <td>MENG GeoConStruct Engineering</td>\n",
       "      <td>Spring 2018</td>\n",
       "      <td>2</td>\n",
       "    </tr>\n",
       "    <tr>\n",
       "      <th>1</th>\n",
       "      <td>MS Applied Info Technology</td>\n",
       "      <td>Spring 2018</td>\n",
       "      <td>7</td>\n",
       "    </tr>\n",
       "    <tr>\n",
       "      <th>2</th>\n",
       "      <td>MS Applied Info Technology</td>\n",
       "      <td>Fall 2018</td>\n",
       "      <td>14</td>\n",
       "    </tr>\n",
       "    <tr>\n",
       "      <th>3</th>\n",
       "      <td>MS Applied Info Technology</td>\n",
       "      <td>Spring 2019</td>\n",
       "      <td>11</td>\n",
       "    </tr>\n",
       "    <tr>\n",
       "      <th>4</th>\n",
       "      <td>MS Applied Info Technology</td>\n",
       "      <td>Fall 2019</td>\n",
       "      <td>8</td>\n",
       "    </tr>\n",
       "    <tr>\n",
       "      <th>...</th>\n",
       "      <td>...</td>\n",
       "      <td>...</td>\n",
       "      <td>...</td>\n",
       "    </tr>\n",
       "    <tr>\n",
       "      <th>137</th>\n",
       "      <td>MS Telecommunications</td>\n",
       "      <td>Spring 2021</td>\n",
       "      <td>3</td>\n",
       "    </tr>\n",
       "    <tr>\n",
       "      <th>138</th>\n",
       "      <td>MS Telecommunications</td>\n",
       "      <td>Fall 2021</td>\n",
       "      <td>3</td>\n",
       "    </tr>\n",
       "    <tr>\n",
       "      <th>139</th>\n",
       "      <td>MS Telecommunications</td>\n",
       "      <td>Spring 2022</td>\n",
       "      <td>2</td>\n",
       "    </tr>\n",
       "    <tr>\n",
       "      <th>140</th>\n",
       "      <td>MS Telecommunications</td>\n",
       "      <td>Fall 2022</td>\n",
       "      <td>6</td>\n",
       "    </tr>\n",
       "    <tr>\n",
       "      <th>141</th>\n",
       "      <td>MS Telecommunications</td>\n",
       "      <td>Spring 2023</td>\n",
       "      <td>1</td>\n",
       "    </tr>\n",
       "  </tbody>\n",
       "</table>\n",
       "<p>142 rows × 3 columns</p>\n",
       "</div>"
      ],
      "text/plain": [
       "                     stu_prog_desc stu_admit_term_desc  IncomingEnrollment\n",
       "0    MENG GeoConStruct Engineering         Spring 2018                   2\n",
       "1       MS Applied Info Technology         Spring 2018                   7\n",
       "2       MS Applied Info Technology           Fall 2018                  14\n",
       "3       MS Applied Info Technology         Spring 2019                  11\n",
       "4       MS Applied Info Technology           Fall 2019                   8\n",
       "..                             ...                 ...                 ...\n",
       "137          MS Telecommunications         Spring 2021                   3\n",
       "138          MS Telecommunications           Fall 2021                   3\n",
       "139          MS Telecommunications         Spring 2022                   2\n",
       "140          MS Telecommunications           Fall 2022                   6\n",
       "141          MS Telecommunications         Spring 2023                   1\n",
       "\n",
       "[142 rows x 3 columns]"
      ]
     },
     "execution_count": 41,
     "metadata": {},
     "output_type": "execute_result"
    }
   ],
   "source": [
    "# Storing the incoming international students for all programs in each semester\n",
    "df_incomingEnrollment = db.runQuery(\"\"\" --sql\n",
    "    SELECT stu_prog_desc, stu_admit_term_desc, COUNT(DISTINCT stu_id) AS 'IncomingEnrollment'\n",
    "    FROM enrollmentfinalstatus\n",
    "    WHERE\n",
    "            stu_visa = 'F1 Visa'\n",
    "        AND stu_admit_term_name IN ('Fall', 'Spring')\n",
    "        AND stu_admit_term_year >= 2018\n",
    "    GROUP BY\n",
    "        stu_prog_desc, stu_admit_term_desc\n",
    "    ORDER BY\n",
    "        stu_prog_desc, stu_admit_term_code\n",
    "\"\"\")\n",
    "df_incomingEnrollment"
   ]
  },
  {
   "attachments": {},
   "cell_type": "markdown",
   "metadata": {},
   "source": [
    "TODO: Add the code for predicting the incoming enrollment in future semesters."
   ]
  },
  {
   "cell_type": "code",
   "execution_count": 51,
   "metadata": {},
   "outputs": [
    {
     "data": {
      "text/html": [
       "<div>\n",
       "<style scoped>\n",
       "    .dataframe tbody tr th:only-of-type {\n",
       "        vertical-align: middle;\n",
       "    }\n",
       "\n",
       "    .dataframe tbody tr th {\n",
       "        vertical-align: top;\n",
       "    }\n",
       "\n",
       "    .dataframe thead th {\n",
       "        text-align: right;\n",
       "    }\n",
       "</style>\n",
       "<table border=\"1\" class=\"dataframe\">\n",
       "  <thead>\n",
       "    <tr style=\"text-align: right;\">\n",
       "      <th></th>\n",
       "      <th>stu_prog_desc</th>\n",
       "      <th>stu_admit_term_desc</th>\n",
       "      <th>IncomingEnrollment</th>\n",
       "    </tr>\n",
       "  </thead>\n",
       "  <tbody>\n",
       "    <tr>\n",
       "      <th>58</th>\n",
       "      <td>MS Data Analytics Engineering</td>\n",
       "      <td>Spring 2018</td>\n",
       "      <td>44</td>\n",
       "    </tr>\n",
       "    <tr>\n",
       "      <th>59</th>\n",
       "      <td>MS Data Analytics Engineering</td>\n",
       "      <td>Fall 2018</td>\n",
       "      <td>90</td>\n",
       "    </tr>\n",
       "    <tr>\n",
       "      <th>60</th>\n",
       "      <td>MS Data Analytics Engineering</td>\n",
       "      <td>Spring 2019</td>\n",
       "      <td>50</td>\n",
       "    </tr>\n",
       "    <tr>\n",
       "      <th>61</th>\n",
       "      <td>MS Data Analytics Engineering</td>\n",
       "      <td>Fall 2019</td>\n",
       "      <td>85</td>\n",
       "    </tr>\n",
       "    <tr>\n",
       "      <th>62</th>\n",
       "      <td>MS Data Analytics Engineering</td>\n",
       "      <td>Spring 2020 - COVID-19</td>\n",
       "      <td>69</td>\n",
       "    </tr>\n",
       "    <tr>\n",
       "      <th>63</th>\n",
       "      <td>MS Data Analytics Engineering</td>\n",
       "      <td>Fall 2020</td>\n",
       "      <td>54</td>\n",
       "    </tr>\n",
       "    <tr>\n",
       "      <th>64</th>\n",
       "      <td>MS Data Analytics Engineering</td>\n",
       "      <td>Spring 2021</td>\n",
       "      <td>85</td>\n",
       "    </tr>\n",
       "    <tr>\n",
       "      <th>65</th>\n",
       "      <td>MS Data Analytics Engineering</td>\n",
       "      <td>Fall 2021</td>\n",
       "      <td>149</td>\n",
       "    </tr>\n",
       "    <tr>\n",
       "      <th>66</th>\n",
       "      <td>MS Data Analytics Engineering</td>\n",
       "      <td>Spring 2022</td>\n",
       "      <td>121</td>\n",
       "    </tr>\n",
       "    <tr>\n",
       "      <th>67</th>\n",
       "      <td>MS Data Analytics Engineering</td>\n",
       "      <td>Fall 2022</td>\n",
       "      <td>190</td>\n",
       "    </tr>\n",
       "    <tr>\n",
       "      <th>68</th>\n",
       "      <td>MS Data Analytics Engineering</td>\n",
       "      <td>Spring 2023</td>\n",
       "      <td>143</td>\n",
       "    </tr>\n",
       "  </tbody>\n",
       "</table>\n",
       "</div>"
      ],
      "text/plain": [
       "                    stu_prog_desc     stu_admit_term_desc  IncomingEnrollment\n",
       "58  MS Data Analytics Engineering             Spring 2018                  44\n",
       "59  MS Data Analytics Engineering               Fall 2018                  90\n",
       "60  MS Data Analytics Engineering             Spring 2019                  50\n",
       "61  MS Data Analytics Engineering               Fall 2019                  85\n",
       "62  MS Data Analytics Engineering  Spring 2020 - COVID-19                  69\n",
       "63  MS Data Analytics Engineering               Fall 2020                  54\n",
       "64  MS Data Analytics Engineering             Spring 2021                  85\n",
       "65  MS Data Analytics Engineering               Fall 2021                 149\n",
       "66  MS Data Analytics Engineering             Spring 2022                 121\n",
       "67  MS Data Analytics Engineering               Fall 2022                 190\n",
       "68  MS Data Analytics Engineering             Spring 2023                 143"
      ]
     },
     "execution_count": 51,
     "metadata": {},
     "output_type": "execute_result"
    }
   ],
   "source": [
    "df_incomingEnrollment.loc[df_incomingEnrollment.stu_prog_desc == 'MS Data Analytics Engineering']"
   ]
  },
  {
   "cell_type": "code",
   "execution_count": 42,
   "metadata": {},
   "outputs": [],
   "source": [
    "# Predicting the future incoming enrollment for each program\n"
   ]
  },
  {
   "attachments": {},
   "cell_type": "markdown",
   "metadata": {},
   "source": [
    "## 2. Generate Pathway to Graduation for International Students based on the catalog data.\n",
    "The Graduation Pathway must be defined by program, Sem, CourseReq, and N_Reg. Also, it has to be stored in a dictionary as it will be used a lot of calculations, and it is faster to access the data from a dictionary than from a dataframe.\n",
    "\n",
    "``` python\n",
    "{\n",
    "    'program': {\n",
    "        'sem1': {\n",
    "            'Core'      : 2,\n",
    "            'Elective'  : 1,\n",
    "            'Capstone'  : 0\n",
    "        },\n",
    "        'sem2': {\n",
    "            'Core'      : 0,\n",
    "            'Elective'  : 3,\n",
    "            'Capstone'  : 0\n",
    "        },\n",
    "    }\n",
    "}\n",
    "```\n",
    "and so on...."
   ]
  },
  {
   "cell_type": "code",
   "execution_count": 49,
   "metadata": {},
   "outputs": [],
   "source": [
    "dict_GradPathway = {}"
   ]
  },
  {
   "cell_type": "code",
   "execution_count": 47,
   "metadata": {},
   "outputs": [
    {
     "name": "stdout",
     "output_type": "stream",
     "text": [
      "MS Data Analytics Engineering \t 4\n",
      "MS Computer Science \t 2\n",
      "MS Information Systems \t 5\n",
      "MS Applied Info Technology \t 3\n"
     ]
    }
   ],
   "source": [
    "for i_prog in course_catalog:\n",
    "    print(i_prog, \"\\t\", len(course_catalog[i_prog]['Core']))\n",
    "\n",
    "    n_core = len(course_catalog[i_prog]['Core'])"
   ]
  },
  {
   "attachments": {},
   "cell_type": "markdown",
   "metadata": {},
   "source": [
    "## Pathway, History, and Weights (Skipped)"
   ]
  },
  {
   "attachments": {},
   "cell_type": "markdown",
   "metadata": {},
   "source": [
    "## Weights (Pre-calculated)"
   ]
  },
  {
   "cell_type": "code",
   "execution_count": 127,
   "metadata": {},
   "outputs": [
    {
     "data": {
      "text/html": [
       "<div>\n",
       "<style scoped>\n",
       "    .dataframe tbody tr th:only-of-type {\n",
       "        vertical-align: middle;\n",
       "    }\n",
       "\n",
       "    .dataframe tbody tr th {\n",
       "        vertical-align: top;\n",
       "    }\n",
       "\n",
       "    .dataframe thead th {\n",
       "        text-align: right;\n",
       "    }\n",
       "</style>\n",
       "<table border=\"1\" class=\"dataframe\">\n",
       "  <thead>\n",
       "    <tr style=\"text-align: right;\">\n",
       "      <th></th>\n",
       "      <th>crs</th>\n",
       "      <th>crs_req</th>\n",
       "      <th>stu_prog_desc</th>\n",
       "      <th>Sem</th>\n",
       "      <th>weight</th>\n",
       "    </tr>\n",
       "  </thead>\n",
       "  <tbody>\n",
       "    <tr>\n",
       "      <th>0</th>\n",
       "      <td>AIT 580</td>\n",
       "      <td>Core</td>\n",
       "      <td>MS Data Analytics Engineering</td>\n",
       "      <td>Sem1</td>\n",
       "      <td>0.294900</td>\n",
       "    </tr>\n",
       "    <tr>\n",
       "      <th>1</th>\n",
       "      <td>AIT 580</td>\n",
       "      <td>Core</td>\n",
       "      <td>MS Data Analytics Engineering</td>\n",
       "      <td>Sem2</td>\n",
       "      <td>0.038500</td>\n",
       "    </tr>\n",
       "    <tr>\n",
       "      <th>2</th>\n",
       "      <td>AIT 580</td>\n",
       "      <td>Core</td>\n",
       "      <td>MS Data Analytics Engineering</td>\n",
       "      <td>Sem3</td>\n",
       "      <td>0.000000</td>\n",
       "    </tr>\n",
       "    <tr>\n",
       "      <th>3</th>\n",
       "      <td>AIT 580</td>\n",
       "      <td>Core</td>\n",
       "      <td>MS Data Analytics Engineering</td>\n",
       "      <td>Sem4</td>\n",
       "      <td>0.000000</td>\n",
       "    </tr>\n",
       "    <tr>\n",
       "      <th>4</th>\n",
       "      <td>CS 504</td>\n",
       "      <td>Core</td>\n",
       "      <td>MS Data Analytics Engineering</td>\n",
       "      <td>Sem1</td>\n",
       "      <td>0.142600</td>\n",
       "    </tr>\n",
       "    <tr>\n",
       "      <th>...</th>\n",
       "      <td>...</td>\n",
       "      <td>...</td>\n",
       "      <td>...</td>\n",
       "      <td>...</td>\n",
       "      <td>...</td>\n",
       "    </tr>\n",
       "    <tr>\n",
       "      <th>383</th>\n",
       "      <td>SWE 681</td>\n",
       "      <td>Elective</td>\n",
       "      <td>MS Computer Science</td>\n",
       "      <td>Sem4</td>\n",
       "      <td>0.013459</td>\n",
       "    </tr>\n",
       "    <tr>\n",
       "      <th>384</th>\n",
       "      <td>SWE 795</td>\n",
       "      <td>Elective</td>\n",
       "      <td>MS Computer Science</td>\n",
       "      <td>Sem1</td>\n",
       "      <td>0.000000</td>\n",
       "    </tr>\n",
       "    <tr>\n",
       "      <th>385</th>\n",
       "      <td>SWE 795</td>\n",
       "      <td>Elective</td>\n",
       "      <td>MS Computer Science</td>\n",
       "      <td>Sem2</td>\n",
       "      <td>0.000000</td>\n",
       "    </tr>\n",
       "    <tr>\n",
       "      <th>386</th>\n",
       "      <td>SWE 795</td>\n",
       "      <td>Elective</td>\n",
       "      <td>MS Computer Science</td>\n",
       "      <td>Sem3</td>\n",
       "      <td>0.007402</td>\n",
       "    </tr>\n",
       "    <tr>\n",
       "      <th>387</th>\n",
       "      <td>SWE 795</td>\n",
       "      <td>Elective</td>\n",
       "      <td>MS Computer Science</td>\n",
       "      <td>Sem4</td>\n",
       "      <td>0.007402</td>\n",
       "    </tr>\n",
       "  </tbody>\n",
       "</table>\n",
       "<p>388 rows × 5 columns</p>\n",
       "</div>"
      ],
      "text/plain": [
       "         crs   crs_req                  stu_prog_desc   Sem    weight\n",
       "0    AIT 580      Core  MS Data Analytics Engineering  Sem1  0.294900\n",
       "1    AIT 580      Core  MS Data Analytics Engineering  Sem2  0.038500\n",
       "2    AIT 580      Core  MS Data Analytics Engineering  Sem3  0.000000\n",
       "3    AIT 580      Core  MS Data Analytics Engineering  Sem4  0.000000\n",
       "4     CS 504      Core  MS Data Analytics Engineering  Sem1  0.142600\n",
       "..       ...       ...                            ...   ...       ...\n",
       "383  SWE 681  Elective            MS Computer Science  Sem4  0.013459\n",
       "384  SWE 795  Elective            MS Computer Science  Sem1  0.000000\n",
       "385  SWE 795  Elective            MS Computer Science  Sem2  0.000000\n",
       "386  SWE 795  Elective            MS Computer Science  Sem3  0.007402\n",
       "387  SWE 795  Elective            MS Computer Science  Sem4  0.007402\n",
       "\n",
       "[388 rows x 5 columns]"
      ]
     },
     "execution_count": 127,
     "metadata": {},
     "output_type": "execute_result"
    }
   ],
   "source": [
    "df_Weights = pd.read_csv( os.path.join('Data', '02_processed', 'weights_rbcpp.csv') )\n",
    "dict_Weights = df_Weights.set_index(['stu_prog_desc', 'crs', 'Sem']).to_dict('index')\n",
    "df_Weights"
   ]
  },
  {
   "cell_type": "code",
   "execution_count": null,
   "metadata": {},
   "outputs": [],
   "source": [
    "\n"
   ]
  },
  {
   "attachments": {},
   "cell_type": "markdown",
   "metadata": {},
   "source": [
    "##"
   ]
  },
  {
   "cell_type": "code",
   "execution_count": null,
   "metadata": {},
   "outputs": [],
   "source": []
  },
  {
   "attachments": {},
   "cell_type": "markdown",
   "metadata": {},
   "source": [
    "## Future Work:\n",
    "- The proportions can be calculated for each semester, and the relative change can be integrated into the model, such that the new predictions are made with projected weights."
   ]
  }
 ],
 "metadata": {
  "kernelspec": {
   "display_name": "prophecy",
   "language": "python",
   "name": "python3"
  },
  "language_info": {
   "codemirror_mode": {
    "name": "ipython",
    "version": 3
   },
   "file_extension": ".py",
   "mimetype": "text/x-python",
   "name": "python",
   "nbconvert_exporter": "python",
   "pygments_lexer": "ipython3",
   "version": "3.10.9"
  },
  "orig_nbformat": 4
 },
 "nbformat": 4,
 "nbformat_minor": 2
}
