{
 "cells": [
  {
   "attachments": {},
   "cell_type": "markdown",
   "metadata": {},
   "source": [
    "# Initialization\n",
    "This file connects to the un-normalized Enrollment Data and performs some basic EDA on the data."
   ]
  },
  {
   "cell_type": "code",
   "execution_count": 1,
   "metadata": {},
   "outputs": [],
   "source": [
    "# importing the required libraries\n",
    "import sqlite3\n",
    "import os\n",
    "import pandas as pd"
   ]
  },
  {
   "attachments": {},
   "cell_type": "markdown",
   "metadata": {},
   "source": [
    "## Establishing connection to the SQL database\n",
    "Using enrollment4EDA.db as the database file"
   ]
  },
  {
   "cell_type": "code",
   "execution_count": 2,
   "metadata": {},
   "outputs": [],
   "source": [
    "# configuring the sql connection and query execution\n",
    "_       = os.sep\n",
    "src     = \"..\"+_+\"..\"+_+\"..\"\n",
    "conn    = sqlite3.connect(src+_+\"Data\"+_+\"EnrollmentData\"+_+\"enrollment4EDA.db\")\n",
    "cur     = conn.cursor()\n",
    "\n",
    "def runQuery(query, commiting=False):\n",
    "    cur.execute(query)\n",
    "    if commiting:\n",
    "        conn.commit()\n",
    "    return pd.DataFrame(cur.fetchall(), columns=[i[0] for i in cur.description])"
   ]
  },
  {
   "cell_type": "code",
   "execution_count": 3,
   "metadata": {},
   "outputs": [
    {
     "data": {
      "text/html": [
       "<div>\n",
       "<style scoped>\n",
       "    .dataframe tbody tr th:only-of-type {\n",
       "        vertical-align: middle;\n",
       "    }\n",
       "\n",
       "    .dataframe tbody tr th {\n",
       "        vertical-align: top;\n",
       "    }\n",
       "\n",
       "    .dataframe thead th {\n",
       "        text-align: right;\n",
       "    }\n",
       "</style>\n",
       "<table border=\"1\" class=\"dataframe\">\n",
       "  <thead>\n",
       "    <tr style=\"text-align: right;\">\n",
       "      <th></th>\n",
       "      <th>rec_id</th>\n",
       "      <th>stu_id</th>\n",
       "    </tr>\n",
       "  </thead>\n",
       "  <tbody>\n",
       "    <tr>\n",
       "      <th>0</th>\n",
       "      <td>0</td>\n",
       "      <td>CEC3286</td>\n",
       "    </tr>\n",
       "    <tr>\n",
       "      <th>1</th>\n",
       "      <td>1</td>\n",
       "      <td>CEC3289</td>\n",
       "    </tr>\n",
       "    <tr>\n",
       "      <th>2</th>\n",
       "      <td>2</td>\n",
       "      <td>CEC865</td>\n",
       "    </tr>\n",
       "    <tr>\n",
       "      <th>3</th>\n",
       "      <td>3</td>\n",
       "      <td>CEC865</td>\n",
       "    </tr>\n",
       "    <tr>\n",
       "      <th>4</th>\n",
       "      <td>4</td>\n",
       "      <td>CEC901</td>\n",
       "    </tr>\n",
       "  </tbody>\n",
       "</table>\n",
       "</div>"
      ],
      "text/plain": [
       "   rec_id   stu_id\n",
       "0       0  CEC3286\n",
       "1       1  CEC3289\n",
       "2       2   CEC865\n",
       "3       3   CEC865\n",
       "4       4   CEC901"
      ]
     },
     "execution_count": 3,
     "metadata": {},
     "output_type": "execute_result"
    }
   ],
   "source": [
    "# example test query\n",
    "runQuery(\"\"\"\n",
    "    SELECT rec_id, stu_id\n",
    "    FROM enrollment4EDA\n",
    "    LIMIT 5;\n",
    "\"\"\")"
   ]
  },
  {
   "attachments": {},
   "cell_type": "markdown",
   "metadata": {},
   "source": [
    "## Importing the pandas dataframe"
   ]
  },
  {
   "cell_type": "code",
   "execution_count": 5,
   "metadata": {},
   "outputs": [],
   "source": [
    "df = pd.read_pickle(\n",
    "    src+_+\"Data\"+_+\"EnrollmentData\"+_+\"enrollment.pkl\"\n",
    ")"
   ]
  },
  {
   "attachments": {},
   "cell_type": "markdown",
   "metadata": {},
   "source": [
    "# EDA"
   ]
  },
  {
   "cell_type": "code",
   "execution_count": 6,
   "metadata": {},
   "outputs": [
    {
     "name": "stdout",
     "output_type": "stream",
     "text": [
      "<class 'pandas.core.frame.DataFrame'>\n",
      "RangeIndex: 344119 entries, 0 to 344118\n",
      "Data columns (total 35 columns):\n",
      " #   Column               Non-Null Count   Dtype         \n",
      "---  ------               --------------   -----         \n",
      " 0   rec_id               344119 non-null  int64         \n",
      " 1   rec_ext_date         344119 non-null  datetime64[ns]\n",
      " 2   file_name            344119 non-null  object        \n",
      " 3   file_index           344119 non-null  int64         \n",
      " 4   reg_term_code        344119 non-null  object        \n",
      " 5   reg_term_year        344119 non-null  int32         \n",
      " 6   reg_term_name        344119 non-null  category      \n",
      " 7   reg_term_desc        344119 non-null  object        \n",
      " 8   stu_id               344118 non-null  object        \n",
      " 9   stu_deg_level        344119 non-null  category      \n",
      " 10  stu_college          344119 non-null  category      \n",
      " 11  stu_res              344119 non-null  category      \n",
      " 12  stu_visa             344119 non-null  category      \n",
      " 13  stu_bam              344119 non-null  category      \n",
      " 14  stu_new_ret          344119 non-null  category      \n",
      " 15  stu_dept             344119 non-null  category      \n",
      " 16  stu_dept_desc        344119 non-null  category      \n",
      " 17  stu_prog_code        344119 non-null  object        \n",
      " 18  stu_prog_level       344119 non-null  category      \n",
      " 19  stu_prog_desc        344119 non-null  category      \n",
      " 20  stu_admit_term_code  344119 non-null  object        \n",
      " 21  stu_admit_term_year  344119 non-null  int32         \n",
      " 22  stu_admit_term_name  344119 non-null  category      \n",
      " 23  stu_admit_term_desc  344119 non-null  object        \n",
      " 24  crs                  344119 non-null  object        \n",
      " 25  crs_type             344119 non-null  category      \n",
      " 26  crs_credits          344119 non-null  category      \n",
      " 27  crs_hours            344119 non-null  category      \n",
      " 28  crs_sect             344119 non-null  object        \n",
      " 29  crs_sect_clg         344119 non-null  category      \n",
      " 30  crs_sect_modality    344119 non-null  category      \n",
      " 31  crs_sect_wiley_ind   344119 non-null  category      \n",
      " 32  reg_status           344119 non-null  category      \n",
      " 33  reg_status_date      344119 non-null  datetime64[ns]\n",
      " 34  stu_act_reg_ind      344119 non-null  category      \n",
      "dtypes: category(20), datetime64[ns](2), int32(2), int64(2), object(9)\n",
      "memory usage: 43.3+ MB\n"
     ]
    }
   ],
   "source": [
    "df.info()"
   ]
  }
 ],
 "metadata": {
  "kernelspec": {
   "display_name": "base",
   "language": "python",
   "name": "python3"
  },
  "language_info": {
   "codemirror_mode": {
    "name": "ipython",
    "version": 3
   },
   "file_extension": ".py",
   "mimetype": "text/x-python",
   "name": "python",
   "nbconvert_exporter": "python",
   "pygments_lexer": "ipython3",
   "version": "3.10.8"
  },
  "orig_nbformat": 4,
  "vscode": {
   "interpreter": {
    "hash": "40d3a090f54c6569ab1632332b64b2c03c39dcf918b08424e98f38b5ae0af88f"
   }
  }
 },
 "nbformat": 4,
 "nbformat_minor": 2
}
