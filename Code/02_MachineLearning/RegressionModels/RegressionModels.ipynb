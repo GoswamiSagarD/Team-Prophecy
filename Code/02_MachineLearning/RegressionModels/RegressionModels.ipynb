{
 "cells": [
  {
   "attachments": {},
   "cell_type": "markdown",
   "metadata": {},
   "source": [
    "# Regression Models\n",
    "- Polyfit (numpy)\n",
    "- LinearRegression from sklearn\n",
    "- Moving Average Predictions\n",
    "- Exponential Smoothing Predictions\n",
    "- ARIMA/SARIMA Predictions (statsmodels)"
   ]
  },
  {
   "cell_type": "code",
   "execution_count": 1,
   "metadata": {},
   "outputs": [],
   "source": [
    "# importing the required libraries\n",
    "import os\n",
    "import pandas as pd\n",
    "import numpy as np\n",
    "import matplotlib.pyplot as plt\n",
    "\n",
    "os.chdir( os.path.join(\"..\", \"..\", \"..\") )\n",
    "\n",
    "# importing custom modules\n",
    "from Code.src.modules.db_ops import *\n",
    "from Code.src.modules.dataManager import DataManager\n",
    "from Code.src.modules.eda import *\n",
    "from Code.src.modules.db_ops import *\n",
    "\n",
    "# initializing the DataManager\n",
    "DM = DataManager()"
   ]
  },
  {
   "cell_type": "code",
   "execution_count": 2,
   "metadata": {},
   "outputs": [],
   "source": [
    "# importing the data for analysis\n",
    "df_EnrollmentFinalStatus = DM.get_data('EnrollmentFinalStatus', 'pkl', 'processed')\n",
    "db_EnrollmentFinalStatus = DM.get_data('EnrollmentFinalStatus', 'db', 'processed')"
   ]
  },
  {
   "attachments": {},
   "cell_type": "markdown",
   "metadata": {},
   "source": [
    "## Data-Prep\n",
    "- Getting all the registration semesters\n",
    "- Getting all the courses\n",
    "- Merging the two dataframes to fill in the missing semesters\n"
   ]
  },
  {
   "cell_type": "code",
   "execution_count": 3,
   "metadata": {},
   "outputs": [
    {
     "data": {
      "text/html": [
       "<div>\n",
       "<style scoped>\n",
       "    .dataframe tbody tr th:only-of-type {\n",
       "        vertical-align: middle;\n",
       "    }\n",
       "\n",
       "    .dataframe tbody tr th {\n",
       "        vertical-align: top;\n",
       "    }\n",
       "\n",
       "    .dataframe thead th {\n",
       "        text-align: right;\n",
       "    }\n",
       "</style>\n",
       "<table border=\"1\" class=\"dataframe\">\n",
       "  <thead>\n",
       "    <tr style=\"text-align: right;\">\n",
       "      <th></th>\n",
       "      <th>reg_term_desc</th>\n",
       "      <th>reg_term_code</th>\n",
       "    </tr>\n",
       "  </thead>\n",
       "  <tbody>\n",
       "    <tr>\n",
       "      <th>0</th>\n",
       "      <td>Spring 2018</td>\n",
       "      <td>201810</td>\n",
       "    </tr>\n",
       "    <tr>\n",
       "      <th>1</th>\n",
       "      <td>Fall 2018</td>\n",
       "      <td>201870</td>\n",
       "    </tr>\n",
       "    <tr>\n",
       "      <th>2</th>\n",
       "      <td>Spring 2019</td>\n",
       "      <td>201910</td>\n",
       "    </tr>\n",
       "    <tr>\n",
       "      <th>3</th>\n",
       "      <td>Fall 2019</td>\n",
       "      <td>201970</td>\n",
       "    </tr>\n",
       "    <tr>\n",
       "      <th>4</th>\n",
       "      <td>Spring 2020 - COVID-19</td>\n",
       "      <td>202010</td>\n",
       "    </tr>\n",
       "    <tr>\n",
       "      <th>5</th>\n",
       "      <td>Fall 2020</td>\n",
       "      <td>202070</td>\n",
       "    </tr>\n",
       "    <tr>\n",
       "      <th>6</th>\n",
       "      <td>Spring 2021</td>\n",
       "      <td>202110</td>\n",
       "    </tr>\n",
       "    <tr>\n",
       "      <th>7</th>\n",
       "      <td>Fall 2021</td>\n",
       "      <td>202170</td>\n",
       "    </tr>\n",
       "    <tr>\n",
       "      <th>8</th>\n",
       "      <td>Spring 2022</td>\n",
       "      <td>202210</td>\n",
       "    </tr>\n",
       "    <tr>\n",
       "      <th>9</th>\n",
       "      <td>Fall 2022</td>\n",
       "      <td>202270</td>\n",
       "    </tr>\n",
       "    <tr>\n",
       "      <th>10</th>\n",
       "      <td>Spring 2023</td>\n",
       "      <td>202310</td>\n",
       "    </tr>\n",
       "  </tbody>\n",
       "</table>\n",
       "</div>"
      ],
      "text/plain": [
       "             reg_term_desc reg_term_code\n",
       "0              Spring 2018        201810\n",
       "1                Fall 2018        201870\n",
       "2              Spring 2019        201910\n",
       "3                Fall 2019        201970\n",
       "4   Spring 2020 - COVID-19        202010\n",
       "5                Fall 2020        202070\n",
       "6              Spring 2021        202110\n",
       "7                Fall 2021        202170\n",
       "8              Spring 2022        202210\n",
       "9                Fall 2022        202270\n",
       "10             Spring 2023        202310"
      ]
     },
     "execution_count": 3,
     "metadata": {},
     "output_type": "execute_result"
    }
   ],
   "source": [
    "# getting all the registration semesters\n",
    "reg_term_df = db_EnrollmentFinalStatus.runQuery(\"\"\"--sql\n",
    "    SELECT reg_term_desc, reg_term_code\n",
    "    FROM EnrollmentFinalStatus\n",
    "    WHERE reg_term_year > 2017\n",
    "    GROUP BY reg_term_desc, reg_term_code\n",
    "    ORDER BY reg_term_code\n",
    "\"\"\")\n",
    "reg_term_df"
   ]
  },
  {
   "cell_type": "code",
   "execution_count": 4,
   "metadata": {},
   "outputs": [
    {
     "data": {
      "text/plain": [
       "'AIT 580'"
      ]
     },
     "execution_count": 4,
     "metadata": {},
     "output_type": "execute_result"
    }
   ],
   "source": [
    "# getting the list of courses\n",
    "course_list = df_EnrollmentFinalStatus.crs.unique().tolist()\n",
    "# using 'index' as placeholder for the course index, to be replaced by the looping variable\n",
    "index = 98\n",
    "\n",
    "course = course_list[index]\n",
    "course"
   ]
  },
  {
   "cell_type": "code",
   "execution_count": 5,
   "metadata": {},
   "outputs": [
    {
     "data": {
      "text/html": [
       "<div>\n",
       "<style scoped>\n",
       "    .dataframe tbody tr th:only-of-type {\n",
       "        vertical-align: middle;\n",
       "    }\n",
       "\n",
       "    .dataframe tbody tr th {\n",
       "        vertical-align: top;\n",
       "    }\n",
       "\n",
       "    .dataframe thead th {\n",
       "        text-align: right;\n",
       "    }\n",
       "</style>\n",
       "<table border=\"1\" class=\"dataframe\">\n",
       "  <thead>\n",
       "    <tr style=\"text-align: right;\">\n",
       "      <th></th>\n",
       "      <th>reg_term_desc</th>\n",
       "      <th>reg_term_code</th>\n",
       "      <th>crs</th>\n",
       "      <th>crs_demand</th>\n",
       "    </tr>\n",
       "  </thead>\n",
       "  <tbody>\n",
       "    <tr>\n",
       "      <th>0</th>\n",
       "      <td>Spring 2018</td>\n",
       "      <td>201810</td>\n",
       "      <td>AIT 580</td>\n",
       "      <td>118</td>\n",
       "    </tr>\n",
       "    <tr>\n",
       "      <th>1</th>\n",
       "      <td>Fall 2018</td>\n",
       "      <td>201870</td>\n",
       "      <td>AIT 580</td>\n",
       "      <td>137</td>\n",
       "    </tr>\n",
       "    <tr>\n",
       "      <th>2</th>\n",
       "      <td>Spring 2019</td>\n",
       "      <td>201910</td>\n",
       "      <td>AIT 580</td>\n",
       "      <td>114</td>\n",
       "    </tr>\n",
       "    <tr>\n",
       "      <th>3</th>\n",
       "      <td>Fall 2019</td>\n",
       "      <td>201970</td>\n",
       "      <td>AIT 580</td>\n",
       "      <td>159</td>\n",
       "    </tr>\n",
       "    <tr>\n",
       "      <th>4</th>\n",
       "      <td>Spring 2020 - COVID-19</td>\n",
       "      <td>202010</td>\n",
       "      <td>AIT 580</td>\n",
       "      <td>114</td>\n",
       "    </tr>\n",
       "    <tr>\n",
       "      <th>5</th>\n",
       "      <td>Fall 2020</td>\n",
       "      <td>202070</td>\n",
       "      <td>AIT 580</td>\n",
       "      <td>128</td>\n",
       "    </tr>\n",
       "    <tr>\n",
       "      <th>6</th>\n",
       "      <td>Spring 2021</td>\n",
       "      <td>202110</td>\n",
       "      <td>AIT 580</td>\n",
       "      <td>137</td>\n",
       "    </tr>\n",
       "    <tr>\n",
       "      <th>7</th>\n",
       "      <td>Fall 2021</td>\n",
       "      <td>202170</td>\n",
       "      <td>AIT 580</td>\n",
       "      <td>210</td>\n",
       "    </tr>\n",
       "    <tr>\n",
       "      <th>8</th>\n",
       "      <td>Spring 2022</td>\n",
       "      <td>202210</td>\n",
       "      <td>AIT 580</td>\n",
       "      <td>212</td>\n",
       "    </tr>\n",
       "    <tr>\n",
       "      <th>9</th>\n",
       "      <td>Fall 2022</td>\n",
       "      <td>202270</td>\n",
       "      <td>AIT 580</td>\n",
       "      <td>262</td>\n",
       "    </tr>\n",
       "    <tr>\n",
       "      <th>10</th>\n",
       "      <td>Spring 2023</td>\n",
       "      <td>202310</td>\n",
       "      <td>AIT 580</td>\n",
       "      <td>200</td>\n",
       "    </tr>\n",
       "  </tbody>\n",
       "</table>\n",
       "</div>"
      ],
      "text/plain": [
       "             reg_term_desc reg_term_code      crs  crs_demand\n",
       "0              Spring 2018        201810  AIT 580         118\n",
       "1                Fall 2018        201870  AIT 580         137\n",
       "2              Spring 2019        201910  AIT 580         114\n",
       "3                Fall 2019        201970  AIT 580         159\n",
       "4   Spring 2020 - COVID-19        202010  AIT 580         114\n",
       "5                Fall 2020        202070  AIT 580         128\n",
       "6              Spring 2021        202110  AIT 580         137\n",
       "7                Fall 2021        202170  AIT 580         210\n",
       "8              Spring 2022        202210  AIT 580         212\n",
       "9                Fall 2022        202270  AIT 580         262\n",
       "10             Spring 2023        202310  AIT 580         200"
      ]
     },
     "execution_count": 5,
     "metadata": {},
     "output_type": "execute_result"
    }
   ],
   "source": [
    "# Getting the Enrollment data for the `course`\n",
    "df_crs = db_EnrollmentFinalStatus.runQuery(f\"\"\"--sql\n",
    "    SELECT reg_term_desc, reg_term_code, crs, COUNT(DISTINCT stu_id) as crs_demand\n",
    "    FROM EnrollmentFinalStatus\n",
    "    WHERE\n",
    "        crs = '{course}'\n",
    "        AND reg_term_year > 2017\n",
    "    GROUP BY reg_term_desc, reg_term_code\n",
    "    ORDER BY reg_term_code\n",
    ";\"\"\")\n",
    "df_crs"
   ]
  },
  {
   "cell_type": "code",
   "execution_count": 6,
   "metadata": {},
   "outputs": [
    {
     "data": {
      "text/html": [
       "<div>\n",
       "<style scoped>\n",
       "    .dataframe tbody tr th:only-of-type {\n",
       "        vertical-align: middle;\n",
       "    }\n",
       "\n",
       "    .dataframe tbody tr th {\n",
       "        vertical-align: top;\n",
       "    }\n",
       "\n",
       "    .dataframe thead th {\n",
       "        text-align: right;\n",
       "    }\n",
       "</style>\n",
       "<table border=\"1\" class=\"dataframe\">\n",
       "  <thead>\n",
       "    <tr style=\"text-align: right;\">\n",
       "      <th></th>\n",
       "      <th>reg_term_desc</th>\n",
       "      <th>reg_term_code</th>\n",
       "      <th>crs</th>\n",
       "      <th>crs_demand</th>\n",
       "    </tr>\n",
       "  </thead>\n",
       "  <tbody>\n",
       "    <tr>\n",
       "      <th>0</th>\n",
       "      <td>Spring 2018</td>\n",
       "      <td>201810</td>\n",
       "      <td>AIT 580</td>\n",
       "      <td>118</td>\n",
       "    </tr>\n",
       "    <tr>\n",
       "      <th>1</th>\n",
       "      <td>Fall 2018</td>\n",
       "      <td>201870</td>\n",
       "      <td>AIT 580</td>\n",
       "      <td>137</td>\n",
       "    </tr>\n",
       "    <tr>\n",
       "      <th>2</th>\n",
       "      <td>Spring 2019</td>\n",
       "      <td>201910</td>\n",
       "      <td>AIT 580</td>\n",
       "      <td>114</td>\n",
       "    </tr>\n",
       "    <tr>\n",
       "      <th>3</th>\n",
       "      <td>Fall 2019</td>\n",
       "      <td>201970</td>\n",
       "      <td>AIT 580</td>\n",
       "      <td>159</td>\n",
       "    </tr>\n",
       "    <tr>\n",
       "      <th>4</th>\n",
       "      <td>Spring 2020 - COVID-19</td>\n",
       "      <td>202010</td>\n",
       "      <td>AIT 580</td>\n",
       "      <td>114</td>\n",
       "    </tr>\n",
       "    <tr>\n",
       "      <th>5</th>\n",
       "      <td>Fall 2020</td>\n",
       "      <td>202070</td>\n",
       "      <td>AIT 580</td>\n",
       "      <td>128</td>\n",
       "    </tr>\n",
       "    <tr>\n",
       "      <th>6</th>\n",
       "      <td>Spring 2021</td>\n",
       "      <td>202110</td>\n",
       "      <td>AIT 580</td>\n",
       "      <td>137</td>\n",
       "    </tr>\n",
       "    <tr>\n",
       "      <th>7</th>\n",
       "      <td>Fall 2021</td>\n",
       "      <td>202170</td>\n",
       "      <td>AIT 580</td>\n",
       "      <td>210</td>\n",
       "    </tr>\n",
       "    <tr>\n",
       "      <th>8</th>\n",
       "      <td>Spring 2022</td>\n",
       "      <td>202210</td>\n",
       "      <td>AIT 580</td>\n",
       "      <td>212</td>\n",
       "    </tr>\n",
       "    <tr>\n",
       "      <th>9</th>\n",
       "      <td>Fall 2022</td>\n",
       "      <td>202270</td>\n",
       "      <td>AIT 580</td>\n",
       "      <td>262</td>\n",
       "    </tr>\n",
       "    <tr>\n",
       "      <th>10</th>\n",
       "      <td>Spring 2023</td>\n",
       "      <td>202310</td>\n",
       "      <td>AIT 580</td>\n",
       "      <td>200</td>\n",
       "    </tr>\n",
       "  </tbody>\n",
       "</table>\n",
       "</div>"
      ],
      "text/plain": [
       "             reg_term_desc  reg_term_code      crs  crs_demand\n",
       "0              Spring 2018         201810  AIT 580         118\n",
       "1                Fall 2018         201870  AIT 580         137\n",
       "2              Spring 2019         201910  AIT 580         114\n",
       "3                Fall 2019         201970  AIT 580         159\n",
       "4   Spring 2020 - COVID-19         202010  AIT 580         114\n",
       "5                Fall 2020         202070  AIT 580         128\n",
       "6              Spring 2021         202110  AIT 580         137\n",
       "7                Fall 2021         202170  AIT 580         210\n",
       "8              Spring 2022         202210  AIT 580         212\n",
       "9                Fall 2022         202270  AIT 580         262\n",
       "10             Spring 2023         202310  AIT 580         200"
      ]
     },
     "execution_count": 6,
     "metadata": {},
     "output_type": "execute_result"
    }
   ],
   "source": [
    "# Merging reg_term_df with df, and filling missing values in crs with course, and crs_demand with 0\n",
    "# Left Join to keep all the rows from reg_term_df\n",
    "#   Filtering the columns to keep only the required columns\n",
    "#       Filling the missing values in crs with course, and crs_demand with 0\n",
    "#           Renaming the column reg_term_desc_x to reg_term_desc\n",
    "#               Sorting the values by reg_term_code\n",
    "#                   Changing the data type of all the columns\n",
    "\n",
    "\n",
    "df_merge = pd.merge(reg_term_df, df_crs, how='left', on=['reg_term_code']) \\\n",
    "    .filter(['reg_term_desc_x', 'reg_term_code', 'crs', 'crs_demand']) \\\n",
    "        .fillna({'crs': course, 'crs_demand': 0}) \\\n",
    "            .rename(columns={'reg_term_desc_x': 'reg_term_desc'}) \\\n",
    "                .sort_values(by='reg_term_code') \\\n",
    "                    .astype({'reg_term_code': 'int', 'crs_demand': 'int'})\n",
    "df_merge"
   ]
  },
  {
   "cell_type": "code",
   "execution_count": 7,
   "metadata": {},
   "outputs": [],
   "source": [
    "# Filtering df where reg_term_desc like 'Fall'\n",
    "df = df_merge[df_merge.reg_term_desc.str.contains('Fall')]"
   ]
  },
  {
   "cell_type": "code",
   "execution_count": 8,
   "metadata": {},
   "outputs": [
    {
     "data": {
      "image/png": "[encoded data removed]",
      "text/plain": [
       "<Figure size 1500x500 with 1 Axes>"
      ]
     },
     "metadata": {},
     "output_type": "display_data"
    }
   ],
   "source": [
    "# Plotting the data\n",
    "plt.figure(figsize=(15, 5))\n",
    "\n",
    "df = df_merge\n",
    "plt.plot(df.reg_term_code, df.crs_demand, color='grey', label='All Semesters', linestyle=':')\n",
    "df = df_merge[df_merge.reg_term_desc.str.contains('Fall')]\n",
    "plt.plot(df.reg_term_code, df.crs_demand, color='orange', label='Fall Semesters', marker='D')\n",
    "df = df_merge[df_merge.reg_term_desc.str.contains('Spring')]\n",
    "plt.plot(df.reg_term_code, df.crs_demand, color='pink', label='Spring Semesters', marker='X')\n",
    "\n",
    "plt.title(f\"Course Demand for {course}\")\n",
    "plt.xlabel(\"Registration Term Code\")\n",
    "plt.ylabel(\"Course Demand\")\n",
    "plt.legend()\n",
    "\n",
    "plt.show()"
   ]
  },
  {
   "attachments": {},
   "cell_type": "markdown",
   "metadata": {},
   "source": [
    "---\n",
    "## Polyfit Models"
   ]
  },
  {
   "cell_type": "code",
   "execution_count": 11,
   "metadata": {},
   "outputs": [],
   "source": [
    "# Hyperparameters\n",
    "degrees = [1, 2, 3]\n",
    "semesters = ['Fall', 'Spring']"
   ]
  },
  {
   "cell_type": "code",
   "execution_count": null,
   "metadata": {},
   "outputs": [],
   "source": [
    "# Fitting multiple regression models\n",
    "for degree in degrees:\n",
    "    for semester in semesters:\n",
    "\n",
    "        # Filtering dataframe based on semester\n",
    "        df = df_merge[df_merge.reg_term_desc.str.contains(semester)]\n",
    "        df['index'] = df.index\n",
    "        # Fitting the model\n",
    "        model = np.polyfit(x=df.index, y=df.crs_demand, deg=degree)"
   ]
  },
  {
   "cell_type": "code",
   "execution_count": 20,
   "metadata": {},
   "outputs": [
    {
     "name": "stderr",
     "output_type": "stream",
     "text": [
      "C:\\Users\\Sagar-School\\AppData\\Local\\Temp\\ipykernel_29572\\2449975007.py:2: SettingWithCopyWarning: \n",
      "A value is trying to be set on a copy of a slice from a DataFrame.\n",
      "Try using .loc[row_indexer,col_indexer] = value instead\n",
      "\n",
      "See the caveats in the documentation: https://pandas.pydata.org/pandas-docs/stable/user_guide/indexing.html#returning-a-view-versus-a-copy\n",
      "  df['index'] = df.index\n"
     ]
    },
    {
     "data": {
      "text/plain": [
       "(array([ 3.010000e-01, -6.064387e+04]),\n",
       " array([3554.7]),\n",
       " 2,\n",
       " array([1.41421348e+00, 4.94877922e-04]),\n",
       " 1.1102230246251565e-15)"
      ]
     },
     "execution_count": 20,
     "metadata": {},
     "output_type": "execute_result"
    }
   ],
   "source": [
    "df = df_merge[df_merge.reg_term_desc.str.contains('Fall')]\n",
    "df['index'] = df.index\n",
    "# Fitting the model\n",
    "model = np.polyfit(x=df.reg_term_code, y=df.crs_demand, deg=1, full=True)\n",
    "model"
   ]
  },
  {
   "cell_type": "code",
   "execution_count": 15,
   "metadata": {},
   "outputs": [
    {
     "name": "stderr",
     "output_type": "stream",
     "text": [
      "C:\\Users\\Sagar-School\\AppData\\Local\\Temp\\ipykernel_29572\\2674077540.py:2: SettingWithCopyWarning: \n",
      "A value is trying to be set on a copy of a slice from a DataFrame.\n",
      "Try using .loc[row_indexer,col_indexer] = value instead\n",
      "\n",
      "See the caveats in the documentation: https://pandas.pydata.org/pandas-docs/stable/user_guide/indexing.html#returning-a-view-versus-a-copy\n",
      "  df['index'] = df.index\n"
     ]
    },
    {
     "data": {
      "text/plain": [
       "(array([  0.23958333,  -0.50446429,  -1.13244048, 142.81160714]),\n",
       " array([1364.01428571]),\n",
       " 4,\n",
       " array([1.8963568 , 0.6178272 , 0.14785545, 0.01609948]),\n",
       " 1.1102230246251565e-15)"
      ]
     },
     "execution_count": 15,
     "metadata": {},
     "output_type": "execute_result"
    }
   ],
   "source": [
    "df = df_merge[df_merge.reg_term_desc.str.contains('Fall')]\n",
    "df['index'] = df.index\n",
    "# Fitting the model\n",
    "model = np.polyfit(x=df.index, y=df.crs_demand, deg=3, full=True)\n",
    "model"
   ]
  }
 ],
 "metadata": {
  "kernelspec": {
   "display_name": "prophecy",
   "language": "python",
   "name": "python3"
  },
  "language_info": {
   "codemirror_mode": {
    "name": "ipython",
    "version": 3
   },
   "file_extension": ".py",
   "mimetype": "text/x-python",
   "name": "python",
   "nbconvert_exporter": "python",
   "pygments_lexer": "ipython3",
   "version": "3.10.9"
  },
  "orig_nbformat": 4
 },
 "nbformat": 4,
 "nbformat_minor": 2
}
