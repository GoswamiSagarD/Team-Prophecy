{
 "cells": [
  {
   "attachments": {},
   "cell_type": "markdown",
   "metadata": {},
   "source": [
    "# Weighted Projection\n",
    "Calculate the weights of proportions of student registering for each course in each semester."
   ]
  },
  {
   "cell_type": "code",
   "execution_count": 1,
   "metadata": {},
   "outputs": [],
   "source": [
    "# importing the required libraries\n",
    "import os\n",
    "import pandas as pd\n",
    "import matplotlib.pyplot as plt\n",
    "\n",
    "os.chdir( os.path.join(\"..\", \"..\", \"..\") )\n",
    "\n",
    "# importing custom modules\n",
    "from Code.src.modules.db_ops import *\n",
    "from Code.src.modules.dataManager import DataManager\n",
    "from Code.src.modules.eda import *\n",
    "\n",
    "# initializing the DataManager\n",
    "DM = DataManager()"
   ]
  },
  {
   "cell_type": "code",
   "execution_count": 2,
   "metadata": {},
   "outputs": [
    {
     "name": "stdout",
     "output_type": "stream",
     "text": [
      "<class 'pandas.core.frame.DataFrame'>\n",
      "Int64Index: 59409 entries, 0 to 323686\n",
      "Data columns (total 35 columns):\n",
      " #   Column               Non-Null Count  Dtype         \n",
      "---  ------               --------------  -----         \n",
      " 0   rec_id               59409 non-null  int64         \n",
      " 1   rec_ext_date         59409 non-null  datetime64[ns]\n",
      " 2   file_name            59409 non-null  object        \n",
      " 3   file_index           59409 non-null  int64         \n",
      " 4   reg_term_code        59409 non-null  object        \n",
      " 5   reg_term_year        59409 non-null  int64         \n",
      " 6   reg_term_name        59409 non-null  category      \n",
      " 7   reg_term_desc        59409 non-null  object        \n",
      " 8   stu_id               59408 non-null  object        \n",
      " 9   stu_deg_level        59409 non-null  category      \n",
      " 10  stu_college          59409 non-null  category      \n",
      " 11  stu_res              59409 non-null  category      \n",
      " 12  stu_visa             59409 non-null  category      \n",
      " 13  stu_bam              59409 non-null  category      \n",
      " 14  stu_new_ret          59409 non-null  category      \n",
      " 15  stu_dept             59409 non-null  category      \n",
      " 16  stu_dept_desc        59409 non-null  category      \n",
      " 17  stu_prog_code        59409 non-null  object        \n",
      " 18  stu_prog_level       59409 non-null  category      \n",
      " 19  stu_prog_desc        59409 non-null  category      \n",
      " 20  stu_admit_term_code  59409 non-null  object        \n",
      " 21  stu_admit_term_year  59409 non-null  int64         \n",
      " 22  stu_admit_term_name  59409 non-null  category      \n",
      " 23  stu_admit_term_desc  59409 non-null  object        \n",
      " 24  crs                  59409 non-null  object        \n",
      " 25  crs_type             59409 non-null  category      \n",
      " 26  crs_credits          59409 non-null  category      \n",
      " 27  crs_hours            59409 non-null  category      \n",
      " 28  crs_sect             59409 non-null  object        \n",
      " 29  crs_sect_clg         59409 non-null  category      \n",
      " 30  crs_sect_modality    59409 non-null  category      \n",
      " 31  crs_sect_wiley_ind   59409 non-null  category      \n",
      " 32  reg_status           59409 non-null  category      \n",
      " 33  reg_status_date      59409 non-null  datetime64[ns]\n",
      " 34  stu_act_reg_ind      59409 non-null  category      \n",
      "dtypes: category(20), datetime64[ns](2), int64(4), object(9)\n",
      "memory usage: 8.4+ MB\n"
     ]
    }
   ],
   "source": [
    "# importing the data for analysis\n",
    "df = DM.get_data('EnrollmentFinalStatus', 'pkl', 'processed')\n",
    "db = DM.get_data('EnrollmentFinalStatus', 'db', 'processed')\n",
    "df.info()"
   ]
  },
  {
   "attachments": {},
   "cell_type": "markdown",
   "metadata": {},
   "source": [
    "# Simple Weighted Projection\n",
    "Taking all students, and calculating weights of proportions of student registering for each course in each semester.\n",
    "\n",
    "How to improve the model:\n",
    "- We can filter this data for international students and domestic students separately.\n",
    "- We can calculate weights for Spring and Fall semesters separately.\n",
    "\n",
    "## Data\n",
    "\n",
    "- Admission Term: $\\mathscr{at}$\n",
    "- Registration Term: $\\mathscr{rt}$\n",
    "- Course: $\\mathscr{crs}$\n",
    "- Program: $\\mathscr{prog}$\n",
    "- Number of Students, in a prog, admitting in a semester: $\\mathscr{ns_{prog, at}}$\n",
    "- Weights: $\\mathscr{w_{at, rt, crs, prog}}$"
   ]
  },
  {
   "cell_type": "code",
   "execution_count": 5,
   "metadata": {},
   "outputs": [
    {
     "data": {
      "text/plain": [
       "Index(['rec_id', 'rec_ext_date', 'file_name', 'file_index', 'reg_term_code',\n",
       "       'reg_term_year', 'reg_term_name', 'reg_term_desc', 'stu_id',\n",
       "       'stu_deg_level', 'stu_college', 'stu_res', 'stu_visa', 'stu_bam',\n",
       "       'stu_new_ret', 'stu_dept', 'stu_dept_desc', 'stu_prog_code',\n",
       "       'stu_prog_level', 'stu_prog_desc', 'stu_admit_term_code',\n",
       "       'stu_admit_term_year', 'stu_admit_term_name', 'stu_admit_term_desc',\n",
       "       'crs', 'crs_type', 'crs_credits', 'crs_hours', 'crs_sect',\n",
       "       'crs_sect_clg', 'crs_sect_modality', 'crs_sect_wiley_ind', 'reg_status',\n",
       "       'reg_status_date', 'stu_act_reg_ind'],\n",
       "      dtype='object')"
      ]
     },
     "execution_count": 5,
     "metadata": {},
     "output_type": "execute_result"
    }
   ],
   "source": [
    "df.columns"
   ]
  },
  {
   "cell_type": "code",
   "execution_count": 32,
   "metadata": {},
   "outputs": [
    {
     "data": {
      "text/plain": [
       "MS Data Analytics Engineering     19553\n",
       "MS Computer Science               15617\n",
       "MS Applied Info Technology         4387\n",
       "MS Software Engineering            2761\n",
       "MS Civil & Infrastructure Engr     2643\n",
       "MS Electrical Engineering          2375\n",
       "MS Computer Engineering            2075\n",
       "MS Information Systems             1745\n",
       "MS Telecommunications              1314\n",
       "MS Computer Forensics              1309\n",
       "MS Infrmatn Security & Assrnce     1306\n",
       "MS Systems Engineering             1260\n",
       "MS Statistical Science              908\n",
       "MS Operations Research              763\n",
       "MS Cyber Security Engineering       451\n",
       "MS Digital Forensics                401\n",
       "MS Bioengineering                   237\n",
       "MS Biostatistics                    214\n",
       "MENG GeoConStruct Engineering        90\n",
       "Name: stu_prog_desc, dtype: int64"
      ]
     },
     "execution_count": 32,
     "metadata": {},
     "output_type": "execute_result"
    }
   ],
   "source": [
    "df.stu_prog_desc.value_counts()"
   ]
  },
  {
   "cell_type": "code",
   "execution_count": 50,
   "metadata": {},
   "outputs": [
    {
     "data": {
      "text/html": [
       "<div>\n",
       "<style scoped>\n",
       "    .dataframe tbody tr th:only-of-type {\n",
       "        vertical-align: middle;\n",
       "    }\n",
       "\n",
       "    .dataframe tbody tr th {\n",
       "        vertical-align: top;\n",
       "    }\n",
       "\n",
       "    .dataframe thead th {\n",
       "        text-align: right;\n",
       "    }\n",
       "</style>\n",
       "<table border=\"1\" class=\"dataframe\">\n",
       "  <thead>\n",
       "    <tr style=\"text-align: right;\">\n",
       "      <th></th>\n",
       "      <th>stu_prog_desc</th>\n",
       "      <th>stu_admit_term_desc</th>\n",
       "      <th>ns_prog_at</th>\n",
       "    </tr>\n",
       "  </thead>\n",
       "  <tbody>\n",
       "    <tr>\n",
       "      <th>155</th>\n",
       "      <td>MS Data Analytics Engineering</td>\n",
       "      <td>Fall 2019</td>\n",
       "      <td>170</td>\n",
       "    </tr>\n",
       "    <tr>\n",
       "      <th>304</th>\n",
       "      <td>MS Systems Engineering</td>\n",
       "      <td>Spring 2019</td>\n",
       "      <td>5</td>\n",
       "    </tr>\n",
       "    <tr>\n",
       "      <th>101</th>\n",
       "      <td>MS Computer Forensics</td>\n",
       "      <td>Spring 2016</td>\n",
       "      <td>5</td>\n",
       "    </tr>\n",
       "    <tr>\n",
       "      <th>50</th>\n",
       "      <td>MS Biostatistics</td>\n",
       "      <td>Fall 2021</td>\n",
       "      <td>2</td>\n",
       "    </tr>\n",
       "    <tr>\n",
       "      <th>284</th>\n",
       "      <td>MS Statistical Science</td>\n",
       "      <td>Fall 2018</td>\n",
       "      <td>17</td>\n",
       "    </tr>\n",
       "    <tr>\n",
       "      <th>265</th>\n",
       "      <td>MS Software Engineering</td>\n",
       "      <td>Fall 2018</td>\n",
       "      <td>25</td>\n",
       "    </tr>\n",
       "    <tr>\n",
       "      <th>326</th>\n",
       "      <td>MS Telecommunications</td>\n",
       "      <td>Fall 2019</td>\n",
       "      <td>11</td>\n",
       "    </tr>\n",
       "    <tr>\n",
       "      <th>130</th>\n",
       "      <td>MS Computer Science</td>\n",
       "      <td>Fall 2021</td>\n",
       "      <td>247</td>\n",
       "    </tr>\n",
       "    <tr>\n",
       "      <th>11</th>\n",
       "      <td>MS Applied Info Technology</td>\n",
       "      <td>Spring 2014</td>\n",
       "      <td>1</td>\n",
       "    </tr>\n",
       "    <tr>\n",
       "      <th>104</th>\n",
       "      <td>MS Computer Forensics</td>\n",
       "      <td>Spring 2017</td>\n",
       "      <td>8</td>\n",
       "    </tr>\n",
       "  </tbody>\n",
       "</table>\n",
       "</div>"
      ],
      "text/plain": [
       "                     stu_prog_desc stu_admit_term_desc  ns_prog_at\n",
       "155  MS Data Analytics Engineering           Fall 2019         170\n",
       "304         MS Systems Engineering         Spring 2019           5\n",
       "101          MS Computer Forensics         Spring 2016           5\n",
       "50                MS Biostatistics           Fall 2021           2\n",
       "284         MS Statistical Science           Fall 2018          17\n",
       "265        MS Software Engineering           Fall 2018          25\n",
       "326          MS Telecommunications           Fall 2019          11\n",
       "130            MS Computer Science           Fall 2021         247\n",
       "11      MS Applied Info Technology         Spring 2014           1\n",
       "104          MS Computer Forensics         Spring 2017           8"
      ]
     },
     "execution_count": 50,
     "metadata": {},
     "output_type": "execute_result"
    }
   ],
   "source": [
    "# ns_prog,at: Number of Students from a particular program, taking admission on a particular semester, and registering/waitlisting for courses\n",
    "StudentInputData = db.runQuery(\"\"\"--sql\n",
    "    SELECT stu_prog_desc, stu_admit_term_desc, COUNT(DISTINCT stu_id) AS ns_prog_at\n",
    "    FROM EnrollmentFinalStatus\n",
    "    WHERE reg_status IN (\"**Web Registered**\", \"Wait Listed\", \"**Registered**\")\n",
    "    GROUP BY stu_prog_desc, stu_admit_term_desc\n",
    "    ORDER BY stu_prog_desc, stu_admit_term_code;\n",
    "\"\"\")\n",
    "StudentInputData.sample(10)"
   ]
  },
  {
   "cell_type": "code",
   "execution_count": 61,
   "metadata": {},
   "outputs": [
    {
     "data": {
      "text/html": [
       "<div>\n",
       "<style scoped>\n",
       "    .dataframe tbody tr th:only-of-type {\n",
       "        vertical-align: middle;\n",
       "    }\n",
       "\n",
       "    .dataframe tbody tr th {\n",
       "        vertical-align: top;\n",
       "    }\n",
       "\n",
       "    .dataframe thead th {\n",
       "        text-align: right;\n",
       "    }\n",
       "</style>\n",
       "<table border=\"1\" class=\"dataframe\">\n",
       "  <thead>\n",
       "    <tr style=\"text-align: right;\">\n",
       "      <th></th>\n",
       "      <th>stu_prog_desc</th>\n",
       "      <th>stu_admit_term_desc</th>\n",
       "      <th>crs</th>\n",
       "      <th>reg_term_desc</th>\n",
       "      <th>w_prog_at_crs_rt</th>\n",
       "    </tr>\n",
       "  </thead>\n",
       "  <tbody>\n",
       "    <tr>\n",
       "      <th>0</th>\n",
       "      <td>MENG GeoConStruct Engineering</td>\n",
       "      <td>Fall 2013</td>\n",
       "      <td>CEIE 526</td>\n",
       "      <td>Spring 2019</td>\n",
       "      <td>1</td>\n",
       "    </tr>\n",
       "    <tr>\n",
       "      <th>1</th>\n",
       "      <td>MENG GeoConStruct Engineering</td>\n",
       "      <td>Fall 2013</td>\n",
       "      <td>CEIE 573</td>\n",
       "      <td>Spring 2019</td>\n",
       "      <td>1</td>\n",
       "    </tr>\n",
       "    <tr>\n",
       "      <th>2</th>\n",
       "      <td>MENG GeoConStruct Engineering</td>\n",
       "      <td>Fall 2013</td>\n",
       "      <td>CEIE 623</td>\n",
       "      <td>Fall 2018</td>\n",
       "      <td>1</td>\n",
       "    </tr>\n",
       "    <tr>\n",
       "      <th>3</th>\n",
       "      <td>MENG GeoConStruct Engineering</td>\n",
       "      <td>Fall 2013</td>\n",
       "      <td>CEIE 639</td>\n",
       "      <td>Fall 2018</td>\n",
       "      <td>1</td>\n",
       "    </tr>\n",
       "    <tr>\n",
       "      <th>4</th>\n",
       "      <td>MENG GeoConStruct Engineering</td>\n",
       "      <td>Fall 2013</td>\n",
       "      <td>CEIE 690</td>\n",
       "      <td>Spring 2018</td>\n",
       "      <td>1</td>\n",
       "    </tr>\n",
       "    <tr>\n",
       "      <th>5</th>\n",
       "      <td>MENG GeoConStruct Engineering</td>\n",
       "      <td>Fall 2013</td>\n",
       "      <td>CEIE 795</td>\n",
       "      <td>Spring 2018</td>\n",
       "      <td>1</td>\n",
       "    </tr>\n",
       "    <tr>\n",
       "      <th>6</th>\n",
       "      <td>MENG GeoConStruct Engineering</td>\n",
       "      <td>Fall 2013</td>\n",
       "      <td>CEIE 795</td>\n",
       "      <td>Fall 2018</td>\n",
       "      <td>1</td>\n",
       "    </tr>\n",
       "    <tr>\n",
       "      <th>7</th>\n",
       "      <td>MENG GeoConStruct Engineering</td>\n",
       "      <td>Fall 2014</td>\n",
       "      <td>CEIE 513</td>\n",
       "      <td>Fall 2019</td>\n",
       "      <td>1</td>\n",
       "    </tr>\n",
       "    <tr>\n",
       "      <th>8</th>\n",
       "      <td>MENG GeoConStruct Engineering</td>\n",
       "      <td>Fall 2014</td>\n",
       "      <td>CEIE 524</td>\n",
       "      <td>Fall 2017</td>\n",
       "      <td>1</td>\n",
       "    </tr>\n",
       "    <tr>\n",
       "      <th>9</th>\n",
       "      <td>MENG GeoConStruct Engineering</td>\n",
       "      <td>Fall 2014</td>\n",
       "      <td>CEIE 524</td>\n",
       "      <td>Spring 2020 - COVID-19</td>\n",
       "      <td>1</td>\n",
       "    </tr>\n",
       "  </tbody>\n",
       "</table>\n",
       "</div>"
      ],
      "text/plain": [
       "                   stu_prog_desc stu_admit_term_desc       crs  \\\n",
       "0  MENG GeoConStruct Engineering           Fall 2013  CEIE 526   \n",
       "1  MENG GeoConStruct Engineering           Fall 2013  CEIE 573   \n",
       "2  MENG GeoConStruct Engineering           Fall 2013  CEIE 623   \n",
       "3  MENG GeoConStruct Engineering           Fall 2013  CEIE 639   \n",
       "4  MENG GeoConStruct Engineering           Fall 2013  CEIE 690   \n",
       "5  MENG GeoConStruct Engineering           Fall 2013  CEIE 795   \n",
       "6  MENG GeoConStruct Engineering           Fall 2013  CEIE 795   \n",
       "7  MENG GeoConStruct Engineering           Fall 2014  CEIE 513   \n",
       "8  MENG GeoConStruct Engineering           Fall 2014  CEIE 524   \n",
       "9  MENG GeoConStruct Engineering           Fall 2014  CEIE 524   \n",
       "\n",
       "            reg_term_desc  w_prog_at_crs_rt  \n",
       "0             Spring 2019                 1  \n",
       "1             Spring 2019                 1  \n",
       "2               Fall 2018                 1  \n",
       "3               Fall 2018                 1  \n",
       "4             Spring 2018                 1  \n",
       "5             Spring 2018                 1  \n",
       "6               Fall 2018                 1  \n",
       "7               Fall 2019                 1  \n",
       "8               Fall 2017                 1  \n",
       "9  Spring 2020 - COVID-19                 1  "
      ]
     },
     "execution_count": 61,
     "metadata": {},
     "output_type": "execute_result"
    }
   ],
   "source": [
    "# w_at,rt,crs,prog Caclulating the weights for the projection\n",
    "# admit semester, registration semester, course, student count\n",
    "weights = db.runQuery(\"\"\"--sql\n",
    "    SELECT\n",
    "        stu_prog_desc, stu_admit_term_desc, crs, reg_term_desc, COUNT(DISTINCT stu_id) AS w_prog_at_crs_rt\n",
    "    FROM EnrollmentFinalStatus\n",
    "    WHERE reg_status IN (\"**Web Registered**\", \"Wait Listed\", \"**Registered**\")\n",
    "    GROUP BY stu_prog_desc, stu_admit_term_desc, crs, reg_term_desc\n",
    "    ORDER BY stu_prog_desc, stu_admit_term_code, crs, reg_term_code;\n",
    "\"\"\")\n",
    "\n",
    "weights.head(10)"
   ]
  },
  {
   "attachments": {},
   "cell_type": "markdown",
   "metadata": {},
   "source": [
    "To make projections, we multiply the weights (the proportion of students who registered for each course in each semester) by the number of student enrolling in cohorts."
   ]
  },
  {
   "cell_type": "code",
   "execution_count": null,
   "metadata": {},
   "outputs": [],
   "source": [
    "sem_dict ={\n",
    "    'Spring 2018'   : ['Spring 2018',   'Fall 2018',    'Spring 2019',  'Fall 2019'],\n",
    "    'Fall 2018'     : ['Fall 2018',     'Spring 2019',  'Fall 2019',    'Spring 2020'],\n",
    "    'Spring 2019'   : ['Spring 2019',   'Fall 2019',    'Spring 2020',  'Fall 2020'],\n",
    "    'Fall 2019'     : ['Fall 2019',     'Spring 2020',  'Fall 2020',    'Spring 2021'],\n",
    "    'Spring 2020'   : ['Spring 2020',   'Fall 2020',    'Spring 2021',  'Fall 2021'],\n",
    "    'Fall 2020'     : ['Fall 2020',     'Spring 2021',  'Fall 2021',    'Spring 2022'],\n",
    "    'Spring 2021'   : ['Spring 2021',   'Fall 2021',    'Spring 2022',  'Fall 2022'],\n",
    "    'Fall 2021'     : ['Fall 2021',     'Spring 2022',  'Fall 2022',    'Spring 2023']\n",
    "}"
   ]
  },
  {
   "cell_type": "code",
   "execution_count": 3,
   "metadata": {},
   "outputs": [
    {
     "data": {
      "text/plain": [
       "**Web Registered**                50631\n",
       "Wait Listed                        4212\n",
       "**Registered**                     2981\n",
       "Drop-Course Cancelled               959\n",
       "Drop/Delete                         485\n",
       "Web Drop (Liability)                115\n",
       "Web Withdrawal                       20\n",
       "Registered for Audit                  2\n",
       "Selective Withdrawal Exception        2\n",
       "Withdrawal from Course                2\n",
       "Name: reg_status, dtype: int64"
      ]
     },
     "execution_count": 3,
     "metadata": {},
     "output_type": "execute_result"
    }
   ],
   "source": [
    "df.reg_status.value_counts()"
   ]
  },
  {
   "cell_type": "code",
   "execution_count": 59,
   "metadata": {},
   "outputs": [
    {
     "name": "stderr",
     "output_type": "stream",
     "text": [
      "C:\\Users\\Sagar-School\\AppData\\Local\\Temp\\ipykernel_42436\\233122488.py:1: UserWarning: Boolean Series key will be reindexed to match DataFrame index.\n",
      "  StudentInputData[StudentInputData.stu_admit_term_desc == \"Fall 2021\"] \\\n"
     ]
    },
    {
     "data": {
      "text/html": [
       "<div>\n",
       "<style scoped>\n",
       "    .dataframe tbody tr th:only-of-type {\n",
       "        vertical-align: middle;\n",
       "    }\n",
       "\n",
       "    .dataframe tbody tr th {\n",
       "        vertical-align: top;\n",
       "    }\n",
       "\n",
       "    .dataframe thead th {\n",
       "        text-align: right;\n",
       "    }\n",
       "</style>\n",
       "<table border=\"1\" class=\"dataframe\">\n",
       "  <thead>\n",
       "    <tr style=\"text-align: right;\">\n",
       "      <th></th>\n",
       "      <th>stu_prog_desc</th>\n",
       "      <th>stu_admit_term_desc</th>\n",
       "      <th>ns_prog_at</th>\n",
       "    </tr>\n",
       "  </thead>\n",
       "  <tbody>\n",
       "    <tr>\n",
       "      <th>161</th>\n",
       "      <td>MS Data Analytics Engineering</td>\n",
       "      <td>Fall 2021</td>\n",
       "      <td>235</td>\n",
       "    </tr>\n",
       "  </tbody>\n",
       "</table>\n",
       "</div>"
      ],
      "text/plain": [
       "                     stu_prog_desc stu_admit_term_desc  ns_prog_at\n",
       "161  MS Data Analytics Engineering           Fall 2021         235"
      ]
     },
     "execution_count": 59,
     "metadata": {},
     "output_type": "execute_result"
    }
   ],
   "source": [
    "StudentInputData[StudentInputData.stu_admit_term_desc == \"Fall 2021\"] \\\n",
    "[StudentInputData.stu_prog_desc == \"MS Data Analytics Engineering\"]"
   ]
  }
 ],
 "metadata": {
  "kernelspec": {
   "display_name": "prophecy",
   "language": "python",
   "name": "python3"
  },
  "language_info": {
   "codemirror_mode": {
    "name": "ipython",
    "version": 3
   },
   "file_extension": ".py",
   "mimetype": "text/x-python",
   "name": "python",
   "nbconvert_exporter": "python",
   "pygments_lexer": "ipython3",
   "version": "3.10.9"
  },
  "orig_nbformat": 4
 },
 "nbformat": 4,
 "nbformat_minor": 2
}
