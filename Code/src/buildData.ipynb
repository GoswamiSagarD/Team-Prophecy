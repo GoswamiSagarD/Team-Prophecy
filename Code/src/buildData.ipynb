{
 "cells": [
  {
   "attachments": {},
   "cell_type": "markdown",
   "metadata": {},
   "source": [
    "# Initiation"
   ]
  },
  {
   "cell_type": "code",
   "execution_count": null,
   "metadata": {},
   "outputs": [],
   "source": [
    "# importing required libraries\n",
    "import os\n",
    "import glob\n",
    "import pandas as pd\n",
    "\n",
    "# changing the working directory\n",
    "os.chdir( os.path.join(\"..\", \"..\") )\n",
    "\n",
    "# importing the custom modules\n",
    "from Code.src.db_ops import *"
   ]
  },
  {
   "attachments": {},
   "cell_type": "markdown",
   "metadata": {},
   "source": [
    "# Enrollment Data"
   ]
  },
  {
   "cell_type": "code",
   "execution_count": null,
   "metadata": {},
   "outputs": [],
   "source": [
    "# Merging the Enrollment data from all the CSV files in the EnrollmentData folder\n",
    "files = glob.glob(\n",
    "    os.path.join(\"Data\", \"01_raw\", \"EnrollmentData\", \"*.csv\")\n",
    ")\n",
    "\n",
    "# Reading each file, adding filename as a column and appending to a pandas dataframe\n",
    "df_enrollment = pd.read_csv(files[0])\n",
    "df_enrollment['file_name'] = files[0]\n",
    "for file in files[1:]:\n",
    "    data = pd.read_csv(file)\n",
    "    data['file_name'] = file\n",
    "    df_enrollment = pd.concat([df_enrollment, data], ignore_index=True)\n",
    "\n",
    "# Shape of the final dataframe\n",
    "df_enrollment.shape"
   ]
  },
  {
   "cell_type": "code",
   "execution_count": null,
   "metadata": {},
   "outputs": [],
   "source": [
    "# renaming all the columns in the dataframe\n",
    "rename_dict = {\n",
    "    'Unnamed: 0'                        : 'file_index',\n",
    "    'Stu Term'                          : 'reg_term_code',\n",
    "    'Unnamed: 1'                        : 'reg_term_desc',\n",
    "    'Stu Admit Term'                    : 'stu_admit_term_code',\n",
    "    'Unnamed: 3'                        : 'stu_admit_term_desc',\n",
    "    'Record ID'                         : 'stu_id',\n",
    "    'Stu Visa Type'                     : 'stu_visa',\n",
    "    'Stu Attribute BAM'                 : 'stu_bam',\n",
    "    'Stu Admit Type'                    : 'stu_prog_level',\n",
    "    'Stu Primary Degree Level'          : 'stu_deg_level',\n",
    "    'Stu Primary Major 1 College'       : 'stu_college',\n",
    "    'Stu Primary Program'               : 'stu_prog_desc',\n",
    "    'Stu Primary Program Code'          : 'stu_prog_code',\n",
    "    'Stu Primary Department'            : 'stu_dept',\n",
    "    'Unnamed: 14'                       : 'stu_dept_desc',\n",
    "    'Stu New/Returning Ind'             : 'stu_new_ret',\n",
    "    'Stu Residency Group'               : 'stu_res',\n",
    "    'Course Sect College'               : 'crs_sect_clg',\n",
    "    'Stu Registered Ind'                : 'stu_act_reg_ind',\n",
    "    'Registration Status'               : 'reg_status',\n",
    "    'Registration Status Date'          : 'reg_status_date',\n",
    "    'Course Desc'                       : 'crs',\n",
    "    'Course Section'                    : 'crs_sect',\n",
    "    'Course Sect Schedule Type'         : 'crs_type',\n",
    "    'Course Sect Wiley Courses Ind'     : 'crs_sect_wiley_ind',\n",
    "    'Course Sect Credits'               : 'crs_credits',\n",
    "    'Stu Course Registered Hours'       : 'crs_hours',\n",
    "    'Course Sect Instruction Delivery Method Group' : 'crs_sect_modality',\n",
    "}\n",
    "df_enrollment.rename(columns=rename_dict, inplace=True)"
   ]
  },
  {
   "cell_type": "code",
   "execution_count": null,
   "metadata": {},
   "outputs": [],
   "source": [
    "# Extracting features from the dataframe\n",
    "\n",
    "# splitting the \"reg_term_desc\" column into term and year\n",
    "df_enrollment['reg_term_name'] = df_enrollment['reg_term_desc'].str.split(' ').str[0]\n",
    "df_enrollment['reg_term_year'] = df_enrollment['reg_term_desc'].str.split(' ').str[1]\n",
    "# splitting the \"stu_admit_term_desc\" column into term and year\n",
    "df_enrollment['stu_admit_term_name'] = df_enrollment['stu_admit_term_desc'].str.split(' ').str[0]\n",
    "df_enrollment['stu_admit_term_year'] = df_enrollment['stu_admit_term_desc'].str.split(' ').str[1]\n",
    "\n",
    "# storing the Record Extraction Date from the \"file_name\" column\n",
    "df_enrollment['rec_ext_date'] = df_enrollment['file_name'].str.split(\"_\").str[-2]\n",
    "df_enrollment['rec_ext_date'] = df_enrollment['rec_ext_date'].str.replace(\".\", \"/\", regex=False)"
   ]
  },
  {
   "cell_type": "code",
   "execution_count": null,
   "metadata": {},
   "outputs": [],
   "source": [
    "# Cleaning the data\n",
    "\n",
    "df_enrollment['stu_id'].dropna(inplace=True)\n",
    "df_enrollment['stu_visa'].fillna(\"Not Relevent\", inplace=True)\n",
    "\n",
    "df_enrollment['stu_bam'].replace(\"'--\", \"Not BAM\", inplace=True)\n",
    "df_enrollment['stu_dept'].replace(\"'-----\", \"No Value\", inplace=True)\n",
    "df_enrollment['crs_sect_wiley_ind'].replace(\"'--\", \"No Value\", inplace=True)\n",
    "\n",
    "df_enrollment['crs_credits'] = df_enrollment['crs_credits'].astype(str)\n",
    "\n",
    "df_enrollment['crs_credits'].replace(\"6-Jan\", \"1-6\", inplace=True)\n",
    "df_enrollment['crs_credits'].replace(\"3-Jan\", \"1-3\", inplace=True)\n",
    "df_enrollment['crs_credits'].replace(\"18-Jan\", \"1-18\", inplace=True)\n",
    "df_enrollment['crs_credits'].replace(\"4-Jan\", \"1-4\", inplace=True)\n",
    "df_enrollment['crs_credits'].replace(\"0,3\", \"0-3\", inplace=True)"
   ]
  },
  {
   "cell_type": "code",
   "execution_count": null,
   "metadata": {},
   "outputs": [],
   "source": [
    "# sorting the dataframe by term code and registration status date\n",
    "df_enrollment.sort_values(\n",
    "    by=['reg_term_code', 'rec_ext_date', 'reg_status_date'], inplace=True\n",
    ")\n",
    "\n",
    "# resetting the index after sorting\n",
    "df_enrollment.reset_index(drop=True, inplace=True)\n",
    "\n",
    "# creating a new rec_id column for identifying each record\n",
    "df_enrollment['rec_id'] = df_enrollment.index"
   ]
  },
  {
   "cell_type": "code",
   "execution_count": null,
   "metadata": {},
   "outputs": [],
   "source": [
    "# Changing the data type of the columns\n",
    "df_enrollment['rec_ext_date']           = pd.to_datetime(df_enrollment['rec_ext_date'])\n",
    "df_enrollment['reg_term_code']          = df_enrollment['reg_term_code'].astype(str)\n",
    "df_enrollment['reg_term_year']          = df_enrollment['reg_term_year'].astype(int)\n",
    "df_enrollment['reg_term_name']          = df_enrollment['reg_term_name'].astype('category')\n",
    "df_enrollment['stu_new_ret']            = df_enrollment['stu_new_ret'].astype('category')\n",
    "df_enrollment['stu_deg_level']          = df_enrollment['stu_deg_level'].astype('category')\n",
    "df_enrollment['stu_college']            = df_enrollment['stu_college'].astype('category')\n",
    "df_enrollment['stu_prog_desc']          = df_enrollment['stu_prog_desc'].astype('category')\n",
    "df_enrollment['stu_prog_level']         = df_enrollment['stu_prog_level'].astype('category')\n",
    "df_enrollment['stu_dept']               = df_enrollment['stu_dept'].astype('category')\n",
    "df_enrollment['stu_dept_desc']          = df_enrollment['stu_dept_desc'].astype('category')\n",
    "df_enrollment['stu_admit_term_code']    = df_enrollment['stu_admit_term_code'].astype(str)\n",
    "df_enrollment['stu_admit_term_year']    = df_enrollment['stu_admit_term_year'].astype(int)\n",
    "df_enrollment['stu_admit_term_name']    = df_enrollment['stu_admit_term_name'].astype('category')\n",
    "df_enrollment['stu_res']                = df_enrollment['stu_res'].astype('category')\n",
    "df_enrollment['stu_visa']               = df_enrollment['stu_visa'].astype('category')\n",
    "df_enrollment['stu_bam']                = df_enrollment['stu_bam'].astype('category')\n",
    "df_enrollment['crs_sect_clg']           = df_enrollment['crs_sect_clg'].astype('category')\n",
    "df_enrollment['crs_type']               = df_enrollment['crs_type'].astype('category')\n",
    "df_enrollment['crs_sect_modality']      = df_enrollment['crs_sect_modality'].astype('category')\n",
    "df_enrollment['crs_sect_wiley_ind']     = df_enrollment['crs_sect_wiley_ind'].astype('category')\n",
    "df_enrollment['crs_credits']            = df_enrollment['crs_credits'].astype('category')\n",
    "df_enrollment['crs_hours']              = df_enrollment['crs_hours'].astype('category')\n",
    "df_enrollment['stu_act_reg_ind']        = df_enrollment['stu_act_reg_ind'].astype('category')\n",
    "df_enrollment['reg_status']             = df_enrollment['reg_status'].astype('category')\n",
    "df_enrollment['reg_status_date']        = pd.to_datetime(df_enrollment['reg_status_date'])"
   ]
  },
  {
   "cell_type": "code",
   "execution_count": null,
   "metadata": {},
   "outputs": [],
   "source": [
    "# reordering the columns\n",
    "df_enrollment = df_enrollment[[\n",
    "    # Records Info\n",
    "    'rec_id', 'rec_ext_date', 'file_name', 'file_index',\n",
    "    # Registration Term/Semester Info\n",
    "    'reg_term_code', 'reg_term_year', 'reg_term_name', 'reg_term_desc',\n",
    "    # Student Info\n",
    "    'stu_id', 'stu_deg_level', 'stu_college', 'stu_res', 'stu_visa', 'stu_bam', 'stu_new_ret',\n",
    "    'stu_dept', 'stu_dept_desc', 'stu_prog_code', 'stu_prog_level', 'stu_prog_desc',\n",
    "    'stu_admit_term_code', 'stu_admit_term_year', 'stu_admit_term_name', 'stu_admit_term_desc',\n",
    "    # Course Info\n",
    "    'crs', 'crs_type', 'crs_credits', 'crs_hours',\n",
    "    'crs_sect', 'crs_sect_clg', 'crs_sect_modality', 'crs_sect_wiley_ind',\n",
    "    # Registration Status Info\n",
    "    'reg_status', 'reg_status_date', 'stu_act_reg_ind'\n",
    "]]"
   ]
  },
  {
   "cell_type": "code",
   "execution_count": null,
   "metadata": {},
   "outputs": [],
   "source": [
    "# Saving the dataframe as a pickle file\n",
    "df_enrollment.to_pickle(\n",
    "    os.path.join(\"Data\", \"02_processed\", \"enrollment.pkl\")\n",
    ")\n",
    "\n",
    "# Saving the dataframe to a csv file\n",
    "df_enrollment.to_csv(\n",
    "    os.path.join(\"Data\", \"02_processed\", \"enrollment.csv\"), index=False\n",
    ")\n",
    "\n",
    "# Saving the dataframe to a new sqlite database\n",
    "db_enrollment4EDA = ConnectDB(\n",
    "    os.path.join(\"Data\", \"02_processed\", \"enrollment4EDA.db\")\n",
    ")\n",
    "df_enrollment.to_sql('enrollment4EDA', db_enrollment4EDA.connection, if_exists='replace', index=False)\n",
    "db_enrollment4EDA.commitDB()"
   ]
  },
  {
   "attachments": {},
   "cell_type": "markdown",
   "metadata": {},
   "source": [
    "# Professor Data"
   ]
  },
  {
   "cell_type": "code",
   "execution_count": null,
   "metadata": {},
   "outputs": [],
   "source": [
    "# Impoerting the CSV File\n",
    "df_professor = pd.read_excel(\n",
    "    os.path.join(\"Data\", \"01_raw\", \"ProfessorData\", \"CEC Course Info including Fac Name.xlsx\")\n",
    ")\n",
    "\n",
    "df_professor.shape"
   ]
  },
  {
   "cell_type": "code",
   "execution_count": null,
   "metadata": {},
   "outputs": [],
   "source": [
    "# renaming the columns\n",
    "rename_dict = {\n",
    "    \"Stu Term\"                              : \"reg_term_desc\",\n",
    "    \"Unnamed: 1\"                            : \"reg_term_code\",\n",
    "    \"Course Sect College\"                   : \"crs_sect_clg\",\n",
    "    \"Course Sect Level\"                     : \"crs_sect_level\",\n",
    "    \"Course Sect Primary Instr Home Org\"    : \"instr_home_org\",\n",
    "    \"Course Sect Primary Instr Name\"        : \"instr_name\",\n",
    "    \"Course Sect Dept\"                      : \"crs_sect_dept\",\n",
    "    \"Unnamed: 7\"                            : \"crs_sect_dept_desc\",\n",
    "    \"Course Sect Campus\"                    : \"crs_sect_camp\",\n",
    "    \"Course Desc\"                           : \"crs\",\n",
    "    \"Course Sect Section Number\"            : \"crs_sect\",\n",
    "    \"Course Sect Instruction Delivery Method Group\" : \"crs_sect_modality\",\n",
    "    \"Course Status\"                         : \"crs_sect_status\",\n",
    "    \"Course Sect Term Actual Enrolled\"      : \"crs_sect_enroll_count\",\n",
    "    \"Course Sect Term Seats Avail\"          : \"crs_sect_enroll_avail\",\n",
    "    \"Course Sect Term Waitlist Count\"       : \"crs_sect_enroll_waitlist\",\n",
    "}\n",
    "\n",
    "df_professor.rename(columns=rename_dict, inplace=True)"
   ]
  },
  {
   "cell_type": "code",
   "execution_count": null,
   "metadata": {},
   "outputs": [],
   "source": [
    "# Extracting features from the dataset\n",
    "\n",
    "# splitting the \"reg_term_desc\" column into term and year\n",
    "df_professor[\"reg_term_name\"] = df_professor[\"reg_term_desc\"].str.split(\" \", expand=True)[0]\n",
    "df_professor[\"reg_term_year\"] = df_professor[\"reg_term_desc\"].str.split(\" \", expand=True)[1]\n",
    "\n",
    "# combining the above two columns to create a new column\n",
    "df_professor[\"crs_sect\"] = df_professor[\"crs\"] + \" \" + df_professor[\"crs_sect\"]"
   ]
  },
  {
   "cell_type": "code",
   "execution_count": null,
   "metadata": {},
   "outputs": [],
   "source": [
    "# Cleaning the dataset\n",
    "\n",
    "df_professor['instr_home_org'].replace(\"'--\", \"No Value\", inplace=True)\n",
    "df_professor['instr_name'].replace(',  ', \"No Value\", inplace=True)"
   ]
  },
  {
   "cell_type": "code",
   "execution_count": null,
   "metadata": {},
   "outputs": [],
   "source": [
    "# Sorting the dataframe and creating a new index\n",
    "\n",
    "df_professor.sort_values(\n",
    "    by=['reg_term_code', 'crs_sect_dept', 'crs_sect'], inplace=True)\n",
    "\n",
    "df_professor.reset_index(drop=True, inplace=True)\n",
    "\n",
    "df_professor['rec_id'] = df_professor.index"
   ]
  },
  {
   "cell_type": "code",
   "execution_count": null,
   "metadata": {},
   "outputs": [],
   "source": [
    "# Converting the columns to the appropriate data types\n",
    "df_professor['reg_term_code']           = df_professor['reg_term_code'].astype('category')\n",
    "df_professor['reg_term_year']           = df_professor['reg_term_year'].astype('int')\n",
    "df_professor['reg_term_name']           = df_professor['reg_term_name'].astype('category')\n",
    "df_professor['reg_term_desc']           = df_professor['reg_term_desc'].astype('category')\n",
    "df_professor['crs_sect_clg']            = df_professor['crs_sect_clg'].astype('category')\n",
    "df_professor['crs_sect_camp']           = df_professor['crs_sect_camp'].astype('category')\n",
    "df_professor['crs_sect_dept']           = df_professor['crs_sect_dept'].astype('category')\n",
    "df_professor['crs_sect_dept_desc']      = df_professor['crs_sect_dept_desc'].astype('category')\n",
    "df_professor['crs_sect_level']          = df_professor['crs_sect_level'].astype('category')\n",
    "df_professor['crs_sect_modality']       = df_professor['crs_sect_modality'].astype('category')\n",
    "df_professor['crs_sect_status']         = df_professor['crs_sect_status'].astype('category')\n",
    "df_professor['instr_name']              = df_professor['instr_name'].astype('category')\n",
    "df_professor['instr_home_org']          = df_professor['instr_home_org'].astype('category')\n",
    "df_professor['crs_sect_enroll_count']   = df_professor['crs_sect_enroll_count'].astype('int')\n",
    "df_professor['crs_sect_enroll_avail']   = df_professor['crs_sect_enroll_avail'].astype('int')\n",
    "df_professor['crs_sect_enroll_waitlist']= df_professor['crs_sect_enroll_waitlist'].astype('int')"
   ]
  },
  {
   "cell_type": "code",
   "execution_count": null,
   "metadata": {},
   "outputs": [],
   "source": [
    "# Reordering the columns\n",
    "df_professor = df_professor[[\n",
    "    # Records Info\n",
    "    'rec_id',\n",
    "    # Registration Term/Semester Info\n",
    "    'reg_term_code', 'reg_term_year', 'reg_term_name', 'reg_term_desc',\n",
    "    # Course Info\n",
    "    'crs', 'crs_sect', 'crs_sect_clg', 'crs_sect_camp', 'crs_sect_dept', 'crs_sect_dept_desc',\n",
    "    'crs_sect_level', 'crs_sect_modality', 'crs_sect_status', 'Course Sect Term Count',\n",
    "    # Professor Info\n",
    "    'instr_name', 'instr_home_org',\n",
    "    # Enrollment Info\n",
    "    'crs_sect_enroll_count', 'crs_sect_enroll_avail', 'crs_sect_enroll_waitlist'\n",
    "]]"
   ]
  },
  {
   "cell_type": "code",
   "execution_count": null,
   "metadata": {},
   "outputs": [],
   "source": [
    "df_professor.info()"
   ]
  },
  {
   "cell_type": "code",
   "execution_count": null,
   "metadata": {},
   "outputs": [],
   "source": [
    "df_professor.head(10).T"
   ]
  },
  {
   "cell_type": "code",
   "execution_count": null,
   "metadata": {},
   "outputs": [],
   "source": [
    "# Saving the dataframe as a pickle file\n",
    "df_professor.to_pickle(\n",
    "    os.path.join(\"Data\", \"02_processed\", \"professor.pkl\")\n",
    ")\n",
    "\n",
    "# Saving the dataframe to a csv file\n",
    "df_professor.to_csv(\n",
    "    os.path.join(\"Data\", \"02_processed\", \"professor.csv\"), index=False\n",
    ")\n",
    "\n",
    "# Saving the dataframe to a new sqlite database\n",
    "db_professor = ConnectDB(\n",
    "    os.path.join(\"Data\", \"02_processed\", \"professor4EDA.db\")\n",
    ")\n",
    "df_professor.to_sql('professor4EDA', db_professor.connection, if_exists='replace', index=False)\n",
    "db_professor.commitDB()"
   ]
  },
  {
   "cell_type": "code",
   "execution_count": null,
   "metadata": {},
   "outputs": [],
   "source": [
    "db_professor.runQuery(\"\"\"\n",
    "    SELECT * FROM professor4EDA LIMIT 10;\n",
    "\"\"\")"
   ]
  },
  {
   "attachments": {},
   "cell_type": "markdown",
   "metadata": {},
   "source": [
    "# Course Data\n",
    "SQLite DB to CSV and pkl (pandas dataframe)"
   ]
  },
  {
   "cell_type": "code",
   "execution_count": null,
   "metadata": {},
   "outputs": [],
   "source": []
  },
  {
   "cell_type": "code",
   "execution_count": null,
   "metadata": {},
   "outputs": [],
   "source": []
  },
  {
   "cell_type": "code",
   "execution_count": null,
   "metadata": {},
   "outputs": [],
   "source": []
  },
  {
   "cell_type": "code",
   "execution_count": null,
   "metadata": {},
   "outputs": [],
   "source": []
  },
  {
   "cell_type": "code",
   "execution_count": null,
   "metadata": {},
   "outputs": [],
   "source": []
  },
  {
   "attachments": {},
   "cell_type": "markdown",
   "metadata": {},
   "source": [
    "# Normalizing the data\n",
    "Will work on it later, once the Web Scraping is done on the Course Data\n",
    "Add an image below:\n",
    "\n",
    "![EER_Enrollment](Code\\DataEngineering\\EER_Enrollment.png)\n",
    "\n",
    "![EER_Enrollment](..\\..\\Code\\DataEngineering\\EER_Enrollment.png)"
   ]
  },
  {
   "cell_type": "code",
   "execution_count": null,
   "metadata": {},
   "outputs": [],
   "source": [
    "# # Creating a new SQLite database\n",
    "# conn = sqlite3.connect(\"..\"+_+\"..\"+_+\"Data\"+_+\"EnrollmentData\"+_+\"02_intermediate\"+_+\"enrollment.db\")\n",
    "# cur = conn.cursor()"
   ]
  },
  {
   "cell_type": "code",
   "execution_count": null,
   "metadata": {},
   "outputs": [],
   "source": [
    "# # Creating the tables in the database\n",
    "# conn.execute('''\n",
    "#     CREATE TABLE IF NOT EXISTS"
   ]
  }
 ],
 "metadata": {
  "kernelspec": {
   "display_name": "GMU",
   "language": "python",
   "name": "python3"
  },
  "language_info": {
   "codemirror_mode": {
    "name": "ipython",
    "version": 3
   },
   "file_extension": ".py",
   "mimetype": "text/x-python",
   "name": "python",
   "nbconvert_exporter": "python",
   "pygments_lexer": "ipython3",
   "version": "3.10.9"
  },
  "orig_nbformat": 4
 },
 "nbformat": 4,
 "nbformat_minor": 2
}
