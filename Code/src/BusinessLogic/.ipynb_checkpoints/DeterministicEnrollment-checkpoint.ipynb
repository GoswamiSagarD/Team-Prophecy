{
 "cells": [
  {
   "cell_type": "markdown",
   "id": "4491ad63-d1ba-4b19-b320-ca9ef3686f0c",
   "metadata": {},
   "source": [
    "# Enrollment Process\n",
    "\n",
    "- There is one \"ABC\" Program.\n",
    "- The \"ABC\" program will have an incoming international student count for a given semester.\n",
    "- The \"ABC\" program will have an incoming domestic student count for a given semester.\n",
    "- The program has some core courses as requirements that should be taken in the inital semesters.\n",
    "    - The International Students registers for 3 courses in each semester.\n",
    "    - The International Students registers for 3 core courses in their first semester.\n",
    "    - The Domestic Students may register for 1,2,or3 courses in each semester. `UNDETERMINISTIC ALERT`\n",
    "- The program has some core courses (Capstone/Thesis) that are meant to be taken in the very last semester.\n",
    "    - The Internation Student will register for Capstone/Thesis in their $4^{th}$ Semester.\n",
    "    - The Domestic Student may register for the Capstone/Thesis in their final semester, which is not fixed. `UNDETERMINISTIC ALERT`\n",
    "- Besides the core courses, each program may have concentration specific requirements.\n",
    "    - We do not have data on Student Concentration, and therefore cannot know for sure their concentration specific course requirements. `UNDETERMINISTIC ALERT`\n",
    "- Furthurmore, there are elective courses, which the students can take based on their interests/preferences."
   ]
  },
  {
   "cell_type": "markdown",
   "id": "6f2ae806-1d5f-43d7-a16b-8b2d8ded553a",
   "metadata": {},
   "source": [
    "# Tree\n",
    "- Program\n",
    "    - Requirements\n",
    "        - Core Courses\n",
    "            - Initial Semesters\n",
    "            - Final Semesters\n",
    "        - Concentration Corses"
   ]
  }
 ],
 "metadata": {
  "environment": {
   "kernel": "python3",
   "name": "common-cpu.m103",
   "type": "gcloud",
   "uri": "gcr.io/deeplearning-platform-release/base-cpu:m103"
  },
  "kernelspec": {
   "display_name": "Python 3",
   "language": "python",
   "name": "python3"
  },
  "language_info": {
   "codemirror_mode": {
    "name": "ipython",
    "version": 3
   },
   "file_extension": ".py",
   "mimetype": "text/x-python",
   "name": "python",
   "nbconvert_exporter": "python",
   "pygments_lexer": "ipython3",
   "version": "3.7.12"
  }
 },
 "nbformat": 4,
 "nbformat_minor": 5
}
