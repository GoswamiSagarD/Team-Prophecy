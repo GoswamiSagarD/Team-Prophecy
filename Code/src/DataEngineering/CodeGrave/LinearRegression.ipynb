{
 "cells": [
  {
   "cell_type": "markdown",
   "id": "4b106453-0ddc-4c48-a337-707239c55242",
   "metadata": {},
   "source": [
    "# Attempt at Moving Average Prediction/Polyfit #"
   ]
  },
  {
   "cell_type": "markdown",
   "id": "2811f796-3e5e-4be8-8aa7-86108c016d17",
   "metadata": {},
   "source": [
    "**EXPLANATION FOR WHY WE'RE DOING WHAT WE'RE DOING PRIOR**:\n",
    "\n",
    "The best model is going to be moving average prediction.\n",
    "\n",
    "For context, weighted projections is opposite to moving average prediction. Weighted projections looks at macro changes and scales it down to micro, and moving average prediction scales from micro to macro.\n",
    "\n",
    "This is what we hope to accomplish:\n",
    "- If the smaller model is expanding, the total data should be expanding.\n",
    "- Our dataset is small, but it can be divvied into different categories.\n",
    "- If you're looking at total enrollment, we are breaking down into smaller subsets like F1 visas, programs, etc. so that way we can see if the previous semester has X enrollments we can look at the next semester's Y enrollments and identify changes.\n",
    "- We would be not concerned with how dynamic these subsets are in a normal weighted projections.\n",
    "- In the moving average predictions, we are looking at those dynamic predictions.\n",
    "\n",
    "NumPY Polyfit regression has the highest possibility of fitting all of the data points because it can be linear or nonlinear, but only if we do regression for FALL and SPRING separately.\n",
    "\n",
    "WE WILL ONLY BE USING INTERNATIONAL STUDENTS AND/OR NEW STUDENTS\n",
    "\n",
    "We do NOT have a huge testing set, and it is better to completely overfit on the dataset rather than to underfit on 4 data points."
   ]
  },
  {
   "cell_type": "markdown",
   "id": "b768577b-9ed8-43ba-9fc3-de33d757e589",
   "metadata": {},
   "source": [
    "PROS AND CONS\n",
    "\n",
    "PROS\n",
    "- If our data is fluctuating, it will fit better\n",
    "- If there's a cyclic change, it will fit better.\n",
    "- It can analyze Spring and Fall better.\n",
    "- These are fairly easy to train.\n",
    "\n",
    "CONS\n",
    "- For them to work better, you need a lot of datapoints to make sure you don't overfit on certain fluctuations."
   ]
  },
  {
   "cell_type": "code",
   "execution_count": 482,
   "id": "fb17cde2-1783-40e3-bb8c-240ab9c0adb3",
   "metadata": {},
   "outputs": [],
   "source": [
    "import sqlite3\n",
    "import pandas as pd\n",
    "import os\n",
    "from scipy.stats import boxcox\n",
    "import copy\n",
    "pd.options.mode.chained_assignment = None"
   ]
  },
  {
   "cell_type": "code",
   "execution_count": 483,
   "id": "9220c029-4cbc-450f-8650-5a030c755c0a",
   "metadata": {},
   "outputs": [],
   "source": [
    "import plotly.express as px"
   ]
  },
  {
   "cell_type": "code",
   "execution_count": 1,
   "id": "4fca0d47-3a19-4f04-8ae2-ba7f7b738daf",
   "metadata": {},
   "outputs": [
    {
     "ename": "NameError",
     "evalue": "name 'os' is not defined",
     "output_type": "error",
     "traceback": [
      "\u001b[0;31m---------------------------------------------------------------------------\u001b[0m",
      "\u001b[0;31mNameError\u001b[0m                                 Traceback (most recent call last)",
      "\u001b[0;32m/var/tmp/ipykernel_4686/1739771945.py\u001b[0m in \u001b[0;36m<module>\u001b[0;34m\u001b[0m\n\u001b[0;32m----> 1\u001b[0;31m \u001b[0mprocess_path\u001b[0m \u001b[0;34m=\u001b[0m \u001b[0mos\u001b[0m\u001b[0;34m.\u001b[0m\u001b[0mpath\u001b[0m\u001b[0;34m.\u001b[0m\u001b[0mjoin\u001b[0m\u001b[0;34m(\u001b[0m\u001b[0mos\u001b[0m\u001b[0;34m.\u001b[0m\u001b[0msep\u001b[0m\u001b[0;34m+\u001b[0m\u001b[0;34m\"home\"\u001b[0m\u001b[0;34m+\u001b[0m\u001b[0mos\u001b[0m\u001b[0;34m.\u001b[0m\u001b[0msep\u001b[0m\u001b[0;34m+\u001b[0m\u001b[0;34m\"jupyter\"\u001b[0m\u001b[0;34m+\u001b[0m\u001b[0mos\u001b[0m\u001b[0;34m.\u001b[0m\u001b[0msep\u001b[0m\u001b[0;34m+\u001b[0m\u001b[0;34m\"Team-Prophecy\"\u001b[0m\u001b[0;34m,\u001b[0m\u001b[0;34m\"Data\"\u001b[0m\u001b[0;34m,\u001b[0m\u001b[0;34m\"02_processed\"\u001b[0m\u001b[0;34m,\u001b[0m\u001b[0;34m\"intermediate.db\"\u001b[0m\u001b[0;34m)\u001b[0m\u001b[0;34m\u001b[0m\u001b[0;34m\u001b[0m\u001b[0m\n\u001b[0m\u001b[1;32m      2\u001b[0m \u001b[0mprint\u001b[0m\u001b[0;34m(\u001b[0m\u001b[0mprocess_path\u001b[0m\u001b[0;34m)\u001b[0m\u001b[0;34m\u001b[0m\u001b[0;34m\u001b[0m\u001b[0m\n",
      "\u001b[0;31mNameError\u001b[0m: name 'os' is not defined"
     ]
    }
   ],
   "source": [
    "process_path = os.path.join(os.sep+\"home\"+os.sep+\"jupyter\"+os.sep+\"Team-Prophecy\",\"Data\",\"02_processed\",\"intermediate.db\")\n",
    "print(process_path)"
   ]
  },
  {
   "cell_type": "code",
   "execution_count": 485,
   "id": "23c80cc9-59e3-42e3-aa7c-984cac1eba13",
   "metadata": {},
   "outputs": [],
   "source": [
    "process_connection = sqlite3.connect(process_path)"
   ]
  },
  {
   "cell_type": "code",
   "execution_count": 486,
   "id": "e6f70660-2c72-45b2-af88-b9107302c344",
   "metadata": {},
   "outputs": [],
   "source": [
    "wait_stat = pd.DataFrame(process_connection.execute(\"\"\"\n",
    "    SELECT reg_term_code, reg_stu_id, crs, sect_id, reg_new_ret_stu, reg_final_status\n",
    "    FROM registration_status rs\n",
    "\"\"\").fetchall(),columns=[\"reg_term_code\", \"student_id\", \"crs\", \"sect_id\", \"returning_student\", \"reg_status\"])\n",
    "\n",
    "#WHERE reg_final_status IN ('W','R')\n",
    "#GROUP BY reg_term_code, crs, sect_id, reg_final_status\n",
    "\n",
    "student_details = pd.DataFrame(process_connection.execute(\"\"\"\n",
    "    SELECT stu_admit_term_code, stu_college, stu_deg_level, stu_dept, stu_id, stu_res, stu_prog, stu_visa, stu_bam\n",
    "    FROM student_details \n",
    "\"\"\").fetchall(),columns=[\"reg_term_code\",\"stu_college\",\"stu_deg_level\",\"stu_dept\",\"student_id\",\"stu_res\",\"stu_prog\",\"stu_visa\",\"stu_bam\"])\n",
    "total_stat = wait_stat.merge(student_details, on=[\"reg_term_code\",\"student_id\"], how=\"inner\").fillna(0)\n",
    "total_stat = total_stat.loc[(total_stat[\"stu_visa\"] == \"F1 Visa\") | (total_stat[\"returning_student\"] == 'N')] #Likely will have to include required classes\n",
    "\n",
    "#total_stat = total_stat.merge(dropped_stat, on=[\"reg_term_code\", \"crs\", \"sect_id\"], how='left').fillna(0)\n",
    "#total_stat.sort_values(by=\"Dropped\",ascending=False).head()"
   ]
  },
  {
   "cell_type": "code",
   "execution_count": 487,
   "id": "380b2735-bc1a-4d71-b263-8420a7fc714a",
   "metadata": {},
   "outputs": [],
   "source": [
    "#total_stat[\"crs_sect\"] = total_stat[\"crs\"]+\"-\"+total_stat[\"sect_id\"]\n",
    "#total_stat = total_stat.drop([\"crs\",\"sect_id\"],axis=1)"
   ]
  },
  {
   "cell_type": "markdown",
   "id": "3bc26a2a-7ac2-43c3-8558-eca0b27c511f",
   "metadata": {},
   "source": [
    "There are likely two ways I can go with this. I can choose to either...\n",
    "1) Find the course demand for individual courses (use crs_sect)\n",
    "2) Find student interest their applied courses, and showing the classes they were waitlisted and registered for (use \"student_id\""
   ]
  },
  {
   "cell_type": "code",
   "execution_count": 488,
   "id": "bac79c38-8c69-4e4f-a5a8-7e9f46c3e4c4",
   "metadata": {},
   "outputs": [],
   "source": [
    "waitlist_df = total_stat.loc[total_stat[\"reg_status\"] == 'W',[\"reg_term_code\", \"crs\",\"sect_id\", \"reg_status\"]].groupby([\"reg_term_code\", \"crs\",\"sect_id\"]).count().reset_index()\n",
    "reg_df = total_stat.loc[total_stat[\"reg_status\"] == 'R',[\"reg_term_code\", \"crs\",\"sect_id\", \"reg_status\"]].groupby([\"reg_term_code\", \"crs\",\"sect_id\"]).count().reset_index()\n",
    "dropped_df = total_stat.loc[total_stat[\"reg_status\"] == 'D',[\"reg_term_code\", \"crs\",\"sect_id\", \"reg_status\"]].groupby([\"reg_term_code\", \"crs\",\"sect_id\"]).count().reset_index()"
   ]
  },
  {
   "cell_type": "code",
   "execution_count": 489,
   "id": "0c38f24e-91d4-428d-aa75-93c726c0682d",
   "metadata": {},
   "outputs": [],
   "source": [
    "waitlist_df = waitlist_df.rename(columns={'reg_status':'waitlist'})\n",
    "reg_df = reg_df.rename(columns={'reg_status':'registered'})\n",
    "dropped_df = dropped_df.rename(columns={'reg_status':'dropped'})"
   ]
  },
  {
   "cell_type": "code",
   "execution_count": 490,
   "id": "9ad69c5c-f840-4eb5-b8e5-352ce8039b39",
   "metadata": {},
   "outputs": [],
   "source": [
    "total_df = reg_df.merge(waitlist_df, on=[\"reg_term_code\", \"crs\",\"sect_id\"], how=\"left\").fillna(0)\n",
    "total_df = total_df.merge(dropped_df, on=[\"reg_term_code\", \"crs\",\"sect_id\"], how=\"left\").fillna(0)"
   ]
  },
  {
   "cell_type": "code",
   "execution_count": 491,
   "id": "2eff7fef-c354-4625-88e2-ae4c540057e5",
   "metadata": {},
   "outputs": [
    {
     "data": {
      "text/html": [
       "<div>\n",
       "<style scoped>\n",
       "    .dataframe tbody tr th:only-of-type {\n",
       "        vertical-align: middle;\n",
       "    }\n",
       "\n",
       "    .dataframe tbody tr th {\n",
       "        vertical-align: top;\n",
       "    }\n",
       "\n",
       "    .dataframe thead th {\n",
       "        text-align: right;\n",
       "    }\n",
       "</style>\n",
       "<table border=\"1\" class=\"dataframe\">\n",
       "  <thead>\n",
       "    <tr style=\"text-align: right;\">\n",
       "      <th></th>\n",
       "      <th>reg_term_code</th>\n",
       "      <th>crs</th>\n",
       "      <th>sect_id</th>\n",
       "      <th>registered</th>\n",
       "      <th>waitlist</th>\n",
       "      <th>dropped</th>\n",
       "    </tr>\n",
       "  </thead>\n",
       "  <tbody>\n",
       "    <tr>\n",
       "      <th>0</th>\n",
       "      <td>201770</td>\n",
       "      <td>AIT512</td>\n",
       "      <td>001</td>\n",
       "      <td>150</td>\n",
       "      <td>0.0</td>\n",
       "      <td>0.0</td>\n",
       "    </tr>\n",
       "    <tr>\n",
       "      <th>1</th>\n",
       "      <td>201770</td>\n",
       "      <td>AIT524</td>\n",
       "      <td>001</td>\n",
       "      <td>146</td>\n",
       "      <td>1.0</td>\n",
       "      <td>0.0</td>\n",
       "    </tr>\n",
       "    <tr>\n",
       "      <th>2</th>\n",
       "      <td>201770</td>\n",
       "      <td>AIT524</td>\n",
       "      <td>DL3</td>\n",
       "      <td>54</td>\n",
       "      <td>0.0</td>\n",
       "      <td>0.0</td>\n",
       "    </tr>\n",
       "    <tr>\n",
       "      <th>3</th>\n",
       "      <td>201770</td>\n",
       "      <td>AIT542</td>\n",
       "      <td>DL1</td>\n",
       "      <td>219</td>\n",
       "      <td>0.0</td>\n",
       "      <td>0.0</td>\n",
       "    </tr>\n",
       "    <tr>\n",
       "      <th>4</th>\n",
       "      <td>201770</td>\n",
       "      <td>AIT580</td>\n",
       "      <td>001</td>\n",
       "      <td>91</td>\n",
       "      <td>34.0</td>\n",
       "      <td>4.0</td>\n",
       "    </tr>\n",
       "  </tbody>\n",
       "</table>\n",
       "</div>"
      ],
      "text/plain": [
       "  reg_term_code     crs sect_id  registered  waitlist  dropped\n",
       "0        201770  AIT512     001         150       0.0      0.0\n",
       "1        201770  AIT524     001         146       1.0      0.0\n",
       "2        201770  AIT524     DL3          54       0.0      0.0\n",
       "3        201770  AIT542     DL1         219       0.0      0.0\n",
       "4        201770  AIT580     001          91      34.0      4.0"
      ]
     },
     "execution_count": 491,
     "metadata": {},
     "output_type": "execute_result"
    }
   ],
   "source": [
    "total_df.head()"
   ]
  },
  {
   "cell_type": "code",
   "execution_count": 492,
   "id": "0ad51b04-d942-4e59-a84a-bd52cabb8db4",
   "metadata": {},
   "outputs": [],
   "source": [
    "total_df[\"course_demand\"] = total_df[\"registered\"]+total_df[\"waitlist\"]\n",
    "total_df[\"demand_ratio\"] = (total_df[\"course_demand\"]-total_df[\"dropped\"])/total_df[\"registered\"]\n",
    "total_df[\"demand_ratio\"] = (total_df[\"demand_ratio\"]-min(total_df[\"demand_ratio\"]))/(max(total_df[\"demand_ratio\"])-min(total_df[\"demand_ratio\"]))\n",
    "total_df = total_df[total_df[\"demand_ratio\"] > 0]\n",
    "total_df = total_df[total_df[\"demand_ratio\"] < 1]\n",
    "#total_df[\"demand_ratio\"] = boxcox(total_df[\"demand_ratio\"])\n",
    "#total_df = total_df.loc[:,[\"reg_term_code\",\"crs_sect\",\"demand_ratio\"]]"
   ]
  },
  {
   "cell_type": "code",
   "execution_count": 473,
   "id": "a1d563d4-51e8-48a6-8812-2a6d422cd601",
   "metadata": {},
   "outputs": [
    {
     "data": {
      "text/html": [
       "<div>\n",
       "<style scoped>\n",
       "    .dataframe tbody tr th:only-of-type {\n",
       "        vertical-align: middle;\n",
       "    }\n",
       "\n",
       "    .dataframe tbody tr th {\n",
       "        vertical-align: top;\n",
       "    }\n",
       "\n",
       "    .dataframe thead th {\n",
       "        text-align: right;\n",
       "    }\n",
       "</style>\n",
       "<table border=\"1\" class=\"dataframe\">\n",
       "  <thead>\n",
       "    <tr style=\"text-align: right;\">\n",
       "      <th></th>\n",
       "      <th>reg_term_code</th>\n",
       "      <th>crs</th>\n",
       "      <th>sect_id</th>\n",
       "      <th>registered</th>\n",
       "      <th>waitlist</th>\n",
       "      <th>dropped</th>\n",
       "      <th>course_demand</th>\n",
       "      <th>demand_ratio</th>\n",
       "    </tr>\n",
       "  </thead>\n",
       "  <tbody>\n",
       "    <tr>\n",
       "      <th>0</th>\n",
       "      <td>201770</td>\n",
       "      <td>AIT512</td>\n",
       "      <td>001</td>\n",
       "      <td>150</td>\n",
       "      <td>0.0</td>\n",
       "      <td>0.0</td>\n",
       "      <td>150.0</td>\n",
       "      <td>0.567376</td>\n",
       "    </tr>\n",
       "    <tr>\n",
       "      <th>1</th>\n",
       "      <td>201770</td>\n",
       "      <td>AIT524</td>\n",
       "      <td>001</td>\n",
       "      <td>146</td>\n",
       "      <td>1.0</td>\n",
       "      <td>0.0</td>\n",
       "      <td>147.0</td>\n",
       "      <td>0.567473</td>\n",
       "    </tr>\n",
       "    <tr>\n",
       "      <th>2</th>\n",
       "      <td>201770</td>\n",
       "      <td>AIT524</td>\n",
       "      <td>DL3</td>\n",
       "      <td>54</td>\n",
       "      <td>0.0</td>\n",
       "      <td>0.0</td>\n",
       "      <td>54.0</td>\n",
       "      <td>0.567376</td>\n",
       "    </tr>\n",
       "    <tr>\n",
       "      <th>3</th>\n",
       "      <td>201770</td>\n",
       "      <td>AIT542</td>\n",
       "      <td>DL1</td>\n",
       "      <td>219</td>\n",
       "      <td>0.0</td>\n",
       "      <td>0.0</td>\n",
       "      <td>219.0</td>\n",
       "      <td>0.567376</td>\n",
       "    </tr>\n",
       "    <tr>\n",
       "      <th>4</th>\n",
       "      <td>201770</td>\n",
       "      <td>AIT580</td>\n",
       "      <td>001</td>\n",
       "      <td>91</td>\n",
       "      <td>34.0</td>\n",
       "      <td>4.0</td>\n",
       "      <td>125.0</td>\n",
       "      <td>0.572052</td>\n",
       "    </tr>\n",
       "  </tbody>\n",
       "</table>\n",
       "</div>"
      ],
      "text/plain": [
       "  reg_term_code     crs sect_id  registered  waitlist  dropped  course_demand  \\\n",
       "0        201770  AIT512     001         150       0.0      0.0          150.0   \n",
       "1        201770  AIT524     001         146       1.0      0.0          147.0   \n",
       "2        201770  AIT524     DL3          54       0.0      0.0           54.0   \n",
       "3        201770  AIT542     DL1         219       0.0      0.0          219.0   \n",
       "4        201770  AIT580     001          91      34.0      4.0          125.0   \n",
       "\n",
       "   demand_ratio  \n",
       "0      0.567376  \n",
       "1      0.567473  \n",
       "2      0.567376  \n",
       "3      0.567376  \n",
       "4      0.572052  "
      ]
     },
     "execution_count": 473,
     "metadata": {},
     "output_type": "execute_result"
    }
   ],
   "source": [
    "total_df.head()"
   ]
  },
  {
   "cell_type": "code",
   "execution_count": 474,
   "id": "c9618823-bc16-4ffc-a14d-dbe28695336f",
   "metadata": {},
   "outputs": [],
   "source": [
    "reg_term_code_list = total_df[\"reg_term_code\"].unique().tolist()"
   ]
  },
  {
   "cell_type": "code",
   "execution_count": 475,
   "id": "a6e54bac-e109-4dad-a6b2-8fdb071a32ca",
   "metadata": {},
   "outputs": [],
   "source": [
    "total_df = total_df[[\"reg_term_code\",\"crs\",\"sect_id\",\"demand_ratio\"]]"
   ]
  },
  {
   "cell_type": "markdown",
   "id": "9a351da1-fb85-460c-892e-4e4652b1a35d",
   "metadata": {},
   "source": [
    "IMPORTANT: This code is partially referenced from https://towardsdatascience.com/autocorrelation-for-time-series-analysis-86e68e631f77, and is used predominantly to determine autocorrelation. \n",
    "\n",
    "This is simply used here for us to better understand what is going on with our data."
   ]
  },
  {
   "cell_type": "markdown",
   "id": "d5248220-61a5-4049-ad31-9b18f823a152",
   "metadata": {},
   "source": [
    "__WHAT'S EFFECTIVELY HAPPENING HERE__\n",
    "\n",
    "In this portion of the code, what we're doing is that we want to know if there are any major outliers for our data by performing autocorrelation.\n",
    "\n",
    "Autocorrelation is used as a means to determine if one variable changes wildly per semester. In this instance, course demand as defined DOES NOT typically change throughout each semester by their course demand.\n",
    "\n",
    "Course Demand is referenced as the total students that have dropped a course."
   ]
  },
  {
   "cell_type": "code",
   "execution_count": 476,
   "id": "155ee6f8-1d20-42b5-9dba-b3689cfcda89",
   "metadata": {},
   "outputs": [],
   "source": [
    "total_df_sample_ac = copy.deepcopy(total_df)\n",
    "total_df_sample_ac[\"demand_ratio\"] = 1+total_df_sample_ac[\"demand_ratio\"]\n",
    "#tdfgb = total_df.groupby(\"reg_term_code\")\n",
    "#grp_tdfgb = tdfgb.get_group(\"201770\")\n",
    "total_df_sample_ac[\"demand_boxcox\"], lam = boxcox(total_df_sample_ac[\"demand_ratio\"])\n",
    "total_df_sample_ac.dropna(inplace=True)\n",
    "#for r in reg_term_code_list:\n",
    "#    tdfgb.get_group(r)[\"demand_ratio\"] = boxcox(tdfgb.get_group(r)[\"demand_ratio\"])"
   ]
  },
  {
   "cell_type": "markdown",
   "id": "b709ac66-9619-4779-8078-e325bfd3f79d",
   "metadata": {},
   "source": [
    "As seen, most of our values are pretty even keel for what we have regarding demand..."
   ]
  },
  {
   "cell_type": "code",
   "execution_count": 477,
   "id": "bf99f687-3153-447d-b40a-b8580c58e193",
   "metadata": {},
   "outputs": [
    {
     "data": {
      "image/png": "[encoded data removed]",
      "text/plain": [
       "<Figure size 1100x500 with 1 Axes>"
      ]
     },
     "metadata": {},
     "output_type": "display_data"
    }
   ],
   "source": [
    "plot_acf(total_df_sample_ac['demand_boxcox'])\n",
    "plt.xlabel('Lags', fontsize=18)\n",
    "plt.ylabel('Correlation', fontsize=18)\n",
    "plt.title('Autocorrelation Plot for Courses Seen', fontsize=20)\n",
    "plt.show()"
   ]
  },
  {
   "cell_type": "markdown",
   "id": "511d4139-7b11-462c-af63-d80c4fa044c9",
   "metadata": {},
   "source": [
    "# Attempt at Linear Regression #"
   ]
  },
  {
   "cell_type": "markdown",
   "id": "775efaeb-d607-492d-b827-e383ffcf9158",
   "metadata": {},
   "source": [
    "The primary goal of handling Linear Regression here is because we want to determine the primary predictors for these figures that we've placed together.\n",
    "\n",
    "This is an OPTIONAL addendum that will take ALL fields gathered from the WebScrape, Professor, and Enrollment data and attempt to put them together to find the key predictors for high/low student course demand.\n",
    "\n",
    "These fields will include...\n",
    "- The Registration date\n",
    "- The Student's College\n",
    "- The Student's Department\n",
    "- The Student's Program\n",
    "- The Student's Residency\n",
    "- The Student's BAM\n",
    "- The Course's Name\n",
    "- The Course's Section Number\n",
    "- The Course's total number of credits\n",
    "\n",
    "Students WILL be filtered by F1 VISA status and will only be applied if it is a CORE class\n",
    "\n",
    "The INPUT consists of a table regarding these values.\n",
    "\n",
    "The OUTPUT regards a confusion matrix as to the accuracy of these values."
   ]
  },
  {
   "cell_type": "code",
   "execution_count": 478,
   "id": "2cdaadf6-f6f7-4077-a7bb-01839591a1a1",
   "metadata": {},
   "outputs": [
    {
     "data": {
      "text/html": [
       "<div>\n",
       "<style scoped>\n",
       "    .dataframe tbody tr th:only-of-type {\n",
       "        vertical-align: middle;\n",
       "    }\n",
       "\n",
       "    .dataframe tbody tr th {\n",
       "        vertical-align: top;\n",
       "    }\n",
       "\n",
       "    .dataframe thead th {\n",
       "        text-align: right;\n",
       "    }\n",
       "</style>\n",
       "<table border=\"1\" class=\"dataframe\">\n",
       "  <thead>\n",
       "    <tr style=\"text-align: right;\">\n",
       "      <th></th>\n",
       "      <th>reg_term_code</th>\n",
       "      <th>crs</th>\n",
       "      <th>sect_id</th>\n",
       "      <th>demand_ratio</th>\n",
       "    </tr>\n",
       "  </thead>\n",
       "  <tbody>\n",
       "    <tr>\n",
       "      <th>0</th>\n",
       "      <td>201770</td>\n",
       "      <td>AIT512</td>\n",
       "      <td>001</td>\n",
       "      <td>0.567376</td>\n",
       "    </tr>\n",
       "    <tr>\n",
       "      <th>1</th>\n",
       "      <td>201770</td>\n",
       "      <td>AIT524</td>\n",
       "      <td>001</td>\n",
       "      <td>0.567473</td>\n",
       "    </tr>\n",
       "    <tr>\n",
       "      <th>2</th>\n",
       "      <td>201770</td>\n",
       "      <td>AIT524</td>\n",
       "      <td>DL3</td>\n",
       "      <td>0.567376</td>\n",
       "    </tr>\n",
       "    <tr>\n",
       "      <th>3</th>\n",
       "      <td>201770</td>\n",
       "      <td>AIT542</td>\n",
       "      <td>DL1</td>\n",
       "      <td>0.567376</td>\n",
       "    </tr>\n",
       "    <tr>\n",
       "      <th>4</th>\n",
       "      <td>201770</td>\n",
       "      <td>AIT580</td>\n",
       "      <td>001</td>\n",
       "      <td>0.572052</td>\n",
       "    </tr>\n",
       "  </tbody>\n",
       "</table>\n",
       "</div>"
      ],
      "text/plain": [
       "  reg_term_code     crs sect_id  demand_ratio\n",
       "0        201770  AIT512     001      0.567376\n",
       "1        201770  AIT524     001      0.567473\n",
       "2        201770  AIT524     DL3      0.567376\n",
       "3        201770  AIT542     DL1      0.567376\n",
       "4        201770  AIT580     001      0.572052"
      ]
     },
     "execution_count": 478,
     "metadata": {},
     "output_type": "execute_result"
    }
   ],
   "source": [
    "total_df.head()"
   ]
  },
  {
   "cell_type": "code",
   "execution_count": 481,
   "id": "c3b45ac0-35e6-4163-a026-090d2c739e6f",
   "metadata": {},
   "outputs": [
    {
     "data": {
      "text/html": [
       "<div>\n",
       "<style scoped>\n",
       "    .dataframe tbody tr th:only-of-type {\n",
       "        vertical-align: middle;\n",
       "    }\n",
       "\n",
       "    .dataframe tbody tr th {\n",
       "        vertical-align: top;\n",
       "    }\n",
       "\n",
       "    .dataframe thead th {\n",
       "        text-align: right;\n",
       "    }\n",
       "</style>\n",
       "<table border=\"1\" class=\"dataframe\">\n",
       "  <thead>\n",
       "    <tr style=\"text-align: right;\">\n",
       "      <th></th>\n",
       "      <th>reg_term_code</th>\n",
       "      <th>student_id</th>\n",
       "      <th>crs</th>\n",
       "      <th>sect_id</th>\n",
       "      <th>returning_student</th>\n",
       "      <th>reg_status</th>\n",
       "      <th>stu_college</th>\n",
       "      <th>stu_deg_level</th>\n",
       "      <th>stu_dept</th>\n",
       "      <th>stu_res</th>\n",
       "      <th>stu_prog</th>\n",
       "      <th>stu_visa</th>\n",
       "      <th>stu_bam</th>\n",
       "    </tr>\n",
       "  </thead>\n",
       "  <tbody>\n",
       "    <tr>\n",
       "      <th>0</th>\n",
       "      <td>201770</td>\n",
       "      <td>CEC10171</td>\n",
       "      <td>SWE619</td>\n",
       "      <td>002</td>\n",
       "      <td>N</td>\n",
       "      <td>R</td>\n",
       "      <td>VSE</td>\n",
       "      <td>ms</td>\n",
       "      <td>CS</td>\n",
       "      <td>VA</td>\n",
       "      <td>VS-MS-SWE</td>\n",
       "      <td>Not Relevent</td>\n",
       "      <td>Not BAM</td>\n",
       "    </tr>\n",
       "    <tr>\n",
       "      <th>1</th>\n",
       "      <td>201770</td>\n",
       "      <td>CEC10171</td>\n",
       "      <td>SWE619</td>\n",
       "      <td>002</td>\n",
       "      <td>N</td>\n",
       "      <td>R</td>\n",
       "      <td>VSE</td>\n",
       "      <td>ms</td>\n",
       "      <td>CS</td>\n",
       "      <td>VA</td>\n",
       "      <td>VS-MS-SWE</td>\n",
       "      <td>Not Relevent</td>\n",
       "      <td>Not BAM</td>\n",
       "    </tr>\n",
       "    <tr>\n",
       "      <th>2</th>\n",
       "      <td>201770</td>\n",
       "      <td>CEC10171</td>\n",
       "      <td>SWE619</td>\n",
       "      <td>002</td>\n",
       "      <td>N</td>\n",
       "      <td>R</td>\n",
       "      <td>VSE</td>\n",
       "      <td>ms</td>\n",
       "      <td>CS</td>\n",
       "      <td>VA</td>\n",
       "      <td>VS-MS-SWE</td>\n",
       "      <td>Not Relevent</td>\n",
       "      <td>Not BAM</td>\n",
       "    </tr>\n",
       "    <tr>\n",
       "      <th>3</th>\n",
       "      <td>201770</td>\n",
       "      <td>CEC10171</td>\n",
       "      <td>SWE619</td>\n",
       "      <td>002</td>\n",
       "      <td>N</td>\n",
       "      <td>R</td>\n",
       "      <td>VSE</td>\n",
       "      <td>ms</td>\n",
       "      <td>CS</td>\n",
       "      <td>VA</td>\n",
       "      <td>VS-MS-SWE</td>\n",
       "      <td>Not Relevent</td>\n",
       "      <td>Not BAM</td>\n",
       "    </tr>\n",
       "    <tr>\n",
       "      <th>4</th>\n",
       "      <td>201770</td>\n",
       "      <td>CEC10171</td>\n",
       "      <td>SWE619</td>\n",
       "      <td>002</td>\n",
       "      <td>N</td>\n",
       "      <td>R</td>\n",
       "      <td>VSE</td>\n",
       "      <td>ms</td>\n",
       "      <td>CS</td>\n",
       "      <td>VA</td>\n",
       "      <td>VS-MS-SWE</td>\n",
       "      <td>Not Relevent</td>\n",
       "      <td>Not BAM</td>\n",
       "    </tr>\n",
       "  </tbody>\n",
       "</table>\n",
       "</div>"
      ],
      "text/plain": [
       "  reg_term_code student_id     crs sect_id returning_student reg_status  \\\n",
       "0        201770   CEC10171  SWE619     002                 N          R   \n",
       "1        201770   CEC10171  SWE619     002                 N          R   \n",
       "2        201770   CEC10171  SWE619     002                 N          R   \n",
       "3        201770   CEC10171  SWE619     002                 N          R   \n",
       "4        201770   CEC10171  SWE619     002                 N          R   \n",
       "\n",
       "  stu_college stu_deg_level stu_dept stu_res   stu_prog      stu_visa  stu_bam  \n",
       "0         VSE            ms       CS      VA  VS-MS-SWE  Not Relevent  Not BAM  \n",
       "1         VSE            ms       CS      VA  VS-MS-SWE  Not Relevent  Not BAM  \n",
       "2         VSE            ms       CS      VA  VS-MS-SWE  Not Relevent  Not BAM  \n",
       "3         VSE            ms       CS      VA  VS-MS-SWE  Not Relevent  Not BAM  \n",
       "4         VSE            ms       CS      VA  VS-MS-SWE  Not Relevent  Not BAM  "
      ]
     },
     "execution_count": 481,
     "metadata": {},
     "output_type": "execute_result"
    }
   ],
   "source": [
    "total_stat.head()"
   ]
  },
  {
   "cell_type": "code",
   "execution_count": 480,
   "id": "d6d657bb-74a2-47a4-8f5e-3814a196b5d9",
   "metadata": {},
   "outputs": [],
   "source": [
    "#total_stat[[\"reg_term_code\",\"crs\",\"sect_id\",\"returning_student\",\"reg_status\",\"stu_\"]].merge()"
   ]
  },
  {
   "cell_type": "markdown",
   "id": "104e52d8-2c00-4212-a5dd-5c6122100957",
   "metadata": {},
   "source": [
    "# Attempt at Random Forest #"
   ]
  },
  {
   "cell_type": "code",
   "execution_count": null,
   "id": "a985a874-42fb-4a09-8403-376f1736c424",
   "metadata": {},
   "outputs": [],
   "source": []
  }
 ],
 "metadata": {
  "environment": {
   "kernel": "python3",
   "name": "common-cpu.m103",
   "type": "gcloud",
   "uri": "gcr.io/deeplearning-platform-release/base-cpu:m103"
  },
  "kernelspec": {
   "display_name": "Python 3",
   "language": "python",
   "name": "python3"
  },
  "language_info": {
   "codemirror_mode": {
    "name": "ipython",
    "version": 3
   },
   "file_extension": ".py",
   "mimetype": "text/x-python",
   "name": "python",
   "nbconvert_exporter": "python",
   "pygments_lexer": "ipython3",
   "version": "3.7.12"
  }
 },
 "nbformat": 4,
 "nbformat_minor": 5
}
