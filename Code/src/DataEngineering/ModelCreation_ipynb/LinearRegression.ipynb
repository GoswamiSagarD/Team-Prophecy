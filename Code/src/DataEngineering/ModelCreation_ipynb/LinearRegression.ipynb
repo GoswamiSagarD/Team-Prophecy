{
 "cells": [
  {
   "cell_type": "markdown",
   "id": "4b106453-0ddc-4c48-a337-707239c55242",
   "metadata": {},
   "source": [
    "Attempt at Moving Average Prediction/Polyfit"
   ]
  },
  {
   "cell_type": "markdown",
   "id": "2811f796-3e5e-4be8-8aa7-86108c016d17",
   "metadata": {},
   "source": [
    "EXPLANATION FOR WHY WE'RE DOING WHAT WE'RE DOING PRIOR:\n",
    "\n",
    "The best model is going to be moving average prediction.\n",
    "\n",
    "For context, weighted projections is opposite to moving average prediction. Weighted projections looks at macro changes and scales it down to micro, and moving average prediction scales from micro to macro.\n",
    "\n",
    "This is what we hope to accomplish:\n",
    "- If the smaller model is expanding, the total data should be expanding.\n",
    "- Our dataset is small, but it can be divvied into different categories.\n",
    "- If you're looking at total enrollment, we are breaking down into smaller subsets like F1 visas, programs, etc. so that way we can see if the previous semester has X enrollments we can look at the next semester's Y enrollments and identify changes.\n",
    "- We would be not concerned with how dynamic these subsets are in a normal weighted projections.\n",
    "- In the moving average predictions, we are looking at those dynamic predictions.\n",
    "\n",
    "NumPY Polyfit regression has the highest possibility of fitting all of the data points because it can be linear or nonlinear, but only if we do regression for FALL and SPRING separately.\n",
    "\n",
    "WE WILL ONLY BE CONCERNED WITH F1 STUDENTS IN CORE CLASSES.\n",
    "\n",
    "We do NOT have a huge testing set, and it is better to completely overfit on the dataset rather than to underfit on 4 data points."
   ]
  },
  {
   "cell_type": "markdown",
   "id": "b768577b-9ed8-43ba-9fc3-de33d757e589",
   "metadata": {},
   "source": [
    "PROS AND CONS\n",
    "\n",
    "PROS\n",
    "- If our data is fluctuating, it will fit better\n",
    "- If there's a cyclic change, it will fit better.\n",
    "- It can analyze Spring and Fall better.\n",
    "- These are fairly easy to train.\n",
    "\n",
    "CONS\n",
    "- For them to work better, you need a lot of datapoints to make sure you don't overfit on certain fluctuations."
   ]
  },
  {
   "cell_type": "code",
   "execution_count": null,
   "id": "e6f70660-2c72-45b2-af88-b9107302c344",
   "metadata": {},
   "outputs": [],
   "source": []
  },
  {
   "cell_type": "code",
   "execution_count": null,
   "id": "1c53bda1-a9a4-47ee-8bb8-269d02b41746",
   "metadata": {},
   "outputs": [],
   "source": []
  },
  {
   "cell_type": "markdown",
   "id": "511d4139-7b11-462c-af63-d80c4fa044c9",
   "metadata": {},
   "source": [
    "Attempt at Linear Regression"
   ]
  },
  {
   "cell_type": "markdown",
   "id": "775efaeb-d607-492d-b827-e383ffcf9158",
   "metadata": {},
   "source": [
    "The primary goal of handling Linear Regression here is because we want to determine the primary predictors for these figures that we've placed together.\n",
    "\n",
    "This is an OPTIONAL addendum that will take ALL fields gathered from the WebScrape, Professor, and Enrollment data and attempt to put them together to find the key predictors for high/low student course demand.\n",
    "\n",
    "These fields will include...\n",
    "- The Registration date\n",
    "- The Student's College\n",
    "- The Student's Department\n",
    "- The Student's Program\n",
    "- The Student's Residency\n",
    "- The Student's BAM\n",
    "- The Course's Name\n",
    "- The Course's Section Number\n",
    "- The Course's total number of credits\n",
    "\n",
    "Students WILL be filtered by F1 VISA status and will only be applied if it is a CORE class\n",
    "\n",
    "The INPUT consists of a table regarding these values.\n",
    "\n",
    "The OUTPUT regards a confusion matrix as to the accuracy of these values."
   ]
  },
  {
   "cell_type": "markdown",
   "id": "8d8e2fe8-b11e-49b6-b6d5-2cf01fa8a94b",
   "metadata": {},
   "source": []
  },
  {
   "cell_type": "code",
   "execution_count": null,
   "id": "2cdaadf6-f6f7-4077-a7bb-01839591a1a1",
   "metadata": {},
   "outputs": [],
   "source": []
  },
  {
   "cell_type": "markdown",
   "id": "104e52d8-2c00-4212-a5dd-5c6122100957",
   "metadata": {},
   "source": [
    "Attempt at Random Forest"
   ]
  },
  {
   "cell_type": "code",
   "execution_count": null,
   "id": "a985a874-42fb-4a09-8403-376f1736c424",
   "metadata": {},
   "outputs": [],
   "source": []
  }
 ],
 "metadata": {
  "environment": {
   "kernel": "python3",
   "name": "common-cpu.m103",
   "type": "gcloud",
   "uri": "gcr.io/deeplearning-platform-release/base-cpu:m103"
  },
  "kernelspec": {
   "display_name": "Python 3",
   "language": "python",
   "name": "python3"
  },
  "language_info": {
   "codemirror_mode": {
    "name": "ipython",
    "version": 3
   },
   "file_extension": ".py",
   "mimetype": "text/x-python",
   "name": "python",
   "nbconvert_exporter": "python",
   "pygments_lexer": "ipython3",
   "version": "3.7.12"
  }
 },
 "nbformat": 4,
 "nbformat_minor": 5
}
