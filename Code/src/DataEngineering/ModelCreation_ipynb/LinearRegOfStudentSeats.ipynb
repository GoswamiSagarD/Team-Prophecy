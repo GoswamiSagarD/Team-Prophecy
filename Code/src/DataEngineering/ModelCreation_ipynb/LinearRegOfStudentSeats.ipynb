{
 "cells": [
  {
   "cell_type": "code",
   "execution_count": 103,
   "id": "06a41001-648d-4478-9747-96744b0f9294",
   "metadata": {
    "tags": []
   },
   "outputs": [],
   "source": [
    "import sqlite3\n",
    "import pandas as pd\n",
    "import os\n",
    "import copy\n",
    "import traceback\n",
    "import random\n",
    "import regex as re\n",
    "import statistics\n",
    "import numpy as np\n",
    "pd.options.mode.chained_assignment = None"
   ]
  },
  {
   "cell_type": "code",
   "execution_count": 48,
   "id": "5d1dcbd7-5a18-4b1f-8b02-1e163eeab8ec",
   "metadata": {},
   "outputs": [
    {
     "name": "stdout",
     "output_type": "stream",
     "text": [
      "/home/jupyter/Team-Prophecy/Data/02_processed/intermediate.db\n"
     ]
    }
   ],
   "source": [
    "process_path = os.path.join(os.sep+\"home\"+os.sep+\"jupyter\"+os.sep+\"Team-Prophecy\",\"Data\",\"02_processed\",\"intermediate.db\")\n",
    "print(process_path)"
   ]
  },
  {
   "cell_type": "code",
   "execution_count": 49,
   "id": "4556d55b-6369-4840-8f1b-17788de3c9b2",
   "metadata": {},
   "outputs": [
    {
     "name": "stdout",
     "output_type": "stream",
     "text": [
      "/home/jupyter/Team-Prophecy/Data/03_output_for_tableau\n"
     ]
    }
   ],
   "source": [
    "output_path = os.path.join(os.sep+\"home\"+os.sep+\"jupyter\"+os.sep+\"Team-Prophecy\",\"Data\",\"03_output_for_tableau\")\n",
    "print(output_path)"
   ]
  },
  {
   "cell_type": "code",
   "execution_count": 50,
   "id": "5ed45dfa-4c7b-4735-9aba-77be364b9fa3",
   "metadata": {},
   "outputs": [],
   "source": [
    "process_connection = sqlite3.connect(process_path)"
   ]
  },
  {
   "cell_type": "code",
   "execution_count": 51,
   "id": "5d04b28d-576e-40f2-8aa7-505eaffd37e2",
   "metadata": {},
   "outputs": [],
   "source": [
    "program_results_table = pd.DataFrame(process_connection.execute(\"SELECT * FROM program_results_table\").fetchall(),columns=[\"semester\", \"program\", \"course_code\", \n",
    "                                       \"sect_id\", \"number_of_students\", \"number_of_waitlisted_students\",\"random_students\",\"percentage_international\", \"percentage_international_waitlist\",\"total_size\"])\n",
    "results_table = pd.DataFrame(process_connection.execute(\"SELECT * FROM results_table\").fetchall(),columns=[\"rec_id\",\"semester\", \"program\", \"min_waitlisted_students\", \"proportional_size\", \"prior_proportional_size\", \"total_pop\"])"
   ]
  },
  {
   "cell_type": "code",
   "execution_count": 104,
   "id": "6ff9578a-7a41-45b4-be80-4b6b3d865ebd",
   "metadata": {},
   "outputs": [],
   "source": [
    "from sklearn.linear_model import LogisticRegression, LinearRegression\n",
    "from sklearn.ensemble import RandomForestRegressor\n",
    "from sklearn.model_selection import train_test_split\n",
    "import seaborn as sns\n",
    "import matplotlib.pyplot as plt\n",
    "from sklearn.tree import export_graphviz\n",
    "from sklearn.metrics import mean_squared_error\n",
    "import pydot\n",
    "from sklearn.metrics import accuracy_score"
   ]
  },
  {
   "cell_type": "code",
   "execution_count": 53,
   "id": "8a912957-6689-41e1-80c6-80f560e41cd3",
   "metadata": {},
   "outputs": [],
   "source": [
    "program_results_table = program_results_table[[\"semester\", \"program\", \"course_code\", \"sect_id\", \"number_of_students\", \"number_of_waitlisted_students\",\"percentage_international\",\"total_size\"]]"
   ]
  },
  {
   "cell_type": "code",
   "execution_count": 54,
   "id": "b2cb4e31-b5ae-4229-a4d1-ecef9e8defdc",
   "metadata": {},
   "outputs": [
    {
     "data": {
      "text/html": [
       "<div>\n",
       "<style scoped>\n",
       "    .dataframe tbody tr th:only-of-type {\n",
       "        vertical-align: middle;\n",
       "    }\n",
       "\n",
       "    .dataframe tbody tr th {\n",
       "        vertical-align: top;\n",
       "    }\n",
       "\n",
       "    .dataframe thead th {\n",
       "        text-align: right;\n",
       "    }\n",
       "</style>\n",
       "<table border=\"1\" class=\"dataframe\">\n",
       "  <thead>\n",
       "    <tr style=\"text-align: right;\">\n",
       "      <th></th>\n",
       "      <th>semester</th>\n",
       "      <th>program</th>\n",
       "      <th>course_code</th>\n",
       "      <th>sect_id</th>\n",
       "      <th>number_of_students</th>\n",
       "      <th>number_of_waitlisted_students</th>\n",
       "      <th>percentage_international</th>\n",
       "      <th>total_size</th>\n",
       "    </tr>\n",
       "  </thead>\n",
       "  <tbody>\n",
       "    <tr>\n",
       "      <th>0</th>\n",
       "      <td>201770</td>\n",
       "      <td>EC-MS-CEIE</td>\n",
       "      <td>CEIE605</td>\n",
       "      <td>001</td>\n",
       "      <td>11</td>\n",
       "      <td>0</td>\n",
       "      <td>0.000000</td>\n",
       "      <td>36</td>\n",
       "    </tr>\n",
       "    <tr>\n",
       "      <th>1</th>\n",
       "      <td>201770</td>\n",
       "      <td>EC-MS-CEIE</td>\n",
       "      <td>CEIE605</td>\n",
       "      <td>003</td>\n",
       "      <td>8</td>\n",
       "      <td>0</td>\n",
       "      <td>0.000000</td>\n",
       "      <td>36</td>\n",
       "    </tr>\n",
       "    <tr>\n",
       "      <th>2</th>\n",
       "      <td>201770</td>\n",
       "      <td>EC-MS-CEIE</td>\n",
       "      <td>CEIE605</td>\n",
       "      <td>002</td>\n",
       "      <td>9</td>\n",
       "      <td>0</td>\n",
       "      <td>0.000000</td>\n",
       "      <td>36</td>\n",
       "    </tr>\n",
       "    <tr>\n",
       "      <th>3</th>\n",
       "      <td>201770</td>\n",
       "      <td>EC-MS-CEIE</td>\n",
       "      <td>CEIE605</td>\n",
       "      <td>DL2</td>\n",
       "      <td>13</td>\n",
       "      <td>0</td>\n",
       "      <td>0.000000</td>\n",
       "      <td>36</td>\n",
       "    </tr>\n",
       "    <tr>\n",
       "      <th>4</th>\n",
       "      <td>201770</td>\n",
       "      <td>EC-MS-CEIE</td>\n",
       "      <td>CEIE605</td>\n",
       "      <td>DL1</td>\n",
       "      <td>5</td>\n",
       "      <td>0</td>\n",
       "      <td>0.000000</td>\n",
       "      <td>36</td>\n",
       "    </tr>\n",
       "    <tr>\n",
       "      <th>...</th>\n",
       "      <td>...</td>\n",
       "      <td>...</td>\n",
       "      <td>...</td>\n",
       "      <td>...</td>\n",
       "      <td>...</td>\n",
       "      <td>...</td>\n",
       "      <td>...</td>\n",
       "      <td>...</td>\n",
       "    </tr>\n",
       "    <tr>\n",
       "      <th>6359</th>\n",
       "      <td>202310</td>\n",
       "      <td>EC-MS-TCOM</td>\n",
       "      <td>TCOM616</td>\n",
       "      <td>001</td>\n",
       "      <td>2</td>\n",
       "      <td>0</td>\n",
       "      <td>0.391304</td>\n",
       "      <td>36</td>\n",
       "    </tr>\n",
       "    <tr>\n",
       "      <th>6360</th>\n",
       "      <td>202310</td>\n",
       "      <td>EC-MS-TCOM</td>\n",
       "      <td>TCOM616</td>\n",
       "      <td>003</td>\n",
       "      <td>4</td>\n",
       "      <td>0</td>\n",
       "      <td>0.391304</td>\n",
       "      <td>36</td>\n",
       "    </tr>\n",
       "    <tr>\n",
       "      <th>6361</th>\n",
       "      <td>202310</td>\n",
       "      <td>EC-MS-TCOM</td>\n",
       "      <td>TCOM616</td>\n",
       "      <td>002</td>\n",
       "      <td>0</td>\n",
       "      <td>0</td>\n",
       "      <td>0.391304</td>\n",
       "      <td>36</td>\n",
       "    </tr>\n",
       "    <tr>\n",
       "      <th>6362</th>\n",
       "      <td>202310</td>\n",
       "      <td>EC-MS-TCOM</td>\n",
       "      <td>TCOM616</td>\n",
       "      <td>DL2</td>\n",
       "      <td>4</td>\n",
       "      <td>0</td>\n",
       "      <td>0.391304</td>\n",
       "      <td>36</td>\n",
       "    </tr>\n",
       "    <tr>\n",
       "      <th>6363</th>\n",
       "      <td>202310</td>\n",
       "      <td>EC-MS-TCOM</td>\n",
       "      <td>TCOM616</td>\n",
       "      <td>DL1</td>\n",
       "      <td>1</td>\n",
       "      <td>0</td>\n",
       "      <td>0.391304</td>\n",
       "      <td>36</td>\n",
       "    </tr>\n",
       "  </tbody>\n",
       "</table>\n",
       "<p>6364 rows × 8 columns</p>\n",
       "</div>"
      ],
      "text/plain": [
       "     semester     program course_code sect_id  number_of_students  \\\n",
       "0      201770  EC-MS-CEIE     CEIE605     001                  11   \n",
       "1      201770  EC-MS-CEIE     CEIE605     003                   8   \n",
       "2      201770  EC-MS-CEIE     CEIE605     002                   9   \n",
       "3      201770  EC-MS-CEIE     CEIE605     DL2                  13   \n",
       "4      201770  EC-MS-CEIE     CEIE605     DL1                   5   \n",
       "...       ...         ...         ...     ...                 ...   \n",
       "6359   202310  EC-MS-TCOM     TCOM616     001                   2   \n",
       "6360   202310  EC-MS-TCOM     TCOM616     003                   4   \n",
       "6361   202310  EC-MS-TCOM     TCOM616     002                   0   \n",
       "6362   202310  EC-MS-TCOM     TCOM616     DL2                   4   \n",
       "6363   202310  EC-MS-TCOM     TCOM616     DL1                   1   \n",
       "\n",
       "      number_of_waitlisted_students  percentage_international  total_size  \n",
       "0                                 0                  0.000000          36  \n",
       "1                                 0                  0.000000          36  \n",
       "2                                 0                  0.000000          36  \n",
       "3                                 0                  0.000000          36  \n",
       "4                                 0                  0.000000          36  \n",
       "...                             ...                       ...         ...  \n",
       "6359                              0                  0.391304          36  \n",
       "6360                              0                  0.391304          36  \n",
       "6361                              0                  0.391304          36  \n",
       "6362                              0                  0.391304          36  \n",
       "6363                              0                  0.391304          36  \n",
       "\n",
       "[6364 rows x 8 columns]"
      ]
     },
     "execution_count": 54,
     "metadata": {},
     "output_type": "execute_result"
    }
   ],
   "source": [
    "program_results_table"
   ]
  },
  {
   "cell_type": "code",
   "execution_count": 55,
   "id": "7bd1e1c6-7c0f-4634-9ae8-513602471e16",
   "metadata": {},
   "outputs": [
    {
     "data": {
      "text/html": [
       "<div>\n",
       "<style scoped>\n",
       "    .dataframe tbody tr th:only-of-type {\n",
       "        vertical-align: middle;\n",
       "    }\n",
       "\n",
       "    .dataframe tbody tr th {\n",
       "        vertical-align: top;\n",
       "    }\n",
       "\n",
       "    .dataframe thead th {\n",
       "        text-align: right;\n",
       "    }\n",
       "</style>\n",
       "<table border=\"1\" class=\"dataframe\">\n",
       "  <thead>\n",
       "    <tr style=\"text-align: right;\">\n",
       "      <th></th>\n",
       "      <th>rec_id</th>\n",
       "      <th>semester</th>\n",
       "      <th>program</th>\n",
       "      <th>min_waitlisted_students</th>\n",
       "      <th>proportional_size</th>\n",
       "      <th>prior_proportional_size</th>\n",
       "      <th>total_pop</th>\n",
       "    </tr>\n",
       "  </thead>\n",
       "  <tbody>\n",
       "    <tr>\n",
       "      <th>0</th>\n",
       "      <td>1</td>\n",
       "      <td>201770</td>\n",
       "      <td>EC-MS-CEIE</td>\n",
       "      <td>0</td>\n",
       "      <td>111</td>\n",
       "      <td>297</td>\n",
       "      <td>1001</td>\n",
       "    </tr>\n",
       "    <tr>\n",
       "      <th>1</th>\n",
       "      <td>2</td>\n",
       "      <td>201770</td>\n",
       "      <td>EC-MS-CPE</td>\n",
       "      <td>0</td>\n",
       "      <td>71</td>\n",
       "      <td>297</td>\n",
       "      <td>1001</td>\n",
       "    </tr>\n",
       "    <tr>\n",
       "      <th>2</th>\n",
       "      <td>3</td>\n",
       "      <td>201770</td>\n",
       "      <td>EC-MS-CS</td>\n",
       "      <td>0</td>\n",
       "      <td>371</td>\n",
       "      <td>297</td>\n",
       "      <td>1001</td>\n",
       "    </tr>\n",
       "    <tr>\n",
       "      <th>3</th>\n",
       "      <td>4</td>\n",
       "      <td>201770</td>\n",
       "      <td>EC-MS-DAEN</td>\n",
       "      <td>0</td>\n",
       "      <td>162</td>\n",
       "      <td>297</td>\n",
       "      <td>1001</td>\n",
       "    </tr>\n",
       "    <tr>\n",
       "      <th>4</th>\n",
       "      <td>5</td>\n",
       "      <td>201770</td>\n",
       "      <td>EC-MS-ELEN</td>\n",
       "      <td>18</td>\n",
       "      <td>74</td>\n",
       "      <td>297</td>\n",
       "      <td>1001</td>\n",
       "    </tr>\n",
       "    <tr>\n",
       "      <th>...</th>\n",
       "      <td>...</td>\n",
       "      <td>...</td>\n",
       "      <td>...</td>\n",
       "      <td>...</td>\n",
       "      <td>...</td>\n",
       "      <td>...</td>\n",
       "      <td>...</td>\n",
       "    </tr>\n",
       "    <tr>\n",
       "      <th>844</th>\n",
       "      <td>845</td>\n",
       "      <td>202310</td>\n",
       "      <td>EC-MS-ISYS</td>\n",
       "      <td>0</td>\n",
       "      <td>114</td>\n",
       "      <td>2942</td>\n",
       "      <td>1001</td>\n",
       "    </tr>\n",
       "    <tr>\n",
       "      <th>845</th>\n",
       "      <td>846</td>\n",
       "      <td>202310</td>\n",
       "      <td>EC-MS-OPRS</td>\n",
       "      <td>11</td>\n",
       "      <td>12</td>\n",
       "      <td>2942</td>\n",
       "      <td>1001</td>\n",
       "    </tr>\n",
       "    <tr>\n",
       "      <th>846</th>\n",
       "      <td>847</td>\n",
       "      <td>202310</td>\n",
       "      <td>EC-MS-SWE</td>\n",
       "      <td>0</td>\n",
       "      <td>76</td>\n",
       "      <td>2942</td>\n",
       "      <td>1001</td>\n",
       "    </tr>\n",
       "    <tr>\n",
       "      <th>847</th>\n",
       "      <td>848</td>\n",
       "      <td>202310</td>\n",
       "      <td>EC-MS-SYST</td>\n",
       "      <td>10</td>\n",
       "      <td>19</td>\n",
       "      <td>2942</td>\n",
       "      <td>1001</td>\n",
       "    </tr>\n",
       "    <tr>\n",
       "      <th>848</th>\n",
       "      <td>849</td>\n",
       "      <td>202310</td>\n",
       "      <td>EC-MS-TCOM</td>\n",
       "      <td>0</td>\n",
       "      <td>24</td>\n",
       "      <td>2942</td>\n",
       "      <td>1001</td>\n",
       "    </tr>\n",
       "  </tbody>\n",
       "</table>\n",
       "<p>849 rows × 7 columns</p>\n",
       "</div>"
      ],
      "text/plain": [
       "     rec_id semester     program  min_waitlisted_students  proportional_size  \\\n",
       "0         1   201770  EC-MS-CEIE                        0                111   \n",
       "1         2   201770   EC-MS-CPE                        0                 71   \n",
       "2         3   201770    EC-MS-CS                        0                371   \n",
       "3         4   201770  EC-MS-DAEN                        0                162   \n",
       "4         5   201770  EC-MS-ELEN                       18                 74   \n",
       "..      ...      ...         ...                      ...                ...   \n",
       "844     845   202310  EC-MS-ISYS                        0                114   \n",
       "845     846   202310  EC-MS-OPRS                       11                 12   \n",
       "846     847   202310   EC-MS-SWE                        0                 76   \n",
       "847     848   202310  EC-MS-SYST                       10                 19   \n",
       "848     849   202310  EC-MS-TCOM                        0                 24   \n",
       "\n",
       "     prior_proportional_size  total_pop  \n",
       "0                        297       1001  \n",
       "1                        297       1001  \n",
       "2                        297       1001  \n",
       "3                        297       1001  \n",
       "4                        297       1001  \n",
       "..                       ...        ...  \n",
       "844                     2942       1001  \n",
       "845                     2942       1001  \n",
       "846                     2942       1001  \n",
       "847                     2942       1001  \n",
       "848                     2942       1001  \n",
       "\n",
       "[849 rows x 7 columns]"
      ]
     },
     "execution_count": 55,
     "metadata": {},
     "output_type": "execute_result"
    }
   ],
   "source": [
    "results_table"
   ]
  },
  {
   "cell_type": "code",
   "execution_count": 56,
   "id": "cf902f23-c30e-448e-9ea4-7c0861b2da59",
   "metadata": {},
   "outputs": [],
   "source": [
    "semester_data = program_results_table[\"semester\"].unique().tolist()"
   ]
  },
  {
   "cell_type": "code",
   "execution_count": 57,
   "id": "e9b2d90f-8328-4300-823f-104128a94220",
   "metadata": {},
   "outputs": [],
   "source": [
    "program_list = pd.Series(program_results_table[\"program\"].unique(), dtype=\"category\").tolist()\n",
    "course_list = pd.Series(program_results_table[\"course_code\"].unique(), dtype=\"category\").tolist()\n",
    "sect_list = pd.Series(program_results_table[\"sect_id\"].unique(), dtype=\"category\").tolist()"
   ]
  },
  {
   "cell_type": "code",
   "execution_count": 58,
   "id": "959ae2aa-c5a6-4d43-b581-b61a243e2675",
   "metadata": {
    "tags": []
   },
   "outputs": [],
   "source": [
    "program_dict = {program_list[i] : i for i in range(0,len(program_list))}\n",
    "course_dict = {course_list[i] : i for i in range(0,len(course_list))}\n",
    "sect_dict = {sect_list[i] : i for i in range(0,len(sect_list))}"
   ]
  },
  {
   "cell_type": "code",
   "execution_count": 59,
   "id": "65a58314-47ce-4d89-9bc8-55e0655f9ee5",
   "metadata": {
    "tags": []
   },
   "outputs": [],
   "source": [
    "program_results_table[\"program\"] = program_results_table[\"program\"].transform(lambda x : program_dict[x])\n",
    "program_results_table[\"course_code\"] = program_results_table[\"course_code\"].transform(lambda x : course_dict[x])\n",
    "program_results_table[\"sect_id\"] = program_results_table[\"sect_id\"].transform(lambda x : sect_dict[x])"
   ]
  },
  {
   "cell_type": "code",
   "execution_count": 60,
   "id": "d55ba580-bcf1-4138-8141-ad12842e69c1",
   "metadata": {},
   "outputs": [],
   "source": [
    "#This will classifies our waitlisted students\n",
    "#program_results_table[\"number_of_waitlisted_students\"] = numpy.where(program_results_table[\"number_of_waitlisted_students\"] > 0, 1, 0)\n",
    "\n",
    "#This noramlizes our waitlisted students\n",
    "program_results_table[\"number_of_waitlisted_students\"]= round(100*(program_results_table[\"number_of_waitlisted_students\"]-program_results_table[\"number_of_waitlisted_students\"].min())/(program_results_table[\"number_of_waitlisted_students\"].max()-program_results_table[\"number_of_waitlisted_students\"].min()))\n",
    "program_results_table[\"number_of_students\"]= round(100*(program_results_table[\"number_of_students\"]-program_results_table[\"number_of_students\"].min())/(program_results_table[\"number_of_students\"].max()-program_results_table[\"number_of_students\"].min()))"
   ]
  },
  {
   "cell_type": "markdown",
   "id": "9c7e99ef-ddf9-45ac-828e-af2538f90c58",
   "metadata": {},
   "source": [
    "This checks to see if we can successfully identify waitlisted students from their x values"
   ]
  },
  {
   "cell_type": "markdown",
   "id": "c19d68bb-a8bd-43ba-92ee-a8940064f038",
   "metadata": {},
   "source": [
    "NOTE: Data accuracy is even worse when there is less data for linear regression"
   ]
  },
  {
   "cell_type": "code",
   "execution_count": 61,
   "id": "7f75aa2a-e489-4389-b416-e663d545e842",
   "metadata": {},
   "outputs": [
    {
     "name": "stdout",
     "output_type": "stream",
     "text": [
      "0.9890052356020942\n"
     ]
    }
   ],
   "source": [
    "x = program_results_table.loc[:,[\"program\",\"course_code\",\"number_of_students\",\"percentage_international\"]]\n",
    "y = program_results_table[\"number_of_waitlisted_students\"]\n",
    "y = np.where(y > 0, 1, 0)\n",
    "\n",
    "xtrain, xtest,ytrain, ytest = train_test_split(x,y,test_size=0.3, random_state=5)\n",
    "slr = LogisticRegression()\n",
    "slr.fit(xtrain,ytrain)\n",
    "print(slr.score(xtest,ytest))"
   ]
  },
  {
   "cell_type": "code",
   "execution_count": 62,
   "id": "e8974936-b29a-490e-ab97-bcd6cec647cd",
   "metadata": {},
   "outputs": [
    {
     "name": "stdout",
     "output_type": "stream",
     "text": [
      "0.912041884816754\n"
     ]
    }
   ],
   "source": [
    "x = program_results_table.loc[:,[\"number_of_waitlisted_students\"]]\n",
    "y = program_results_table[\"program\"]\n",
    "y = np.where(y > 0, 1, 0)\n",
    "\n",
    "xtrain, xtest,ytrain, ytest = train_test_split(x,y,test_size=0.3, random_state=5)\n",
    "slr = LogisticRegression()\n",
    "slr.fit(xtrain,ytrain)\n",
    "print(slr.score(xtest,ytest))"
   ]
  },
  {
   "cell_type": "code",
   "execution_count": 98,
   "id": "f575ccf9-f976-480b-bd8f-b7ba4130cf66",
   "metadata": {},
   "outputs": [
    {
     "name": "stdout",
     "output_type": "stream",
     "text": [
      "0.1467796151761338\n"
     ]
    }
   ],
   "source": [
    "x = results_table.loc[:,[\"semester\",\"min_waitlisted_students\"]]\n",
    "y = results_table[\"proportional_size\"]\n",
    "\n",
    "xtrain, xtest,ytrain, ytest = train_test_split(x,y,test_size=0.3, random_state=5)\n",
    "slr = LinearRegression()\n",
    "slr.fit(xtrain,ytrain)\n",
    "print(slr.score(xtest,ytest))"
   ]
  },
  {
   "cell_type": "code",
   "execution_count": 95,
   "id": "fd928b38-25bd-43af-8bb7-ffd69b250b91",
   "metadata": {},
   "outputs": [
    {
     "name": "stdout",
     "output_type": "stream",
     "text": [
      "0.14614332615699155\n"
     ]
    }
   ],
   "source": [
    "x = program_results_table.loc[:,[\"semester\",\"course_code\"]]\n",
    "y = program_results_table[\"number_of_students\"]\n",
    "\n",
    "xtrain, xtest,ytrain, ytest = train_test_split(x,y,test_size=0.3, random_state=5)\n",
    "slr = LinearRegression()\n",
    "slr.fit(xtrain,ytrain)\n",
    "print(slr.score(xtest,ytest))"
   ]
  },
  {
   "cell_type": "code",
   "execution_count": 101,
   "id": "5ccd69c4-1b09-4f74-a5cf-f6dd4cd37b1c",
   "metadata": {},
   "outputs": [
    {
     "name": "stdout",
     "output_type": "stream",
     "text": [
      "0.7382198952879581\n"
     ]
    }
   ],
   "source": [
    "x = program_results_table.loc[:,[\"program\",\"course_code\"]]\n",
    "y = program_results_table[\"number_of_students\"]\n",
    "y = np.where(y > 0, 1, 0)\n",
    "\n",
    "xtrain, xtest,ytrain, ytest = train_test_split(x,y,test_size=0.3, random_state=5)\n",
    "slr = LogisticRegression()\n",
    "slr.fit(xtrain,ytrain)\n",
    "print(slr.score(xtest,ytest))"
   ]
  },
  {
   "cell_type": "markdown",
   "id": "d5a477d7-b1a2-4a95-bd84-2a492871e2c7",
   "metadata": {},
   "source": [
    "Here, I tackle class categorization using Random Forest Regression"
   ]
  },
  {
   "cell_type": "code",
   "execution_count": 147,
   "id": "8dad583e-2d56-467b-a95e-b8aa7a702550",
   "metadata": {},
   "outputs": [
    {
     "name": "stdout",
     "output_type": "stream",
     "text": [
      "47.61738885500118\n"
     ]
    }
   ],
   "source": [
    "x = program_results_table.loc[:,[\"semester\",\"program\",\"course_code\"]]\n",
    "y = program_results_table[\"number_of_students\"]\n",
    "#y = numpy.where(y > 0, 1, 0)\n",
    "\n",
    "xtrain, xtest,ytrain, ytest = train_test_split(x,y,test_size=0.3, random_state=5)\n",
    "rfr = RandomForestRegressor(max_depth=4,n_estimators=25)\n",
    "rfr.fit(xtrain,ytrain)\n",
    "#pred_vals = rfr.predict(xtrain)\n",
    "#print(round(np.mean(abs(pred_vals - ytrain)),2)*100)\n",
    "pred_vals = rfr.predict(xtest)\n",
    "#print(accuracy_score(pred_vals, ytest))\n",
    "print(mean_squared_error(pred_vals,ytest))"
   ]
  },
  {
   "cell_type": "code",
   "execution_count": 148,
   "id": "591c9052-637f-4be4-9428-adc47f3328f6",
   "metadata": {},
   "outputs": [],
   "source": [
    "export_graphviz(rfr.estimators_[3], out_file='TreeReg.dot', feature_names = xtrain.columns)\n",
    "(grph, ) = pydot.graph_from_dot_file('TreeReg.dot')\n",
    "grph.write_png('TreeReg.png')"
   ]
  },
  {
   "cell_type": "markdown",
   "id": "c98bace1-79f3-4c29-a7fb-cda3777058d7",
   "metadata": {},
   "source": [
    "Here, I rexamine Logistic Regression by identifying the different class categorization"
   ]
  },
  {
   "cell_type": "code",
   "execution_count": 426,
   "id": "236b1bd0-a7b9-4aaf-826e-2aaf4c9c9f01",
   "metadata": {},
   "outputs": [],
   "source": [
    "program_results_table = program_results_table.loc[:,[\"program\",\"course_code\",\"sect_id\",\"number_of_students\",\"percentage_international\",\"number_of_waitlisted_students\",\"total_size\"]]\n",
    "program_results_table[\"class_categorization\"] = program_results_table[\"total_size\"]+program_results_table[\"number_of_waitlisted_students\"]-program_results_table[\"number_of_students\"]\n",
    "program_results_table = program_results_table.loc[:,[\"program\",\"course_code\",\"sect_id\",\"percentage_international\",\"class_categorization\"]]"
   ]
  },
  {
   "cell_type": "code",
   "execution_count": 427,
   "id": "ec36e968-396a-472f-a55e-be19afa413dd",
   "metadata": {},
   "outputs": [],
   "source": [
    "program_results_table[\"class_categorization\"] = np.where((program_results_table[\"class_categorization\"] > 0), 2, \n",
    "                                                         np.where(program_results_table[\"class_categorization\"] == 0,1,0))"
   ]
  },
  {
   "cell_type": "code",
   "execution_count": 428,
   "id": "2abec602-6220-4ae7-97fe-c0dd7b078283",
   "metadata": {},
   "outputs": [
    {
     "name": "stdout",
     "output_type": "stream",
     "text": [
      "0.01555352758206463\n"
     ]
    }
   ],
   "source": [
    "x = program_results_table.loc[:,[\"program\",\"course_code\",\"sect_id\",\"percentage_international\"]]\n",
    "y = program_results_table[\"class_categorization\"]\n",
    "\n",
    "xtrain, xtest,ytrain, ytest = train_test_split(x,y,test_size=0.3, random_state=5)\n",
    "slr = LinearRegression()\n",
    "slr.fit(xtrain,ytrain)\n",
    "print(slr.score(xtest,ytest))"
   ]
  }
 ],
 "metadata": {
  "environment": {
   "kernel": "python3",
   "name": "common-cpu.m103",
   "type": "gcloud",
   "uri": "gcr.io/deeplearning-platform-release/base-cpu:m103"
  },
  "kernelspec": {
   "display_name": "Python 3",
   "language": "python",
   "name": "python3"
  },
  "language_info": {
   "codemirror_mode": {
    "name": "ipython",
    "version": 3
   },
   "file_extension": ".py",
   "mimetype": "text/x-python",
   "name": "python",
   "nbconvert_exporter": "python",
   "pygments_lexer": "ipython3",
   "version": "3.7.12"
  }
 },
 "nbformat": 4,
 "nbformat_minor": 5
}
