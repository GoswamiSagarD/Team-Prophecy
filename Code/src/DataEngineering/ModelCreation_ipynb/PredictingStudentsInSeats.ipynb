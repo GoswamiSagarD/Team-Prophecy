{
 "cells": [
  {
   "cell_type": "code",
   "execution_count": 203,
   "id": "553e5ced-1769-4ea0-86a0-5575e35e2030",
   "metadata": {
    "tags": []
   },
   "outputs": [],
   "source": [
    "import sqlite3\n",
    "import pandas as pd\n",
    "import os\n",
    "import copy\n",
    "pd.options.mode.chained_assignment = None"
   ]
  },
  {
   "cell_type": "code",
   "execution_count": 204,
   "id": "6809bb5f-cd7b-4d51-a67b-b494ad69ab7e",
   "metadata": {},
   "outputs": [
    {
     "name": "stdout",
     "output_type": "stream",
     "text": [
      "/home/jupyter/Team-Prophecy/Data/02_processed/intermediate.db\n"
     ]
    }
   ],
   "source": [
    "process_path = os.path.join(os.sep+\"home\"+os.sep+\"jupyter\"+os.sep+\"Team-Prophecy\",\"Data\",\"02_processed\",\"intermediate.db\")\n",
    "print(process_path)"
   ]
  },
  {
   "cell_type": "code",
   "execution_count": 205,
   "id": "2c51014b-08bb-4006-92a9-38ca7b97e93b",
   "metadata": {},
   "outputs": [],
   "source": [
    "process_connection = sqlite3.connect(process_path)"
   ]
  },
  {
   "cell_type": "code",
   "execution_count": 206,
   "id": "454dc8be-ece6-4e97-b517-e8e2a8d1f28a",
   "metadata": {},
   "outputs": [],
   "source": [
    "inputs = {    \n",
    "    'prog_desc'     : \"All\",\n",
    "    'courses'       : \"All\",\n",
    "    'mod'           : \"F2F\", #F2F\n",
    "    'visa'          : \"F1 Visa\", #F1 Visa\n",
    "    'required_only' : True,\n",
    "    'ExpN_eat'      : 150\n",
    "}"
   ]
  },
  {
   "cell_type": "code",
   "execution_count": 207,
   "id": "5319e14e-9620-4eab-8d72-c1e7dd82045e",
   "metadata": {},
   "outputs": [],
   "source": [
    "# Building the model parameters\n",
    "model_params = {\n",
    "    'prog_desc'         : inputs['prog_desc'],\n",
    "    'courses'           : inputs['courses'],\n",
    "    'mod'               : inputs['mod'],\n",
    "    'visa'              : inputs['visa'],\n",
    "    'ExpN_eat'          : inputs['ExpN_eat'],\n",
    "    'enr_hist'          : 4 if inputs['visa'] == 'F1 Visa' else 8,\n",
    "    'filters'           : {\n",
    "        'prog_filter'   : inputs['prog_desc'] != 'All',\n",
    "        'course_filter' : inputs['courses'] != 'All',\n",
    "        'visa_filter'   : inputs['visa'] != 'combined',\n",
    "        'required_only' : inputs['required_only']\n",
    "    },\n",
    "    'groupby'           : {\n",
    "        'mod_groupby'   : inputs['mod'] != 'combined'\n",
    "    }\n",
    "}"
   ]
  },
  {
   "cell_type": "code",
   "execution_count": 208,
   "id": "5f3e2488-240d-42f8-8d72-9f4e26efe1f9",
   "metadata": {},
   "outputs": [],
   "source": [
    "def list_to_str(l):\n",
    "    \"\"\"\n",
    "    Create a string in the format of \"('a', 'b', 'c', 'd')\" from list ['a', 'b', 'c', 'd']\n",
    "    \"\"\"\n",
    "    return str(tuple(l))"
   ]
  },
  {
   "cell_type": "code",
   "execution_count": 209,
   "id": "4fafd44b-af00-479a-8226-65628ae12b88",
   "metadata": {},
   "outputs": [],
   "source": [
    "student_stat_query = \"\"\"\n",
    "    SELECT rs.reg_term_code, rs.reg_stu_id, crs, rs.sect_id, rs.reg_new_ret_stu, rs.reg_final_status\n",
    "    FROM registration_status rs\n",
    "    WHERE 1=1 \n",
    "\"\"\"\n",
    "student_details_query = \"\"\"\n",
    "    SELECT stu_admit_term_code, stu_college, stu_deg_level, stu_dept, stu_id, stu_res, stu_prog, stu_visa, stu_bam\n",
    "    FROM student_details \n",
    "    WHERE 1=1 \n",
    "\"\"\"\n",
    "\n",
    "program_course_offerings = \"\"\"\n",
    "    SELECT * FROM PROGRAM_COURSE_OFFERINGS \n",
    "\"\"\"\n",
    "\n",
    "# Program Filter\n",
    "if model_params['filters']['prog_filter']:\n",
    "    student_details_query += f\"AND stu_prog = '{model_params['prog_desc']}' \"\n",
    "\n",
    "# Course Filter\n",
    "if model_params['filters']['course_filter']:\n",
    "    student_stat_query += f\"AND crs IN {list_to_str(model_params['courses'])} \"\n",
    "\n",
    "# Visa Filter\n",
    "if model_params['filters']['visa_filter']:\n",
    "    student_details_query += f\"AND stu_visa = '{model_params['visa']}' \""
   ]
  },
  {
   "cell_type": "code",
   "execution_count": 210,
   "id": "7c4c8140-00d9-4649-8086-34b56a5fa928",
   "metadata": {},
   "outputs": [],
   "source": [
    "student_stat = pd.DataFrame(process_connection.execute(student_stat_query).fetchall(),columns=[\"reg_term_code\", \"student_id\", \"crs\", \"sect_id\", \"returning_student\", \"reg_status\"])\n",
    "\n",
    "#WHERE reg_final_status IN ('W','R')\n",
    "#GROUP BY reg_term_code, crs, sect_id, reg_final_status\n",
    "\n",
    "student_details = pd.DataFrame(process_connection.execute(student_details_query).fetchall(),columns=[\"reg_term_code\",\"stu_college\",\"stu_deg_level\",\"stu_dept\",\"student_id\",\n",
    "                                                                                                     \"stu_res\",\"stu_prog\",\"stu_visa\",\"stu_bam\"])\n",
    "\n",
    "pco_df = pd.DataFrame(process_connection.execute(program_course_offerings),columns=[\"stu_prog\",\"crs\",\"required\"])\n",
    "\n",
    "total_stat = student_stat.merge(student_details, on=[\"reg_term_code\",\"student_id\"], how=\"inner\").fillna(0)\n",
    "total_stat = total_stat.merge(pco_df, on=[\"stu_prog\",\"crs\"])"
   ]
  },
  {
   "cell_type": "code",
   "execution_count": 211,
   "id": "266d0c8d-a010-4d55-a629-8f29438d8f9e",
   "metadata": {},
   "outputs": [],
   "source": [
    "required_dictionary = pco_df.drop_duplicates().set_index([\"stu_prog\",\"crs\"])[\"required\"].to_dict()"
   ]
  },
  {
   "cell_type": "code",
   "execution_count": 222,
   "id": "3d1d9d33-5889-4c58-b04a-dfabe2407779",
   "metadata": {},
   "outputs": [],
   "source": [
    "#required_dictionary"
   ]
  },
  {
   "cell_type": "code",
   "execution_count": 213,
   "id": "c3b6ec47-8bed-466d-8167-b2f474e6270b",
   "metadata": {},
   "outputs": [],
   "source": [
    "if model_params['filters']['required_only']:\n",
    "    total_stat = total_stat.loc[total_stat[\"required\"] == 1,:]"
   ]
  },
  {
   "cell_type": "code",
   "execution_count": 214,
   "id": "3b9a4966-c1f3-4cda-b8c9-e1de7a48e6d1",
   "metadata": {},
   "outputs": [],
   "source": [
    "total_student_population = total_stat[[\"reg_term_code\"]].groupby(\"reg_term_code\").count().reset_index()"
   ]
  },
  {
   "cell_type": "code",
   "execution_count": 215,
   "id": "e63becae-0072-4c09-9fc9-c6c8abb41775",
   "metadata": {},
   "outputs": [],
   "source": [
    "reg_term_values = dict(total_stat.groupby([\"reg_term_code\"])[\"reg_term_code\"].count())"
   ]
  },
  {
   "cell_type": "code",
   "execution_count": 216,
   "id": "c8b110b4-794c-42a5-9393-6a22a03ba818",
   "metadata": {},
   "outputs": [],
   "source": [
    "#program_limit_values = dict(total_stat.groupby([\"stu_prog\"])[\"stu_prog\"].count())"
   ]
  },
  {
   "cell_type": "code",
   "execution_count": 218,
   "id": "2bae5467-c226-44d9-bb1f-85a809c39830",
   "metadata": {},
   "outputs": [],
   "source": [
    "req_courses_context = total_stat.loc[total_stat[\"reg_status\"] == \"R\",[\"reg_term_code\",\"stu_prog\",\"crs\",\"sect_id\",\"reg_status\"]].groupby([\"reg_term_code\",\"stu_prog\",\"crs\",\"sect_id\"]).count().reset_index()\n",
    "#nonregistered_courses = total_courses.loc[total_courses[\"reg_status\"] != \"R\",[\"reg_term_code\",\"stu_prog\",\"crs\",\"sect_id\",\"reg_status\"]].groupby([\"reg_term_code\",\"stu_prog\",\"crs\",\"sect_id\"]).count().reset_index()"
   ]
  },
  {
   "cell_type": "markdown",
   "id": "25a469fd-9c75-47f3-ae11-37474b9b2cb9",
   "metadata": {},
   "source": [
    "Keep in mind: Our registered values will be dependent on what's in our subset."
   ]
  },
  {
   "cell_type": "code",
   "execution_count": 19,
   "id": "c3141262-ed3f-4117-8dcc-c1feb9ddff91",
   "metadata": {},
   "outputs": [],
   "source": [
    "#req_courses_context = registered_courses.merge(ref_course[[\"reg_term_code\", \"crs\",\"sect_id\", \"cum_total_enrollment\"]], on=[\"reg_term_code\", \"crs\",\"sect_id\"], how=\"inner\").drop_duplicates()\n",
    "#req_courses_context.loc[req_courses_context[\"cum_total_enrollment\"] < req_courses_context[\"reg_status\"],[\"cum_total_enrollment\"]]  = req_courses_context[\"reg_status\"]\n",
    "#req_courses_context.columns"
   ]
  },
  {
   "cell_type": "code",
   "execution_count": 219,
   "id": "26a6a56f-b350-42a9-9868-a13fc4263ad3",
   "metadata": {},
   "outputs": [],
   "source": [
    "reg_term_courses_context = req_courses_context.groupby([\"reg_term_code\"])"
   ]
  },
  {
   "cell_type": "code",
   "execution_count": 220,
   "id": "5b2e4529-d7aa-4244-9331-685194d3dd79",
   "metadata": {},
   "outputs": [],
   "source": [
    "from ortools.linear_solver import pywraplp\n",
    "from itertools import chain"
   ]
  },
  {
   "cell_type": "markdown",
   "id": "8d8fa190-a2c3-4de7-a1a3-753e4e18e3ba",
   "metadata": {},
   "source": [
    "What we're going to do\n",
    "-> One thing will be a script file that runs automatically behind the scenes\n",
    "-> In the frontend, what we're going to do is define an input dictionary\n",
    "    This is the code that we want: Only international students, and we'll have "
   ]
  },
  {
   "cell_type": "code",
   "execution_count": 41,
   "id": "832b88b4-db81-4e9f-80bf-8562f20cf7ac",
   "metadata": {
    "tags": []
   },
   "outputs": [],
   "source": [
    "all_semesters = list(reg_term_values.keys())\n",
    "#program_limit_values <- included because we need a way to constraint students\n",
    "all_pcs_list = list(req_courses_context[[\"stu_prog\",\"crs\",\"sect_id\"]].drop_duplicates().itertuples(index=False,name=None))\n",
    "all_pcs_dict = {}\n",
    "#References what program contains which class\n",
    "pc_dict = {}\n",
    "cs_dict = {}\n",
    "for t_pcs in all_pcs_list:\n",
    "    if t_pcs[0] not in all_pcs_dict:\n",
    "        pc_dict[t_pcs[0]] = []\n",
    "        all_pcs_dict[t_pcs[0]] = {}\n",
    "    pc_dict[t_pcs[0]].append(t_pcs[1])\n",
    "    if t_pcs[1] not in all_pcs_dict[t_pcs[0]]:\n",
    "        cs_dict[t_pcs[1]] = []\n",
    "        all_pcs_dict[t_pcs[0]][t_pcs[1]] = []\n",
    "    cs_dict[t_pcs[1]].append(t_pcs[2])\n",
    "    all_pcs_dict[t_pcs[0]][t_pcs[1]].append(t_pcs[2])"
   ]
  },
  {
   "cell_type": "code",
   "execution_count": 137,
   "id": "12b4efd2-d939-4058-9a79-e612b9aeae09",
   "metadata": {},
   "outputs": [],
   "source": [
    "#req_courses_context\n",
    "#req_courses_context[[\"reg_term_code\",\"stu_prog\",\"crs\",\"sect_id\",\"reg_status\"]]"
   ]
  },
  {
   "cell_type": "code",
   "execution_count": 43,
   "id": "c70a36d4-ec48-4c5f-9fb3-5e1a73053bf9",
   "metadata": {},
   "outputs": [
    {
     "data": {
      "text/plain": [
       "['EC-MS-AIT', 'EC-MS-CEIE', 'EC-MS-DAEN', 'EC-MS-ISYS']"
      ]
     },
     "execution_count": 43,
     "metadata": {},
     "output_type": "execute_result"
    }
   ],
   "source": [
    "req_courses_context[\"stu_prog\"].drop_duplicates().tolist()"
   ]
  },
  {
   "cell_type": "code",
   "execution_count": 25,
   "id": "62018d6f-609c-400f-b3dc-2ad3f9b93156",
   "metadata": {},
   "outputs": [],
   "source": [
    "#Constraints\n",
    "#total_student_population\n",
    "#program_limit_values"
   ]
  },
  {
   "cell_type": "markdown",
   "id": "bd03c019-d841-4f99-a5c2-05920cc928be",
   "metadata": {},
   "source": [
    "Fall 2020\n",
    "150 -> 80 Program_1, 40 Program_2, 30 Program_3\n",
    "50\n",
    "1 student -> 15 credits = 3-4 classes"
   ]
  },
  {
   "cell_type": "code",
   "execution_count": 124,
   "id": "94362ba5-e7c5-4f4e-ae04-c8f2f897ca50",
   "metadata": {},
   "outputs": [],
   "source": [
    "req_mean = req_courses_context.groupby([\"crs\",\"sect_id\"]).mean(\"reg_status\").reset_index()\n",
    "req_med = req_courses_context.groupby([\"crs\",\"sect_id\"]).median(\"reg_status\").reset_index()\n",
    "req_mean = req_mean.rename(columns={\"reg_status\": \"mean\"})\n",
    "req_med = req_med.rename(columns={\"reg_status\": \"median\"})\n",
    "req_avg = req_mean.merge(req_med,on=[\"crs\",\"sect_id\"],how=\"inner\")\n",
    "req_avg[\"avg\"] = round(req_avg[[\"mean\",\"median\"]].max(axis=1))\n",
    "req_avg = req_avg[[\"crs\",\"sect_id\",\"avg\"]]"
   ]
  },
  {
   "cell_type": "code",
   "execution_count": 125,
   "id": "1869c447-2bbe-4207-949e-76a496ac2d22",
   "metadata": {},
   "outputs": [],
   "source": [
    "course_sect_avg_dict = req_avg.set_index([\"crs\",\"sect_id\"])[\"avg\"].to_dict()"
   ]
  },
  {
   "cell_type": "code",
   "execution_count": 126,
   "id": "17bb99ed-a663-413f-a498-2b9794395974",
   "metadata": {},
   "outputs": [],
   "source": [
    "req_mean = req_courses_context.groupby([\"crs\"]).mean(\"reg_status\").reset_index()\n",
    "req_med = req_courses_context.groupby([\"crs\"]).median(\"reg_status\").reset_index()\n",
    "req_mean = req_mean.rename(columns={\"reg_status\": \"mean\"})\n",
    "req_med = req_med.rename(columns={\"reg_status\": \"median\"})\n",
    "req_avg = req_mean.merge(req_med,on=[\"crs\"],how=\"inner\")\n",
    "req_avg[\"avg\"] = round(req_avg[[\"mean\",\"median\"]].max(axis=1))\n",
    "req_avg = req_avg[[\"crs\",\"avg\"]]"
   ]
  },
  {
   "cell_type": "code",
   "execution_count": 127,
   "id": "d7f6f251-27a5-4f98-a5f1-40f7699156f7",
   "metadata": {},
   "outputs": [],
   "source": [
    "course_avg_dict = req_avg.set_index([\"crs\"])[\"avg\"].to_dict()"
   ]
  },
  {
   "cell_type": "code",
   "execution_count": 136,
   "id": "4b6d7804-d90a-444d-a59d-4fccae97fe5f",
   "metadata": {},
   "outputs": [],
   "source": [
    "def modelSolve(a_sem,cxt_grp,storage_obj,prior_student_info):\n",
    "    #WE HAVE RATIOS HERE IN CASE WE NEED TO DO MORE ANALYSIS OR MATCH IT TO 1\n",
    "    #\n",
    "    #These will be our constraints\n",
    "    CAP_s = model_params['ExpN_eat']\n",
    "    \n",
    "    cxt_grp[\"reg_status\"] = cxt_grp[\"reg_status\"]/reg_term_values[a_sem]\n",
    "    #total_students_list = cxt_grp[\"cum_total_enrollment\"]/reg_term_values[a_sem]\n",
    "    pcs_weighting_ratio = cxt_grp[[\"reg_term_code\",\"stu_prog\",\"crs\",\"sect_id\",\"reg_status\"]].set_index([\"crs\"])[\"reg_status\"].to_dict()\n",
    "    pcs_weighting_ratio = {k : v for k,v in pcs_weighting_ratio.items()} #\"(\"+\",\".join(k)+\")\"\n",
    "    #Now that we have the ratios, we can begin with the objective function.\n",
    "    #\n",
    "    program_ref = {}\n",
    "    course_ref = {}\n",
    "    \n",
    "    program_w_ref = {}\n",
    "    course_w_ref = {}\n",
    "    course_w_ref = {}\n",
    "    \n",
    "    course_student_ref = {}\n",
    "    course_student_w_ref = {}\n",
    "    \n",
    "    #Total Decision and Constant Variables Used\n",
    "    decision_vars = {}\n",
    "    const_vars = {}\n",
    "    \n",
    "    #Student ID Decision Variables\n",
    "    x_decision_vars = {}\n",
    "    w_decision_vars = {}\n",
    "    a_decision_vars = {}\n",
    "    b_decision_vars = {}\n",
    "    \n",
    "    solver = pywraplp.Solver.CreateSolver('SCIP')\n",
    "    if not solver:\n",
    "        print(\"Cannot get solver\")\n",
    "        return\n",
    "        \n",
    "    cs_l = cxt_grp[\"crs\"].drop_duplicates().tolist()\n",
    "\n",
    "    #\n",
    "    s_inf = solver.infinity()\n",
    "    \n",
    "    all_cs = list(cxt_grp[[\"crs\",\"sect_id\"]].drop_duplicates().itertuples(index=False,name=None))\n",
    "    \n",
    "    for cs in all_cs:\n",
    "        if cs[0] not in course_ref.keys():\n",
    "            course_ref[cs[0]] = []\n",
    "            course_w_ref[cs[0]] = []\n",
    "            \n",
    "        if cs[0] not in course_student_ref.keys():\n",
    "            course_student_ref[cs[0]] = {}\n",
    "            course_student_w_ref[cs[0]] = {}\n",
    "        \n",
    "        for student_id in range(1,CAP_s):\n",
    "            #We'll have two primary decision variables: Waitlist and Student\n",
    "            #This will be a minimization function for our purposes, as we want all students\n",
    "            # to be included.\n",
    "            \n",
    "            x_name = f\"x({student_id},{a_sem})\"\n",
    "            w_name = f\"w({student_id},{a_sem})\"\n",
    "            \n",
    "            #Declares the decision variable\n",
    "            \n",
    "            \n",
    "            decision_vars[x_name] = solver.IntVar(0,1,x_name)\n",
    "            decision_vars[w_name] = solver.IntVar(0,1,w_name)\n",
    "            \n",
    "            if student_id not in x_decision_vars:\n",
    "                x_decision_vars[student_id] = []\n",
    "            if student_id not in w_decision_vars:\n",
    "                w_decision_vars[student_id] = []\n",
    "            x_decision_vars[student_id].append(decision_vars[x_name])\n",
    "            w_decision_vars[student_id].append(decision_vars[w_name])\n",
    "            \n",
    "            program_ref[cs[0]].append(decision_vars[x_name])\n",
    "            program_w_ref[cs[0]].append(decision_vars[w_name])\n",
    "            \n",
    "            \n",
    "            course_ref[cs[1]].append(decision_vars[x_name])\n",
    "            course_w_ref[cs[1]].append(decision_vars[w_name])\n",
    "            \n",
    "            course_student_ref[cs[1]][student_id] = decision_vars[x_name]\n",
    "            course_student_w_ref[cs[1]][student_id] = decision_vars[w_name]\n",
    "    \n",
    "        const_vars[f\"01_course_with_w_{cs}_constr_ratio\"] = solver.Add(pcs_weighting_ratio[cs]*solver.Sum(course_ref[cs]) <= course_avg_dict[cs] + solver.Sum(course_w_ref[cs]), name=f\"01_course_with_w_{cs}_constr_ratio\")\n",
    "        const_vars[f\"02_course_{cs}_constr\"] = solver.Add(solver.Sum(course_ref[cs]) <= course_avg_dict[cs], name=f\"02_course_with_w_{cs}_constr\")\n",
    "        for student_id in range(1,reg_term_values[a_sem]): \n",
    "            const_vars[f\"03_course_{cs}_sections_waitlist_constr\"] = solver.Add(course_student_w_ref[cs][student_id] <= 1, name=f\"03_course_{cs}_sections_waitlist_constr\")\n",
    "            const_vars[f\"04_course_{cs}_sections_constr\"] = solver.Add(course_student_ref[cs][student_id] <= 1, name=f\"04_course_{cs}_sections_constr\")\n",
    "            \n",
    "            const_vars[f\"05_one_regstat_{student_id}\"] = solver.Add(course_student_ref[cs][student_id] + course_student_w_ref[cs][student_id] == 1, name=f\"05_one_regstat_{student_id}\")\n",
    "            \n",
    "            a_name = f\"a({cs},{a_sem})\"\n",
    "            b_name = f\"b({cs},{a_sem})\"\n",
    "            a_decision_vars[a_name] = solver.IntVar(0,s_inf,a_name)\n",
    "            b_decision_vars[b_name] = solver.IntVar(0,s_inf,b_name)\n",
    "            \n",
    "            const_vars[f\"06_student_bounds_{student_id}\"] = solver.Add(solver.Sum(x_decision_vars[student_id]) <= 3, name=f\"06_student_bounds_{student_id}\")\n",
    "            #const_vars[f\"03_student_w_bounds_{student_id}\"] = solver.Add(solver.Sum(w_decision_vars[student_id]) <= 3, name=f\"03_student_bounds_w_{student_id}\")\n",
    "        const_vars[f\"07_organization_course_{cs}_const\"] = solver.Add(solver.Sum([course_student_ref[cs][student_id] for student_id in range(1,reg_term_values[a_sem])]) == a_decision_vars[a_name],name=f\"07_organization_course_{cs}_const\")\n",
    "        const_vars[f\"08_organization_wait_course_{cs}_const\"] = solver.Add(solver.Sum([course_student_w_ref[cs][student_id] for student_id in range(1,reg_term_values[a_sem])]) == b_decision_vars[b_name],name=f\"08_organization_wait_course_{cs}_const\")\n",
    "        \n",
    "    \n",
    "    # Minimization function \n",
    "    # -> For later * a_decision_vars[student_id]\n",
    "    \n",
    "    solver.Minimize(solver.Sum([solver.Sum(w_decision_vars[student_id])\n",
    "                                for student_id in range(1,reg_term_values[a_sem])]))\n",
    "    solver.Solve()"
   ]
  },
  {
   "cell_type": "code",
   "execution_count": 69,
   "id": "c22d48ba-dd85-4c67-9392-b9160fa1c965",
   "metadata": {},
   "outputs": [
    {
     "ename": "KeyboardInterrupt",
     "evalue": "",
     "output_type": "error",
     "traceback": [
      "\u001b[0;31m---------------------------------------------------------------------------\u001b[0m",
      "\u001b[0;31mKeyboardInterrupt\u001b[0m                         Traceback (most recent call last)",
      "\u001b[0;32m/var/tmp/ipykernel_3233/1332246713.py\u001b[0m in \u001b[0;36m<module>\u001b[0;34m\u001b[0m\n\u001b[1;32m      5\u001b[0m     \u001b[0mprg_list\u001b[0m \u001b[0;34m=\u001b[0m \u001b[0mcxt_grp\u001b[0m\u001b[0;34m[\u001b[0m\u001b[0;34m\"stu_prog\"\u001b[0m\u001b[0;34m]\u001b[0m\u001b[0;34m.\u001b[0m\u001b[0mdrop_duplicates\u001b[0m\u001b[0;34m(\u001b[0m\u001b[0;34m)\u001b[0m\u001b[0;34m.\u001b[0m\u001b[0mtolist\u001b[0m\u001b[0;34m(\u001b[0m\u001b[0;34m)\u001b[0m\u001b[0;34m\u001b[0m\u001b[0;34m\u001b[0m\u001b[0m\n\u001b[1;32m      6\u001b[0m     \u001b[0;32mfor\u001b[0m \u001b[0mp\u001b[0m \u001b[0;32min\u001b[0m \u001b[0mprg_list\u001b[0m\u001b[0;34m:\u001b[0m\u001b[0;34m\u001b[0m\u001b[0;34m\u001b[0m\u001b[0m\n\u001b[0;32m----> 7\u001b[0;31m         \u001b[0mmodelSolve\u001b[0m\u001b[0;34m(\u001b[0m\u001b[0ma_sem\u001b[0m\u001b[0;34m,\u001b[0m\u001b[0mp\u001b[0m\u001b[0;34m)\u001b[0m\u001b[0;34m\u001b[0m\u001b[0;34m\u001b[0m\u001b[0m\n\u001b[0m",
      "\u001b[0;32m/var/tmp/ipykernel_3233/1227994670.py\u001b[0m in \u001b[0;36mmodelSolve\u001b[0;34m(a_sem, p)\u001b[0m\n\u001b[1;32m    108\u001b[0m             \u001b[0mb_decision_vars\u001b[0m\u001b[0;34m[\u001b[0m\u001b[0mb_name\u001b[0m\u001b[0;34m]\u001b[0m \u001b[0;34m=\u001b[0m \u001b[0msolver\u001b[0m\u001b[0;34m.\u001b[0m\u001b[0mIntVar\u001b[0m\u001b[0;34m(\u001b[0m\u001b[0;36m0\u001b[0m\u001b[0;34m,\u001b[0m\u001b[0ms_inf\u001b[0m\u001b[0;34m,\u001b[0m\u001b[0mb_name\u001b[0m\u001b[0;34m)\u001b[0m\u001b[0;34m\u001b[0m\u001b[0;34m\u001b[0m\u001b[0m\n\u001b[1;32m    109\u001b[0m \u001b[0;34m\u001b[0m\u001b[0m\n\u001b[0;32m--> 110\u001b[0;31m             \u001b[0mconst_vars\u001b[0m\u001b[0;34m[\u001b[0m\u001b[0;34mf\"03_student_bounds_{student_id}\"\u001b[0m\u001b[0;34m]\u001b[0m \u001b[0;34m=\u001b[0m \u001b[0msolver\u001b[0m\u001b[0;34m.\u001b[0m\u001b[0mAdd\u001b[0m\u001b[0;34m(\u001b[0m\u001b[0msolver\u001b[0m\u001b[0;34m.\u001b[0m\u001b[0mSum\u001b[0m\u001b[0;34m(\u001b[0m\u001b[0mx_decision_vars\u001b[0m\u001b[0;34m[\u001b[0m\u001b[0mstudent_id\u001b[0m\u001b[0;34m]\u001b[0m\u001b[0;34m)\u001b[0m \u001b[0;34m<=\u001b[0m \u001b[0;36m3\u001b[0m\u001b[0;34m,\u001b[0m \u001b[0mname\u001b[0m\u001b[0;34m=\u001b[0m\u001b[0;34mf\"03_student_bounds_{student_id}\"\u001b[0m\u001b[0;34m)\u001b[0m\u001b[0;34m\u001b[0m\u001b[0;34m\u001b[0m\u001b[0m\n\u001b[0m\u001b[1;32m    111\u001b[0m             \u001b[0;31m#const_vars[f\"03_student_w_bounds_{student_id}\"] = solver.Add(solver.Sum(w_decision_vars[student_id]) <= 3, name=f\"03_student_bounds_w_{student_id}\")\u001b[0m\u001b[0;34m\u001b[0m\u001b[0;34m\u001b[0m\u001b[0;34m\u001b[0m\u001b[0m\n\u001b[1;32m    112\u001b[0m         \u001b[0mconst_vars\u001b[0m\u001b[0;34m[\u001b[0m\u001b[0;34mf\"04_organization_course_{cs}_const\"\u001b[0m\u001b[0;34m]\u001b[0m \u001b[0;34m=\u001b[0m \u001b[0msolver\u001b[0m\u001b[0;34m.\u001b[0m\u001b[0mAdd\u001b[0m\u001b[0;34m(\u001b[0m\u001b[0msolver\u001b[0m\u001b[0;34m.\u001b[0m\u001b[0mSum\u001b[0m\u001b[0;34m(\u001b[0m\u001b[0;34m[\u001b[0m\u001b[0mcourse_student_ref\u001b[0m\u001b[0;34m[\u001b[0m\u001b[0mcs\u001b[0m\u001b[0;34m]\u001b[0m\u001b[0;34m[\u001b[0m\u001b[0mstudent_id\u001b[0m\u001b[0;34m]\u001b[0m \u001b[0;32mfor\u001b[0m \u001b[0mstudent_id\u001b[0m \u001b[0;32min\u001b[0m \u001b[0mrange\u001b[0m\u001b[0;34m(\u001b[0m\u001b[0;36m1\u001b[0m\u001b[0;34m,\u001b[0m\u001b[0mreg_term_values\u001b[0m\u001b[0;34m[\u001b[0m\u001b[0ma_sem\u001b[0m\u001b[0;34m]\u001b[0m\u001b[0;34m)\u001b[0m\u001b[0;34m]\u001b[0m\u001b[0;34m)\u001b[0m \u001b[0;34m==\u001b[0m \u001b[0ma_decision_vars\u001b[0m\u001b[0;34m[\u001b[0m\u001b[0ma_name\u001b[0m\u001b[0;34m]\u001b[0m\u001b[0;34m,\u001b[0m\u001b[0mname\u001b[0m\u001b[0;34m=\u001b[0m\u001b[0;34mf\"04_organization_course_{cs}_const\"\u001b[0m\u001b[0;34m)\u001b[0m\u001b[0;34m\u001b[0m\u001b[0;34m\u001b[0m\u001b[0m\n",
      "\u001b[0;32m/opt/conda/lib/python3.7/site-packages/ortools/linear_solver/pywraplp.py\u001b[0m in \u001b[0;36mAdd\u001b[0;34m(self, constraint, name)\u001b[0m\n\u001b[1;32m    486\u001b[0m           \u001b[0;32mreturn\u001b[0m \u001b[0mself\u001b[0m\u001b[0;34m.\u001b[0m\u001b[0mRowConstraint\u001b[0m\u001b[0;34m(\u001b[0m\u001b[0;36m1\u001b[0m\u001b[0;34m,\u001b[0m \u001b[0;36m1\u001b[0m\u001b[0;34m,\u001b[0m \u001b[0mname\u001b[0m\u001b[0;34m)\u001b[0m\u001b[0;34m\u001b[0m\u001b[0;34m\u001b[0m\u001b[0m\n\u001b[1;32m    487\u001b[0m       \u001b[0;32melse\u001b[0m\u001b[0;34m:\u001b[0m\u001b[0;34m\u001b[0m\u001b[0;34m\u001b[0m\u001b[0m\n\u001b[0;32m--> 488\u001b[0;31m         \u001b[0;32mreturn\u001b[0m \u001b[0mconstraint\u001b[0m\u001b[0;34m.\u001b[0m\u001b[0mExtract\u001b[0m\u001b[0;34m(\u001b[0m\u001b[0mself\u001b[0m\u001b[0;34m,\u001b[0m \u001b[0mname\u001b[0m\u001b[0;34m)\u001b[0m\u001b[0;34m\u001b[0m\u001b[0;34m\u001b[0m\u001b[0m\n\u001b[0m\u001b[1;32m    489\u001b[0m \u001b[0;34m\u001b[0m\u001b[0m\n\u001b[1;32m    490\u001b[0m     \u001b[0;32mdef\u001b[0m \u001b[0mSum\u001b[0m\u001b[0;34m(\u001b[0m\u001b[0mself\u001b[0m\u001b[0;34m,\u001b[0m \u001b[0mexpr_array\u001b[0m\u001b[0;34m)\u001b[0m\u001b[0;34m:\u001b[0m\u001b[0;34m\u001b[0m\u001b[0;34m\u001b[0m\u001b[0m\n",
      "\u001b[0;32m/opt/conda/lib/python3.7/site-packages/ortools/linear_solver/linear_solver_natural_api.py\u001b[0m in \u001b[0;36mExtract\u001b[0;34m(self, solver, name)\u001b[0m\n\u001b[1;32m    251\u001b[0m   \u001b[0;32mdef\u001b[0m \u001b[0mExtract\u001b[0m\u001b[0;34m(\u001b[0m\u001b[0mself\u001b[0m\u001b[0;34m,\u001b[0m \u001b[0msolver\u001b[0m\u001b[0;34m,\u001b[0m \u001b[0mname\u001b[0m\u001b[0;34m=\u001b[0m\u001b[0;34m''\u001b[0m\u001b[0;34m)\u001b[0m\u001b[0;34m:\u001b[0m\u001b[0;34m\u001b[0m\u001b[0;34m\u001b[0m\u001b[0m\n\u001b[1;32m    252\u001b[0m     \u001b[0;34m\"\"\"Performs the actual creation of the constraint object.\"\"\"\u001b[0m\u001b[0;34m\u001b[0m\u001b[0;34m\u001b[0m\u001b[0m\n\u001b[0;32m--> 253\u001b[0;31m     \u001b[0mcoeffs\u001b[0m \u001b[0;34m=\u001b[0m \u001b[0mself\u001b[0m\u001b[0;34m.\u001b[0m\u001b[0m__expr\u001b[0m\u001b[0;34m.\u001b[0m\u001b[0mGetCoeffs\u001b[0m\u001b[0;34m(\u001b[0m\u001b[0;34m)\u001b[0m\u001b[0;34m\u001b[0m\u001b[0;34m\u001b[0m\u001b[0m\n\u001b[0m\u001b[1;32m    254\u001b[0m     \u001b[0mconstant\u001b[0m \u001b[0;34m=\u001b[0m \u001b[0mcoeffs\u001b[0m\u001b[0;34m.\u001b[0m\u001b[0mpop\u001b[0m\u001b[0;34m(\u001b[0m\u001b[0mOFFSET_KEY\u001b[0m\u001b[0;34m,\u001b[0m \u001b[0;36m0.0\u001b[0m\u001b[0;34m)\u001b[0m\u001b[0;34m\u001b[0m\u001b[0;34m\u001b[0m\u001b[0m\n\u001b[1;32m    255\u001b[0m     \u001b[0mlb\u001b[0m \u001b[0;34m=\u001b[0m \u001b[0;34m-\u001b[0m\u001b[0msolver\u001b[0m\u001b[0;34m.\u001b[0m\u001b[0minfinity\u001b[0m\u001b[0;34m(\u001b[0m\u001b[0;34m)\u001b[0m\u001b[0;34m\u001b[0m\u001b[0;34m\u001b[0m\u001b[0m\n",
      "\u001b[0;32m/opt/conda/lib/python3.7/site-packages/ortools/linear_solver/linear_solver_natural_api.py\u001b[0m in \u001b[0;36mGetCoeffs\u001b[0;34m(self)\u001b[0m\n\u001b[1;32m     99\u001b[0m       \u001b[0mcurrent_multiplier\u001b[0m\u001b[0;34m,\u001b[0m \u001b[0mcurrent_expression\u001b[0m \u001b[0;34m=\u001b[0m \u001b[0mstack\u001b[0m\u001b[0;34m.\u001b[0m\u001b[0mpop\u001b[0m\u001b[0;34m(\u001b[0m\u001b[0;34m)\u001b[0m\u001b[0;34m\u001b[0m\u001b[0;34m\u001b[0m\u001b[0m\n\u001b[1;32m    100\u001b[0m       current_expression.AddSelfToCoeffMapOrStack(coeffs, current_multiplier,\n\u001b[0;32m--> 101\u001b[0;31m                                                   stack)\n\u001b[0m\u001b[1;32m    102\u001b[0m     \u001b[0;32mreturn\u001b[0m \u001b[0mcoeffs\u001b[0m\u001b[0;34m\u001b[0m\u001b[0;34m\u001b[0m\u001b[0m\n\u001b[1;32m    103\u001b[0m \u001b[0;34m\u001b[0m\u001b[0m\n",
      "\u001b[0;31mKeyboardInterrupt\u001b[0m: "
     ]
    }
   ],
   "source": [
    "prior_student_info = {}\n",
    "for a_sem in all_semesters:\n",
    "    cxt_grp = reg_term_courses_context.get_group(a_sem)\n",
    "    prg_list = cxt_grp[\"stu_prog\"].drop_duplicates().tolist()\n",
    "    for p in prg_list:\n",
    "        modelSolve(a_sem,cxt_grp.loc[cxt_grp[\"stu_prog\"] == p,:],prior_student_info)\n",
    "        break\n",
    "    break"
   ]
  },
  {
   "cell_type": "code",
   "execution_count": 27,
   "id": "266e931f-1422-434f-a2af-6cf053946934",
   "metadata": {},
   "outputs": [
    {
     "data": {
      "text/plain": [
       "2744"
      ]
     },
     "execution_count": 27,
     "metadata": {},
     "output_type": "execute_result"
    }
   ],
   "source": [
    "solver.NumVariables()"
   ]
  },
  {
   "cell_type": "code",
   "execution_count": 28,
   "id": "deaeb66e-bdcb-4ff7-868f-0416850a6e1a",
   "metadata": {},
   "outputs": [
    {
     "data": {
      "text/plain": [
       "2800"
      ]
     },
     "execution_count": 28,
     "metadata": {},
     "output_type": "execute_result"
    }
   ],
   "source": [
    "solver.NumConstraints()"
   ]
  },
  {
   "cell_type": "code",
   "execution_count": 29,
   "id": "d85b2f01-e976-4af0-99af-3ad829746b91",
   "metadata": {},
   "outputs": [
    {
     "name": "stdout",
     "output_type": "stream",
     "text": [
      "Objective value = 636.0\n"
     ]
    }
   ],
   "source": [
    "print('Objective value =', solver.Objective().Value())"
   ]
  },
  {
   "cell_type": "code",
   "execution_count": 496,
   "id": "2d21eb05-9374-43ce-8c32-2af935eef6cd",
   "metadata": {},
   "outputs": [],
   "source": [
    "#for i in list(x_decision_vars.values()):\n",
    "#    print(f\"{i}\")"
   ]
  },
  {
   "cell_type": "code",
   "execution_count": 30,
   "id": "0d5e4a9b-881a-442e-b0e2-afc343eddc21",
   "metadata": {},
   "outputs": [
    {
     "name": "stdout",
     "output_type": "stream",
     "text": [
      "a(AIT524,202010) -> 2.0\n",
      "a(AIT542,202010) -> 2.0\n",
      "a(AIT602,202010) -> 1.0\n",
      "a(AIT673,202010) -> 1.0\n",
      "a(AIT677,202010) -> 3.0\n",
      "a(AIT716,202010) -> 1.0\n",
      "a(CEIE524,202010) -> 1.0\n",
      "a(CEIE575,202010) -> 3.0\n",
      "a(CEIE576,202010) -> 14.0\n",
      "a(CEIE578,202010) -> 3.0\n",
      "a(CEIE605,202010) -> 13.0\n",
      "a(CEIE679,202010) -> 1.0\n",
      "a(CEIE795,202010) -> 4.0\n",
      "a(DAEN500,202010) -> 1.0\n"
     ]
    }
   ],
   "source": [
    "for i in list(a_decision_vars.values()):\n",
    "    print(f\"{i.name()} -> {i.SolutionValue()}\")"
   ]
  },
  {
   "cell_type": "code",
   "execution_count": 31,
   "id": "47df296c-0303-4c0d-8cf2-2d461c57050c",
   "metadata": {},
   "outputs": [
    {
     "name": "stdout",
     "output_type": "stream",
     "text": [
      "b(AIT524,202010) -> 47.0\n",
      "b(AIT542,202010) -> 47.0\n",
      "b(AIT602,202010) -> 48.0\n",
      "b(AIT673,202010) -> 48.0\n",
      "b(AIT677,202010) -> 46.0\n",
      "b(AIT716,202010) -> 48.0\n",
      "b(CEIE524,202010) -> 48.0\n",
      "b(CEIE575,202010) -> 46.0\n",
      "b(CEIE576,202010) -> 35.0\n",
      "b(CEIE578,202010) -> 46.0\n",
      "b(CEIE605,202010) -> 36.0\n",
      "b(CEIE679,202010) -> 48.0\n",
      "b(CEIE795,202010) -> 45.0\n",
      "b(DAEN500,202010) -> 48.0\n"
     ]
    }
   ],
   "source": [
    "for i in list(b_decision_vars.values()):\n",
    "    print(f\"{i.name()} -> {i.SolutionValue()}\")"
   ]
  },
  {
   "cell_type": "code",
   "execution_count": null,
   "id": "46e31831-9d71-4779-a97b-9016a08c9701",
   "metadata": {},
   "outputs": [],
   "source": []
  },
  {
   "cell_type": "code",
   "execution_count": null,
   "id": "97a60b0a-745d-4855-9292-bdbf4a3db336",
   "metadata": {},
   "outputs": [],
   "source": [
    "process_connection.execute(\"CREATE TABLE results_table(\"\n",
    "                       \"rec_id INTEGER PRIMARY KEY AUTOINCREMENT DEFAULT 0, \"\n",
    "                       \"textual_context TEXT NOT NULL, \"\n",
    "                       \"number_of_students INTEGER NOT NULL\"\n",
    "                       \");\")\n",
    "process_connection.commit()"
   ]
  },
  {
   "cell_type": "markdown",
   "id": "22e2db6d-e2ec-48a0-b77b-aaa602f1878f",
   "metadata": {},
   "source": [
    "**NOW WE CAN GET INTO THE INTERESTING STUFF**"
   ]
  },
  {
   "cell_type": "markdown",
   "id": "cdadc9af-ce85-4379-855b-6e752612afbd",
   "metadata": {},
   "source": [
    "This is for when I have more data; only focusing on what I know for certain given the total number of students available."
   ]
  },
  {
   "cell_type": "code",
   "execution_count": null,
   "id": "fbdf3d5a-59d0-40fd-badd-7e74983df80d",
   "metadata": {},
   "outputs": [],
   "source": [
    "waitlist_courses = total_courses.loc[total_courses[\"reg_status\"] == \"W\",[\"reg_term_code\",\"stu_prog\",\"crs\",\"sect_id\",\"reg_status\"]].groupby([\"reg_term_code\",\"stu_prog\",\"crs\",\"sect_id\"]).count().reset_index()\n",
    "dropped_courses = total_courses.loc[total_courses[\"reg_status\"] == \"D\",[\"reg_term_code\",\"stu_prog\",\"crs\",\"sect_id\",\"reg_status\"]].groupby([\"reg_term_code\",\"stu_prog\",\"crs\",\"sect_id\"]).count().reset_index()"
   ]
  },
  {
   "cell_type": "code",
   "execution_count": null,
   "id": "0767711f-95a0-4c17-a485-b579ab7488e0",
   "metadata": {},
   "outputs": [],
   "source": [
    "waitlist_courses = waitlist_courses.rename(columns={'reg_status':'waitlist'})\n",
    "required_courses = required_courses.rename(columns={'reg_status':'registered'})\n",
    "dropped_courses = dropped_courses.rename(columns={'reg_status':'dropped'})"
   ]
  },
  {
   "cell_type": "code",
   "execution_count": null,
   "id": "7fd4c1c1-0508-4604-8f4a-96ff288b062a",
   "metadata": {},
   "outputs": [],
   "source": [
    "total_courses = required_courses.merge(waitlist_courses, on=[\"reg_term_code\", \"stu_prog\",\"crs\",\"sect_id\"], how=\"left\").fillna(0)\n",
    "total_courses = total_courses.merge(dropped_courses, on=[\"reg_term_code\", \"stu_prog\",\"crs\",\"sect_id\"], how=\"left\").fillna(0)"
   ]
  },
  {
   "cell_type": "code",
   "execution_count": null,
   "id": "87e6fdb4-31d1-419e-9e71-5789d8e407de",
   "metadata": {},
   "outputs": [],
   "source": []
  },
  {
   "cell_type": "code",
   "execution_count": null,
   "id": "24c9aa96-a1a4-4c29-93b3-ae170c1c668f",
   "metadata": {},
   "outputs": [],
   "source": []
  },
  {
   "cell_type": "code",
   "execution_count": null,
   "id": "b7c7204e-633e-4f47-8976-f70fcddda2b6",
   "metadata": {},
   "outputs": [],
   "source": []
  }
 ],
 "metadata": {
  "environment": {
   "kernel": "python3",
   "name": "common-cpu.m103",
   "type": "gcloud",
   "uri": "gcr.io/deeplearning-platform-release/base-cpu:m103"
  },
  "kernelspec": {
   "display_name": "Python 3",
   "language": "python",
   "name": "python3"
  },
  "language_info": {
   "codemirror_mode": {
    "name": "ipython",
    "version": 3
   },
   "file_extension": ".py",
   "mimetype": "text/x-python",
   "name": "python",
   "nbconvert_exporter": "python",
   "pygments_lexer": "ipython3",
   "version": "3.7.12"
  }
 },
 "nbformat": 4,
 "nbformat_minor": 5
}
