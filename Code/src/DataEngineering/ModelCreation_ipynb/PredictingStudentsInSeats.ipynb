{
 "cells": [
  {
   "cell_type": "code",
   "execution_count": 137,
   "id": "553e5ced-1769-4ea0-86a0-5575e35e2030",
   "metadata": {
    "tags": []
   },
   "outputs": [],
   "source": [
    "import sqlite3\n",
    "import pandas as pd\n",
    "import os\n",
    "import copy\n",
    "pd.options.mode.chained_assignment = None"
   ]
  },
  {
   "cell_type": "code",
   "execution_count": 138,
   "id": "6809bb5f-cd7b-4d51-a67b-b494ad69ab7e",
   "metadata": {},
   "outputs": [
    {
     "name": "stdout",
     "output_type": "stream",
     "text": [
      "/home/jupyter/Team-Prophecy/Data/02_processed/intermediate.db\n"
     ]
    }
   ],
   "source": [
    "process_path = os.path.join(os.sep+\"home\"+os.sep+\"jupyter\"+os.sep+\"Team-Prophecy\",\"Data\",\"02_processed\",\"intermediate.db\")\n",
    "print(process_path)"
   ]
  },
  {
   "cell_type": "code",
   "execution_count": 139,
   "id": "2c51014b-08bb-4006-92a9-38ca7b97e93b",
   "metadata": {},
   "outputs": [],
   "source": [
    "process_connection = sqlite3.connect(process_path)"
   ]
  },
  {
   "cell_type": "code",
   "execution_count": 140,
   "id": "454dc8be-ece6-4e97-b517-e8e2a8d1f28a",
   "metadata": {},
   "outputs": [],
   "source": [
    "inputs = {    \n",
    "    'prog_desc'     : \"All\",\n",
    "    'courses'       : \"All\",\n",
    "    'mod'           : \"F2F\",\n",
    "    'visa'          : \"F1 Visa\",\n",
    "    'ExpN_eat'      : 150\n",
    "}"
   ]
  },
  {
   "cell_type": "code",
   "execution_count": 141,
   "id": "5319e14e-9620-4eab-8d72-c1e7dd82045e",
   "metadata": {},
   "outputs": [],
   "source": [
    "# Building the model parameters\n",
    "model_params = {\n",
    "    'prog_desc'         : inputs['prog_desc'],\n",
    "    'courses'           : inputs['courses'],\n",
    "    'mod'               : inputs['mod'],\n",
    "    'visa'              : inputs['visa'],\n",
    "    'ExpN_eat'          : inputs['ExpN_eat'],\n",
    "    'enr_hist'          : 4 if inputs['visa'] == 'F1 Visa' else 8,\n",
    "    'filters'           : {\n",
    "        'prog_filter'   : inputs['prog_desc'] != 'All',\n",
    "        'course_filter' : inputs['courses'] != 'All',\n",
    "        'visa_filter'   : inputs['visa'] != 'combined'\n",
    "    },\n",
    "    'groupby'           : {\n",
    "        'mod_groupby'   : inputs['mod'] != 'combined'\n",
    "    }\n",
    "}"
   ]
  },
  {
   "cell_type": "code",
   "execution_count": 142,
   "id": "5f3e2488-240d-42f8-8d72-9f4e26efe1f9",
   "metadata": {},
   "outputs": [],
   "source": [
    "def list_to_str(l):\n",
    "    \"\"\"\n",
    "    Create a string in the format of \"('a', 'b', 'c', 'd')\" from list ['a', 'b', 'c', 'd']\n",
    "    \"\"\"\n",
    "    return str(tuple(l))"
   ]
  },
  {
   "cell_type": "code",
   "execution_count": 143,
   "id": "4fafd44b-af00-479a-8226-65628ae12b88",
   "metadata": {},
   "outputs": [],
   "source": [
    "student_stat_query = \"\"\"\n",
    "    SELECT rs.reg_term_code, rs.reg_stu_id, crs, rs.sect_id, rs.reg_new_ret_stu, rs.reg_final_status, scoff.cum_seat_total, scoff.cum_seat_enroll, scoff.cum_seat_avail\n",
    "    FROM registration_status rs\n",
    "    INNER JOIN (SELECT sc.cum_term, i_n.instr_home_org, sc.cum_instr, sc.cum_term_code, sc.cum_sect_id, \n",
    "        sc.cum_seat_enroll+abs(sc.cum_seat_avail)+sc.cum_seat_wait as cum_seat_total,\n",
    "        IIF(sc.cum_seat_avail < 0, sc.cum_seat_enroll+abs(sc.cum_seat_avail),sc.cum_seat_enroll) as cum_seat_enroll,\n",
    "        IIF(sc.cum_seat_avail < 0, 0, sc.cum_seat_avail) as cum_seat_avail\n",
    "    FROM semester_course_offerings sc\n",
    "    INNER JOIN instructors i_n ON sc.cum_instr == i_n.instr_name) scoff ON \n",
    "        scoff.cum_term == rs.reg_term_code\n",
    "        AND scoff.cum_term_code == rs.crs\n",
    "        AND scoff.cum_sect_id == rs.sect_id\n",
    "    WHERE 1=1 \n",
    "\"\"\"\n",
    "student_details_query = \"\"\"\n",
    "    SELECT stu_admit_term_code, stu_college, stu_deg_level, stu_dept, stu_id, stu_res, stu_prog, stu_visa, stu_bam\n",
    "    FROM student_details \n",
    "    WHERE 1=1 \n",
    "\"\"\"\n",
    "\n",
    "program_course_offerings = \"\"\"\n",
    "    SELECT * FROM PROGRAM_COURSE_OFFERINGS \n",
    "\"\"\"\n",
    "\n",
    "# Program Filter\n",
    "if model_params['filters']['prog_filter']:\n",
    "    student_details_query += f\"AND stu_prog = '{model_params['prog_desc']}' \"\n",
    "\n",
    "# Course Filter\n",
    "if model_params['filters']['course_filter']:\n",
    "    student_stat_query += f\"AND crs IN {list_to_str(model_params['courses'])} \"\n",
    "\n",
    "# Visa Filter\n",
    "if model_params['filters']['visa_filter']:\n",
    "    student_details_query += f\"AND stu_visa = '{model_params['visa']}' \""
   ]
  },
  {
   "cell_type": "code",
   "execution_count": 144,
   "id": "7c4c8140-00d9-4649-8086-34b56a5fa928",
   "metadata": {},
   "outputs": [],
   "source": [
    "student_stat = pd.DataFrame(process_connection.execute(student_stat_query).fetchall(),columns=[\"reg_term_code\", \"student_id\", \"crs\", \"sect_id\", \"returning_student\", \"reg_status\",\n",
    "                                                                                              \"cum_total_enrollment\",\"cum_seat_enrollment\",\"cum_seat_available\"])\n",
    "\n",
    "#WHERE reg_final_status IN ('W','R')\n",
    "#GROUP BY reg_term_code, crs, sect_id, reg_final_status\n",
    "\n",
    "student_details = pd.DataFrame(process_connection.execute(student_details_query).fetchall(),columns=[\"reg_term_code\",\"stu_college\",\"stu_deg_level\",\"stu_dept\",\"student_id\",\n",
    "                                                                                                     \"stu_res\",\"stu_prog\",\"stu_visa\",\"stu_bam\"])\n",
    "\n",
    "pco_df = pd.DataFrame(process_connection.execute(program_course_offerings),columns=[\"stu_prog\",\"crs\",\"required\"])\n",
    "\n",
    "total_stat = student_stat.merge(student_details, on=[\"reg_term_code\",\"student_id\"], how=\"inner\").fillna(0)\n",
    "total_stat = total_stat.merge(pco_df, on=[\"stu_prog\",\"crs\"])"
   ]
  },
  {
   "cell_type": "code",
   "execution_count": 145,
   "id": "c3b6ec47-8bed-466d-8167-b2f474e6270b",
   "metadata": {},
   "outputs": [],
   "source": [
    "total_stat = total_stat.loc[total_stat[\"required\"] == 1,:]"
   ]
  },
  {
   "cell_type": "code",
   "execution_count": 147,
   "id": "3b9a4966-c1f3-4cda-b8c9-e1de7a48e6d1",
   "metadata": {},
   "outputs": [],
   "source": [
    "total_student_population = total_stat[[\"reg_term_code\"]].groupby(\"reg_term_code\").count().reset_index()"
   ]
  },
  {
   "cell_type": "code",
   "execution_count": 165,
   "id": "e63becae-0072-4c09-9fc9-c6c8abb41775",
   "metadata": {},
   "outputs": [],
   "source": [
    "reg_term_values = dict(total_stat.groupby([\"reg_term_code\"])[\"reg_term_code\"].count())"
   ]
  },
  {
   "cell_type": "code",
   "execution_count": 242,
   "id": "c8b110b4-794c-42a5-9393-6a22a03ba818",
   "metadata": {},
   "outputs": [],
   "source": [
    "program_limit_values = dict(total_stat.groupby([\"stu_prog\"])[\"stu_prog\"].count())"
   ]
  },
  {
   "cell_type": "code",
   "execution_count": 170,
   "id": "2c009ad5-d1f0-4215-a5a6-d993ceb16550",
   "metadata": {},
   "outputs": [],
   "source": [
    "total_courses = total_stat[[\"reg_term_code\",\"stu_prog\",\"crs\",\"sect_id\",\"reg_status\",\"cum_total_enrollment\",\"cum_seat_enrollment\",\"cum_seat_available\"]]"
   ]
  },
  {
   "cell_type": "markdown",
   "id": "a318671f-9f6d-41eb-a385-6dae9c7e05df",
   "metadata": {},
   "source": [
    "REF Courses is just a fancy way of determining how, from a professors point of view, courses are included."
   ]
  },
  {
   "cell_type": "code",
   "execution_count": 114,
   "id": "21fe07b0-aa18-454a-8923-668b476822b9",
   "metadata": {},
   "outputs": [],
   "source": [
    "ref_course = total_courses[[\"reg_term_code\",\"crs\",\"sect_id\",\"cum_total_enrollment\",\"cum_seat_enrollment\",\"cum_seat_available\"]]"
   ]
  },
  {
   "cell_type": "code",
   "execution_count": 177,
   "id": "bf223ee6-7975-46ce-a3d8-2ce928b74f5c",
   "metadata": {},
   "outputs": [
    {
     "data": {
      "text/html": [
       "<div>\n",
       "<style scoped>\n",
       "    .dataframe tbody tr th:only-of-type {\n",
       "        vertical-align: middle;\n",
       "    }\n",
       "\n",
       "    .dataframe tbody tr th {\n",
       "        vertical-align: top;\n",
       "    }\n",
       "\n",
       "    .dataframe thead th {\n",
       "        text-align: right;\n",
       "    }\n",
       "</style>\n",
       "<table border=\"1\" class=\"dataframe\">\n",
       "  <thead>\n",
       "    <tr style=\"text-align: right;\">\n",
       "      <th></th>\n",
       "      <th>reg_term_code</th>\n",
       "      <th>crs</th>\n",
       "      <th>sect_id</th>\n",
       "      <th>cum_total_enrollment</th>\n",
       "      <th>cum_seat_enrollment</th>\n",
       "      <th>cum_seat_available</th>\n",
       "    </tr>\n",
       "  </thead>\n",
       "  <tbody>\n",
       "    <tr>\n",
       "      <th>0</th>\n",
       "      <td>202010</td>\n",
       "      <td>CEIE524</td>\n",
       "      <td>001</td>\n",
       "      <td>25</td>\n",
       "      <td>18</td>\n",
       "      <td>7</td>\n",
       "    </tr>\n",
       "    <tr>\n",
       "      <th>1</th>\n",
       "      <td>202170</td>\n",
       "      <td>CEIE524</td>\n",
       "      <td>001</td>\n",
       "      <td>18</td>\n",
       "      <td>13</td>\n",
       "      <td>5</td>\n",
       "    </tr>\n",
       "    <tr>\n",
       "      <th>2</th>\n",
       "      <td>202170</td>\n",
       "      <td>CEIE524</td>\n",
       "      <td>001</td>\n",
       "      <td>18</td>\n",
       "      <td>13</td>\n",
       "      <td>5</td>\n",
       "    </tr>\n",
       "    <tr>\n",
       "      <th>3</th>\n",
       "      <td>202170</td>\n",
       "      <td>CEIE524</td>\n",
       "      <td>001</td>\n",
       "      <td>18</td>\n",
       "      <td>13</td>\n",
       "      <td>5</td>\n",
       "    </tr>\n",
       "    <tr>\n",
       "      <th>4</th>\n",
       "      <td>202170</td>\n",
       "      <td>CEIE524</td>\n",
       "      <td>001</td>\n",
       "      <td>18</td>\n",
       "      <td>13</td>\n",
       "      <td>5</td>\n",
       "    </tr>\n",
       "  </tbody>\n",
       "</table>\n",
       "</div>"
      ],
      "text/plain": [
       "  reg_term_code      crs sect_id  cum_total_enrollment  cum_seat_enrollment  \\\n",
       "0        202010  CEIE524     001                    25                   18   \n",
       "1        202170  CEIE524     001                    18                   13   \n",
       "2        202170  CEIE524     001                    18                   13   \n",
       "3        202170  CEIE524     001                    18                   13   \n",
       "4        202170  CEIE524     001                    18                   13   \n",
       "\n",
       "   cum_seat_available  \n",
       "0                   7  \n",
       "1                   5  \n",
       "2                   5  \n",
       "3                   5  \n",
       "4                   5  "
      ]
     },
     "execution_count": 177,
     "metadata": {},
     "output_type": "execute_result"
    }
   ],
   "source": [
    "ref_course.head()"
   ]
  },
  {
   "cell_type": "code",
   "execution_count": 175,
   "id": "2bae5467-c226-44d9-bb1f-85a809c39830",
   "metadata": {},
   "outputs": [],
   "source": [
    "registered_courses = total_courses.loc[total_courses[\"reg_status\"] == \"R\",[\"reg_term_code\",\"stu_prog\",\"crs\",\"sect_id\",\"reg_status\"]].groupby([\"reg_term_code\",\"stu_prog\",\"crs\",\"sect_id\"]).count().reset_index()\n",
    "#nonregistered_courses = total_courses.loc[total_courses[\"reg_status\"] != \"R\",[\"reg_term_code\",\"stu_prog\",\"crs\",\"sect_id\",\"reg_status\"]].groupby([\"reg_term_code\",\"stu_prog\",\"crs\",\"sect_id\"]).count().reset_index()"
   ]
  },
  {
   "cell_type": "code",
   "execution_count": 176,
   "id": "a8f6750c-cb1f-47f5-a32f-187060c4049c",
   "metadata": {},
   "outputs": [
    {
     "data": {
      "text/plain": [
       "reg_term_code    178\n",
       "stu_prog         178\n",
       "crs              178\n",
       "sect_id          178\n",
       "registered       178\n",
       "dtype: int64"
      ]
     },
     "execution_count": 176,
     "metadata": {},
     "output_type": "execute_result"
    }
   ],
   "source": [
    "required_courses.count()"
   ]
  },
  {
   "cell_type": "markdown",
   "id": "25a469fd-9c75-47f3-ae11-37474b9b2cb9",
   "metadata": {},
   "source": [
    "Keep in mind: Our registered values will be dependent on what's in our subset."
   ]
  },
  {
   "cell_type": "code",
   "execution_count": null,
   "id": "fdb2373a-e5d2-41da-bbfa-a1d7dbb9f178",
   "metadata": {},
   "outputs": [
    {
     "data": {
      "text/html": [
       "<div>\n",
       "<style scoped>\n",
       "    .dataframe tbody tr th:only-of-type {\n",
       "        vertical-align: middle;\n",
       "    }\n",
       "\n",
       "    .dataframe tbody tr th {\n",
       "        vertical-align: top;\n",
       "    }\n",
       "\n",
       "    .dataframe thead th {\n",
       "        text-align: right;\n",
       "    }\n",
       "</style>\n",
       "<table border=\"1\" class=\"dataframe\">\n",
       "  <thead>\n",
       "    <tr style=\"text-align: right;\">\n",
       "      <th></th>\n",
       "      <th>reg_term_code</th>\n",
       "      <th>stu_prog</th>\n",
       "      <th>crs</th>\n",
       "      <th>sect_id</th>\n",
       "      <th>registered</th>\n",
       "    </tr>\n",
       "  </thead>\n",
       "  <tbody>\n",
       "    <tr>\n",
       "      <th>0</th>\n",
       "      <td>202010</td>\n",
       "      <td>EC-MS-AIT</td>\n",
       "      <td>AIT524</td>\n",
       "      <td>003</td>\n",
       "      <td>2</td>\n",
       "    </tr>\n",
       "    <tr>\n",
       "      <th>1</th>\n",
       "      <td>202010</td>\n",
       "      <td>EC-MS-AIT</td>\n",
       "      <td>AIT542</td>\n",
       "      <td>002</td>\n",
       "      <td>2</td>\n",
       "    </tr>\n",
       "    <tr>\n",
       "      <th>2</th>\n",
       "      <td>202010</td>\n",
       "      <td>EC-MS-AIT</td>\n",
       "      <td>AIT602</td>\n",
       "      <td>001</td>\n",
       "      <td>1</td>\n",
       "    </tr>\n",
       "    <tr>\n",
       "      <th>3</th>\n",
       "      <td>202010</td>\n",
       "      <td>EC-MS-AIT</td>\n",
       "      <td>AIT673</td>\n",
       "      <td>DL1</td>\n",
       "      <td>1</td>\n",
       "    </tr>\n",
       "    <tr>\n",
       "      <th>4</th>\n",
       "      <td>202010</td>\n",
       "      <td>EC-MS-AIT</td>\n",
       "      <td>AIT677</td>\n",
       "      <td>001</td>\n",
       "      <td>3</td>\n",
       "    </tr>\n",
       "  </tbody>\n",
       "</table>\n",
       "</div>"
      ],
      "text/plain": [
       "  reg_term_code   stu_prog     crs sect_id  registered\n",
       "0        202010  EC-MS-AIT  AIT524     003           2\n",
       "1        202010  EC-MS-AIT  AIT542     002           2\n",
       "2        202010  EC-MS-AIT  AIT602     001           1\n",
       "3        202010  EC-MS-AIT  AIT673     DL1           1\n",
       "4        202010  EC-MS-AIT  AIT677     001           3"
      ]
     },
     "execution_count": 168,
     "metadata": {},
     "output_type": "execute_result"
    }
   ],
   "source": [
    "required_courses.head()"
   ]
  },
  {
   "cell_type": "code",
   "execution_count": 178,
   "id": "90d47bd3-0ee1-4a80-bce0-c4cae98d03f1",
   "metadata": {},
   "outputs": [
    {
     "data": {
      "text/html": [
       "<div>\n",
       "<style scoped>\n",
       "    .dataframe tbody tr th:only-of-type {\n",
       "        vertical-align: middle;\n",
       "    }\n",
       "\n",
       "    .dataframe tbody tr th {\n",
       "        vertical-align: top;\n",
       "    }\n",
       "\n",
       "    .dataframe thead th {\n",
       "        text-align: right;\n",
       "    }\n",
       "</style>\n",
       "<table border=\"1\" class=\"dataframe\">\n",
       "  <thead>\n",
       "    <tr style=\"text-align: right;\">\n",
       "      <th></th>\n",
       "      <th>reg_term_code</th>\n",
       "      <th>crs</th>\n",
       "      <th>sect_id</th>\n",
       "      <th>cum_total_enrollment</th>\n",
       "      <th>cum_seat_enrollment</th>\n",
       "      <th>cum_seat_available</th>\n",
       "    </tr>\n",
       "  </thead>\n",
       "  <tbody>\n",
       "    <tr>\n",
       "      <th>0</th>\n",
       "      <td>202010</td>\n",
       "      <td>CEIE524</td>\n",
       "      <td>001</td>\n",
       "      <td>25</td>\n",
       "      <td>18</td>\n",
       "      <td>7</td>\n",
       "    </tr>\n",
       "    <tr>\n",
       "      <th>1</th>\n",
       "      <td>202170</td>\n",
       "      <td>CEIE524</td>\n",
       "      <td>001</td>\n",
       "      <td>18</td>\n",
       "      <td>13</td>\n",
       "      <td>5</td>\n",
       "    </tr>\n",
       "    <tr>\n",
       "      <th>2</th>\n",
       "      <td>202170</td>\n",
       "      <td>CEIE524</td>\n",
       "      <td>001</td>\n",
       "      <td>18</td>\n",
       "      <td>13</td>\n",
       "      <td>5</td>\n",
       "    </tr>\n",
       "    <tr>\n",
       "      <th>3</th>\n",
       "      <td>202170</td>\n",
       "      <td>CEIE524</td>\n",
       "      <td>001</td>\n",
       "      <td>18</td>\n",
       "      <td>13</td>\n",
       "      <td>5</td>\n",
       "    </tr>\n",
       "    <tr>\n",
       "      <th>4</th>\n",
       "      <td>202170</td>\n",
       "      <td>CEIE524</td>\n",
       "      <td>001</td>\n",
       "      <td>18</td>\n",
       "      <td>13</td>\n",
       "      <td>5</td>\n",
       "    </tr>\n",
       "  </tbody>\n",
       "</table>\n",
       "</div>"
      ],
      "text/plain": [
       "  reg_term_code      crs sect_id  cum_total_enrollment  cum_seat_enrollment  \\\n",
       "0        202010  CEIE524     001                    25                   18   \n",
       "1        202170  CEIE524     001                    18                   13   \n",
       "2        202170  CEIE524     001                    18                   13   \n",
       "3        202170  CEIE524     001                    18                   13   \n",
       "4        202170  CEIE524     001                    18                   13   \n",
       "\n",
       "   cum_seat_available  \n",
       "0                   7  \n",
       "1                   5  \n",
       "2                   5  \n",
       "3                   5  \n",
       "4                   5  "
      ]
     },
     "execution_count": 178,
     "metadata": {},
     "output_type": "execute_result"
    }
   ],
   "source": [
    "ref_course.head()"
   ]
  },
  {
   "cell_type": "code",
   "execution_count": 191,
   "id": "c3141262-ed3f-4117-8dcc-c1feb9ddff91",
   "metadata": {},
   "outputs": [],
   "source": [
    "req_courses_context = required_courses.merge(ref_course[[\"reg_term_code\", \"crs\",\"sect_id\", \"cum_total_enrollment\"]], on=[\"reg_term_code\", \"crs\",\"sect_id\"], how=\"inner\").drop_duplicates()"
   ]
  },
  {
   "cell_type": "code",
   "execution_count": 210,
   "id": "f35f3c67-e98e-40cb-b97e-3592766f3f07",
   "metadata": {},
   "outputs": [
    {
     "data": {
      "text/plain": [
       "Index(['reg_term_code', 'stu_prog', 'crs', 'sect_id', 'registered',\n",
       "       'cum_total_enrollment'],\n",
       "      dtype='object')"
      ]
     },
     "execution_count": 210,
     "metadata": {},
     "output_type": "execute_result"
    }
   ],
   "source": [
    "req_courses_context.columns"
   ]
  },
  {
   "cell_type": "code",
   "execution_count": 196,
   "id": "24545afe-6b50-4386-a0d4-30cb71c2ccf4",
   "metadata": {},
   "outputs": [],
   "source": [
    "req_courses_context.loc[total_courses[\"cum_total_enrollment\"] < total_courses[\"registered\"],[\"cum_total_enrollment\"]]  = total_courses[\"registered\"]"
   ]
  },
  {
   "cell_type": "code",
   "execution_count": 204,
   "id": "26a6a56f-b350-42a9-9868-a13fc4263ad3",
   "metadata": {},
   "outputs": [],
   "source": [
    "reg_term_courses_context = req_courses_context.groupby([\"reg_term_code\"])"
   ]
  },
  {
   "cell_type": "code",
   "execution_count": 203,
   "id": "5b2e4529-d7aa-4244-9331-685194d3dd79",
   "metadata": {},
   "outputs": [],
   "source": [
    "from ortools.linear_solver import pywraplp"
   ]
  },
  {
   "cell_type": "markdown",
   "id": "2fbfdca6-0fb1-4f7d-9b35-656c56492727",
   "metadata": {},
   "source": [
    "For each semester's influx of students, we want the following:\n",
    "- How many butts are going to be in a seat for a given course section\n",
    "- How many butts are going to be waitlisted for a given course section"
   ]
  },
  {
   "cell_type": "code",
   "execution_count": 247,
   "id": "832b88b4-db81-4e9f-80bf-8562f20cf7ac",
   "metadata": {
    "tags": []
   },
   "outputs": [],
   "source": [
    "all_semesters = list(reg_term_values.keys())\n",
    "#program_limit_values <- included because we need a way to constraint students\n",
    "all_pcs = list(req_courses_context[[\"stu_prog\",\"crs\",\"sect_id\"]].drop_duplicates().itertuples(index=False,name=None))\n",
    "all_pcs_dict = {}\n",
    "pc_dict = {}\n",
    "cs_dict = {}\n",
    "for t_pcs in all_pcs:\n",
    "    if t_pcs[0] not in all_pcs_dict:\n",
    "        pc_dict[t_pcs[0]] = []\n",
    "        all_pcs_dict[t_pcs[0]] = {}\n",
    "    pc_dict[t_pcs[0]].append(t_pcs[1])\n",
    "    if t_pcs[1] not in all_pcs_dict[t_pcs[0]]:\n",
    "        cs_dict[t_pcs[1]] = []\n",
    "        all_pcs_dict[t_pcs[0]][t_pcs[1]] = []\n",
    "    cs_dict[t_pcs[1]].append(t_pcs[2])\n",
    "    all_pcs_dict[t_pcs[0]][t_pcs[1]].append(t_pcs[2])"
   ]
  },
  {
   "cell_type": "markdown",
   "id": "bc586854-5ec1-4cc3-8b7b-13d3825ef794",
   "metadata": {},
   "source": [
    "**DECISION VARIABLES**\n",
    "\n",
    "R = Registered Student\n",
    "\n",
    "W = Waitlisted Student\n",
    "\n",
    "A = Whether the student has already registered for the class\n",
    "\n",
    "S = Whether the student has already registered for the class section"
   ]
  },
  {
   "cell_type": "code",
   "execution_count": 246,
   "id": "e956ea29-82d5-48ee-b2db-836fd46c1165",
   "metadata": {},
   "outputs": [],
   "source": [
    "#reg_term_courses_context.get_group(\"202010\")"
   ]
  },
  {
   "cell_type": "code",
   "execution_count": null,
   "id": "5a5e5620-b077-46cd-ab73-ffc9ce919371",
   "metadata": {},
   "outputs": [],
   "source": [
    "for a_sem in all_semesters:\n",
    "    cxt_grp = reg_term_courses_context.get_group(a_sem)\n",
    "    #First, we have to get the ratios\n",
    "    registered_list = cxt_grp[\"registered\"]/reg_term_values[a_sem]\n",
    "    total_students_list = cxt_grp[\"cum_total_enrollment\"]/reg_term_values[a_sem]\n",
    "    #Now that we have the ratios, we can begin with the objective function.\n",
    "    decision_vars = {}\n",
    "    const_vars = {}\n",
    "    solver = pywraplp.Solver.CreateSolver('SAT')\n",
    "    if not solver:\n",
    "        print(\"Cannot get solver\")\n",
    "        continue\n",
    "        \n",
    "    program_ref = {}\n",
    "    course_ref = {}\n",
    "    waitlist_decision_vars = {}\n",
    "    an_decision_vars = {}\n",
    "    s_inf = solver.infinity()\n",
    "    for a_pc in all_pcs:\n",
    "        for student_id in range(1,reg_term_values[a_sem]):\n",
    "            #We'll have two primary decision variables: Waitlist and Student\n",
    "            #This will be a minimization function for our purposes, as we want all students\n",
    "            # to be included.\n",
    "            r_name = f\"r({a_pc[0]},{a_pc[1]},{a_pc[2]},{student_id},{a_sem})\"\n",
    "            w_name = f\"w({a_pc[0]},{a_pc[1]},{a_pc[2]},{student_id},{a_sem})\"\n",
    "            \n",
    "            a_name = f\"a({a_pc[1]},{student_id},{a_sem})\"\n",
    "            s_name = f\"s({a_pc[2]},{student_id},{a_sem})\"\n",
    "            decision_vars[r_name] = solver.IntVar(0,s_inf,r_name)\n",
    "            decision_vars[w_name] = solver.IntVar(0,s_inf,w_name)\n",
    "            \n",
    "            decision_vars[a_name] = solver.IntVar(0,1,a_name)\n",
    "            decision_vars[s_name] = solver.IntVar(0,1,s_name)\n",
    "            \n",
    "            if a_pc[0] not in program_ref:\n",
    "                program_ref[a_pc[0]] = set()\n",
    "            program_ref[a_pc[0]].append(student_id)\n",
    "            if a_pc[1] not in course_ref:\n",
    "                course_ref[a_pc[1]] = {}\n",
    "            if a_pc[2] not in course_ref[a_pc[1]]:\n",
    "                course_ref[a_pc[1]] = []\n",
    "            course_ref[a_pc[1]][a_pc[2]].append(student_id)\n",
    "        \n",
    "    #for student_id in range(1,reg_term_values[a_sem]):\n",
    "    #    solver.Add(solver.Sum([course_ref[] for c in course_ref]) = 1)\n",
    "    #solver.Minimize(solver.Sum([waitlist_decision_vars[student_id]*an_decision_vars[student_id] \n",
    "    #                            for student_id in range(1,reg_term_values[a_sem])]))\n",
    "    break"
   ]
  },
  {
   "cell_type": "markdown",
   "id": "22e2db6d-e2ec-48a0-b77b-aaa602f1878f",
   "metadata": {},
   "source": [
    "**NOW WE CAN GET INTO THE INTERESTING STUFF**"
   ]
  },
  {
   "cell_type": "markdown",
   "id": "cdadc9af-ce85-4379-855b-6e752612afbd",
   "metadata": {},
   "source": [
    "This is for when I have more data; only focusing on what I know for certain given the total number of students available."
   ]
  },
  {
   "cell_type": "code",
   "execution_count": null,
   "id": "fbdf3d5a-59d0-40fd-badd-7e74983df80d",
   "metadata": {},
   "outputs": [],
   "source": [
    "waitlist_courses = total_courses.loc[total_courses[\"reg_status\"] == \"W\",[\"reg_term_code\",\"stu_prog\",\"crs\",\"sect_id\",\"reg_status\"]].groupby([\"reg_term_code\",\"stu_prog\",\"crs\",\"sect_id\"]).count().reset_index()\n",
    "dropped_courses = total_courses.loc[total_courses[\"reg_status\"] == \"D\",[\"reg_term_code\",\"stu_prog\",\"crs\",\"sect_id\",\"reg_status\"]].groupby([\"reg_term_code\",\"stu_prog\",\"crs\",\"sect_id\"]).count().reset_index()"
   ]
  },
  {
   "cell_type": "code",
   "execution_count": null,
   "id": "0767711f-95a0-4c17-a485-b579ab7488e0",
   "metadata": {},
   "outputs": [],
   "source": [
    "waitlist_courses = waitlist_courses.rename(columns={'reg_status':'waitlist'})\n",
    "required_courses = required_courses.rename(columns={'reg_status':'registered'})\n",
    "dropped_courses = dropped_courses.rename(columns={'reg_status':'dropped'})"
   ]
  },
  {
   "cell_type": "code",
   "execution_count": null,
   "id": "7fd4c1c1-0508-4604-8f4a-96ff288b062a",
   "metadata": {},
   "outputs": [],
   "source": [
    "total_courses = required_courses.merge(waitlist_courses, on=[\"reg_term_code\", \"stu_prog\",\"crs\",\"sect_id\"], how=\"left\").fillna(0)\n",
    "total_courses = total_courses.merge(dropped_courses, on=[\"reg_term_code\", \"stu_prog\",\"crs\",\"sect_id\"], how=\"left\").fillna(0)"
   ]
  },
  {
   "cell_type": "code",
   "execution_count": null,
   "id": "87e6fdb4-31d1-419e-9e71-5789d8e407de",
   "metadata": {},
   "outputs": [],
   "source": []
  },
  {
   "cell_type": "code",
   "execution_count": null,
   "id": "24c9aa96-a1a4-4c29-93b3-ae170c1c668f",
   "metadata": {},
   "outputs": [],
   "source": []
  },
  {
   "cell_type": "code",
   "execution_count": null,
   "id": "b7c7204e-633e-4f47-8976-f70fcddda2b6",
   "metadata": {},
   "outputs": [],
   "source": []
  }
 ],
 "metadata": {
  "environment": {
   "kernel": "python3",
   "name": "common-cpu.m103",
   "type": "gcloud",
   "uri": "gcr.io/deeplearning-platform-release/base-cpu:m103"
  },
  "kernelspec": {
   "display_name": "Python 3",
   "language": "python",
   "name": "python3"
  },
  "language_info": {
   "codemirror_mode": {
    "name": "ipython",
    "version": 3
   },
   "file_extension": ".py",
   "mimetype": "text/x-python",
   "name": "python",
   "nbconvert_exporter": "python",
   "pygments_lexer": "ipython3",
   "version": "3.7.12"
  }
 },
 "nbformat": 4,
 "nbformat_minor": 5
}
