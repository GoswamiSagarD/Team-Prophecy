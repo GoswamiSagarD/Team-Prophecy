{
 "cells": [
  {
   "cell_type": "code",
   "execution_count": 1,
   "id": "553e5ced-1769-4ea0-86a0-5575e35e2030",
   "metadata": {
    "tags": []
   },
   "outputs": [],
   "source": [
    "import sqlite3\n",
    "import pandas as pd\n",
    "import os\n",
    "import copy\n",
    "pd.options.mode.chained_assignment = None"
   ]
  },
  {
   "cell_type": "code",
   "execution_count": 2,
   "id": "6809bb5f-cd7b-4d51-a67b-b494ad69ab7e",
   "metadata": {},
   "outputs": [
    {
     "name": "stdout",
     "output_type": "stream",
     "text": [
      "/home/jupyter/Team-Prophecy/Data/02_processed/intermediate.db\n"
     ]
    }
   ],
   "source": [
    "process_path = os.path.join(os.sep+\"home\"+os.sep+\"jupyter\"+os.sep+\"Team-Prophecy\",\"Data\",\"02_processed\",\"intermediate.db\")\n",
    "print(process_path)"
   ]
  },
  {
   "cell_type": "code",
   "execution_count": 3,
   "id": "2c51014b-08bb-4006-92a9-38ca7b97e93b",
   "metadata": {},
   "outputs": [],
   "source": [
    "process_connection = sqlite3.connect(process_path)"
   ]
  },
  {
   "cell_type": "code",
   "execution_count": 4,
   "id": "454dc8be-ece6-4e97-b517-e8e2a8d1f28a",
   "metadata": {},
   "outputs": [],
   "source": [
    "inputs = {    \n",
    "    'prog_desc'     : \"All\",\n",
    "    'courses'       : \"All\",\n",
    "    'mod'           : \"F2F\",\n",
    "    'visa'          : \"F1 Visa\",\n",
    "    'ExpN_eat'      : 150\n",
    "}"
   ]
  },
  {
   "cell_type": "code",
   "execution_count": 5,
   "id": "5319e14e-9620-4eab-8d72-c1e7dd82045e",
   "metadata": {},
   "outputs": [],
   "source": [
    "# Building the model parameters\n",
    "model_params = {\n",
    "    'prog_desc'         : inputs['prog_desc'],\n",
    "    'courses'           : inputs['courses'],\n",
    "    'mod'               : inputs['mod'],\n",
    "    'visa'              : inputs['visa'],\n",
    "    'ExpN_eat'          : inputs['ExpN_eat'],\n",
    "    'enr_hist'          : 4 if inputs['visa'] == 'F1 Visa' else 8,\n",
    "    'filters'           : {\n",
    "        'prog_filter'   : inputs['prog_desc'] != 'All',\n",
    "        'course_filter' : inputs['courses'] != 'All',\n",
    "        'visa_filter'   : inputs['visa'] != 'combined'\n",
    "    },\n",
    "    'groupby'           : {\n",
    "        'mod_groupby'   : inputs['mod'] != 'combined'\n",
    "    }\n",
    "}"
   ]
  },
  {
   "cell_type": "code",
   "execution_count": 6,
   "id": "5f3e2488-240d-42f8-8d72-9f4e26efe1f9",
   "metadata": {},
   "outputs": [],
   "source": [
    "def list_to_str(l):\n",
    "    \"\"\"\n",
    "    Create a string in the format of \"('a', 'b', 'c', 'd')\" from list ['a', 'b', 'c', 'd']\n",
    "    \"\"\"\n",
    "    return str(tuple(l))"
   ]
  },
  {
   "cell_type": "code",
   "execution_count": 7,
   "id": "4fafd44b-af00-479a-8226-65628ae12b88",
   "metadata": {},
   "outputs": [],
   "source": [
    "student_stat_query = \"\"\"\n",
    "    SELECT rs.reg_term_code, rs.reg_stu_id, crs, rs.sect_id, rs.reg_new_ret_stu, rs.reg_final_status, scoff.cum_seat_total, scoff.cum_seat_enroll, scoff.cum_seat_avail\n",
    "    FROM registration_status rs\n",
    "    INNER JOIN (SELECT sc.cum_term, i_n.instr_home_org, sc.cum_instr, sc.cum_term_code, sc.cum_sect_id, \n",
    "        sc.cum_seat_enroll+abs(sc.cum_seat_avail)+sc.cum_seat_wait as cum_seat_total,\n",
    "        IIF(sc.cum_seat_avail < 0, sc.cum_seat_enroll+abs(sc.cum_seat_avail),sc.cum_seat_enroll) as cum_seat_enroll,\n",
    "        IIF(sc.cum_seat_avail < 0, 0, sc.cum_seat_avail) as cum_seat_avail\n",
    "    FROM semester_course_offerings sc\n",
    "    INNER JOIN instructors i_n ON sc.cum_instr == i_n.instr_name) scoff ON \n",
    "        scoff.cum_term == rs.reg_term_code\n",
    "        AND scoff.cum_term_code == rs.crs\n",
    "        AND scoff.cum_sect_id == rs.sect_id\n",
    "    WHERE 1=1 \n",
    "\"\"\"\n",
    "student_details_query = \"\"\"\n",
    "    SELECT stu_admit_term_code, stu_college, stu_deg_level, stu_dept, stu_id, stu_res, stu_prog, stu_visa, stu_bam\n",
    "    FROM student_details \n",
    "    WHERE 1=1 \n",
    "\"\"\"\n",
    "\n",
    "program_course_offerings = \"\"\"\n",
    "    SELECT * FROM PROGRAM_COURSE_OFFERINGS \n",
    "\"\"\"\n",
    "\n",
    "# Program Filter\n",
    "if model_params['filters']['prog_filter']:\n",
    "    student_details_query += f\"AND stu_prog = '{model_params['prog_desc']}' \"\n",
    "\n",
    "# Course Filter\n",
    "if model_params['filters']['course_filter']:\n",
    "    student_stat_query += f\"AND crs IN {list_to_str(model_params['courses'])} \"\n",
    "\n",
    "# Visa Filter\n",
    "if model_params['filters']['visa_filter']:\n",
    "    student_details_query += f\"AND stu_visa = '{model_params['visa']}' \""
   ]
  },
  {
   "cell_type": "code",
   "execution_count": 8,
   "id": "7c4c8140-00d9-4649-8086-34b56a5fa928",
   "metadata": {},
   "outputs": [],
   "source": [
    "student_stat = pd.DataFrame(process_connection.execute(student_stat_query).fetchall(),columns=[\"reg_term_code\", \"student_id\", \"crs\", \"sect_id\", \"returning_student\", \"reg_status\",\n",
    "                                                                                              \"cum_total_enrollment\",\"cum_seat_enrollment\",\"cum_seat_available\"])\n",
    "\n",
    "#WHERE reg_final_status IN ('W','R')\n",
    "#GROUP BY reg_term_code, crs, sect_id, reg_final_status\n",
    "\n",
    "student_details = pd.DataFrame(process_connection.execute(student_details_query).fetchall(),columns=[\"reg_term_code\",\"stu_college\",\"stu_deg_level\",\"stu_dept\",\"student_id\",\n",
    "                                                                                                     \"stu_res\",\"stu_prog\",\"stu_visa\",\"stu_bam\"])\n",
    "\n",
    "pco_df = pd.DataFrame(process_connection.execute(program_course_offerings),columns=[\"stu_prog\",\"crs\",\"required\"])\n",
    "\n",
    "total_stat = student_stat.merge(student_details, on=[\"reg_term_code\",\"student_id\"], how=\"inner\").fillna(0)\n",
    "total_stat = total_stat.merge(pco_df, on=[\"stu_prog\",\"crs\"])"
   ]
  },
  {
   "cell_type": "code",
   "execution_count": 9,
   "id": "c3b6ec47-8bed-466d-8167-b2f474e6270b",
   "metadata": {},
   "outputs": [],
   "source": [
    "total_stat = total_stat.loc[total_stat[\"required\"] == 1,:]"
   ]
  },
  {
   "cell_type": "code",
   "execution_count": 10,
   "id": "3b9a4966-c1f3-4cda-b8c9-e1de7a48e6d1",
   "metadata": {},
   "outputs": [],
   "source": [
    "total_student_population = total_stat[[\"reg_term_code\"]].groupby(\"reg_term_code\").count().reset_index()"
   ]
  },
  {
   "cell_type": "code",
   "execution_count": 11,
   "id": "e63becae-0072-4c09-9fc9-c6c8abb41775",
   "metadata": {},
   "outputs": [],
   "source": [
    "reg_term_values = dict(total_stat.groupby([\"reg_term_code\"])[\"reg_term_code\"].count())"
   ]
  },
  {
   "cell_type": "code",
   "execution_count": 12,
   "id": "c8b110b4-794c-42a5-9393-6a22a03ba818",
   "metadata": {},
   "outputs": [],
   "source": [
    "#program_limit_values = dict(total_stat.groupby([\"stu_prog\"])[\"stu_prog\"].count())"
   ]
  },
  {
   "cell_type": "code",
   "execution_count": 13,
   "id": "2c009ad5-d1f0-4215-a5a6-d993ceb16550",
   "metadata": {},
   "outputs": [],
   "source": [
    "total_courses = total_stat[[\"reg_term_code\",\"stu_prog\",\"crs\",\"sect_id\",\"reg_status\",\"cum_total_enrollment\",\"cum_seat_enrollment\",\"cum_seat_available\"]]"
   ]
  },
  {
   "cell_type": "markdown",
   "id": "a318671f-9f6d-41eb-a385-6dae9c7e05df",
   "metadata": {},
   "source": [
    "REF Courses is just a fancy way of determining how, from a professors point of view, courses are included."
   ]
  },
  {
   "cell_type": "code",
   "execution_count": 14,
   "id": "21fe07b0-aa18-454a-8923-668b476822b9",
   "metadata": {},
   "outputs": [],
   "source": [
    "ref_course = total_courses[[\"reg_term_code\",\"crs\",\"sect_id\",\"cum_total_enrollment\",\"cum_seat_enrollment\",\"cum_seat_available\"]]"
   ]
  },
  {
   "cell_type": "code",
   "execution_count": 15,
   "id": "2bae5467-c226-44d9-bb1f-85a809c39830",
   "metadata": {},
   "outputs": [],
   "source": [
    "registered_courses = total_courses.loc[total_courses[\"reg_status\"] == \"R\",[\"reg_term_code\",\"stu_prog\",\"crs\",\"sect_id\",\"reg_status\"]].groupby([\"reg_term_code\",\"stu_prog\",\"crs\",\"sect_id\"]).count().reset_index()\n",
    "#nonregistered_courses = total_courses.loc[total_courses[\"reg_status\"] != \"R\",[\"reg_term_code\",\"stu_prog\",\"crs\",\"sect_id\",\"reg_status\"]].groupby([\"reg_term_code\",\"stu_prog\",\"crs\",\"sect_id\"]).count().reset_index()"
   ]
  },
  {
   "cell_type": "markdown",
   "id": "25a469fd-9c75-47f3-ae11-37474b9b2cb9",
   "metadata": {},
   "source": [
    "Keep in mind: Our registered values will be dependent on what's in our subset."
   ]
  },
  {
   "cell_type": "code",
   "execution_count": 16,
   "id": "c3141262-ed3f-4117-8dcc-c1feb9ddff91",
   "metadata": {},
   "outputs": [],
   "source": [
    "req_courses_context = registered_courses.merge(ref_course[[\"reg_term_code\", \"crs\",\"sect_id\", \"cum_total_enrollment\"]], on=[\"reg_term_code\", \"crs\",\"sect_id\"], how=\"inner\").drop_duplicates()"
   ]
  },
  {
   "cell_type": "code",
   "execution_count": 17,
   "id": "f35f3c67-e98e-40cb-b97e-3592766f3f07",
   "metadata": {},
   "outputs": [
    {
     "data": {
      "text/plain": [
       "Index(['reg_term_code', 'stu_prog', 'crs', 'sect_id', 'reg_status',\n",
       "       'cum_total_enrollment'],\n",
       "      dtype='object')"
      ]
     },
     "execution_count": 17,
     "metadata": {},
     "output_type": "execute_result"
    }
   ],
   "source": [
    "req_courses_context.columns"
   ]
  },
  {
   "cell_type": "code",
   "execution_count": 18,
   "id": "24545afe-6b50-4386-a0d4-30cb71c2ccf4",
   "metadata": {},
   "outputs": [],
   "source": [
    "req_courses_context.loc[req_courses_context[\"cum_total_enrollment\"] < req_courses_context[\"reg_status\"],[\"cum_total_enrollment\"]]  = req_courses_context[\"reg_status\"]"
   ]
  },
  {
   "cell_type": "code",
   "execution_count": 19,
   "id": "26a6a56f-b350-42a9-9868-a13fc4263ad3",
   "metadata": {},
   "outputs": [],
   "source": [
    "reg_term_courses_context = req_courses_context.groupby([\"reg_term_code\"])"
   ]
  },
  {
   "cell_type": "code",
   "execution_count": 20,
   "id": "bc27d79e-0bb2-4b04-b84a-8a64dc9bfd9b",
   "metadata": {},
   "outputs": [
    {
     "data": {
      "text/html": [
       "<div>\n",
       "<style scoped>\n",
       "    .dataframe tbody tr th:only-of-type {\n",
       "        vertical-align: middle;\n",
       "    }\n",
       "\n",
       "    .dataframe tbody tr th {\n",
       "        vertical-align: top;\n",
       "    }\n",
       "\n",
       "    .dataframe thead th {\n",
       "        text-align: right;\n",
       "    }\n",
       "</style>\n",
       "<table border=\"1\" class=\"dataframe\">\n",
       "  <thead>\n",
       "    <tr style=\"text-align: right;\">\n",
       "      <th></th>\n",
       "      <th>reg_term_code</th>\n",
       "      <th>stu_prog</th>\n",
       "      <th>crs</th>\n",
       "      <th>sect_id</th>\n",
       "      <th>reg_status</th>\n",
       "      <th>cum_total_enrollment</th>\n",
       "    </tr>\n",
       "  </thead>\n",
       "  <tbody>\n",
       "    <tr>\n",
       "      <th>0</th>\n",
       "      <td>202010</td>\n",
       "      <td>EC-MS-AIT</td>\n",
       "      <td>AIT524</td>\n",
       "      <td>003</td>\n",
       "      <td>2</td>\n",
       "      <td>25</td>\n",
       "    </tr>\n",
       "    <tr>\n",
       "      <th>2</th>\n",
       "      <td>202010</td>\n",
       "      <td>EC-MS-AIT</td>\n",
       "      <td>AIT542</td>\n",
       "      <td>002</td>\n",
       "      <td>2</td>\n",
       "      <td>20</td>\n",
       "    </tr>\n",
       "    <tr>\n",
       "      <th>4</th>\n",
       "      <td>202010</td>\n",
       "      <td>EC-MS-AIT</td>\n",
       "      <td>AIT602</td>\n",
       "      <td>001</td>\n",
       "      <td>1</td>\n",
       "      <td>25</td>\n",
       "    </tr>\n",
       "    <tr>\n",
       "      <th>5</th>\n",
       "      <td>202010</td>\n",
       "      <td>EC-MS-AIT</td>\n",
       "      <td>AIT673</td>\n",
       "      <td>DL1</td>\n",
       "      <td>1</td>\n",
       "      <td>25</td>\n",
       "    </tr>\n",
       "    <tr>\n",
       "      <th>6</th>\n",
       "      <td>202010</td>\n",
       "      <td>EC-MS-AIT</td>\n",
       "      <td>AIT677</td>\n",
       "      <td>001</td>\n",
       "      <td>3</td>\n",
       "      <td>25</td>\n",
       "    </tr>\n",
       "    <tr>\n",
       "      <th>...</th>\n",
       "      <td>...</td>\n",
       "      <td>...</td>\n",
       "      <td>...</td>\n",
       "      <td>...</td>\n",
       "      <td>...</td>\n",
       "      <td>...</td>\n",
       "    </tr>\n",
       "    <tr>\n",
       "      <th>1544</th>\n",
       "      <td>202310</td>\n",
       "      <td>EC-MS-CEIE</td>\n",
       "      <td>CEIE767</td>\n",
       "      <td>001</td>\n",
       "      <td>2</td>\n",
       "      <td>15</td>\n",
       "    </tr>\n",
       "    <tr>\n",
       "      <th>1546</th>\n",
       "      <td>202310</td>\n",
       "      <td>EC-MS-CEIE</td>\n",
       "      <td>CEIE795</td>\n",
       "      <td>001</td>\n",
       "      <td>55</td>\n",
       "      <td>60</td>\n",
       "    </tr>\n",
       "    <tr>\n",
       "      <th>1601</th>\n",
       "      <td>202310</td>\n",
       "      <td>EC-MS-DAEN</td>\n",
       "      <td>INFS580</td>\n",
       "      <td>002</td>\n",
       "      <td>2</td>\n",
       "      <td>4</td>\n",
       "    </tr>\n",
       "    <tr>\n",
       "      <th>1603</th>\n",
       "      <td>202310</td>\n",
       "      <td>EC-MS-DAEN</td>\n",
       "      <td>INFS580</td>\n",
       "      <td>003</td>\n",
       "      <td>1</td>\n",
       "      <td>12</td>\n",
       "    </tr>\n",
       "    <tr>\n",
       "      <th>1604</th>\n",
       "      <td>202310</td>\n",
       "      <td>EC-MS-ISYS</td>\n",
       "      <td>COMP502</td>\n",
       "      <td>001</td>\n",
       "      <td>150</td>\n",
       "      <td>150</td>\n",
       "    </tr>\n",
       "  </tbody>\n",
       "</table>\n",
       "<p>178 rows × 6 columns</p>\n",
       "</div>"
      ],
      "text/plain": [
       "     reg_term_code    stu_prog      crs sect_id  reg_status  \\\n",
       "0           202010   EC-MS-AIT   AIT524     003           2   \n",
       "2           202010   EC-MS-AIT   AIT542     002           2   \n",
       "4           202010   EC-MS-AIT   AIT602     001           1   \n",
       "5           202010   EC-MS-AIT   AIT673     DL1           1   \n",
       "6           202010   EC-MS-AIT   AIT677     001           3   \n",
       "...            ...         ...      ...     ...         ...   \n",
       "1544        202310  EC-MS-CEIE  CEIE767     001           2   \n",
       "1546        202310  EC-MS-CEIE  CEIE795     001          55   \n",
       "1601        202310  EC-MS-DAEN  INFS580     002           2   \n",
       "1603        202310  EC-MS-DAEN  INFS580     003           1   \n",
       "1604        202310  EC-MS-ISYS  COMP502     001         150   \n",
       "\n",
       "      cum_total_enrollment  \n",
       "0                       25  \n",
       "2                       20  \n",
       "4                       25  \n",
       "5                       25  \n",
       "6                       25  \n",
       "...                    ...  \n",
       "1544                    15  \n",
       "1546                    60  \n",
       "1601                     4  \n",
       "1603                    12  \n",
       "1604                   150  \n",
       "\n",
       "[178 rows x 6 columns]"
      ]
     },
     "execution_count": 20,
     "metadata": {},
     "output_type": "execute_result"
    }
   ],
   "source": [
    "req_courses_context"
   ]
  },
  {
   "cell_type": "code",
   "execution_count": 21,
   "id": "5b2e4529-d7aa-4244-9331-685194d3dd79",
   "metadata": {},
   "outputs": [],
   "source": [
    "from ortools.linear_solver import pywraplp\n",
    "from itertools import chain"
   ]
  },
  {
   "cell_type": "markdown",
   "id": "2fbfdca6-0fb1-4f7d-9b35-656c56492727",
   "metadata": {},
   "source": [
    "For each semester's influx of students, we want the following:\n",
    "- How many butts are going to be in a seat for a given course section\n",
    "- How many butts are going to be waitlisted for a given course section"
   ]
  },
  {
   "cell_type": "markdown",
   "id": "bc586854-5ec1-4cc3-8b7b-13d3825ef794",
   "metadata": {},
   "source": [
    "**DECISION VARIABLES**\n",
    "\n",
    "X = Number of Students who applied\n",
    "\n",
    "W = Whether the student was waitlisted for the class section\n",
    "\n",
    "A = Whether the student has already registered for the class\n",
    "\n",
    "B = Whether the student has already waitlisted for the class"
   ]
  },
  {
   "cell_type": "markdown",
   "id": "eb57bdfe-500b-4ff9-af10-2ded9623ad9d",
   "metadata": {},
   "source": [
    "**Indices**\n",
    "\n",
    "$s\\in SemesterProgram$ = [1..N]\n",
    "\n",
    "$c\\in Course$ = [1..N]\n",
    "\n",
    "$z\\in Course Section$ = [1..N]\n",
    "\n",
    "$d\\in Student ID$ = [1..N]\n",
    "\n",
    "**Indexed Variables**\n",
    "\n",
    "$CAP_s$ = Total number of students within the semester's program that MUST find a class\n",
    "\n",
    "$PCS_{sc}$ = The ratio of students expected to take this course. _This is based on what our semester's number of registered students were previously_\n",
    "\n",
    "$O_{sc}$ = The MAXIMUM number of students for a course\n",
    "\n",
    "$P_{scz}$ = The MINIMUM number of classes a student must take\n",
    "\n",
    "**Decision Variables**\n",
    "\n",
    "$ X_{sczd} $ = Students who successfully registered\n",
    "\n",
    "$ W_{sczd} $ = Students who were waitlisted\n",
    "\n",
    "\n",
    "$ A_{sc} $ = This counts the total number of students who registered for a class\n",
    "\n",
    "$ B_{sc} $ = This counts the total number of students who were waitlisted for a class\n",
    "\n",
    "\n",
    "$ S_{scd} = \\left\\{\n",
    "    \\begin{array}\\\\\n",
    "        1 & \\mbox{if the student hasn't taken the course} \\  \\\\\n",
    "        0 & \\mbox{else}\n",
    "    \\end{array}\n",
    "\\right. $\n",
    "\n",
    "**Optimization Function**\n",
    "\n",
    "$$ \\text{Min} \\sum_{\\substack{s\\in Semester\\\\c\\in Course\\\\z\\in Course Section\\\\d\\in StudentID}}^{} \\text{W_s_c_z_d} $$\n",
    "\n",
    "\n",
    "**Constraints**\n",
    "\n",
    "This weights students based on who is in the class. _This is effectively a flow diagram_:\n",
    "\n",
    "$$ PCS_{cs} * A_{sc}  <= O_{sc} + B_{sczd} $$\n",
    "\n",
    "We must have a maximum number of classes the student takes in place. _This helps ensure diversity_:\n",
    "\n",
    "$$ \\sum_{\\substack{s\\in Semester\\\\c\\in Course\\\\z\\in Course Section}}^{} X_{sczd} <= O_{sc} \\text{ ; } \\forall{d\\in StudentID} $$\n",
    "\n",
    "We must have a minimmum number of classes the student takes in place. _This helps ensure diversity_:\n",
    "\n",
    "$$ \\sum_{\\substack{s\\in Semester\\\\c\\in Course\\\\z\\in Course Section}}^{} X_{sczd} >= P_{scz} \\text{ ; } \\forall{d\\in StudentID}  $$\n",
    "\n",
    "If only $ X_{sczd} $ or $ W_{sczd} $ can exist at any given time. _They cannot both be used_:\n",
    "\n",
    "$$ X_{sczd} + W_{sczd} <= 1 \\text{ ; } \\forall{s\\in Semester\\\\c\\in Course\\\\z\\in Course Section \\\\d\\in StudentID} $$\n",
    "\n",
    "Students can only take ONE class per class section:\n",
    "\n",
    "$$ \\sum_{\\substack{s\\in Semester\\\\z\\in Course Section}}^{} X_{sczd} <= 1 \\text{ ; } \\forall{c\\in Course \\\\d\\in StudentID} $$\n",
    "\n",
    "$$ \\sum_{\\substack{s\\in Semester\\\\z\\in Course Section}}^{} W_{sczd} <= 1 \\text{ ; } \\forall{c\\in Course \\\\d\\in StudentID} $$\n",
    "\n",
    "This maps all students under a registered class to our $ A_{sc} $ and $ B_{sc} $ values effectively:\n",
    "\n",
    "$$ \\sum_{\\substack{z\\in Course Section\\\\d\\in StudentID}}^{} X_{sczd} =  A_{sc} \\text{ ; } \\forall{z\\in Course Section \\\\d\\in StudentID} $$\n",
    "\n",
    "$$ \\sum_{\\substack{z\\in Course Section\\\\d\\in StudentID}}^{} W_{sczd} = B_{sc} \\text{ ; } \\forall{z\\in Course Section \\\\d\\in StudentID} $$\n",
    "\n",
    "Our $ X_{sczd} $ or $ W_{sczd} $ values will be binary:\n",
    "\n",
    "$$ X_{sczd} = \\left\\{\n",
    "    \\begin{array}\\\\\n",
    "        1 & \\mbox{if the student is registered} \\  \\\\\n",
    "        0 & \\mbox{else}\n",
    "    \\end{array}\n",
    "\\right. $$\n",
    "\n",
    "$$ W_{sczd} = \\left\\{\n",
    "    \\begin{array}\\\\\n",
    "        1 & \\mbox{if the student is waitlisted} \\  \\\\\n",
    "        0 & \\mbox{else}\n",
    "    \\end{array}\n",
    "\\right. $$"
   ]
  },
  {
   "cell_type": "markdown",
   "id": "ef5149db-e90c-402b-9302-14a5dede96a1",
   "metadata": {},
   "source": [
    "**Indexed Variables for us (when we have time)**\n",
    "\n",
    "$J_{sc}$ = Max Credits a student can apply for (Replaces max classes)\n",
    "\n",
    "$R_{scz}$ = MAX number of students for a course section\n",
    "\n",
    "$K_{sc}$ = Min Credits a student can apply for (Replaces min classes)"
   ]
  },
  {
   "cell_type": "markdown",
   "id": "8d8fa190-a2c3-4de7-a1a3-753e4e18e3ba",
   "metadata": {},
   "source": [
    "What we're going to do\n",
    "-> One thing will be a script file that runs automatically behind the scenes\n",
    "-> In the frontend, what we're going to do is define an input dictionary\n",
    "    This is the code that we want: Only international students, and we'll have "
   ]
  },
  {
   "cell_type": "code",
   "execution_count": 22,
   "id": "832b88b4-db81-4e9f-80bf-8562f20cf7ac",
   "metadata": {
    "tags": []
   },
   "outputs": [],
   "source": [
    "all_semesters = list(reg_term_values.keys())\n",
    "#program_limit_values <- included because we need a way to constraint students\n",
    "all_pcs_list = list(req_courses_context[[\"stu_prog\",\"crs\",\"sect_id\"]].drop_duplicates().itertuples(index=False,name=None))\n",
    "all_pcs_dict = {}\n",
    "#References what program contains which class\n",
    "pc_dict = {}\n",
    "cs_dict = {}\n",
    "for t_pcs in all_pcs_list:\n",
    "    if t_pcs[0] not in all_pcs_dict:\n",
    "        pc_dict[t_pcs[0]] = []\n",
    "        all_pcs_dict[t_pcs[0]] = {}\n",
    "    pc_dict[t_pcs[0]].append(t_pcs[1])\n",
    "    if t_pcs[1] not in all_pcs_dict[t_pcs[0]]:\n",
    "        cs_dict[t_pcs[1]] = []\n",
    "        all_pcs_dict[t_pcs[0]][t_pcs[1]] = []\n",
    "    cs_dict[t_pcs[1]].append(t_pcs[2])\n",
    "    all_pcs_dict[t_pcs[0]][t_pcs[1]].append(t_pcs[2])"
   ]
  },
  {
   "cell_type": "code",
   "execution_count": 23,
   "id": "12b4efd2-d939-4058-9a79-e612b9aeae09",
   "metadata": {},
   "outputs": [
    {
     "data": {
      "text/html": [
       "<div>\n",
       "<style scoped>\n",
       "    .dataframe tbody tr th:only-of-type {\n",
       "        vertical-align: middle;\n",
       "    }\n",
       "\n",
       "    .dataframe tbody tr th {\n",
       "        vertical-align: top;\n",
       "    }\n",
       "\n",
       "    .dataframe thead th {\n",
       "        text-align: right;\n",
       "    }\n",
       "</style>\n",
       "<table border=\"1\" class=\"dataframe\">\n",
       "  <thead>\n",
       "    <tr style=\"text-align: right;\">\n",
       "      <th></th>\n",
       "      <th>reg_term_code</th>\n",
       "      <th>stu_prog</th>\n",
       "      <th>crs</th>\n",
       "      <th>sect_id</th>\n",
       "      <th>reg_status</th>\n",
       "      <th>cum_total_enrollment</th>\n",
       "    </tr>\n",
       "  </thead>\n",
       "  <tbody>\n",
       "    <tr>\n",
       "      <th>0</th>\n",
       "      <td>202010</td>\n",
       "      <td>EC-MS-AIT</td>\n",
       "      <td>AIT524</td>\n",
       "      <td>003</td>\n",
       "      <td>2</td>\n",
       "      <td>25</td>\n",
       "    </tr>\n",
       "    <tr>\n",
       "      <th>2</th>\n",
       "      <td>202010</td>\n",
       "      <td>EC-MS-AIT</td>\n",
       "      <td>AIT542</td>\n",
       "      <td>002</td>\n",
       "      <td>2</td>\n",
       "      <td>20</td>\n",
       "    </tr>\n",
       "    <tr>\n",
       "      <th>4</th>\n",
       "      <td>202010</td>\n",
       "      <td>EC-MS-AIT</td>\n",
       "      <td>AIT602</td>\n",
       "      <td>001</td>\n",
       "      <td>1</td>\n",
       "      <td>25</td>\n",
       "    </tr>\n",
       "    <tr>\n",
       "      <th>5</th>\n",
       "      <td>202010</td>\n",
       "      <td>EC-MS-AIT</td>\n",
       "      <td>AIT673</td>\n",
       "      <td>DL1</td>\n",
       "      <td>1</td>\n",
       "      <td>25</td>\n",
       "    </tr>\n",
       "    <tr>\n",
       "      <th>6</th>\n",
       "      <td>202010</td>\n",
       "      <td>EC-MS-AIT</td>\n",
       "      <td>AIT677</td>\n",
       "      <td>001</td>\n",
       "      <td>3</td>\n",
       "      <td>25</td>\n",
       "    </tr>\n",
       "    <tr>\n",
       "      <th>...</th>\n",
       "      <td>...</td>\n",
       "      <td>...</td>\n",
       "      <td>...</td>\n",
       "      <td>...</td>\n",
       "      <td>...</td>\n",
       "      <td>...</td>\n",
       "    </tr>\n",
       "    <tr>\n",
       "      <th>1544</th>\n",
       "      <td>202310</td>\n",
       "      <td>EC-MS-CEIE</td>\n",
       "      <td>CEIE767</td>\n",
       "      <td>001</td>\n",
       "      <td>2</td>\n",
       "      <td>15</td>\n",
       "    </tr>\n",
       "    <tr>\n",
       "      <th>1546</th>\n",
       "      <td>202310</td>\n",
       "      <td>EC-MS-CEIE</td>\n",
       "      <td>CEIE795</td>\n",
       "      <td>001</td>\n",
       "      <td>55</td>\n",
       "      <td>60</td>\n",
       "    </tr>\n",
       "    <tr>\n",
       "      <th>1601</th>\n",
       "      <td>202310</td>\n",
       "      <td>EC-MS-DAEN</td>\n",
       "      <td>INFS580</td>\n",
       "      <td>002</td>\n",
       "      <td>2</td>\n",
       "      <td>4</td>\n",
       "    </tr>\n",
       "    <tr>\n",
       "      <th>1603</th>\n",
       "      <td>202310</td>\n",
       "      <td>EC-MS-DAEN</td>\n",
       "      <td>INFS580</td>\n",
       "      <td>003</td>\n",
       "      <td>1</td>\n",
       "      <td>12</td>\n",
       "    </tr>\n",
       "    <tr>\n",
       "      <th>1604</th>\n",
       "      <td>202310</td>\n",
       "      <td>EC-MS-ISYS</td>\n",
       "      <td>COMP502</td>\n",
       "      <td>001</td>\n",
       "      <td>150</td>\n",
       "      <td>150</td>\n",
       "    </tr>\n",
       "  </tbody>\n",
       "</table>\n",
       "<p>178 rows × 6 columns</p>\n",
       "</div>"
      ],
      "text/plain": [
       "     reg_term_code    stu_prog      crs sect_id  reg_status  \\\n",
       "0           202010   EC-MS-AIT   AIT524     003           2   \n",
       "2           202010   EC-MS-AIT   AIT542     002           2   \n",
       "4           202010   EC-MS-AIT   AIT602     001           1   \n",
       "5           202010   EC-MS-AIT   AIT673     DL1           1   \n",
       "6           202010   EC-MS-AIT   AIT677     001           3   \n",
       "...            ...         ...      ...     ...         ...   \n",
       "1544        202310  EC-MS-CEIE  CEIE767     001           2   \n",
       "1546        202310  EC-MS-CEIE  CEIE795     001          55   \n",
       "1601        202310  EC-MS-DAEN  INFS580     002           2   \n",
       "1603        202310  EC-MS-DAEN  INFS580     003           1   \n",
       "1604        202310  EC-MS-ISYS  COMP502     001         150   \n",
       "\n",
       "      cum_total_enrollment  \n",
       "0                       25  \n",
       "2                       20  \n",
       "4                       25  \n",
       "5                       25  \n",
       "6                       25  \n",
       "...                    ...  \n",
       "1544                    15  \n",
       "1546                    60  \n",
       "1601                     4  \n",
       "1603                    12  \n",
       "1604                   150  \n",
       "\n",
       "[178 rows x 6 columns]"
      ]
     },
     "execution_count": 23,
     "metadata": {},
     "output_type": "execute_result"
    }
   ],
   "source": [
    "req_courses_context\n",
    "#req_courses_context[[\"reg_term_code\",\"stu_prog\",\"crs\",\"sect_id\",\"reg_status\"]]"
   ]
  },
  {
   "cell_type": "code",
   "execution_count": 24,
   "id": "c70a36d4-ec48-4c5f-9fb3-5e1a73053bf9",
   "metadata": {},
   "outputs": [
    {
     "data": {
      "text/plain": [
       "['EC-MS-AIT', 'EC-MS-CEIE', 'EC-MS-DAEN', 'EC-MS-ISYS']"
      ]
     },
     "execution_count": 24,
     "metadata": {},
     "output_type": "execute_result"
    }
   ],
   "source": [
    "req_courses_context[\"stu_prog\"].drop_duplicates().tolist()"
   ]
  },
  {
   "cell_type": "code",
   "execution_count": 25,
   "id": "62018d6f-609c-400f-b3dc-2ad3f9b93156",
   "metadata": {},
   "outputs": [],
   "source": [
    "#Constraints\n",
    "#total_student_population\n",
    "#program_limit_values"
   ]
  },
  {
   "cell_type": "markdown",
   "id": "bd03c019-d841-4f99-a5c2-05920cc928be",
   "metadata": {},
   "source": [
    "Fall 2020\n",
    "150 -> 80 Program_1, 40 Program_2, 30 Program_3\n",
    "50\n",
    "1 student -> 15 credits = 3-4 classes"
   ]
  },
  {
   "cell_type": "code",
   "execution_count": 26,
   "id": "c22d48ba-dd85-4c67-9392-b9160fa1c965",
   "metadata": {},
   "outputs": [],
   "source": [
    "for a_sem in all_semesters:\n",
    "    cxt_grp = reg_term_courses_context.get_group(a_sem)\n",
    "    #WE HAVE RATIOS HERE IN CASE WE NEED TO DO MORE ANALYSIS OR MATCH IT TO 1\n",
    "    #\n",
    "    #These will be our constraints\n",
    "    total_capacity = cxt_grp[[\"crs\",\"reg_status\"]].set_index(\"crs\").to_dict()[\"reg_status\"]\n",
    "    \n",
    "    cxt_grp[\"reg_status\"] = cxt_grp[\"reg_status\"]/reg_term_values[a_sem]\n",
    "    #total_students_list = cxt_grp[\"cum_total_enrollment\"]/reg_term_values[a_sem]\n",
    "    pcs_weighting_ratio = cxt_grp[[\"reg_term_code\",\"stu_prog\",\"crs\",\"sect_id\",\"reg_status\"]].set_index([\"crs\"])[\"reg_status\"].to_dict()\n",
    "    pcs_weighting_ratio = {k : v for k,v in pcs_weighting_ratio.items()} #\"(\"+\",\".join(k)+\")\"\n",
    "    #Now that we have the ratios, we can begin with the objective function.\n",
    "    #\n",
    "    decision_vars = {}\n",
    "    const_vars = {}\n",
    "    \n",
    "    solver = pywraplp.Solver.CreateSolver('SCIP')\n",
    "    if not solver:\n",
    "        print(\"Cannot get solver\")\n",
    "        continue\n",
    "        \n",
    "    \n",
    "    program_l = cxt_grp[\"stu_prog\"].drop_duplicates().tolist()\n",
    "    cs_l = cxt_grp[\"crs\"].drop_duplicates().tolist()\n",
    "\n",
    "    #These will be our reference variables\n",
    "    program_ref = {}\n",
    "    course_ref = {}\n",
    "    \n",
    "    program_w_ref = {}\n",
    "    course_w_ref = {}\n",
    "    course_w_ref = {}\n",
    "    \n",
    "    course_student_ref = {}\n",
    "    course_student_w_ref = {}\n",
    "    \n",
    "    #Student ID\n",
    "    x_decision_vars = {}\n",
    "    w_decision_vars = {}\n",
    "    a_decision_vars = {}\n",
    "    b_decision_vars = {}\n",
    "    #\n",
    "    s_inf = solver.infinity()\n",
    "    \n",
    "    all_pcs = list(cxt_grp[[\"stu_prog\",\"crs\"]].drop_duplicates().itertuples(index=False,name=None))\n",
    "    for a_pc in all_pcs:\n",
    "        if a_pc[0] not in program_ref.keys():\n",
    "            program_ref[a_pc[0]] = []\n",
    "            program_w_ref[a_pc[0]] = []\n",
    "        \n",
    "        if a_pc[1] not in course_ref.keys():\n",
    "            course_ref[a_pc[1]] = []\n",
    "            course_w_ref[a_pc[1]] = []\n",
    "            \n",
    "        if a_pc[1] not in course_student_ref.keys():\n",
    "            course_student_ref[a_pc[1]] = {}\n",
    "            course_student_w_ref[a_pc[1]] = {}\n",
    "        \n",
    "        for student_id in range(1,reg_term_values[a_sem]):\n",
    "            #We'll have two primary decision variables: Waitlist and Student\n",
    "            #This will be a minimization function for our purposes, as we want all students\n",
    "            # to be included.\n",
    "            \n",
    "            x_name = f\"x({student_id},{a_sem})\"\n",
    "            w_name = f\"w({student_id},{a_sem})\"\n",
    "            \n",
    "            #Declares the decision variable\n",
    "            \n",
    "            \n",
    "            decision_vars[x_name] = solver.IntVar(0,1,x_name)\n",
    "            decision_vars[w_name] = solver.IntVar(0,1,w_name)\n",
    "            \n",
    "            \n",
    "            #waitlist_decision_vars[student_id] = pcs_weighting_ratio[f\"({a_sem},{a_pc[0]},{a_pc[1]},{a_pc[2]})\"]\n",
    "            if student_id not in x_decision_vars:\n",
    "                x_decision_vars[student_id] = []\n",
    "            if student_id not in w_decision_vars:\n",
    "                w_decision_vars[student_id] = []\n",
    "            x_decision_vars[student_id].append(decision_vars[x_name])\n",
    "            w_decision_vars[student_id].append(decision_vars[w_name])\n",
    "            \n",
    "            program_ref[a_pc[0]].append(decision_vars[x_name])\n",
    "            program_w_ref[a_pc[0]].append(decision_vars[w_name])\n",
    "            \n",
    "            \n",
    "            course_ref[a_pc[1]].append(decision_vars[x_name])\n",
    "            course_w_ref[a_pc[1]].append(decision_vars[w_name])\n",
    "            \n",
    "            course_student_ref[a_pc[1]][student_id] = decision_vars[x_name]\n",
    "            course_student_w_ref[a_pc[1]][student_id] = decision_vars[w_name]\n",
    "    \n",
    "    \n",
    "    #for p in program_l:\n",
    "    #    const_vars[f\"01_program_{p}_constr\"] = solver.Add(solver.Sum(program_ref[p]) + solver.Sum(program_w_ref[p])\n",
    "    #                                                      >= program_limit_values[p],name=f\"01_program_{p}_constr\")\n",
    "    # A student can't take more than 15 credits of a course\n",
    "    for cs in cs_l:\n",
    "        const_vars[f\"01_course_with_w_{cs}_constr_ratio\"] = solver.Add(pcs_weighting_ratio[cs]*solver.Sum(course_ref[cs]) + solver.Sum(course_w_ref[cs]) >= total_capacity[cs], name=f\"01_course_with_w_{cs}_constr_ratio\")\n",
    "        const_vars[f\"01_course_{cs}_constr\"] = solver.Add(solver.Sum(course_ref[cs]) <= total_capacity[cs], name=f\"02_course_with_w_{cs}_constr\")\n",
    "        for student_id in range(1,reg_term_values[a_sem]): \n",
    "            const_vars[f\"02_course_{cs}_sections_waitlist_constr\"] = solver.Add(course_student_w_ref[cs][student_id] <= 1, name=f\"03_course_{cs}_sections_waitlist_constr\")\n",
    "            const_vars[f\"02_course_{cs}_sections_constr\"] = solver.Add(course_student_ref[cs][student_id] <= 1, name=f\"03_course_{cs}_sections_constr\")\n",
    "            \n",
    "            const_vars[f\"03_one_regstat_{student_id}\"] = solver.Add(course_student_ref[cs][student_id] + course_student_w_ref[cs][student_id] == 1, name=f\"04_one_regstat_{student_id}\")\n",
    "            \n",
    "            a_name = f\"a({cs},{a_sem})\"\n",
    "            b_name = f\"b({cs},{a_sem})\"\n",
    "            a_decision_vars[a_name] = solver.IntVar(0,s_inf,a_name)\n",
    "            b_decision_vars[b_name] = solver.IntVar(0,s_inf,b_name)\n",
    "            \n",
    "            const_vars[f\"03_student_bounds_{student_id}\"] = solver.Add(solver.Sum(x_decision_vars[student_id]) <= 3, name=f\"03_student_bounds_{student_id}\")\n",
    "            #const_vars[f\"03_student_w_bounds_{student_id}\"] = solver.Add(solver.Sum(w_decision_vars[student_id]) <= 3, name=f\"03_student_bounds_w_{student_id}\")\n",
    "        const_vars[f\"04_organization_course_{cs}_const\"] = solver.Add(solver.Sum([course_student_ref[cs][student_id] for student_id in range(1,reg_term_values[a_sem])]) == a_decision_vars[a_name],name=f\"04_organization_course_{cs}_const\")\n",
    "        const_vars[f\"04_organization_wait_course_{cs}_const\"] = solver.Add(solver.Sum([course_student_w_ref[cs][student_id] for student_id in range(1,reg_term_values[a_sem])]) == b_decision_vars[b_name],name=f\"04_organization_wait_course_{cs}_const\")\n",
    "        \n",
    "    \n",
    "    # Minimization function \n",
    "    # -> For later * a_decision_vars[student_id]\n",
    "    \n",
    "    solver.Minimize(solver.Sum([solver.Sum(w_decision_vars[student_id])\n",
    "                                for student_id in range(1,reg_term_values[a_sem])]))\n",
    "    solver.Solve()\n",
    "    break"
   ]
  },
  {
   "cell_type": "code",
   "execution_count": 27,
   "id": "266e931f-1422-434f-a2af-6cf053946934",
   "metadata": {},
   "outputs": [
    {
     "data": {
      "text/plain": [
       "2744"
      ]
     },
     "execution_count": 27,
     "metadata": {},
     "output_type": "execute_result"
    }
   ],
   "source": [
    "solver.NumVariables()"
   ]
  },
  {
   "cell_type": "code",
   "execution_count": 28,
   "id": "deaeb66e-bdcb-4ff7-868f-0416850a6e1a",
   "metadata": {},
   "outputs": [
    {
     "data": {
      "text/plain": [
       "2800"
      ]
     },
     "execution_count": 28,
     "metadata": {},
     "output_type": "execute_result"
    }
   ],
   "source": [
    "solver.NumConstraints()"
   ]
  },
  {
   "cell_type": "code",
   "execution_count": 29,
   "id": "d85b2f01-e976-4af0-99af-3ad829746b91",
   "metadata": {},
   "outputs": [
    {
     "name": "stdout",
     "output_type": "stream",
     "text": [
      "Objective value = 636.0\n"
     ]
    }
   ],
   "source": [
    "print('Objective value =', solver.Objective().Value())"
   ]
  },
  {
   "cell_type": "code",
   "execution_count": 496,
   "id": "2d21eb05-9374-43ce-8c32-2af935eef6cd",
   "metadata": {},
   "outputs": [],
   "source": [
    "#for i in list(x_decision_vars.values()):\n",
    "#    print(f\"{i}\")"
   ]
  },
  {
   "cell_type": "code",
   "execution_count": 30,
   "id": "0d5e4a9b-881a-442e-b0e2-afc343eddc21",
   "metadata": {},
   "outputs": [
    {
     "name": "stdout",
     "output_type": "stream",
     "text": [
      "a(AIT524,202010) -> 2.0\n",
      "a(AIT542,202010) -> 2.0\n",
      "a(AIT602,202010) -> 1.0\n",
      "a(AIT673,202010) -> 1.0\n",
      "a(AIT677,202010) -> 3.0\n",
      "a(AIT716,202010) -> 1.0\n",
      "a(CEIE524,202010) -> 1.0\n",
      "a(CEIE575,202010) -> 3.0\n",
      "a(CEIE576,202010) -> 14.0\n",
      "a(CEIE578,202010) -> 3.0\n",
      "a(CEIE605,202010) -> 13.0\n",
      "a(CEIE679,202010) -> 1.0\n",
      "a(CEIE795,202010) -> 4.0\n",
      "a(DAEN500,202010) -> 1.0\n"
     ]
    }
   ],
   "source": [
    "for i in list(a_decision_vars.values()):\n",
    "    print(f\"{i.name()} -> {i.SolutionValue()}\")"
   ]
  },
  {
   "cell_type": "code",
   "execution_count": 31,
   "id": "47df296c-0303-4c0d-8cf2-2d461c57050c",
   "metadata": {},
   "outputs": [
    {
     "name": "stdout",
     "output_type": "stream",
     "text": [
      "b(AIT524,202010) -> 47.0\n",
      "b(AIT542,202010) -> 47.0\n",
      "b(AIT602,202010) -> 48.0\n",
      "b(AIT673,202010) -> 48.0\n",
      "b(AIT677,202010) -> 46.0\n",
      "b(AIT716,202010) -> 48.0\n",
      "b(CEIE524,202010) -> 48.0\n",
      "b(CEIE575,202010) -> 46.0\n",
      "b(CEIE576,202010) -> 35.0\n",
      "b(CEIE578,202010) -> 46.0\n",
      "b(CEIE605,202010) -> 36.0\n",
      "b(CEIE679,202010) -> 48.0\n",
      "b(CEIE795,202010) -> 45.0\n",
      "b(DAEN500,202010) -> 48.0\n"
     ]
    }
   ],
   "source": [
    "for i in list(b_decision_vars.values()):\n",
    "    print(f\"{i.name()} -> {i.SolutionValue()}\")"
   ]
  },
  {
   "cell_type": "code",
   "execution_count": null,
   "id": "46e31831-9d71-4779-a97b-9016a08c9701",
   "metadata": {},
   "outputs": [],
   "source": []
  },
  {
   "cell_type": "code",
   "execution_count": null,
   "id": "97a60b0a-745d-4855-9292-bdbf4a3db336",
   "metadata": {},
   "outputs": [],
   "source": [
    "process_connection.execute(\"CREATE TABLE results_table(\"\n",
    "                       \"rec_id INTEGER PRIMARY KEY AUTOINCREMENT DEFAULT 0, \"\n",
    "                       \"textual_context TEXT NOT NULL, \"\n",
    "                       \"number_of_students INTEGER NOT NULL\"\n",
    "                       \");\")\n",
    "process_connection.commit()"
   ]
  },
  {
   "cell_type": "markdown",
   "id": "22e2db6d-e2ec-48a0-b77b-aaa602f1878f",
   "metadata": {},
   "source": [
    "**NOW WE CAN GET INTO THE INTERESTING STUFF**"
   ]
  },
  {
   "cell_type": "markdown",
   "id": "cdadc9af-ce85-4379-855b-6e752612afbd",
   "metadata": {},
   "source": [
    "This is for when I have more data; only focusing on what I know for certain given the total number of students available."
   ]
  },
  {
   "cell_type": "code",
   "execution_count": null,
   "id": "fbdf3d5a-59d0-40fd-badd-7e74983df80d",
   "metadata": {},
   "outputs": [],
   "source": [
    "waitlist_courses = total_courses.loc[total_courses[\"reg_status\"] == \"W\",[\"reg_term_code\",\"stu_prog\",\"crs\",\"sect_id\",\"reg_status\"]].groupby([\"reg_term_code\",\"stu_prog\",\"crs\",\"sect_id\"]).count().reset_index()\n",
    "dropped_courses = total_courses.loc[total_courses[\"reg_status\"] == \"D\",[\"reg_term_code\",\"stu_prog\",\"crs\",\"sect_id\",\"reg_status\"]].groupby([\"reg_term_code\",\"stu_prog\",\"crs\",\"sect_id\"]).count().reset_index()"
   ]
  },
  {
   "cell_type": "code",
   "execution_count": null,
   "id": "0767711f-95a0-4c17-a485-b579ab7488e0",
   "metadata": {},
   "outputs": [],
   "source": [
    "waitlist_courses = waitlist_courses.rename(columns={'reg_status':'waitlist'})\n",
    "required_courses = required_courses.rename(columns={'reg_status':'registered'})\n",
    "dropped_courses = dropped_courses.rename(columns={'reg_status':'dropped'})"
   ]
  },
  {
   "cell_type": "code",
   "execution_count": null,
   "id": "7fd4c1c1-0508-4604-8f4a-96ff288b062a",
   "metadata": {},
   "outputs": [],
   "source": [
    "total_courses = required_courses.merge(waitlist_courses, on=[\"reg_term_code\", \"stu_prog\",\"crs\",\"sect_id\"], how=\"left\").fillna(0)\n",
    "total_courses = total_courses.merge(dropped_courses, on=[\"reg_term_code\", \"stu_prog\",\"crs\",\"sect_id\"], how=\"left\").fillna(0)"
   ]
  },
  {
   "cell_type": "code",
   "execution_count": null,
   "id": "87e6fdb4-31d1-419e-9e71-5789d8e407de",
   "metadata": {},
   "outputs": [],
   "source": []
  },
  {
   "cell_type": "code",
   "execution_count": null,
   "id": "24c9aa96-a1a4-4c29-93b3-ae170c1c668f",
   "metadata": {},
   "outputs": [],
   "source": []
  },
  {
   "cell_type": "code",
   "execution_count": null,
   "id": "b7c7204e-633e-4f47-8976-f70fcddda2b6",
   "metadata": {},
   "outputs": [],
   "source": []
  }
 ],
 "metadata": {
  "environment": {
   "kernel": "python3",
   "name": "common-cpu.m103",
   "type": "gcloud",
   "uri": "gcr.io/deeplearning-platform-release/base-cpu:m103"
  },
  "kernelspec": {
   "display_name": "Python 3",
   "language": "python",
   "name": "python3"
  },
  "language_info": {
   "codemirror_mode": {
    "name": "ipython",
    "version": 3
   },
   "file_extension": ".py",
   "mimetype": "text/x-python",
   "name": "python",
   "nbconvert_exporter": "python",
   "pygments_lexer": "ipython3",
   "version": "3.7.12"
  }
 },
 "nbformat": 4,
 "nbformat_minor": 5
}
