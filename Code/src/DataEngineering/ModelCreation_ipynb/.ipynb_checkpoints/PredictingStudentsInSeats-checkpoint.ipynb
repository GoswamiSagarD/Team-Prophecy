{
 "cells": [
  {
   "cell_type": "code",
   "execution_count": 238,
   "id": "553e5ced-1769-4ea0-86a0-5575e35e2030",
   "metadata": {
    "tags": []
   },
   "outputs": [],
   "source": [
    "import sqlite3\n",
    "import pandas as pd\n",
    "import os\n",
    "import copy\n",
    "import regex as re\n",
    "pd.options.mode.chained_assignment = None"
   ]
  },
  {
   "cell_type": "code",
   "execution_count": 239,
   "id": "6809bb5f-cd7b-4d51-a67b-b494ad69ab7e",
   "metadata": {},
   "outputs": [
    {
     "name": "stdout",
     "output_type": "stream",
     "text": [
      "/home/jupyter/Team-Prophecy/Data/02_processed/intermediate.db\n"
     ]
    }
   ],
   "source": [
    "process_path = os.path.join(os.sep+\"home\"+os.sep+\"jupyter\"+os.sep+\"Team-Prophecy\",\"Data\",\"02_processed\",\"intermediate.db\")\n",
    "print(process_path)"
   ]
  },
  {
   "cell_type": "code",
   "execution_count": 240,
   "id": "0f572099-7836-482d-a094-b65a366508f0",
   "metadata": {},
   "outputs": [
    {
     "name": "stdout",
     "output_type": "stream",
     "text": [
      "/home/jupyter/Team-Prophecy/Data/03_output_for_tableau\n"
     ]
    }
   ],
   "source": [
    "output_path = os.path.join(os.sep+\"home\"+os.sep+\"jupyter\"+os.sep+\"Team-Prophecy\",\"Data\",\"03_output_for_tableau\")\n",
    "print(output_path)"
   ]
  },
  {
   "cell_type": "code",
   "execution_count": 241,
   "id": "2c51014b-08bb-4006-92a9-38ca7b97e93b",
   "metadata": {},
   "outputs": [],
   "source": [
    "process_connection = sqlite3.connect(process_path)"
   ]
  },
  {
   "cell_type": "code",
   "execution_count": 242,
   "id": "454dc8be-ece6-4e97-b517-e8e2a8d1f28a",
   "metadata": {},
   "outputs": [],
   "source": [
    "inputs = {    \n",
    "    'prog_desc'     : \"All\",\n",
    "    'courses'       : \"All\",\n",
    "    'mod'           : \"F2F\", #F2F\n",
    "    'visa'          : \"F1 Visa\", #F1 Visa\n",
    "    'required_only' : True,\n",
    "    'ExpN_eat'      : 150\n",
    "}"
   ]
  },
  {
   "cell_type": "code",
   "execution_count": 243,
   "id": "5319e14e-9620-4eab-8d72-c1e7dd82045e",
   "metadata": {},
   "outputs": [],
   "source": [
    "# Building the model parameters\n",
    "model_params = {\n",
    "    'prog_desc'         : inputs['prog_desc'],\n",
    "    'courses'           : inputs['courses'],\n",
    "    'mod'               : inputs['mod'],\n",
    "    'visa'              : inputs['visa'],\n",
    "    'ExpN_eat'          : inputs['ExpN_eat'],\n",
    "    'enr_hist'          : 4 if inputs['visa'] == 'F1 Visa' else 8,\n",
    "    'filters'           : {\n",
    "        'prog_filter'   : inputs['prog_desc'] != 'All',\n",
    "        'course_filter' : inputs['courses'] != 'All',\n",
    "        'visa_filter'   : inputs['visa'] != 'combined',\n",
    "        'required_only' : inputs['required_only']\n",
    "    },\n",
    "    'groupby'           : {\n",
    "        'mod_groupby'   : inputs['mod'] != 'combined'\n",
    "    }\n",
    "}"
   ]
  },
  {
   "cell_type": "code",
   "execution_count": 244,
   "id": "5f3e2488-240d-42f8-8d72-9f4e26efe1f9",
   "metadata": {},
   "outputs": [],
   "source": [
    "def list_to_str(l):\n",
    "    \"\"\"\n",
    "    Create a string in the format of \"('a', 'b', 'c', 'd')\" from list ['a', 'b', 'c', 'd']\n",
    "    \"\"\"\n",
    "    return str(tuple(l))"
   ]
  },
  {
   "cell_type": "code",
   "execution_count": 245,
   "id": "4fafd44b-af00-479a-8226-65628ae12b88",
   "metadata": {},
   "outputs": [],
   "source": [
    "student_stat_query = \"\"\"\n",
    "    SELECT rs.reg_term_code, rs.reg_stu_id, crs, rs.sect_id, rs.reg_new_ret_stu, rs.reg_final_status\n",
    "    FROM registration_status rs\n",
    "    WHERE 1=1 \n",
    "\"\"\"\n",
    "student_details_query = \"\"\"\n",
    "    SELECT stu_admit_term_code, stu_college, stu_deg_level, stu_dept, stu_id, stu_res, stu_prog, stu_visa, stu_bam\n",
    "    FROM student_details \n",
    "    WHERE 1=1 \n",
    "\"\"\"\n",
    "\n",
    "program_course_offerings = \"\"\"\n",
    "    SELECT * FROM PROGRAM_COURSE_OFFERINGS \n",
    "\"\"\"\n",
    "\n",
    "# Program Filter\n",
    "if model_params['filters']['prog_filter']:\n",
    "    student_details_query += f\"AND stu_prog = '{model_params['prog_desc']}' \"\n",
    "\n",
    "# Course Filter\n",
    "if model_params['filters']['course_filter']:\n",
    "    student_stat_query += f\"AND crs IN {list_to_str(model_params['courses'])} \"\n",
    "\n",
    "# Visa Filter\n",
    "if model_params['filters']['visa_filter']:\n",
    "    student_details_query += f\"AND stu_visa = '{model_params['visa']}' \""
   ]
  },
  {
   "cell_type": "code",
   "execution_count": 246,
   "id": "7c4c8140-00d9-4649-8086-34b56a5fa928",
   "metadata": {},
   "outputs": [],
   "source": [
    "student_stat = pd.DataFrame(process_connection.execute(student_stat_query).fetchall(),columns=[\"reg_term_code\", \"student_id\", \"crs\", \"sect_id\", \"returning_student\", \"reg_status\"])\n",
    "\n",
    "#WHERE reg_final_status IN ('W','R')\n",
    "#GROUP BY reg_term_code, crs, sect_id, reg_final_status\n",
    "\n",
    "student_details = pd.DataFrame(process_connection.execute(student_details_query).fetchall(),columns=[\"reg_term_code\",\"stu_college\",\"stu_deg_level\",\"stu_dept\",\"student_id\",\n",
    "                                                                                                     \"stu_res\",\"stu_prog\",\"stu_visa\",\"stu_bam\"])\n",
    "\n",
    "pco_df = pd.DataFrame(process_connection.execute(program_course_offerings),columns=[\"stu_prog\",\"crs\",\"required\"])\n",
    "\n",
    "total_stat = student_stat.merge(student_details, on=[\"reg_term_code\",\"student_id\"], how=\"inner\").fillna(0)\n",
    "total_stat = total_stat.merge(pco_df, on=[\"stu_prog\",\"crs\"])"
   ]
  },
  {
   "cell_type": "code",
   "execution_count": 247,
   "id": "266d0c8d-a010-4d55-a629-8f29438d8f9e",
   "metadata": {},
   "outputs": [],
   "source": [
    "required_dictionary = pco_df.drop_duplicates().set_index([\"stu_prog\",\"crs\"])[\"required\"].to_dict()\n",
    "required_dictionary = {f\"({k[0]},{k[1]})\":v for k,v in required_dictionary.items()}"
   ]
  },
  {
   "cell_type": "code",
   "execution_count": 248,
   "id": "c3b6ec47-8bed-466d-8167-b2f474e6270b",
   "metadata": {},
   "outputs": [],
   "source": [
    "if model_params['filters']['required_only']:\n",
    "    total_stat = total_stat.loc[total_stat[\"required\"] == 1,:]"
   ]
  },
  {
   "cell_type": "code",
   "execution_count": 249,
   "id": "3b9a4966-c1f3-4cda-b8c9-e1de7a48e6d1",
   "metadata": {},
   "outputs": [],
   "source": [
    "total_student_population = total_stat[[\"reg_term_code\"]].groupby(\"reg_term_code\").count().reset_index()"
   ]
  },
  {
   "cell_type": "code",
   "execution_count": 250,
   "id": "e63becae-0072-4c09-9fc9-c6c8abb41775",
   "metadata": {},
   "outputs": [],
   "source": [
    "reg_term_values = dict(total_stat.groupby([\"reg_term_code\"])[\"reg_term_code\"].count())"
   ]
  },
  {
   "cell_type": "code",
   "execution_count": 251,
   "id": "c8b110b4-794c-42a5-9393-6a22a03ba818",
   "metadata": {},
   "outputs": [],
   "source": [
    "#program_limit_values = dict(total_stat.groupby([\"stu_prog\"])[\"stu_prog\"].count())"
   ]
  },
  {
   "cell_type": "code",
   "execution_count": 252,
   "id": "2bae5467-c226-44d9-bb1f-85a809c39830",
   "metadata": {},
   "outputs": [],
   "source": [
    "req_courses_context = total_stat.loc[total_stat[\"reg_status\"] == \"R\",[\"reg_term_code\",\"stu_prog\",\"crs\",\"sect_id\",\"reg_status\"]].groupby([\"reg_term_code\",\"stu_prog\",\"crs\",\"sect_id\"]).count().reset_index()\n",
    "#nonregistered_courses = total_courses.loc[total_courses[\"reg_status\"] != \"R\",[\"reg_term_code\",\"stu_prog\",\"crs\",\"sect_id\",\"reg_status\"]].groupby([\"reg_term_code\",\"stu_prog\",\"crs\",\"sect_id\"]).count().reset_index()"
   ]
  },
  {
   "cell_type": "markdown",
   "id": "25a469fd-9c75-47f3-ae11-37474b9b2cb9",
   "metadata": {},
   "source": [
    "Keep in mind: Our registered values will be dependent on what's in our subset."
   ]
  },
  {
   "cell_type": "code",
   "execution_count": 253,
   "id": "c3141262-ed3f-4117-8dcc-c1feb9ddff91",
   "metadata": {},
   "outputs": [],
   "source": [
    "#req_courses_context = registered_courses.merge(ref_course[[\"reg_term_code\", \"crs\",\"sect_id\", \"cum_total_enrollment\"]], on=[\"reg_term_code\", \"crs\",\"sect_id\"], how=\"inner\").drop_duplicates()\n",
    "#req_courses_context.loc[req_courses_context[\"cum_total_enrollment\"] < req_courses_context[\"reg_status\"],[\"cum_total_enrollment\"]]  = req_courses_context[\"reg_status\"]\n",
    "#req_courses_context.columns"
   ]
  },
  {
   "cell_type": "code",
   "execution_count": 254,
   "id": "26a6a56f-b350-42a9-9868-a13fc4263ad3",
   "metadata": {},
   "outputs": [],
   "source": [
    "reg_term_courses_context = req_courses_context.groupby([\"reg_term_code\"])"
   ]
  },
  {
   "cell_type": "code",
   "execution_count": 255,
   "id": "5b2e4529-d7aa-4244-9331-685194d3dd79",
   "metadata": {},
   "outputs": [],
   "source": [
    "from ortools.linear_solver import pywraplp\n",
    "from itertools import chain"
   ]
  },
  {
   "cell_type": "markdown",
   "id": "8d8fa190-a2c3-4de7-a1a3-753e4e18e3ba",
   "metadata": {},
   "source": [
    "What we're going to do\n",
    "-> One thing will be a script file that runs automatically behind the scenes\n",
    "-> In the frontend, what we're going to do is define an input dictionary\n",
    "    This is the code that we want: Only international students, and we'll have "
   ]
  },
  {
   "cell_type": "code",
   "execution_count": 256,
   "id": "832b88b4-db81-4e9f-80bf-8562f20cf7ac",
   "metadata": {
    "tags": []
   },
   "outputs": [],
   "source": [
    "all_semesters = list(reg_term_values.keys())\n",
    "#program_limit_values <- included because we need a way to constraint students\n",
    "all_pcs_list = list(req_courses_context[[\"stu_prog\",\"crs\",\"sect_id\"]].drop_duplicates().itertuples(index=False,name=None))\n",
    "all_pcs_dict = {}\n",
    "#References what program contains which class\n",
    "pc_dict = {}\n",
    "cs_dict = {}\n",
    "for t_pcs in all_pcs_list:\n",
    "    if t_pcs[0] not in all_pcs_dict:\n",
    "        pc_dict[t_pcs[0]] = []\n",
    "        all_pcs_dict[t_pcs[0]] = {}\n",
    "    pc_dict[t_pcs[0]].append(t_pcs[1])\n",
    "    if t_pcs[1] not in all_pcs_dict[t_pcs[0]]:\n",
    "        cs_dict[t_pcs[1]] = []\n",
    "        all_pcs_dict[t_pcs[0]][t_pcs[1]] = []\n",
    "    cs_dict[t_pcs[1]].append(t_pcs[2])\n",
    "    all_pcs_dict[t_pcs[0]][t_pcs[1]].append(t_pcs[2])"
   ]
  },
  {
   "cell_type": "code",
   "execution_count": 257,
   "id": "12b4efd2-d939-4058-9a79-e612b9aeae09",
   "metadata": {},
   "outputs": [],
   "source": [
    "#req_courses_context\n",
    "#req_courses_context[[\"reg_term_code\",\"stu_prog\",\"crs\",\"sect_id\",\"reg_status\"]]"
   ]
  },
  {
   "cell_type": "code",
   "execution_count": 258,
   "id": "c70a36d4-ec48-4c5f-9fb3-5e1a73053bf9",
   "metadata": {},
   "outputs": [
    {
     "data": {
      "text/plain": [
       "['EC-MS-ELEN',\n",
       " 'EC-MS-ISA',\n",
       " 'EC-MS-AIT',\n",
       " 'EC-MS-CEIE',\n",
       " 'EC-MS-CS',\n",
       " 'EC-MS-DAEN',\n",
       " 'EC-MS-ISYS',\n",
       " 'EC-MS-TCOM',\n",
       " 'EC-MS-OPRS',\n",
       " 'EC-MS-STAT',\n",
       " 'EC-MS-SWE',\n",
       " 'EC-MS-CPE',\n",
       " 'EC-MS-SYST',\n",
       " 'EC-MS-BIOE',\n",
       " 'EC-MS-DFOR',\n",
       " 'EC-MS-BSTA']"
      ]
     },
     "execution_count": 258,
     "metadata": {},
     "output_type": "execute_result"
    }
   ],
   "source": [
    "req_courses_context[\"stu_prog\"].drop_duplicates().tolist()"
   ]
  },
  {
   "cell_type": "code",
   "execution_count": 259,
   "id": "62018d6f-609c-400f-b3dc-2ad3f9b93156",
   "metadata": {},
   "outputs": [],
   "source": [
    "#Constraints\n",
    "#total_student_population\n",
    "#program_limit_values"
   ]
  },
  {
   "cell_type": "markdown",
   "id": "bd03c019-d841-4f99-a5c2-05920cc928be",
   "metadata": {},
   "source": [
    "Fall 2020\n",
    "150 -> 80 Program_1, 40 Program_2, 30 Program_3\n",
    "50\n",
    "1 student -> 15 credits = 3-4 classes"
   ]
  },
  {
   "cell_type": "code",
   "execution_count": 260,
   "id": "46e31831-9d71-4779-a97b-9016a08c9701",
   "metadata": {},
   "outputs": [],
   "source": [
    "try:\n",
    "    process_connection.execute(\"DROP TABLE prior_class_table\")\n",
    "    process_connection.commit()\n",
    "except:\n",
    "    print()\n",
    "\n",
    "try:\n",
    "    process_connection.execute(\"DROP TABLE student_results_table\")\n",
    "    process_connection.commit()\n",
    "except:\n",
    "    print()\n",
    "    \n",
    "try:\n",
    "    process_connection.execute(\"DROP TABLE program_results_table\")\n",
    "    process_connection.commit()\n",
    "except:\n",
    "    print()\n",
    "\n",
    "try:\n",
    "    process_connection.execute(\"DROP TABLE results_table\")\n",
    "    process_connection.commit()\n",
    "except:\n",
    "    print()"
   ]
  },
  {
   "cell_type": "code",
   "execution_count": 261,
   "id": "29466ff8-253e-46e1-918c-3b42707426c3",
   "metadata": {},
   "outputs": [],
   "source": [
    "process_connection.execute(\"\"\"\n",
    "                    CREATE TABLE prior_class_table(\n",
    "                       student_id INTEGER NOT NULL DEFAULT 0, \n",
    "                       course_code TEXT NOT NULL,\n",
    "                       PRIMARY KEY(student_id, course_code)\n",
    "                    );\n",
    "                    \"\"\")\n",
    "process_connection.commit()"
   ]
  },
  {
   "cell_type": "code",
   "execution_count": 262,
   "id": "97a60b0a-745d-4855-9292-bdbf4a3db336",
   "metadata": {},
   "outputs": [],
   "source": [
    "process_connection.execute(\"\"\"\n",
    "                    CREATE TABLE student_results_table(\n",
    "                       rec_id INTEGER PRIMARY KEY AUTOINCREMENT DEFAULT 0, \n",
    "                       semester TEXT NOT NULL,\n",
    "                       program TEXT NOT NULL,\n",
    "                       course_code TEXT NOT NULL,\n",
    "                       student_id INTEGER NOT NULL,\n",
    "                       international TEXT NOT NULL DEFAULT 'F',\n",
    "                       waitlisted TEXT NOT NULL DEFAULT 'F',\n",
    "                       core_course TEXT NOT NULL DEFAULT 'F' \n",
    "                    );\n",
    "                       \"\"\")\n",
    "process_connection.commit()"
   ]
  },
  {
   "cell_type": "code",
   "execution_count": 263,
   "id": "9af2b231-f3ad-42c2-9231-91303eba1d05",
   "metadata": {},
   "outputs": [],
   "source": [
    "process_connection.execute(\"\"\"\n",
    "                    CREATE TABLE program_results_table(\n",
    "                       rec_id INTEGER PRIMARY KEY AUTOINCREMENT DEFAULT 0, \n",
    "                       semester TEXT NOT NULL,\n",
    "                       program TEXT NOT NULL,\n",
    "                       course_code TEXT NOT NULL,\n",
    "                       waitlisted TEXT NOT NULL DEFAULT 'F',\n",
    "                       number_of_students TEXT NOT NULL\n",
    "                    );\n",
    "                       \"\"\")\n",
    "process_connection.commit()"
   ]
  },
  {
   "cell_type": "code",
   "execution_count": 264,
   "id": "44506eda-bbcf-4c0e-a8ee-ba908a3b93e7",
   "metadata": {},
   "outputs": [],
   "source": [
    "process_connection.execute(\"\"\"\n",
    "                    CREATE TABLE results_table(\n",
    "                       rec_id INTEGER PRIMARY KEY AUTOINCREMENT DEFAULT 0, \n",
    "                       semester TEXT NOT NULL,\n",
    "                       program TEXT NOT NULL,\n",
    "                       min_waitlisted_students INTEGER NOT NULL\n",
    "                    );\n",
    "                       \"\"\")\n",
    "process_connection.commit()"
   ]
  },
  {
   "cell_type": "code",
   "execution_count": 265,
   "id": "94362ba5-e7c5-4f4e-ae04-c8f2f897ca50",
   "metadata": {},
   "outputs": [],
   "source": [
    "req_mean = req_courses_context.groupby([\"crs\",\"sect_id\"]).mean(\"reg_status\").reset_index()\n",
    "req_med = req_courses_context.groupby([\"crs\",\"sect_id\"]).median(\"reg_status\").reset_index()\n",
    "req_mean = req_mean.rename(columns={\"reg_status\": \"mean\"})\n",
    "req_med = req_med.rename(columns={\"reg_status\": \"median\"})\n",
    "req_avg = req_mean.merge(req_med,on=[\"crs\",\"sect_id\"],how=\"inner\")\n",
    "req_avg[\"avg\"] = round(req_avg[[\"mean\",\"median\"]].max(axis=1))\n",
    "req_avg = req_avg[[\"crs\",\"sect_id\",\"avg\"]]"
   ]
  },
  {
   "cell_type": "code",
   "execution_count": 266,
   "id": "1869c447-2bbe-4207-949e-76a496ac2d22",
   "metadata": {},
   "outputs": [],
   "source": [
    "course_sect_avg_dict = req_avg.set_index([\"crs\",\"sect_id\"])[\"avg\"].to_dict()"
   ]
  },
  {
   "cell_type": "code",
   "execution_count": 267,
   "id": "17bb99ed-a663-413f-a498-2b9794395974",
   "metadata": {},
   "outputs": [],
   "source": [
    "req_mean = req_courses_context.groupby([\"crs\"]).mean(\"reg_status\").reset_index()\n",
    "req_med = req_courses_context.groupby([\"crs\"]).median(\"reg_status\").reset_index()\n",
    "req_mean = req_mean.rename(columns={\"reg_status\": \"mean\"})\n",
    "req_med = req_med.rename(columns={\"reg_status\": \"median\"})\n",
    "req_avg = req_mean.merge(req_med,on=[\"crs\"],how=\"inner\")\n",
    "req_avg[\"avg\"] = round(req_avg[[\"mean\",\"median\"]].max(axis=1))\n",
    "req_avg = req_avg[[\"crs\",\"avg\"]]"
   ]
  },
  {
   "cell_type": "code",
   "execution_count": 268,
   "id": "d7f6f251-27a5-4f98-a5f1-40f7699156f7",
   "metadata": {},
   "outputs": [],
   "source": [
    "course_avg_dict = req_avg.set_index([\"crs\"])[\"avg\"].to_dict()"
   ]
  },
  {
   "cell_type": "code",
   "execution_count": 269,
   "id": "4b6d7804-d90a-444d-a59d-4fccae97fe5f",
   "metadata": {},
   "outputs": [],
   "source": [
    "def modelSolve(a_sem,cxt_grp,prior_student_info):\n",
    "    #WE HAVE RATIOS HERE IN CASE WE NEED TO DO MORE ANALYSIS OR MATCH IT TO 1\n",
    "    #\n",
    "    #These will be our constraints\n",
    "    CAP_s = model_params['ExpN_eat']\n",
    "    \n",
    "    cxt_grp[\"reg_status\"] = cxt_grp[\"reg_status\"]/reg_term_values[a_sem]\n",
    "    #total_students_list = cxt_grp[\"cum_total_enrollment\"]/reg_term_values[a_sem]\n",
    "    pcs_weighting_ratio = cxt_grp[[\"reg_term_code\",\"stu_prog\",\"crs\",\"sect_id\",\"reg_status\"]].set_index([\"crs\"])[\"reg_status\"].to_dict()\n",
    "    pcs_weighting_ratio = {k : v for k,v in pcs_weighting_ratio.items()} #\"(\"+\",\".join(k)+\")\"\n",
    "    #Now that we have the ratios, we can begin with the objective function.\n",
    "    #\n",
    "    program_ref = {}\n",
    "    course_ref = {}\n",
    "    \n",
    "    program_w_ref = {}\n",
    "    course_w_ref = {}\n",
    "    \n",
    "    course_student_ref = {}\n",
    "    course_student_w_ref = {}\n",
    "    \n",
    "    #Total Decision and Constant Variables Used\n",
    "    decision_vars = {}\n",
    "    const_vars = {}\n",
    "    \n",
    "    #Student ID Decision Variables\n",
    "    x_decision_vars = {}\n",
    "    w_decision_vars = {}\n",
    "    a_decision_vars = {}\n",
    "    b_decision_vars = {}\n",
    "    \n",
    "    solver = pywraplp.Solver.CreateSolver('SCIP')\n",
    "    if not solver:\n",
    "        print(\"Cannot get solver\")\n",
    "        return\n",
    "        \n",
    "    cs_l = cxt_grp[\"crs\"].drop_duplicates().tolist()\n",
    "\n",
    "    #\n",
    "    s_inf = solver.infinity()\n",
    "    \n",
    "    all_cs = dict(cxt_grp[[\"crs\",\"sect_id\"]].drop_duplicates().itertuples(index=False,name=None))\n",
    "    \n",
    "    for cs in all_cs.keys():\n",
    "        if cs not in course_ref.keys():\n",
    "            course_ref[cs] = []\n",
    "            course_w_ref[cs] = []\n",
    "            \n",
    "        if cs not in course_student_ref.keys():\n",
    "            course_student_ref[cs] = {}\n",
    "            course_student_w_ref[cs] = {}\n",
    "        \n",
    "        for student_id in range(1,CAP_s):\n",
    "            if student_id not in course_student_ref[cs]:\n",
    "                course_student_ref[cs][student_id] = []\n",
    "            \n",
    "            if student_id not in course_student_w_ref[cs]:\n",
    "                course_student_w_ref[cs][student_id] = []\n",
    "            #######################################################\n",
    "            #DEFINES DECISION VARS\n",
    "            # -> Establishes all student id based on the CAP_s provided\n",
    "            #######################################################\n",
    "            for sect in all_cs[cs]:\n",
    "                #We'll have two primary decision variables: Waitlist and Student\n",
    "                #This will be a minimization function for our purposes, as we want all students\n",
    "                # to be included.\n",
    "\n",
    "                x_name = f\"x({cs},{sect},{student_id})\"\n",
    "                w_name = f\"w({cs},{sect},{student_id})\"\n",
    "\n",
    "                decision_vars[x_name] = solver.IntVar(0,1,x_name)\n",
    "                decision_vars[w_name] = solver.IntVar(0,1,w_name)\n",
    "\n",
    "                if student_id not in x_decision_vars:\n",
    "                    x_decision_vars[student_id] = []\n",
    "                if student_id not in w_decision_vars:\n",
    "                    w_decision_vars[student_id] = []\n",
    "\n",
    "                x_decision_vars[student_id].append(decision_vars[x_name])\n",
    "                w_decision_vars[student_id].append(decision_vars[w_name])\n",
    "\n",
    "                course_ref[cs].append(decision_vars[x_name])\n",
    "                course_w_ref[cs].append(decision_vars[w_name])\n",
    "\n",
    "                course_student_ref[cs][student_id].append(decision_vars[x_name])\n",
    "                course_student_w_ref[cs][student_id].append(decision_vars[w_name])\n",
    "    \n",
    "        # This addresses all values associated with courses. Sections will come later, but for now let's establish a baseline.\n",
    "        const_vars[f\"01_course_with_w_{cs}_constr_ratio\"] = solver.Add(pcs_weighting_ratio[cs]*solver.Sum(course_ref[cs]) <= course_avg_dict[cs] + solver.Sum(course_w_ref[cs]), name=f\"01_course_with_w_{cs}_constr_ratio\")\n",
    "        const_vars[f\"02_course_with_w_{cs}_constr\"] = solver.Add(solver.Sum(course_ref[cs]) <= course_avg_dict[cs], name=f\"02_course_with_w_{cs}_constr\")\n",
    "        for student_id in range(1,CAP_s): \n",
    "            const_vars[f\"03_course_{cs}_sections_waitlist_constr\"] = solver.Add(solver.Sum(course_student_w_ref[cs][student_id]) <= 1, name=f\"03_course_{cs}_sections_waitlist_constr\")\n",
    "            const_vars[f\"04_course_{cs}_sections_constr\"] = solver.Add(solver.Sum(course_student_ref[cs][student_id]) <= 1, name=f\"04_course_{cs}_sections_constr\")\n",
    "\n",
    "            const_vars[f\"05_one_regstat_{student_id}\"] = solver.Add(solver.Sum(course_student_ref[cs][student_id]) + solver.Sum(course_student_w_ref[cs][student_id]) == 1, name=f\"05_one_regstat_{student_id}\")\n",
    "\n",
    "            a_name = f\"a({cs},{a_sem})\"\n",
    "            b_name = f\"b({cs},{a_sem})\"\n",
    "            a_decision_vars[a_name] = solver.IntVar(0,s_inf,a_name)\n",
    "            b_decision_vars[b_name] = solver.IntVar(0,s_inf,b_name)\n",
    "\n",
    "            const_vars[f\"06_student_max_classes_bounds_{student_id}\"] = solver.Add(solver.Sum(x_decision_vars[student_id]) <= 3, name=f\"06_student_max_classes_bounds_{student_id}\")\n",
    "            #const_vars[f\"07_student_min_classes_bounds_{student_id}\"] = solver.Add(solver.Sum(x_decision_vars[student_id]) >= 1, name=f\"07_student_min_classes_bounds_{student_id}\")\n",
    "        const_vars[f\"07_organization_course_{cs}_const\"] = solver.Add(solver.Sum([solver.Sum(course_student_ref[cs][student_id]) for student_id in range(1,CAP_s)]) == a_decision_vars[a_name],name=f\"07_organization_course_{cs}_const\")\n",
    "        const_vars[f\"08_organization_wait_course_{cs}_const\"] = solver.Add(solver.Sum([solver.Sum(course_student_w_ref[cs][student_id]) for student_id in range(1,CAP_s)]) == b_decision_vars[b_name],name=f\"08_organization_wait_course_{cs}_const\")\n",
    "\n",
    "    \n",
    "    # Minimization function \n",
    "    # -> For later * a_decision_vars[student_id]\n",
    "    \n",
    "    solver.Minimize(solver.Sum([solver.Sum(w_decision_vars[student_id])\n",
    "                                for student_id in range(1,CAP_s)]))\n",
    "    solver.Solve()\n",
    "    \n",
    "    return solver, x_decision_vars, w_decision_vars, a_decision_vars, b_decision_vars"
   ]
  },
  {
   "cell_type": "code",
   "execution_count": 270,
   "id": "c22d48ba-dd85-4c67-9392-b9160fa1c965",
   "metadata": {},
   "outputs": [],
   "source": [
    "#passed_student_info = {}\n",
    "student_results_table = []\n",
    "program_results_table = []\n",
    "results_table = []\n",
    "for a_sem in all_semesters:\n",
    "    cxt_grp = reg_term_courses_context.get_group(a_sem)\n",
    "    prg_list = cxt_grp[\"stu_prog\"].drop_duplicates().tolist()\n",
    "    for p in prg_list:\n",
    "        solver, x_decision_vars, w_decision_vars, \\\n",
    "            a_decision_vars,b_decision_vars = modelSolve(a_sem,cxt_grp.loc[cxt_grp[\"stu_prog\"] == p,:],prior_student_info)\n",
    "        #print('Objective value =', solver.Objective().Value())\n",
    "        #print(f\"Registered Students under the Classes taken for Program {p} on {a_sem}:\")\n",
    "        \n",
    "        for i in list(a_decision_vars.values()):\n",
    "            #print(f\"{i.name()} -> {i.SolutionValue()}\")\n",
    "            course_res = re.findall(r\"\\(([A-Z0-9]+),\",i.name())[0]\n",
    "            program_results_table.append((a_sem,p,course_res,\"F\",i.SolutionValue()))\n",
    "        #print(f\"Waitlisted Students under the Classes taken for Program {p} on {a_sem}:\")\n",
    "        for i in list(b_decision_vars.values()):\n",
    "            #print(f\"{i.name()} -> {i.SolutionValue()}\")\n",
    "            course_res = re.findall(r\"\\(([A-Z0-9]+),\",i.name())[0]\n",
    "            program_results_table.append((a_sem,p,course_res,\"T\",i.SolutionValue()))\n",
    "        \n",
    "        #print(f\"Retrieving individual students under a given class for Program {p} on {a_sem}:\")\n",
    "        all_students = list(x_decision_vars.keys())\n",
    "        \n",
    "        #NOTE: Value for international students set to true because we haven't gotten to that point yet\n",
    "        for i in all_students:\n",
    "            rdec = range(0,len(x_decision_vars[i]))\n",
    "            for k in rdec:\n",
    "                solVal = x_decision_vars[i][k].SolutionValue()\n",
    "                if solVal == 0:\n",
    "                    continue\n",
    "                retained_val = re.findall(r\"\\(([A-Z0-9]+),([0-9]*),([0-9]*)\",x_decision_vars[i][k].name())\n",
    "                #print(retained_val)\n",
    "                for r in retained_val:\n",
    "                    course = r[0]\n",
    "                    sect = r[1]\n",
    "                    stu_id = r[2]\n",
    "                    req_val = \"T\" if required_dictionary[f\"({p},{course})\"] == 1 else \"F\"\n",
    "\n",
    "                    student_results_table.append((a_sem,p,course,stu_id,\"T\",\"F\",req_val))\n",
    "                #print(f\"Course: {course} - Required {req_val}, Sect: {sect}, Stu_ID: {stu_id} -> {solVal}\")\n",
    "            \n",
    "        #print(f\"Retrieving waitlisted individual students under a given class for Program {p} on {a_sem}:\")\n",
    "        for i in all_students:\n",
    "            rdec = range(0,len(w_decision_vars[i]))\n",
    "            for k in rdec:\n",
    "                solVal = w_decision_vars[i][k].SolutionValue()\n",
    "                if solVal == 0:\n",
    "                    continue\n",
    "                retained_val = re.findall(r\"\\(([A-Z0-9]+),([0-9]*),([0-9]*)\",w_decision_vars[i][k].name())\n",
    "                for r in retained_val:\n",
    "                    course = r[0]\n",
    "                    sect = r[1]\n",
    "                    stu_id = r[2]\n",
    "                    req_val = \"T\" if required_dictionary[f\"({p},{course})\"] == 1 else \"F\"\n",
    "\n",
    "                    student_results_table.append((a_sem,p,course,stu_id,\"T\",\"T\",req_val))\n",
    "                #print(f\"{i.name()} -> {i.SolutionValue()}\")\n",
    "        \n",
    "        results_table.append((a_sem,p,solver.Objective().Value()))\n",
    "        #break\n",
    "    #process_connection.executemany(\"INSERT INTO prior_class_table(student_id, course_code)\")\n",
    "    #process_connection.commit()\n",
    "\n",
    "    process_connection.executemany(\"INSERT INTO results_table(semester, program, min_waitlisted_students) VALUES(?,?,?)\",\n",
    "                                  results_table)\n",
    "    process_connection.commit()\n",
    "    \n",
    "    process_connection.executemany(\"INSERT INTO program_results_table(semester, program, course_code, waitlisted, number_of_students) VALUES(?,?,?,?,?)\",\n",
    "                                  program_results_table)\n",
    "    process_connection.commit()\n",
    "    \n",
    "    process_connection.executemany(\"INSERT INTO student_results_table(semester, program, course_code, student_id, international, waitlisted, core_course) VALUES(?,?,?,?,?,?,?)\",\n",
    "                                  student_results_table)\n",
    "    process_connection.commit()\n",
    "    #break\n",
    "#"
   ]
  },
  {
   "cell_type": "code",
   "execution_count": 271,
   "id": "a5939744-29e6-4b0c-8162-6d0ef3b73e39",
   "metadata": {},
   "outputs": [],
   "source": [
    "student_results_table = pd.DataFrame(process_connection.execute(\"SELECT * FROM student_results_table\").fetchall(),columns=[\"rec_id\",\"semester\",\"program\",\"course_code\",\"student_id\",\"international\",\"waitlisted\",\"core_course\"])\n",
    "program_results_table = pd.DataFrame(process_connection.execute(\"SELECT * FROM program_results_table\").fetchall(),columns=[\"rec_id\",\"semester\",\"program\",\"course_code\",\"waitlisted\",\"number_of_students\"])\n",
    "results_table = pd.DataFrame(process_connection.execute(\"SELECT * FROM results_table\").fetchall(),columns=[\"rec_id\",\"semester\",\"program\",\"min_waitlisted_students\"])"
   ]
  },
  {
   "cell_type": "code",
   "execution_count": 272,
   "id": "ad8403e5-ffcb-45a7-b35c-617d00d9350c",
   "metadata": {},
   "outputs": [
    {
     "data": {
      "text/plain": [
       "'/home/jupyter/Team-Prophecy/Data/03_output_for_tableau'"
      ]
     },
     "execution_count": 272,
     "metadata": {},
     "output_type": "execute_result"
    }
   ],
   "source": [
    "output_path"
   ]
  },
  {
   "cell_type": "code",
   "execution_count": 273,
   "id": "76ac5da6-1285-4eed-b748-18c0f92ba12a",
   "metadata": {},
   "outputs": [],
   "source": [
    "student_results_table.drop(\"rec_id\",axis=1).to_csv(output_path+os.sep+\"student_results.csv\")\n",
    "program_results_table.drop(\"rec_id\",axis=1).to_csv(output_path+os.sep+\"program_results.csv\")\n",
    "results_table.drop(\"rec_id\",axis=1).to_csv(output_path+os.sep+\"overall_results.csv\")"
   ]
  },
  {
   "cell_type": "markdown",
   "id": "22e2db6d-e2ec-48a0-b77b-aaa602f1878f",
   "metadata": {},
   "source": [
    "**NOW WE CAN GET INTO THE INTERESTING STUFF**"
   ]
  },
  {
   "cell_type": "markdown",
   "id": "cdadc9af-ce85-4379-855b-6e752612afbd",
   "metadata": {},
   "source": [
    "This is for when I have more data; only focusing on what I know for certain given the total number of students available."
   ]
  },
  {
   "cell_type": "code",
   "execution_count": null,
   "id": "87e6fdb4-31d1-419e-9e71-5789d8e407de",
   "metadata": {},
   "outputs": [],
   "source": []
  },
  {
   "cell_type": "code",
   "execution_count": null,
   "id": "24c9aa96-a1a4-4c29-93b3-ae170c1c668f",
   "metadata": {},
   "outputs": [],
   "source": []
  },
  {
   "cell_type": "code",
   "execution_count": null,
   "id": "b7c7204e-633e-4f47-8976-f70fcddda2b6",
   "metadata": {},
   "outputs": [],
   "source": []
  }
 ],
 "metadata": {
  "environment": {
   "kernel": "python3",
   "name": "common-cpu.m103",
   "type": "gcloud",
   "uri": "gcr.io/deeplearning-platform-release/base-cpu:m103"
  },
  "kernelspec": {
   "display_name": "Python 3",
   "language": "python",
   "name": "python3"
  },
  "language_info": {
   "codemirror_mode": {
    "name": "ipython",
    "version": 3
   },
   "file_extension": ".py",
   "mimetype": "text/x-python",
   "name": "python",
   "nbconvert_exporter": "python",
   "pygments_lexer": "ipython3",
   "version": "3.7.12"
  }
 },
 "nbformat": 4,
 "nbformat_minor": 5
}
