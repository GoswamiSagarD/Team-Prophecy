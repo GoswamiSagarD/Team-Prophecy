{
 "cells": [
  {
   "cell_type": "code",
   "execution_count": 226,
   "id": "06a41001-648d-4478-9747-96744b0f9294",
   "metadata": {
    "tags": []
   },
   "outputs": [],
   "source": [
    "import sqlite3\n",
    "import pandas as pd\n",
    "import os\n",
    "import copy\n",
    "import traceback\n",
    "import random\n",
    "import regex as re\n",
    "import statistics\n",
    "import numpy as np\n",
    "pd.options.mode.chained_assignment = None"
   ]
  },
  {
   "cell_type": "code",
   "execution_count": 227,
   "id": "5d1dcbd7-5a18-4b1f-8b02-1e163eeab8ec",
   "metadata": {},
   "outputs": [
    {
     "name": "stdout",
     "output_type": "stream",
     "text": [
      "/home/jupyter/Team-Prophecy/Data/02_processed/intermediate.db\n"
     ]
    }
   ],
   "source": [
    "process_path = os.path.join(os.sep+\"home\"+os.sep+\"jupyter\"+os.sep+\"Team-Prophecy\",\"Data\",\"02_processed\",\"intermediate.db\")\n",
    "print(process_path)"
   ]
  },
  {
   "cell_type": "code",
   "execution_count": 228,
   "id": "4556d55b-6369-4840-8f1b-17788de3c9b2",
   "metadata": {},
   "outputs": [
    {
     "name": "stdout",
     "output_type": "stream",
     "text": [
      "/home/jupyter/Team-Prophecy/Data/03_output_for_tableau\n"
     ]
    }
   ],
   "source": [
    "output_path = os.path.join(os.sep+\"home\"+os.sep+\"jupyter\"+os.sep+\"Team-Prophecy\",\"Data\",\"03_output_for_tableau\")\n",
    "print(output_path)"
   ]
  },
  {
   "cell_type": "code",
   "execution_count": 229,
   "id": "5ed45dfa-4c7b-4735-9aba-77be364b9fa3",
   "metadata": {},
   "outputs": [],
   "source": [
    "process_connection = sqlite3.connect(process_path)"
   ]
  },
  {
   "cell_type": "code",
   "execution_count": 230,
   "id": "5d04b28d-576e-40f2-8aa7-505eaffd37e2",
   "metadata": {},
   "outputs": [],
   "source": [
    "program_results_table = pd.DataFrame(process_connection.execute(\"SELECT * FROM program_results_table\").fetchall(),columns=[\"semester\", \"program\", \"course_code\", \n",
    "                                       \"sect_id\", \"number_of_students\", \"number_of_waitlisted_students\",\"random_students\",\"percentage_international\", \"percentage_international_waitlist\",\"total_size\"])\n",
    "results_table = pd.DataFrame(process_connection.execute(\"SELECT * FROM results_table\").fetchall(),columns=[\"rec_id\",\"semester\", \"program\", \"min_waitlisted_students\", \"proportional_size\", \"prior_proportional_size\", \"total_pop\"])"
   ]
  },
  {
   "cell_type": "code",
   "execution_count": 231,
   "id": "6ff9578a-7a41-45b4-be80-4b6b3d865ebd",
   "metadata": {},
   "outputs": [],
   "source": [
    "from sklearn.linear_model import LogisticRegression, LinearRegression\n",
    "from sklearn.ensemble import RandomForestRegressor\n",
    "from sklearn.model_selection import train_test_split\n",
    "import seaborn as sns\n",
    "import matplotlib.pyplot as plt\n",
    "from sklearn.tree import export_graphviz\n",
    "from sklearn.metrics import mean_squared_error\n",
    "import pydot\n",
    "from sklearn.metrics import accuracy_score\n",
    "import math"
   ]
  },
  {
   "cell_type": "code",
   "execution_count": 232,
   "id": "8a912957-6689-41e1-80c6-80f560e41cd3",
   "metadata": {},
   "outputs": [],
   "source": [
    "program_results_table = program_results_table[[\"semester\", \"program\", \"course_code\", \"sect_id\", \"number_of_students\", \"number_of_waitlisted_students\",\"percentage_international\",\"total_size\"]]"
   ]
  },
  {
   "cell_type": "code",
   "execution_count": 233,
   "id": "5bacd4df-f253-4146-88bd-a22208ef6b40",
   "metadata": {},
   "outputs": [],
   "source": [
    "program_results_table = program_results_table.loc[program_results_table[\"program\"].isin([\"EC-MS-CS\",\"EC-MS-DAEN\"]),:]"
   ]
  },
  {
   "cell_type": "code",
   "execution_count": 234,
   "id": "d2271fe9-fbf1-406b-80c6-9dd8f3de40e3",
   "metadata": {},
   "outputs": [],
   "source": [
    "program_results_table[\"number_of_students\"] = program_results_table[\"number_of_students\"].abs()\n",
    "program_results_table[\"number_of_waitlisted_students\"] = program_results_table[\"number_of_waitlisted_students\"].abs()\n",
    "results_table[\"proportional_size\"] = results_table[\"proportional_size\"].abs()"
   ]
  },
  {
   "cell_type": "code",
   "execution_count": 235,
   "id": "b2cb4e31-b5ae-4229-a4d1-ecef9e8defdc",
   "metadata": {},
   "outputs": [
    {
     "data": {
      "text/html": [
       "<div>\n",
       "<style scoped>\n",
       "    .dataframe tbody tr th:only-of-type {\n",
       "        vertical-align: middle;\n",
       "    }\n",
       "\n",
       "    .dataframe tbody tr th {\n",
       "        vertical-align: top;\n",
       "    }\n",
       "\n",
       "    .dataframe thead th {\n",
       "        text-align: right;\n",
       "    }\n",
       "</style>\n",
       "<table border=\"1\" class=\"dataframe\">\n",
       "  <thead>\n",
       "    <tr style=\"text-align: right;\">\n",
       "      <th></th>\n",
       "      <th>semester</th>\n",
       "      <th>program</th>\n",
       "      <th>course_code</th>\n",
       "      <th>sect_id</th>\n",
       "      <th>number_of_students</th>\n",
       "      <th>number_of_waitlisted_students</th>\n",
       "      <th>percentage_international</th>\n",
       "      <th>total_size</th>\n",
       "    </tr>\n",
       "  </thead>\n",
       "  <tbody>\n",
       "    <tr>\n",
       "      <th>20</th>\n",
       "      <td>201770</td>\n",
       "      <td>EC-MS-CS</td>\n",
       "      <td>CS531</td>\n",
       "      <td>001</td>\n",
       "      <td>35</td>\n",
       "      <td>71</td>\n",
       "      <td>0.000000</td>\n",
       "      <td>36</td>\n",
       "    </tr>\n",
       "    <tr>\n",
       "      <th>21</th>\n",
       "      <td>201770</td>\n",
       "      <td>EC-MS-CS</td>\n",
       "      <td>CS531</td>\n",
       "      <td>003</td>\n",
       "      <td>35</td>\n",
       "      <td>43</td>\n",
       "      <td>0.000000</td>\n",
       "      <td>36</td>\n",
       "    </tr>\n",
       "    <tr>\n",
       "      <th>22</th>\n",
       "      <td>201770</td>\n",
       "      <td>EC-MS-CS</td>\n",
       "      <td>CS531</td>\n",
       "      <td>002</td>\n",
       "      <td>35</td>\n",
       "      <td>23</td>\n",
       "      <td>0.000000</td>\n",
       "      <td>36</td>\n",
       "    </tr>\n",
       "    <tr>\n",
       "      <th>23</th>\n",
       "      <td>201770</td>\n",
       "      <td>EC-MS-CS</td>\n",
       "      <td>CS531</td>\n",
       "      <td>DL2</td>\n",
       "      <td>35</td>\n",
       "      <td>7</td>\n",
       "      <td>0.000000</td>\n",
       "      <td>36</td>\n",
       "    </tr>\n",
       "    <tr>\n",
       "      <th>24</th>\n",
       "      <td>201770</td>\n",
       "      <td>EC-MS-CS</td>\n",
       "      <td>CS531</td>\n",
       "      <td>DL1</td>\n",
       "      <td>35</td>\n",
       "      <td>1</td>\n",
       "      <td>0.000000</td>\n",
       "      <td>36</td>\n",
       "    </tr>\n",
       "    <tr>\n",
       "      <th>...</th>\n",
       "      <td>...</td>\n",
       "      <td>...</td>\n",
       "      <td>...</td>\n",
       "      <td>...</td>\n",
       "      <td>...</td>\n",
       "      <td>...</td>\n",
       "      <td>...</td>\n",
       "      <td>...</td>\n",
       "    </tr>\n",
       "    <tr>\n",
       "      <th>5963</th>\n",
       "      <td>202310</td>\n",
       "      <td>EC-MS-DAEN</td>\n",
       "      <td>SYST573</td>\n",
       "      <td>001</td>\n",
       "      <td>3</td>\n",
       "      <td>0</td>\n",
       "      <td>0.886957</td>\n",
       "      <td>36</td>\n",
       "    </tr>\n",
       "    <tr>\n",
       "      <th>5964</th>\n",
       "      <td>202310</td>\n",
       "      <td>EC-MS-DAEN</td>\n",
       "      <td>SYST573</td>\n",
       "      <td>003</td>\n",
       "      <td>5</td>\n",
       "      <td>0</td>\n",
       "      <td>0.886957</td>\n",
       "      <td>36</td>\n",
       "    </tr>\n",
       "    <tr>\n",
       "      <th>5965</th>\n",
       "      <td>202310</td>\n",
       "      <td>EC-MS-DAEN</td>\n",
       "      <td>SYST573</td>\n",
       "      <td>002</td>\n",
       "      <td>10</td>\n",
       "      <td>0</td>\n",
       "      <td>0.886957</td>\n",
       "      <td>36</td>\n",
       "    </tr>\n",
       "    <tr>\n",
       "      <th>5966</th>\n",
       "      <td>202310</td>\n",
       "      <td>EC-MS-DAEN</td>\n",
       "      <td>SYST573</td>\n",
       "      <td>DL2</td>\n",
       "      <td>6</td>\n",
       "      <td>0</td>\n",
       "      <td>0.886957</td>\n",
       "      <td>36</td>\n",
       "    </tr>\n",
       "    <tr>\n",
       "      <th>5967</th>\n",
       "      <td>202310</td>\n",
       "      <td>EC-MS-DAEN</td>\n",
       "      <td>SYST573</td>\n",
       "      <td>DL1</td>\n",
       "      <td>11</td>\n",
       "      <td>0</td>\n",
       "      <td>0.886957</td>\n",
       "      <td>36</td>\n",
       "    </tr>\n",
       "  </tbody>\n",
       "</table>\n",
       "<p>1906 rows × 8 columns</p>\n",
       "</div>"
      ],
      "text/plain": [
       "     semester     program course_code sect_id  number_of_students  \\\n",
       "20     201770    EC-MS-CS       CS531     001                  35   \n",
       "21     201770    EC-MS-CS       CS531     003                  35   \n",
       "22     201770    EC-MS-CS       CS531     002                  35   \n",
       "23     201770    EC-MS-CS       CS531     DL2                  35   \n",
       "24     201770    EC-MS-CS       CS531     DL1                  35   \n",
       "...       ...         ...         ...     ...                 ...   \n",
       "5963   202310  EC-MS-DAEN     SYST573     001                   3   \n",
       "5964   202310  EC-MS-DAEN     SYST573     003                   5   \n",
       "5965   202310  EC-MS-DAEN     SYST573     002                  10   \n",
       "5966   202310  EC-MS-DAEN     SYST573     DL2                   6   \n",
       "5967   202310  EC-MS-DAEN     SYST573     DL1                  11   \n",
       "\n",
       "      number_of_waitlisted_students  percentage_international  total_size  \n",
       "20                               71                  0.000000          36  \n",
       "21                               43                  0.000000          36  \n",
       "22                               23                  0.000000          36  \n",
       "23                                7                  0.000000          36  \n",
       "24                                1                  0.000000          36  \n",
       "...                             ...                       ...         ...  \n",
       "5963                              0                  0.886957          36  \n",
       "5964                              0                  0.886957          36  \n",
       "5965                              0                  0.886957          36  \n",
       "5966                              0                  0.886957          36  \n",
       "5967                              0                  0.886957          36  \n",
       "\n",
       "[1906 rows x 8 columns]"
      ]
     },
     "execution_count": 235,
     "metadata": {},
     "output_type": "execute_result"
    }
   ],
   "source": [
    "program_results_table"
   ]
  },
  {
   "cell_type": "code",
   "execution_count": 236,
   "id": "7bd1e1c6-7c0f-4634-9ae8-513602471e16",
   "metadata": {},
   "outputs": [
    {
     "data": {
      "text/html": [
       "<div>\n",
       "<style scoped>\n",
       "    .dataframe tbody tr th:only-of-type {\n",
       "        vertical-align: middle;\n",
       "    }\n",
       "\n",
       "    .dataframe tbody tr th {\n",
       "        vertical-align: top;\n",
       "    }\n",
       "\n",
       "    .dataframe thead th {\n",
       "        text-align: right;\n",
       "    }\n",
       "</style>\n",
       "<table border=\"1\" class=\"dataframe\">\n",
       "  <thead>\n",
       "    <tr style=\"text-align: right;\">\n",
       "      <th></th>\n",
       "      <th>rec_id</th>\n",
       "      <th>semester</th>\n",
       "      <th>program</th>\n",
       "      <th>min_waitlisted_students</th>\n",
       "      <th>proportional_size</th>\n",
       "      <th>prior_proportional_size</th>\n",
       "      <th>total_pop</th>\n",
       "    </tr>\n",
       "  </thead>\n",
       "  <tbody>\n",
       "    <tr>\n",
       "      <th>0</th>\n",
       "      <td>1</td>\n",
       "      <td>201770</td>\n",
       "      <td>EC-MS-CEIE</td>\n",
       "      <td>161</td>\n",
       "      <td>507</td>\n",
       "      <td>292</td>\n",
       "      <td>4001</td>\n",
       "    </tr>\n",
       "    <tr>\n",
       "      <th>1</th>\n",
       "      <td>2</td>\n",
       "      <td>201770</td>\n",
       "      <td>EC-MS-CPE</td>\n",
       "      <td>84</td>\n",
       "      <td>425</td>\n",
       "      <td>292</td>\n",
       "      <td>4001</td>\n",
       "    </tr>\n",
       "    <tr>\n",
       "      <th>2</th>\n",
       "      <td>3</td>\n",
       "      <td>201770</td>\n",
       "      <td>EC-MS-CS</td>\n",
       "      <td>212</td>\n",
       "      <td>1233</td>\n",
       "      <td>292</td>\n",
       "      <td>4001</td>\n",
       "    </tr>\n",
       "    <tr>\n",
       "      <th>3</th>\n",
       "      <td>4</td>\n",
       "      <td>201770</td>\n",
       "      <td>EC-MS-DAEN</td>\n",
       "      <td>279</td>\n",
       "      <td>630</td>\n",
       "      <td>292</td>\n",
       "      <td>4001</td>\n",
       "    </tr>\n",
       "    <tr>\n",
       "      <th>4</th>\n",
       "      <td>5</td>\n",
       "      <td>201770</td>\n",
       "      <td>EC-MS-ELEN</td>\n",
       "      <td>43</td>\n",
       "      <td>219</td>\n",
       "      <td>292</td>\n",
       "      <td>4001</td>\n",
       "    </tr>\n",
       "    <tr>\n",
       "      <th>...</th>\n",
       "      <td>...</td>\n",
       "      <td>...</td>\n",
       "      <td>...</td>\n",
       "      <td>...</td>\n",
       "      <td>...</td>\n",
       "      <td>...</td>\n",
       "      <td>...</td>\n",
       "    </tr>\n",
       "    <tr>\n",
       "      <th>844</th>\n",
       "      <td>845</td>\n",
       "      <td>202310</td>\n",
       "      <td>EC-MS-ISYS</td>\n",
       "      <td>0</td>\n",
       "      <td>490</td>\n",
       "      <td>2841</td>\n",
       "      <td>4001</td>\n",
       "    </tr>\n",
       "    <tr>\n",
       "      <th>845</th>\n",
       "      <td>846</td>\n",
       "      <td>202310</td>\n",
       "      <td>EC-MS-OPRS</td>\n",
       "      <td>126</td>\n",
       "      <td>141</td>\n",
       "      <td>2841</td>\n",
       "      <td>4001</td>\n",
       "    </tr>\n",
       "    <tr>\n",
       "      <th>846</th>\n",
       "      <td>847</td>\n",
       "      <td>202310</td>\n",
       "      <td>EC-MS-SWE</td>\n",
       "      <td>0</td>\n",
       "      <td>307</td>\n",
       "      <td>2841</td>\n",
       "      <td>4001</td>\n",
       "    </tr>\n",
       "    <tr>\n",
       "      <th>847</th>\n",
       "      <td>848</td>\n",
       "      <td>202310</td>\n",
       "      <td>EC-MS-SYST</td>\n",
       "      <td>0</td>\n",
       "      <td>21</td>\n",
       "      <td>2841</td>\n",
       "      <td>4001</td>\n",
       "    </tr>\n",
       "    <tr>\n",
       "      <th>848</th>\n",
       "      <td>849</td>\n",
       "      <td>202310</td>\n",
       "      <td>EC-MS-TCOM</td>\n",
       "      <td>0</td>\n",
       "      <td>75</td>\n",
       "      <td>2841</td>\n",
       "      <td>4001</td>\n",
       "    </tr>\n",
       "  </tbody>\n",
       "</table>\n",
       "<p>849 rows × 7 columns</p>\n",
       "</div>"
      ],
      "text/plain": [
       "     rec_id semester     program  min_waitlisted_students  proportional_size  \\\n",
       "0         1   201770  EC-MS-CEIE                      161                507   \n",
       "1         2   201770   EC-MS-CPE                       84                425   \n",
       "2         3   201770    EC-MS-CS                      212               1233   \n",
       "3         4   201770  EC-MS-DAEN                      279                630   \n",
       "4         5   201770  EC-MS-ELEN                       43                219   \n",
       "..      ...      ...         ...                      ...                ...   \n",
       "844     845   202310  EC-MS-ISYS                        0                490   \n",
       "845     846   202310  EC-MS-OPRS                      126                141   \n",
       "846     847   202310   EC-MS-SWE                        0                307   \n",
       "847     848   202310  EC-MS-SYST                        0                 21   \n",
       "848     849   202310  EC-MS-TCOM                        0                 75   \n",
       "\n",
       "     prior_proportional_size  total_pop  \n",
       "0                        292       4001  \n",
       "1                        292       4001  \n",
       "2                        292       4001  \n",
       "3                        292       4001  \n",
       "4                        292       4001  \n",
       "..                       ...        ...  \n",
       "844                     2841       4001  \n",
       "845                     2841       4001  \n",
       "846                     2841       4001  \n",
       "847                     2841       4001  \n",
       "848                     2841       4001  \n",
       "\n",
       "[849 rows x 7 columns]"
      ]
     },
     "execution_count": 236,
     "metadata": {},
     "output_type": "execute_result"
    }
   ],
   "source": [
    "results_table"
   ]
  },
  {
   "cell_type": "code",
   "execution_count": 237,
   "id": "cf902f23-c30e-448e-9ea4-7c0861b2da59",
   "metadata": {},
   "outputs": [],
   "source": [
    "semester_data = program_results_table[\"semester\"].unique().tolist()"
   ]
  },
  {
   "cell_type": "code",
   "execution_count": 238,
   "id": "e9b2d90f-8328-4300-823f-104128a94220",
   "metadata": {},
   "outputs": [],
   "source": [
    "program_list = pd.Series(program_results_table[\"program\"].unique(), dtype=\"category\").tolist()\n",
    "course_list = pd.Series(program_results_table[\"course_code\"].unique(), dtype=\"category\").tolist()\n",
    "sect_list = pd.Series(program_results_table[\"sect_id\"].unique(), dtype=\"category\").tolist()"
   ]
  },
  {
   "cell_type": "code",
   "execution_count": 239,
   "id": "959ae2aa-c5a6-4d43-b581-b61a243e2675",
   "metadata": {
    "tags": []
   },
   "outputs": [],
   "source": [
    "program_dict = {program_list[i] : i for i in range(0,len(program_list))}\n",
    "course_dict = {course_list[i] : i for i in range(0,len(course_list))}\n",
    "sect_dict = {sect_list[i] : i for i in range(0,len(sect_list))}"
   ]
  },
  {
   "cell_type": "code",
   "execution_count": 240,
   "id": "65a58314-47ce-4d89-9bc8-55e0655f9ee5",
   "metadata": {
    "tags": []
   },
   "outputs": [],
   "source": [
    "program_results_table[\"program\"] = program_results_table[\"program\"].transform(lambda x : program_dict[x])\n",
    "program_results_table[\"course_code\"] = program_results_table[\"course_code\"].transform(lambda x : course_dict[x])\n",
    "program_results_table[\"sect_id\"] = program_results_table[\"sect_id\"].transform(lambda x : sect_dict[x])"
   ]
  },
  {
   "cell_type": "code",
   "execution_count": 241,
   "id": "d55ba580-bcf1-4138-8141-ad12842e69c1",
   "metadata": {},
   "outputs": [],
   "source": [
    "#This will classifies our waitlisted students\n",
    "#program_results_table[\"number_of_waitlisted_students\"] = numpy.where(program_results_table[\"number_of_waitlisted_students\"] > 0, 1, 0)\n",
    "\n",
    "#This noramlizes our waitlisted students\n",
    "program_results_table[\"number_of_waitlisted_students\"]= round(100*(program_results_table[\"number_of_waitlisted_students\"]-program_results_table[\"number_of_waitlisted_students\"].min())/(program_results_table[\"number_of_waitlisted_students\"].max()-program_results_table[\"number_of_waitlisted_students\"].min()))\n",
    "program_results_table[\"number_of_students\"]= round(100*(program_results_table[\"number_of_students\"]-program_results_table[\"number_of_students\"].min())/(program_results_table[\"number_of_students\"].max()-program_results_table[\"number_of_students\"].min()))"
   ]
  },
  {
   "cell_type": "markdown",
   "id": "9c7e99ef-ddf9-45ac-828e-af2538f90c58",
   "metadata": {},
   "source": [
    "This checks to see if we can successfully identify waitlisted students from their x values"
   ]
  },
  {
   "cell_type": "markdown",
   "id": "c19d68bb-a8bd-43ba-92ee-a8940064f038",
   "metadata": {},
   "source": [
    "NOTE: Data accuracy is even worse when there is less data for linear regression"
   ]
  },
  {
   "cell_type": "code",
   "execution_count": 255,
   "id": "7f75aa2a-e489-4389-b416-e663d545e842",
   "metadata": {},
   "outputs": [
    {
     "name": "stdout",
     "output_type": "stream",
     "text": [
      "0.9493006993006993\n"
     ]
    }
   ],
   "source": [
    "x = program_results_table.loc[:,[\"program\",\"course_code\",\"number_of_students\",\"percentage_international\"]]\n",
    "y = program_results_table[\"number_of_waitlisted_students\"]\n",
    "y = np.where(y > 0, 1, 0)\n",
    "\n",
    "xtrain, xtest,ytrain, ytest = train_test_split(x,y,test_size=0.3, random_state=5)\n",
    "slr = LogisticRegression()\n",
    "slr.fit(xtrain,ytrain)\n",
    "print(slr.score(xtest,ytest))"
   ]
  },
  {
   "cell_type": "code",
   "execution_count": 254,
   "id": "e8974936-b29a-490e-ab97-bcd6cec647cd",
   "metadata": {},
   "outputs": [
    {
     "name": "stdout",
     "output_type": "stream",
     "text": [
      "0.5611888111888111\n"
     ]
    }
   ],
   "source": [
    "x = program_results_table.loc[:,[\"number_of_waitlisted_students\"]]\n",
    "y = program_results_table[\"program\"]\n",
    "y = np.where(y > 0, 1, 0)\n",
    "\n",
    "xtrain, xtest,ytrain, ytest = train_test_split(x,y,test_size=0.3, random_state=5)\n",
    "slr = LogisticRegression()\n",
    "slr.fit(xtrain,ytrain)\n",
    "print(slr.score(xtest,ytest))"
   ]
  },
  {
   "cell_type": "code",
   "execution_count": 253,
   "id": "f575ccf9-f976-480b-bd8f-b7ba4130cf66",
   "metadata": {},
   "outputs": [
    {
     "name": "stdout",
     "output_type": "stream",
     "text": [
      "0.6250250192434477\n"
     ]
    }
   ],
   "source": [
    "x = results_table.loc[:,[\"semester\",\"min_waitlisted_students\"]]\n",
    "y = results_table[\"proportional_size\"]\n",
    "\n",
    "xtrain, xtest,ytrain, ytest = train_test_split(x,y,test_size=0.3, random_state=5)\n",
    "slr = LinearRegression()\n",
    "slr.fit(xtrain,ytrain)\n",
    "print(slr.score(xtest,ytest))"
   ]
  },
  {
   "cell_type": "code",
   "execution_count": 245,
   "id": "fd928b38-25bd-43af-8bb7-ffd69b250b91",
   "metadata": {},
   "outputs": [
    {
     "name": "stdout",
     "output_type": "stream",
     "text": [
      "0.17313623066727624\n"
     ]
    }
   ],
   "source": [
    "x = program_results_table.loc[:,[\"semester\",\"course_code\"]]\n",
    "y = program_results_table[\"number_of_students\"]\n",
    "\n",
    "xtrain, xtest,ytrain, ytest = train_test_split(x,y,test_size=0.3, random_state=5)\n",
    "slr = LinearRegression()\n",
    "slr.fit(xtrain,ytrain)\n",
    "print(slr.score(xtest,ytest))"
   ]
  },
  {
   "cell_type": "code",
   "execution_count": 246,
   "id": "5ccd69c4-1b09-4f74-a5cf-f6dd4cd37b1c",
   "metadata": {},
   "outputs": [
    {
     "name": "stdout",
     "output_type": "stream",
     "text": [
      "0.9912587412587412\n"
     ]
    }
   ],
   "source": [
    "x = program_results_table.loc[:,[\"program\",\"course_code\"]]\n",
    "y = program_results_table[\"number_of_students\"]\n",
    "y = np.where(y > 0, 1, 0)\n",
    "\n",
    "xtrain, xtest,ytrain, ytest = train_test_split(x,y,test_size=0.3, random_state=5)\n",
    "slr = LogisticRegression()\n",
    "slr.fit(xtrain,ytrain)\n",
    "print(slr.score(xtest,ytest))"
   ]
  },
  {
   "cell_type": "markdown",
   "id": "d5a477d7-b1a2-4a95-bd84-2a492871e2c7",
   "metadata": {},
   "source": [
    "Here, I tackle class categorization using Random Forest Regression"
   ]
  },
  {
   "cell_type": "code",
   "execution_count": 247,
   "id": "8dad583e-2d56-467b-a95e-b8aa7a702550",
   "metadata": {},
   "outputs": [
    {
     "name": "stdout",
     "output_type": "stream",
     "text": [
      "114.46355246110399\n"
     ]
    }
   ],
   "source": [
    "x = program_results_table.loc[:,[\"semester\",\"program\",\"course_code\"]]\n",
    "y = program_results_table[\"number_of_students\"]\n",
    "#y = numpy.where(y > 0, 1, 0)\n",
    "\n",
    "xtrain, xtest,ytrain, ytest = train_test_split(x,y,test_size=0.3, random_state=5)\n",
    "rfr = RandomForestRegressor(max_depth=4,n_estimators=25)\n",
    "rfr.fit(xtrain,ytrain)\n",
    "#pred_vals = rfr.predict(xtrain)\n",
    "#print(round(np.mean(abs(pred_vals - ytrain)),2)*100)\n",
    "pred_vals = rfr.predict(xtest)\n",
    "#print(accuracy_score(pred_vals, ytest))\n",
    "print(mean_squared_error(pred_vals,ytest))"
   ]
  },
  {
   "cell_type": "code",
   "execution_count": 248,
   "id": "591c9052-637f-4be4-9428-adc47f3328f6",
   "metadata": {},
   "outputs": [],
   "source": [
    "export_graphviz(rfr.estimators_[3], out_file='TreeReg.dot', feature_names = xtrain.columns)\n",
    "(grph, ) = pydot.graph_from_dot_file('TreeReg.dot')\n",
    "grph.write_png('TreeReg.png')"
   ]
  },
  {
   "cell_type": "markdown",
   "id": "c98bace1-79f3-4c29-a7fb-cda3777058d7",
   "metadata": {},
   "source": [
    "Here, I rexamine Logistic Regression by identifying the different class categorization"
   ]
  }
 ],
 "metadata": {
  "environment": {
   "kernel": "python3",
   "name": "common-cpu.m103",
   "type": "gcloud",
   "uri": "gcr.io/deeplearning-platform-release/base-cpu:m103"
  },
  "kernelspec": {
   "display_name": "Python 3",
   "language": "python",
   "name": "python3"
  },
  "language_info": {
   "codemirror_mode": {
    "name": "ipython",
    "version": 3
   },
   "file_extension": ".py",
   "mimetype": "text/x-python",
   "name": "python",
   "nbconvert_exporter": "python",
   "pygments_lexer": "ipython3",
   "version": "3.7.12"
  }
 },
 "nbformat": 4,
 "nbformat_minor": 5
}
