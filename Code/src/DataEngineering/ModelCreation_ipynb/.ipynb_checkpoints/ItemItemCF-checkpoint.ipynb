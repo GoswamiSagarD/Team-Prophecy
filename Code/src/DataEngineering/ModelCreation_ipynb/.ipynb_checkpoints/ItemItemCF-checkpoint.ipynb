{
 "cells": [
  {
   "cell_type": "markdown",
   "id": "a3355eba-7fa0-4817-b013-c5a0725c653c",
   "metadata": {},
   "source": [
    "Attempt at Item-Item Collaborative Filtering"
   ]
  },
  {
   "cell_type": "markdown",
   "id": "aea9fecb-9aad-4b24-a16b-d59d6089f1c2",
   "metadata": {},
   "source": [
    "Information about Item-Item CF can be found here: \n",
    "https://towardsdatascience.com/item-based-collaborative-filtering-in-python-91f747200fab"
   ]
  },
  {
   "cell_type": "markdown",
   "id": "049b1deb-47af-437e-98c6-e2201a4a2e38",
   "metadata": {},
   "source": [
    "WHY ARE WE DOING THIS\n",
    "\n",
    "Item-Item Collaborative Filtering is useful for determining the similarities between a pair of items among a set of people. In this project, we have determined that it may be useful to find the similarities between WAITLISTING, COURSE ENROLLMENT, and COURSE AVAILABILITY among different CORE classes. \n",
    "\n",
    "This is helpful because it can highlight student behavior from an UNSUPERVISED perspective. COURSE DEMAND can be used as a measuring stick to determine the desireability of a CORE class, and answer the following questions:\n",
    "1) Classes that NEW students are going to initially pick, assuming that they will NOT take classes that overwhelm them.\n",
    "2) A rough estimate as to what classes INTERNATIONAL students will LIKELY pick PER semester dependent on waitlist.\n",
    "\n",
    "COURSE DEMAND is defined as follows...\n",
    "\n",
    "(COURSE_ENROLLMENT-COURSE_AVAILABILITY)+COURSE_WAITLIST\n",
    "\n",
    "This information is grouped by EVERY professor availabile teaching with a KNOWN and UNKNOWN class.\n",
    "\n",
    "OUR INPUT WILL BE AS FOLLOWS:\n",
    "\n",
    "PROFESSOR/COURSE\n",
    "COURSE_1 COURSE_DEMAND\n",
    "COURSE_2 COURSE_DEMAND\n",
    "...\n",
    "COURSE_N COURSE_DEMAND\n",
    "\n",
    "OUR OUTPUT WILL BE AS FOLLOWS:\n",
    "For a list of professors within a semester, provide a prediction for the NEXT semester"
   ]
  },
  {
   "cell_type": "code",
   "execution_count": 7,
   "id": "ae0fd865-7582-4bf4-96d0-927542bcbe86",
   "metadata": {},
   "outputs": [],
   "source": [
    "import sqlite3\n",
    "import pandas as pd\n",
    "import os"
   ]
  },
  {
   "cell_type": "markdown",
   "id": "c69972f7-a6fe-49e1-9c43-aa97d57ac121",
   "metadata": {},
   "source": [
    "First, we have to select information based on the instructor, their course, and their section id. Cumulative term will be taken as a means to "
   ]
  },
  {
   "cell_type": "code",
   "execution_count": 8,
   "id": "89c94893-806a-4623-ba4d-153f8ca95c61",
   "metadata": {},
   "outputs": [
    {
     "name": "stdout",
     "output_type": "stream",
     "text": [
      "/home/jupyter/Team-Prophecy/Data/02_processed/intermediate.db\n"
     ]
    }
   ],
   "source": [
    "process_path = os.path.join(os.sep+\"home\"+os.sep+\"jupyter\"+os.sep+\"Team-Prophecy\",\"Data\",\"02_processed\",\"intermediate.db\")\n",
    "print(process_path)"
   ]
  },
  {
   "cell_type": "code",
   "execution_count": 11,
   "id": "6e454f2c-f1c3-4faa-91e5-ab04a5d21ad1",
   "metadata": {},
   "outputs": [],
   "source": [
    "process_connection = sqlite3.connect(process_path)"
   ]
  },
  {
   "cell_type": "code",
   "execution_count": 15,
   "id": "24963984-700d-47b5-9815-ae151a2a8588",
   "metadata": {},
   "outputs": [],
   "source": [
    "avail_count_df = pd.DataFrame(process_connection.execute(\"SELECT * FROM semester_course_offerings\").fetchall(), columns=[\"cum_term\",\"cum_instr\",\"cum_term_code\",\"cum_sect_id\",\"cum_seat_enroll\",\"cum_seat_wait\",\"cum_seat_avail\"]).drop_duplicates()"
   ]
  },
  {
   "cell_type": "markdown",
   "id": "4c9ec31a-004b-41cc-8b30-df844690e490",
   "metadata": {},
   "source": [
    "We do some mild cleaning because we want to then take care of the data present.\n",
    "\n",
    "Here's fundamentally what we want to know:\n",
    "1) We want to have at least two or more students enrolled/available for a given class."
   ]
  },
  {
   "cell_type": "code",
   "execution_count": 16,
   "id": "a9213cd0-f50d-4a9b-8575-c4752ac4a7e4",
   "metadata": {},
   "outputs": [
    {
     "data": {
      "text/html": [
       "<div>\n",
       "<style scoped>\n",
       "    .dataframe tbody tr th:only-of-type {\n",
       "        vertical-align: middle;\n",
       "    }\n",
       "\n",
       "    .dataframe tbody tr th {\n",
       "        vertical-align: top;\n",
       "    }\n",
       "\n",
       "    .dataframe thead th {\n",
       "        text-align: right;\n",
       "    }\n",
       "</style>\n",
       "<table border=\"1\" class=\"dataframe\">\n",
       "  <thead>\n",
       "    <tr style=\"text-align: right;\">\n",
       "      <th></th>\n",
       "      <th>cum_term</th>\n",
       "      <th>cum_instr</th>\n",
       "      <th>cum_term_code</th>\n",
       "      <th>cum_sect_id</th>\n",
       "      <th>cum_seat_enroll</th>\n",
       "      <th>cum_seat_wait</th>\n",
       "      <th>cum_seat_avail</th>\n",
       "    </tr>\n",
       "  </thead>\n",
       "  <tbody>\n",
       "    <tr>\n",
       "      <th>0</th>\n",
       "      <td>201670</td>\n",
       "      <td>Sokol, Jennifer M</td>\n",
       "      <td>BENG101</td>\n",
       "      <td>001</td>\n",
       "      <td>15</td>\n",
       "      <td>0</td>\n",
       "      <td>5</td>\n",
       "    </tr>\n",
       "    <tr>\n",
       "      <th>1</th>\n",
       "      <td>201670</td>\n",
       "      <td>Bray, Laurence</td>\n",
       "      <td>BENG101</td>\n",
       "      <td>002</td>\n",
       "      <td>18</td>\n",
       "      <td>0</td>\n",
       "      <td>2</td>\n",
       "    </tr>\n",
       "    <tr>\n",
       "      <th>2</th>\n",
       "      <td>201670</td>\n",
       "      <td>North, Ryan D</td>\n",
       "      <td>BENG101</td>\n",
       "      <td>301</td>\n",
       "      <td>15</td>\n",
       "      <td>0</td>\n",
       "      <td>5</td>\n",
       "    </tr>\n",
       "    <tr>\n",
       "      <th>3</th>\n",
       "      <td>201670</td>\n",
       "      <td>North, Ryan D</td>\n",
       "      <td>BENG101</td>\n",
       "      <td>302</td>\n",
       "      <td>18</td>\n",
       "      <td>0</td>\n",
       "      <td>2</td>\n",
       "    </tr>\n",
       "    <tr>\n",
       "      <th>4</th>\n",
       "      <td>201670</td>\n",
       "      <td>Laurence, Caitlin B</td>\n",
       "      <td>BENG101</td>\n",
       "      <td>DG1</td>\n",
       "      <td>10</td>\n",
       "      <td>0</td>\n",
       "      <td>-2</td>\n",
       "    </tr>\n",
       "  </tbody>\n",
       "</table>\n",
       "</div>"
      ],
      "text/plain": [
       "  cum_term            cum_instr cum_term_code cum_sect_id  cum_seat_enroll  \\\n",
       "0   201670    Sokol, Jennifer M       BENG101         001               15   \n",
       "1   201670      Bray, Laurence        BENG101         002               18   \n",
       "2   201670        North, Ryan D       BENG101         301               15   \n",
       "3   201670        North, Ryan D       BENG101         302               18   \n",
       "4   201670  Laurence, Caitlin B       BENG101         DG1               10   \n",
       "\n",
       "   cum_seat_wait  cum_seat_avail  \n",
       "0              0               5  \n",
       "1              0               2  \n",
       "2              0               5  \n",
       "3              0               2  \n",
       "4              0              -2  "
      ]
     },
     "execution_count": 16,
     "metadata": {},
     "output_type": "execute_result"
    }
   ],
   "source": [
    "avail_count_df.head()"
   ]
  },
  {
   "cell_type": "code",
   "execution_count": null,
   "id": "d7de30e2-60f2-4672-af88-5eb37c388b6e",
   "metadata": {},
   "outputs": [],
   "source": []
  }
 ],
 "metadata": {
  "environment": {
   "kernel": "python3",
   "name": "common-cpu.m103",
   "type": "gcloud",
   "uri": "gcr.io/deeplearning-platform-release/base-cpu:m103"
  },
  "kernelspec": {
   "display_name": "Python 3",
   "language": "python",
   "name": "python3"
  },
  "language_info": {
   "codemirror_mode": {
    "name": "ipython",
    "version": 3
   },
   "file_extension": ".py",
   "mimetype": "text/x-python",
   "name": "python",
   "nbconvert_exporter": "python",
   "pygments_lexer": "ipython3",
   "version": "3.7.12"
  }
 },
 "nbformat": 4,
 "nbformat_minor": 5
}
