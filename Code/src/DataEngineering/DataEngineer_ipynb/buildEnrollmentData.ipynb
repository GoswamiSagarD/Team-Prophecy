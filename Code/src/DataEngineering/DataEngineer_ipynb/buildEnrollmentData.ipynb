{
 "cells": [
  {
   "cell_type": "code",
   "execution_count": 1,
   "id": "019aa72a-2e40-4c86-bb9b-b4ae4d4993cf",
   "metadata": {},
   "outputs": [],
   "source": [
    "# Initiation\n",
    "# importing required libraries\n",
    "import os\n",
    "import glob\n",
    "\n",
    "import numpy as np\n",
    "import pandas as pd"
   ]
  },
  {
   "cell_type": "code",
   "execution_count": 2,
   "id": "55f1a7be-b030-47c2-99f0-dbea15a69142",
   "metadata": {},
   "outputs": [
    {
     "name": "stdout",
     "output_type": "stream",
     "text": [
      "/home/jupyter/Team-Prophecy\n"
     ]
    }
   ],
   "source": [
    "path = os.sep+\"home\"+os.sep+\"jupyter\"+os.sep+\"Team-Prophecy\"\n",
    "print(path)"
   ]
  },
  {
   "cell_type": "code",
   "execution_count": 3,
   "id": "4a180846-a8f9-4b4f-a7bb-618af08f056f",
   "metadata": {},
   "outputs": [],
   "source": [
    "if path != os.getcwd():\n",
    "    os.chdir(path)"
   ]
  },
  {
   "cell_type": "code",
   "execution_count": 4,
   "id": "069075c9-8924-4afe-9163-31f9705d1a36",
   "metadata": {},
   "outputs": [],
   "source": [
    "from Code.src.modules.db_ops import *"
   ]
  },
  {
   "cell_type": "markdown",
   "id": "d33a5d4d-a82d-47eb-b482-bcd57322841c",
   "metadata": {},
   "source": [
    "Be sure to incorporate buildEnrollmentData as a function for all lines below"
   ]
  },
  {
   "cell_type": "code",
   "execution_count": 5,
   "id": "67d8b14b-9f9c-4f9c-8b57-93c6698b6f96",
   "metadata": {},
   "outputs": [],
   "source": [
    "#def buildEnrollmentData():"
   ]
  },
  {
   "cell_type": "code",
   "execution_count": 6,
   "id": "8e31f36d-7cd7-4a68-98ae-a2833042127a",
   "metadata": {},
   "outputs": [
    {
     "name": "stdout",
     "output_type": "stream",
     "text": [
      "######################################## \t \n",
      " Enrollment Data\n",
      "Building the Enrollment Data... [1/3]\n"
     ]
    }
   ],
   "source": [
    "# # Enrollment Data\n",
    "print(\"#\"*40, \"\\t\", \"\\n\", \"Enrollment Data\")\n",
    "print(\"Building the Enrollment Data... [1/3]\")\n",
    "# Merging the Enrollment data from all the CSV files in the EnrollmentData folder\n",
    "files = glob.glob(\n",
    "    os.path.join(os.sep+\"home\"+os.sep+\"jupyter\"+os.sep+\"Team-Prophecy\",\"Data\", \"01_raw\", \"EnrollmentData\", \"*.csv\")\n",
    ")"
   ]
  },
  {
   "cell_type": "code",
   "execution_count": 7,
   "id": "15ed9c91-0a67-42c0-95f4-f37016f27173",
   "metadata": {},
   "outputs": [],
   "source": [
    "df_enrollment = pd.read_csv(files[0])\n",
    "df_enrollment['file_name'] = files[0]\n",
    "for file in files[1:]:\n",
    "    data = pd.read_csv(file)\n",
    "    data['file_name'] = file\n",
    "    df_enrollment = pd.concat([df_enrollment, data], ignore_index=True)\n",
    "\n",
    "# Shape of the final dataframe\n",
    "df_enrollment.shape\n",
    "\n",
    "# renaming all the columns in the dataframe\n",
    "rename_dict = {\n",
    "    'Unnamed: 0'                        : 'file_index',\n",
    "    'Stu Term'                          : 'reg_term_code',\n",
    "    'Unnamed: 1'                        : 'reg_term_desc',\n",
    "    'Stu Admit Term'                    : 'stu_admit_term_code',\n",
    "    'Unnamed: 3'                        : 'stu_admit_term_desc',\n",
    "    'Record ID'                         : 'stu_id',\n",
    "    'Stu Visa Type'                     : 'stu_visa',\n",
    "    'Stu Attribute BAM'                 : 'stu_bam',\n",
    "    'Stu Admit Type'                    : 'stu_prog_level',\n",
    "    'Stu Primary Degree Level'          : 'stu_deg_level',\n",
    "    'Stu Primary Major 1 College'       : 'stu_college',\n",
    "    'Stu Primary Program'               : 'stu_prog_desc',\n",
    "    'Stu Primary Program Code'          : 'stu_prog_code',\n",
    "    'Stu Primary Department'            : 'stu_dept',\n",
    "    'Unnamed: 14'                       : 'stu_dept_desc',\n",
    "    'Stu New/Returning Ind'             : 'stu_new_ret',\n",
    "    'Stu Residency Group'               : 'stu_res',\n",
    "    'Course Sect College'               : 'crs_sect_clg',\n",
    "    'Stu Registered Ind'                : 'stu_act_reg_ind',\n",
    "    'Registration Status'               : 'reg_status',\n",
    "    'Registration Status Date'          : 'reg_status_date',\n",
    "    'Course Desc'                       : 'crs',\n",
    "    'Course Section'                    : 'crs_sect',\n",
    "    'Course Sect Schedule Type'         : 'crs_type',\n",
    "    'Course Sect Wiley Courses Ind'     : 'crs_sect_wiley_ind',\n",
    "    'Course Sect Credits'               : 'crs_credits',\n",
    "    'Stu Course Registered Hours'       : 'crs_hours',\n",
    "    'Course Sect Instruction Delivery Method Group' : 'crs_sect_modality',\n",
    "}\n",
    "df_enrollment.rename(columns=rename_dict, inplace=True)"
   ]
  },
  {
   "cell_type": "code",
   "execution_count": 8,
   "id": "4f9e4877-0ecd-4f79-b70d-07ec58216941",
   "metadata": {},
   "outputs": [
    {
     "name": "stdout",
     "output_type": "stream",
     "text": [
      "Cleaning the Enrollment Data... [2/3]\n",
      "Exporting the Enrollment Data... [3/3]\n"
     ]
    }
   ],
   "source": [
    "df_enrollment['reg_term_name'] = df_enrollment['reg_term_desc'].str.split(' ').str[0]\n",
    "df_enrollment['reg_term_year'] = df_enrollment['reg_term_desc'].str.split(' ').str[1]\n",
    "# splitting the \"stu_admit_term_desc\" column into term and year\n",
    "df_enrollment['stu_admit_term_name'] = df_enrollment['stu_admit_term_desc'].str.split(' ').str[0]\n",
    "df_enrollment['stu_admit_term_year'] = df_enrollment['stu_admit_term_desc'].str.split(' ').str[1]\n",
    "\n",
    "# storing the Record Extraction Date from the \"file_name\" column\n",
    "df_enrollment['rec_ext_date'] = df_enrollment['file_name'].str.split(\"_\").str[-2]\n",
    "df_enrollment['rec_ext_date'] = df_enrollment['rec_ext_date'].str.replace(\".\", \"/\", regex=False)\n",
    "\n",
    "# Cleaning the data\n",
    "print(\"Cleaning the Enrollment Data... [2/3]\")\n",
    "df_enrollment['stu_id'].dropna(inplace=True)\n",
    "df_enrollment['stu_visa'].fillna(\"Not Relevent\", inplace=True)\n",
    "\n",
    "df_enrollment['stu_bam'].replace(\"'--\", \"Not BAM\", inplace=True)\n",
    "df_enrollment['stu_dept'].replace(\"'-----\", \"No Value\", inplace=True)\n",
    "df_enrollment['crs_sect_wiley_ind'].replace(\"'--\", \"No Value\", inplace=True)\n",
    "\n",
    "df_enrollment['crs_credits'] = df_enrollment['crs_credits'].astype(str)\n",
    "\n",
    "df_enrollment['crs_credits'].replace(\"6-Jan\", \"1-6\", inplace=True)\n",
    "df_enrollment['crs_credits'].replace(\"3-Jan\", \"1-3\", inplace=True)\n",
    "df_enrollment['crs_credits'].replace(\"18-Jan\", \"1-18\", inplace=True)\n",
    "df_enrollment['crs_credits'].replace(\"4-Jan\", \"1-4\", inplace=True)\n",
    "df_enrollment['crs_credits'].replace(\"0,3\", \"0-3\", inplace=True)\n",
    "\n",
    "# sorting the dataframe by term code and registration status date\n",
    "df_enrollment.sort_values(\n",
    "    by=['reg_term_code', 'rec_ext_date', 'reg_status_date'], inplace=True\n",
    ")\n",
    "\n",
    "# resetting the index after sorting\n",
    "df_enrollment.reset_index(drop=True, inplace=True)\n",
    "\n",
    "# creating a new rec_id column for identifying each record\n",
    "df_enrollment['rec_id'] = df_enrollment.index\n",
    "\n",
    "# Changing the data type of the columns\n",
    "df_enrollment['rec_ext_date']           = pd.to_datetime(df_enrollment['rec_ext_date'])\n",
    "df_enrollment['reg_term_code']          = df_enrollment['reg_term_code'].astype(str)\n",
    "df_enrollment['reg_term_year']          = df_enrollment['reg_term_year'].astype(int)\n",
    "df_enrollment['reg_term_name']          = df_enrollment['reg_term_name'].astype('category')\n",
    "df_enrollment['stu_new_ret']            = df_enrollment['stu_new_ret'].astype('category')\n",
    "df_enrollment['stu_deg_level']          = df_enrollment['stu_deg_level'].astype('category')\n",
    "df_enrollment['stu_college']            = df_enrollment['stu_college'].astype('category')\n",
    "df_enrollment['stu_prog_desc']          = df_enrollment['stu_prog_desc'].astype('category')\n",
    "df_enrollment['stu_prog_level']         = df_enrollment['stu_prog_level'].astype('category')\n",
    "df_enrollment['stu_dept']               = df_enrollment['stu_dept'].astype('category')\n",
    "df_enrollment['stu_dept_desc']          = df_enrollment['stu_dept_desc'].astype('category')\n",
    "df_enrollment['stu_admit_term_code']    = df_enrollment['stu_admit_term_code'].astype(str)\n",
    "df_enrollment['stu_admit_term_year']    = df_enrollment['stu_admit_term_year'].astype(int)\n",
    "df_enrollment['stu_admit_term_name']    = df_enrollment['stu_admit_term_name'].astype('category')\n",
    "df_enrollment['stu_res']                = df_enrollment['stu_res'].astype('category')\n",
    "df_enrollment['stu_visa']               = df_enrollment['stu_visa'].astype('category')\n",
    "df_enrollment['stu_bam']                = df_enrollment['stu_bam'].astype('category')\n",
    "df_enrollment['crs_sect_clg']           = df_enrollment['crs_sect_clg'].astype('category')\n",
    "df_enrollment['crs_type']               = df_enrollment['crs_type'].astype('category')\n",
    "df_enrollment['crs_sect_modality']      = df_enrollment['crs_sect_modality'].astype('category')\n",
    "df_enrollment['crs_sect_wiley_ind']     = df_enrollment['crs_sect_wiley_ind'].astype('category')\n",
    "df_enrollment['crs_credits']            = df_enrollment['crs_credits'].astype('category')\n",
    "df_enrollment['crs_hours']              = df_enrollment['crs_hours'].astype('category')\n",
    "df_enrollment['stu_act_reg_ind']        = df_enrollment['stu_act_reg_ind'].astype('category')\n",
    "df_enrollment['reg_status']             = df_enrollment['reg_status'].astype('category')\n",
    "df_enrollment['reg_status_date']        = pd.to_datetime(df_enrollment['reg_status_date'])\n",
    "\n",
    "# reordering the columns\n",
    "df_enrollment = df_enrollment[[\n",
    "    # Records Info\n",
    "    'rec_id', 'rec_ext_date', 'file_name', 'file_index',\n",
    "    # Registration Term/Semester Info\n",
    "    'reg_term_code', 'reg_term_year', 'reg_term_name', 'reg_term_desc',\n",
    "    # Student Info\n",
    "    'stu_id', 'stu_deg_level', 'stu_college', 'stu_res', 'stu_visa', 'stu_bam', 'stu_new_ret',\n",
    "    'stu_dept', 'stu_dept_desc', 'stu_prog_code', 'stu_prog_level', 'stu_prog_desc',\n",
    "    'stu_admit_term_code', 'stu_admit_term_year', 'stu_admit_term_name', 'stu_admit_term_desc',\n",
    "    # Course Info\n",
    "    'crs', 'crs_type', 'crs_credits', 'crs_hours',\n",
    "    'crs_sect', 'crs_sect_clg', 'crs_sect_modality', 'crs_sect_wiley_ind',\n",
    "    # Registration Status Info\n",
    "    'reg_status', 'reg_status_date', 'stu_act_reg_ind'\n",
    "]]\n",
    "\n",
    "print(\"Exporting the Enrollment Data... [3/3]\")\n",
    "raw_connection = ConnectDB(os.path.join(os.sep+\"home\"+os.sep+\"jupyter\"+os.sep+\"Team-Prophecy\",\"Data\", \"01_raw\", \"CourseData\", \"raw.db\"))\n",
    "process_connection = ConnectDB(os.path.join(os.sep+\"home\"+os.sep+\"jupyter\"+os.sep+\"Team-Prophecy\",\"Data\", \"02_processed\", \"intermediate.db\"))"
   ]
  },
  {
   "cell_type": "code",
   "execution_count": 9,
   "id": "13988cdc-4f13-4ce9-8b53-e5afa4b38581",
   "metadata": {},
   "outputs": [],
   "source": [
    "#df_enrollment.loc[:,['crs', 'crs_type', 'crs_credits', 'crs_hours','crs_sect', 'crs_sect_clg', 'crs_sect_modality', 'crs_sect_wiley_ind']].head()"
   ]
  },
  {
   "cell_type": "code",
   "execution_count": 10,
   "id": "09ff1a33-32d3-4fc9-bacc-0def3b7d5ba2",
   "metadata": {},
   "outputs": [],
   "source": [
    "df_enrollment['crs'] = df_enrollment['crs'].str.replace(\" \",\"\")"
   ]
  },
  {
   "cell_type": "code",
   "execution_count": 11,
   "id": "1545c493-3cb5-4aee-8a9b-236549c37d3d",
   "metadata": {},
   "outputs": [],
   "source": [
    "df_enrollment['crs_sect'] = df_enrollment['crs_sect'].str.extract(r\"\\s(...)$\")"
   ]
  },
  {
   "cell_type": "code",
   "execution_count": 12,
   "id": "61d6992e-802a-4df9-a8d4-b1001073d139",
   "metadata": {},
   "outputs": [],
   "source": [
    "df_enrollment[\"stu_deg_level\"] = df_enrollment[\"stu_deg_level\"].replace(\"Master\",\"ms\").replace(\"Graduate Certificate\",\"gs\").replace(\"PhD\",\"phd\")"
   ]
  },
  {
   "cell_type": "code",
   "execution_count": 13,
   "id": "bb723afb-ab9c-48da-9b95-69a272e86b21",
   "metadata": {},
   "outputs": [],
   "source": [
    "df_enrollment[\"reg_status\"] = df_enrollment[\"reg_status\"].replace(\"**Web Registered**\",\"R\")\\\n",
    "                        .replace(\"**Registered**\",\"R\")\\\n",
    "                        .replace(\"Wait Listed\",\"W\")\\\n",
    "                        .replace(\"Web Withdrawal\",\"D\")\\\n",
    "                        .replace(\"Web Drop (Liability)\",\"D\")\\\n",
    "                        .replace(\"Drop/Delete\",\"D\")\\\n",
    "                        .replace(\"Drop-Course Cancelled\",\"D\")\\\n",
    "                        .replace(\"Withdrawal from Course\", \"D\")\\\n",
    "                        .replace(\"Selective Withdrawal Exception\", \"D\")\\\n",
    "                        .replace(\"Registered for Audit\",\"R\")"
   ]
  },
  {
   "cell_type": "code",
   "execution_count": 14,
   "id": "d314308f-807f-444d-936f-b7f19b4de88f",
   "metadata": {},
   "outputs": [],
   "source": [
    "#In case we just want to drop based off of what we have...\n",
    "#df_enrollment[\"reg_status\"] = df_enrollment[df_enrollment[\"reg_status\"] != \"D\"]"
   ]
  },
  {
   "cell_type": "code",
   "execution_count": 15,
   "id": "7dc6f8d6-873d-4bd5-9e91-3bd5b1acc233",
   "metadata": {},
   "outputs": [],
   "source": [
    "df_enrollment[\"rec_ext_date\"] = df_enrollment[\"rec_ext_date\"].astype(str)"
   ]
  },
  {
   "cell_type": "code",
   "execution_count": 16,
   "id": "dec08019-4395-434f-81b5-bc2950be8b3e",
   "metadata": {},
   "outputs": [],
   "source": [
    "df_enrollment[\"reg_status_date\"] = df_enrollment[\"reg_status_date\"].astype(str)"
   ]
  },
  {
   "cell_type": "code",
   "execution_count": 17,
   "id": "b4f690ec-49c9-4d04-8160-111cae0b80c0",
   "metadata": {},
   "outputs": [],
   "source": [
    "#df_enrollment.loc[:,[\"stu_id\", \"stu_admit_term_code\",\"stu_deg_level\",\"stu_college\",\"stu_dept\",\"stu_prog_code\",\"stu_res\",\"stu_visa\",\"stu_bam\"]]"
   ]
  },
  {
   "cell_type": "markdown",
   "id": "080281ad-735f-4c68-8eaf-5b556fc9b6d5",
   "metadata": {},
   "source": [
    "THE INFORMATION WILL BE PLACED INTO THE INTERMEDIATE DB"
   ]
  },
  {
   "cell_type": "code",
   "execution_count": 18,
   "id": "454fbd50-53ff-4fcd-a0a0-d8a5101b5f5c",
   "metadata": {},
   "outputs": [],
   "source": [
    "stu_merge_data = df_enrollment.loc[:,[\"stu_prog_code\",\"stu_college\",\"crs_type\"]]"
   ]
  },
  {
   "cell_type": "code",
   "execution_count": 19,
   "id": "e08607ad-1654-431c-8702-9c168ae7b0ea",
   "metadata": {},
   "outputs": [],
   "source": [
    "r_program = pd.DataFrame(raw_connection.connection.execute(\"SELECT prog_code, prog_url, prog_type FROM programs\").fetchall(), columns=[\"stu_prog_code\",\"stu_url\",\"stu_deg_level\"])"
   ]
  },
  {
   "cell_type": "code",
   "execution_count": 20,
   "id": "61dc466f-d33c-4b27-9642-111a01be7002",
   "metadata": {},
   "outputs": [],
   "source": [
    "process_stu_prog = stu_merge_data.merge(r_program, on=\"stu_prog_code\", how=\"inner\").drop_duplicates()"
   ]
  },
  {
   "cell_type": "code",
   "execution_count": 21,
   "id": "95bfc7c4-1876-4a8f-a5e8-b02d036b13ea",
   "metadata": {},
   "outputs": [],
   "source": [
    "process_stu_prog = process_stu_prog[[\"stu_prog_code\",\"stu_url\",\"crs_type\",\"stu_college\",\"stu_deg_level\"]]"
   ]
  },
  {
   "cell_type": "code",
   "execution_count": 22,
   "id": "1a300314-81ab-490c-8348-9b3d26f909a4",
   "metadata": {},
   "outputs": [],
   "source": [
    "process_stu_prog = list(process_stu_prog.itertuples(index=False, name=None))"
   ]
  },
  {
   "cell_type": "markdown",
   "id": "27bf8207-b88c-4258-ad90-e41b3d2796d2",
   "metadata": {},
   "source": [
    "PERFORMING A MERGE AGAINST PROCESS-PROGRAMS DATABASE"
   ]
  },
  {
   "cell_type": "code",
   "execution_count": 23,
   "id": "d297db5c-465d-4010-8991-09809160be31",
   "metadata": {},
   "outputs": [],
   "source": [
    "process_connection.connection.executemany(\"INSERT INTO programs(prog_code,prog_url,prog_type,prog_clg,prog_lvl) VALUES(?,?,?,?,?)\",\n",
    "                                          process_stu_prog)\n",
    "process_connection.connection.commit()"
   ]
  },
  {
   "cell_type": "code",
   "execution_count": 24,
   "id": "65b957f8-bfa3-47eb-a6d9-7634a347f896",
   "metadata": {},
   "outputs": [],
   "source": [
    "reg_status_right = df_enrollment.loc[:,[\"stu_act_reg_ind\",\"reg_term_code\", \"stu_id\", \"crs\", \"crs_sect\", \"reg_status_date\", \"reg_status\",\"rec_id\",\"stu_new_ret\"]]\n",
    "reg_status = df_enrollment.groupby([\"reg_term_code\", \"stu_id\", \"crs\",\"crs_sect\"]).agg({\"reg_status_date\":[np.max]}).reset_index()\n",
    "reg_status.columns = [\"reg_term_code\", \"stu_id\", \"crs\", \"crs_sect\", \"reg_status_date\"]\n",
    "reg_status = reg_status.merge(reg_status_right,on=[\"reg_term_code\", \"stu_id\", \"crs\",\"crs_sect\",\"reg_status_date\"],how=\"inner\")\n",
    "reg_status = reg_status[[\"reg_term_code\",\"stu_id\",\"crs\",\"crs_sect\",\n",
    "                         \"reg_status_date\",\"reg_status\",\"stu_act_reg_ind\",\n",
    "                         \"stu_new_ret\"\n",
    "                        ]]"
   ]
  },
  {
   "cell_type": "code",
   "execution_count": 25,
   "id": "721e5a44-cf49-4c51-9eef-4a7d93b9e6a5",
   "metadata": {},
   "outputs": [],
   "source": [
    "reg_status_list = list(reg_status.itertuples(index=False, name=None))"
   ]
  },
  {
   "cell_type": "markdown",
   "id": "3bc28f43-d4fe-463a-85a6-5941eca015d6",
   "metadata": {},
   "source": [
    "reg_status is good\n",
    "dept_list is good\n",
    "reg_log is good\n",
    "crs is good (but requires to be merged)\n",
    "term_data is good"
   ]
  },
  {
   "cell_type": "code",
   "execution_count": 26,
   "id": "00f29899-a546-42d2-a751-e71fbe91207d",
   "metadata": {},
   "outputs": [],
   "source": [
    "#Grab record_id, rec_ext_date\n",
    "dept_list = list(df_enrollment.loc[:,[\"stu_dept\",\"stu_college\"]].drop_duplicates().itertuples(index=False, name=None))\n",
    "dept_list = [i for i in dept_list if i[0] != \"No Value\"]\n",
    "reg_log_data = list(df_enrollment.loc[:,[\"rec_id\",\"reg_term_code\",\"stu_act_reg_ind\",\"crs\",\"crs_sect\"\n",
    "                                         ,\"rec_ext_date\",\"file_name\",\"file_index\"]].itertuples(index=False, name=None))\n",
    "term_data = list(df_enrollment.loc[:,[\"reg_term_code\",\"reg_term_year\",\"reg_term_name\",\"reg_term_desc\"]].drop_duplicates().itertuples(index=False, name=None))\n",
    "student_data = list(df_enrollment.loc[:,[\"stu_id\", \"stu_admit_term_code\",\"stu_deg_level\",\"stu_college\",\"stu_dept\",\"stu_prog_code\",\"stu_res\",\"stu_visa\",\"stu_bam\"]].dropna().itertuples(index=False, name=None))"
   ]
  },
  {
   "cell_type": "code",
   "execution_count": 27,
   "id": "8e61170f-18ff-4e8e-b0a1-6c81c1b7e73e",
   "metadata": {},
   "outputs": [],
   "source": [
    "crs_data = list(df_enrollment.loc[:,[\"crs\",\"crs_type\",\"crs_credits\",\"crs_hours\"]].itertuples(index=False, name=None))"
   ]
  },
  {
   "cell_type": "markdown",
   "id": "2831f2ed-0d5a-43de-a7f4-2595074283c4",
   "metadata": {},
   "source": [
    "NOTE: student data is only being placed into a raw data connection because it has many referential database information that must be addressed prior"
   ]
  },
  {
   "cell_type": "code",
   "execution_count": 28,
   "id": "0a4d8391-39ea-40b3-93b5-dbffcda525c0",
   "metadata": {},
   "outputs": [],
   "source": [
    "process_connection.connection.executemany(\"INSERT INTO departments(dept_desc,col_id_fk) VALUES(?,?)\",\n",
    "                                          dept_list)\n",
    "process_connection.connection.commit()"
   ]
  },
  {
   "cell_type": "code",
   "execution_count": 29,
   "id": "5e8b286c-7585-4ff3-b6d1-a49e69baead6",
   "metadata": {},
   "outputs": [
    {
     "data": {
      "text/plain": [
       "(0,\n",
       " '201770',\n",
       " 'Y',\n",
       " 'INFS640',\n",
       " '001',\n",
       " '2017-05-01',\n",
       " '/home/jupyter/Team-Prophecy/Data/01_raw/EnrollmentData/CEC Graduate Registrations for DAEN Capstone_05.01.2017_Fall17.csv',\n",
       " 5)"
      ]
     },
     "execution_count": 29,
     "metadata": {},
     "output_type": "execute_result"
    }
   ],
   "source": [
    "reg_log_data[0]"
   ]
  },
  {
   "cell_type": "code",
   "execution_count": 30,
   "id": "37ecb87e-13b5-47da-a0ac-0482c3573a1a",
   "metadata": {},
   "outputs": [],
   "source": [
    "process_connection.connection.executemany(\n",
    "    \"\"\"\n",
    "    INSERT INTO registration_log(rec_id, \n",
    "    reg_term_code, reg_sect_reg_ind, crs, \n",
    "    sect_id, rec_ext_date, file_name, file_index) \n",
    "    VALUES(?,?,?,?,\n",
    "            ?,?,?,?)\n",
    "    \"\"\",\n",
    "    reg_log_data)\n",
    "process_connection.connection.commit()"
   ]
  },
  {
   "cell_type": "code",
   "execution_count": 31,
   "id": "d4d375d6-09a1-48a9-af7b-a904e80f94a5",
   "metadata": {},
   "outputs": [],
   "source": [
    "process_connection.connection.executemany(\n",
    "    \"\"\"\n",
    "    INSERT INTO registration_status \n",
    "    (reg_term_code, reg_stu_id, crs, sect_id, \n",
    "    reg_status_date, reg_final_status, reg_sect_reg_ind, \n",
    "    reg_new_ret_stu)\n",
    "    VALUES(\n",
    "    ?,?,?,?,\n",
    "    ?,?,?,?)\n",
    "    \"\"\",reg_status_list\n",
    ")\n",
    "process_connection.connection.commit()"
   ]
  },
  {
   "cell_type": "code",
   "execution_count": 32,
   "id": "8d575f55-08da-4023-9a9b-1cfae2d2a073",
   "metadata": {},
   "outputs": [],
   "source": [
    "process_connection.connection.executemany(\n",
    "    \"\"\"\n",
    "    INSERT INTO term VALUES(?,?,?,?)\n",
    "    \"\"\",\n",
    "    term_data\n",
    ")\n",
    "process_connection.connection.commit()"
   ]
  },
  {
   "cell_type": "code",
   "execution_count": 33,
   "id": "5f34148e-6be4-4afb-bfae-9d18a6113b94",
   "metadata": {},
   "outputs": [],
   "source": [
    "process_connection.connection.executemany(\n",
    "    \"\"\"\n",
    "    INSERT INTO courses(crs,crs_type,crs_credits,crs_hours) VALUES(?,?,?,?)\n",
    "    \"\"\",\n",
    "    crs_data\n",
    ")\n",
    "process_connection.connection.commit()"
   ]
  },
  {
   "cell_type": "markdown",
   "id": "6ac3804a-7580-4f3f-9fcf-cebe7c6e4313",
   "metadata": {},
   "source": [
    "THE BELOW INFORMATION WILL BE PUT INTO THE RAW DB FOR FURTHER MERGING"
   ]
  },
  {
   "cell_type": "code",
   "execution_count": 34,
   "id": "9a54c5f6-c10b-462e-9ee4-f68c9a64ee04",
   "metadata": {},
   "outputs": [],
   "source": [
    "raw_connection.connection.executemany(\"\"\"\n",
    "INSERT INTO \n",
    "student_details(stu_id, stu_admit_term_code,stu_deg_level,\n",
    "                stu_college,stu_dept,stu_prog, stu_res,\n",
    "                stu_visa, stu_bam)\n",
    "VALUES(?,?,?,?,?,?,?,?,?)\n",
    "\"\"\", student_data)\n",
    "raw_connection.connection.commit()"
   ]
  },
  {
   "cell_type": "code",
   "execution_count": 35,
   "id": "7c27dc31-c64b-4818-a894-a12a911b2e5e",
   "metadata": {},
   "outputs": [],
   "source": [
    "#col_list = list(df_enrollment.loc[:,[\"stu_college\"]].drop_duplicates().itertuples(index=False, name=None))"
   ]
  },
  {
   "cell_type": "code",
   "execution_count": 36,
   "id": "ebd3fdf8-7467-4ae3-bdef-45030b943c48",
   "metadata": {},
   "outputs": [],
   "source": [
    "#raw_connection.connection.executemany(\"\"\"\n",
    "#    INSERT INTO colleges(col_name) VALUES(?)\n",
    "#\"\"\",col_list)\n",
    "#raw_connection.connection.commit()"
   ]
  },
  {
   "cell_type": "code",
   "execution_count": 37,
   "id": "02a68f4a-bce7-4046-9785-6940a305e689",
   "metadata": {},
   "outputs": [],
   "source": [
    "course_section = list(df_enrollment.loc[:,[\"crs\",\"crs_sect\",\"crs_sect_clg\",\"stu_dept\",\"crs_sect_modality\",\"reg_status\",\"stu_prog_level\",\"crs_sect_wiley_ind\"]].dropna().itertuples(index=False, name=None))"
   ]
  },
  {
   "cell_type": "code",
   "execution_count": 38,
   "id": "a54e2593-959d-457d-a75a-fcf38b3fc4f9",
   "metadata": {},
   "outputs": [],
   "source": [
    "raw_connection.connection.executemany(\"\"\"\n",
    "    INSERT INTO course_section VALUES(?,?,?,?,?,?,?,?)\n",
    "\"\"\",course_section)\n",
    "raw_connection.connection.commit()"
   ]
  }
 ],
 "metadata": {
  "environment": {
   "kernel": "python3",
   "name": "common-cpu.m103",
   "type": "gcloud",
   "uri": "gcr.io/deeplearning-platform-release/base-cpu:m103"
  },
  "kernelspec": {
   "display_name": "Python 3",
   "language": "python",
   "name": "python3"
  },
  "language_info": {
   "codemirror_mode": {
    "name": "ipython",
    "version": 3
   },
   "file_extension": ".py",
   "mimetype": "text/x-python",
   "name": "python",
   "nbconvert_exporter": "python",
   "pygments_lexer": "ipython3",
   "version": "3.7.12"
  }
 },
 "nbformat": 4,
 "nbformat_minor": 5
}
