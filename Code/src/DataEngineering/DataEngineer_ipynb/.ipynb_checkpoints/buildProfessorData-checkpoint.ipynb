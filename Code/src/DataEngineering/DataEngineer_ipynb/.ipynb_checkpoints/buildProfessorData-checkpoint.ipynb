{
 "cells": [
  {
   "cell_type": "code",
   "execution_count": 21,
   "id": "dee1f646-1093-405b-a5a3-656bc9dd4e93",
   "metadata": {},
   "outputs": [],
   "source": [
    "# Initiation\n",
    "# importing required libraries\n",
    "import os\n",
    "import glob\n",
    "import pandas as pd\n",
    "import sqlite3"
   ]
  },
  {
   "cell_type": "code",
   "execution_count": 22,
   "id": "dae69537-1ddb-4eef-8828-6ab8ec132149",
   "metadata": {},
   "outputs": [
    {
     "name": "stdout",
     "output_type": "stream",
     "text": [
      "/home/jupyter/Team-Prophecy\n"
     ]
    }
   ],
   "source": [
    "path = os.sep+\"home\"+os.sep+\"jupyter\"+os.sep+\"Team-Prophecy\"\n",
    "print(path)"
   ]
  },
  {
   "cell_type": "code",
   "execution_count": 23,
   "id": "1d305ed0-d8ec-45cc-8635-623518d98273",
   "metadata": {},
   "outputs": [],
   "source": [
    "if path != os.getcwd():\n",
    "    os.chdir(path)"
   ]
  },
  {
   "cell_type": "code",
   "execution_count": 24,
   "id": "d1ce55d7-ea8e-4844-988e-f860325901a4",
   "metadata": {},
   "outputs": [],
   "source": [
    "from Code.src.modules.db_ops import *"
   ]
  },
  {
   "cell_type": "code",
   "execution_count": 25,
   "id": "a0cae489-bea9-49bb-bca9-5368b48dc977",
   "metadata": {},
   "outputs": [
    {
     "name": "stdout",
     "output_type": "stream",
     "text": [
      "/home/jupyter/Team-Prophecy/Data/02_processed/intermediate.db\n"
     ]
    }
   ],
   "source": [
    "process_path = os.path.join(os.sep+\"home\"+os.sep+\"jupyter\"+os.sep+\"Team-Prophecy\",\"Data\",\"02_processed\",\"intermediate.db\")\n",
    "print(process_path)"
   ]
  },
  {
   "cell_type": "code",
   "execution_count": 26,
   "id": "25201496-ca34-4ddc-a107-e8fa64fe63f9",
   "metadata": {},
   "outputs": [
    {
     "name": "stdout",
     "output_type": "stream",
     "text": [
      "/home/jupyter/Team-Prophecy/Data/01_raw/CourseData/raw.db\n"
     ]
    }
   ],
   "source": [
    "raw_path = os.path.join(os.sep+\"home\"+os.sep+\"jupyter\"+os.sep+\"Team-Prophecy\",\"Data\",\"01_raw\",\"CourseData\",\"raw.db\")\n",
    "print(raw_path)"
   ]
  },
  {
   "cell_type": "code",
   "execution_count": 27,
   "id": "dded39b2-5e4a-473b-b46b-9673a037463b",
   "metadata": {},
   "outputs": [],
   "source": [
    "raw_connection = sqlite3.connect(raw_path)"
   ]
  },
  {
   "cell_type": "code",
   "execution_count": 28,
   "id": "5ab82cb1-94f7-4dd7-84ff-9861d56bf8b6",
   "metadata": {},
   "outputs": [],
   "source": [
    "process_connection = sqlite3.connect(process_path)"
   ]
  },
  {
   "cell_type": "markdown",
   "id": "953ecd13-6f45-4a4a-b7c5-e2bcb0d58162",
   "metadata": {},
   "source": [
    "IMPORTANT: Use buildProfessorData function when completed"
   ]
  },
  {
   "cell_type": "code",
   "execution_count": 29,
   "id": "31c3cee3-a290-412d-94a1-400f356d12ab",
   "metadata": {},
   "outputs": [],
   "source": [
    "#def buildProfessorData():"
   ]
  },
  {
   "cell_type": "code",
   "execution_count": 30,
   "id": "5e38de1f-0668-40be-b677-6e898731b9d7",
   "metadata": {},
   "outputs": [
    {
     "name": "stdout",
     "output_type": "stream",
     "text": [
      "######################################## \t \n",
      " Professor Data\n",
      "Importing the Professor Data... [1/3]\n"
     ]
    }
   ],
   "source": [
    "# # Professor Data\n",
    "print(\"#\"*40, \"\\t\", \"\\n\", \"Professor Data\")\n",
    "print(\"Importing the Professor Data... [1/3]\")\n",
    "# Importing the CSV File\n",
    "df_professor = pd.read_excel(\n",
    "    os.path.join(os.sep+\"home\"+os.sep+\"jupyter\"+os.sep+\"Team-Prophecy\",\n",
    "                 \"Data\", \"01_raw\", \"ProfessorData\", \"CEC Course Info including Fac Name.xlsx\")\n",
    ")\n",
    "rename_dict = {\n",
    "    \"Stu Term\"                              : \"reg_term_desc\",\n",
    "    \"Unnamed: 1\"                            : \"reg_term_code\",\n",
    "    \"Course Sect College\"                   : \"crs_sect_clg\",\n",
    "    \"Course Sect Level\"                     : \"crs_sect_level\",\n",
    "    \"Course Sect Primary Instr Home Org\"    : \"instr_home_org\",\n",
    "    \"Course Sect Primary Instr Name\"        : \"instr_name\",\n",
    "    \"Course Sect Dept\"                      : \"crs_sect_dept\",\n",
    "    \"Unnamed: 7\"                            : \"crs_sect_dept_desc\",\n",
    "    \"Course Sect Campus\"                    : \"crs_sect_camp\",\n",
    "    \"Course Desc\"                           : \"crs\",\n",
    "    \"Course Sect Section Number\"            : \"crs_sect\",\n",
    "    \"Course Sect Instruction Delivery Method Group\" : \"crs_sect_modality\",\n",
    "    \"Course Status\"                         : \"crs_sect_status\",\n",
    "    \"Course Sect Term Actual Enrolled\"      : \"crs_sect_enroll_count\",\n",
    "    \"Course Sect Term Seats Avail\"          : \"crs_sect_enroll_avail\",\n",
    "    \"Course Sect Term Waitlist Count\"       : \"crs_sect_enroll_waitlist\",\n",
    "}\n",
    "df_professor.rename(columns=rename_dict, inplace=True)"
   ]
  },
  {
   "cell_type": "code",
   "execution_count": 31,
   "id": "5cfd76e7-8690-4d30-a558-09313de0adf2",
   "metadata": {},
   "outputs": [
    {
     "name": "stdout",
     "output_type": "stream",
     "text": [
      "Cleaning the Professor dataset... [2/3]\n",
      "Exporting the Professor dataset... [3/3]\n"
     ]
    }
   ],
   "source": [
    "df_professor[\"reg_term_name\"] = df_professor[\"reg_term_desc\"].str.split(\" \", expand=True)[0]\n",
    "df_professor[\"reg_term_year\"] = df_professor[\"reg_term_desc\"].str.split(\" \", expand=True)[1]\n",
    "\n",
    "# combining the above two columns to create a new column\n",
    "df_professor[\"crs_sect\"] = df_professor[\"crs\"] + \" \" + df_professor[\"crs_sect\"]\n",
    "\n",
    "# Cleaning the dataset\n",
    "print(\"Cleaning the Professor dataset... [2/3]\")\n",
    "df_professor['instr_home_org'].replace(\"'--\", \"No Value\", inplace=True)\n",
    "df_professor['instr_name'].replace(',  ', \"No Value\", inplace=True)\n",
    "\n",
    "# Sorting the dataframe and creating a new index\n",
    "\n",
    "df_professor.sort_values(\n",
    "    by=['reg_term_code', 'crs_sect_dept', 'crs_sect'], inplace=True)\n",
    "\n",
    "df_professor.reset_index(drop=True, inplace=True)\n",
    "\n",
    "df_professor['rec_id'] = df_professor.index\n",
    "\n",
    "# Converting the columns to the appropriate data types\n",
    "df_professor['reg_term_code']           = df_professor['reg_term_code'].astype('category')\n",
    "df_professor['reg_term_year']           = df_professor['reg_term_year'].astype('int')\n",
    "df_professor['reg_term_name']           = df_professor['reg_term_name'].astype('category')\n",
    "df_professor['reg_term_desc']           = df_professor['reg_term_desc'].astype('category')\n",
    "df_professor['crs_sect_clg']            = df_professor['crs_sect_clg'].astype('category')\n",
    "df_professor['crs_sect_camp']           = df_professor['crs_sect_camp'].astype('category')\n",
    "df_professor['crs_sect_dept']           = df_professor['crs_sect_dept'].astype('category')\n",
    "df_professor['crs_sect_dept_desc']      = df_professor['crs_sect_dept_desc'].astype('category')\n",
    "df_professor['crs_sect_level']          = df_professor['crs_sect_level'].astype('category')\n",
    "df_professor['crs_sect_modality']       = df_professor['crs_sect_modality'].astype('category')\n",
    "df_professor['crs_sect_status']         = df_professor['crs_sect_status'].astype('category')\n",
    "df_professor['instr_name']              = df_professor['instr_name'].astype('category')\n",
    "df_professor['instr_home_org']          = df_professor['instr_home_org'].astype('category')\n",
    "df_professor['crs_sect_enroll_count']   = df_professor['crs_sect_enroll_count'].astype('int')\n",
    "df_professor['crs_sect_enroll_avail']   = df_professor['crs_sect_enroll_avail'].astype('int')\n",
    "df_professor['crs_sect_enroll_waitlist']= df_professor['crs_sect_enroll_waitlist'].astype('int')\n",
    "\n",
    "# Reordering the columns\n",
    "df_professor = df_professor[[\n",
    "    # Records Info\n",
    "    'rec_id',\n",
    "    # Registration Term/Semester Info\n",
    "    'reg_term_code', 'reg_term_year', 'reg_term_name', 'reg_term_desc',\n",
    "    # Course Info\n",
    "    'crs', 'crs_sect', 'crs_sect_clg', 'crs_sect_camp', 'crs_sect_dept', 'crs_sect_dept_desc',\n",
    "    'crs_sect_level', 'crs_sect_modality', 'crs_sect_status', 'Course Sect Term Count',\n",
    "    # Professor Info\n",
    "    'instr_name', 'instr_home_org',\n",
    "    # Enrollment Info\n",
    "    'crs_sect_enroll_count', 'crs_sect_enroll_avail', 'crs_sect_enroll_waitlist'\n",
    "]]\n",
    "\n",
    "\n",
    "print(\"Exporting the Professor dataset... [3/3]\")"
   ]
  },
  {
   "cell_type": "markdown",
   "id": "c9f37bda-03ad-4da3-8ce0-0125facf81da",
   "metadata": {},
   "source": [
    "Now, we place our values respectively into our database"
   ]
  },
  {
   "cell_type": "markdown",
   "id": "24f0d678-8e4a-4aab-93be-b0e83f1bf4ea",
   "metadata": {},
   "source": [
    "First, we need to get the Professor and Section code"
   ]
  },
  {
   "cell_type": "code",
   "execution_count": 32,
   "id": "c4745efb-f36c-4b6e-8b96-58e247645287",
   "metadata": {},
   "outputs": [],
   "source": [
    "df_professor['crs'] = df_professor['crs'].str.replace(\" \",\"\")\n",
    "df_professor['crs_sect'] = df_professor['crs_sect'].str.extract(r\"\\s(...)$\")"
   ]
  },
  {
   "cell_type": "code",
   "execution_count": 33,
   "id": "a245ab12-3091-4056-a7f2-726c8186d11c",
   "metadata": {},
   "outputs": [],
   "source": [
    "semester_course_offerings = list(df_professor.loc[:,[\"reg_term_code\",\"instr_name\",\"crs\",\"crs_sect\",\"crs_sect_enroll_count\",\"crs_sect_enroll_waitlist\",\"crs_sect_enroll_avail\"]].itertuples(index=False, name=None))"
   ]
  },
  {
   "cell_type": "code",
   "execution_count": 34,
   "id": "7cd0ffea-d281-488f-9e23-1195f03046da",
   "metadata": {},
   "outputs": [],
   "source": [
    "process_connection.executemany(\"INSERT INTO semester_course_offerings VALUES(?,?,?,?,?,?,?)\",semester_course_offerings)\n",
    "process_connection.commit()"
   ]
  },
  {
   "cell_type": "code",
   "execution_count": 35,
   "id": "e80dc596-ffd3-4b1b-8571-44e70952926f",
   "metadata": {},
   "outputs": [],
   "source": [
    "instr_list = list(df_professor.loc[:,['instr_name', 'instr_home_org']].drop_duplicates().itertuples(index=False, name=None))"
   ]
  },
  {
   "cell_type": "code",
   "execution_count": 36,
   "id": "8b641a8c-8f1f-48e3-b0c8-5295fc50665d",
   "metadata": {},
   "outputs": [],
   "source": [
    "process_connection.executemany(\"INSERT INTO instructors VALUES(?,?)\", instr_list)\n",
    "process_connection.commit()"
   ]
  },
  {
   "cell_type": "code",
   "execution_count": 37,
   "id": "27b21dbe-9062-47ca-852d-07b25cc16ddd",
   "metadata": {},
   "outputs": [],
   "source": [
    "campus_list = list(df_professor.loc[:,['crs_sect_camp']].drop_duplicates().itertuples(index=False, name=None))"
   ]
  },
  {
   "cell_type": "code",
   "execution_count": 38,
   "id": "394566f8-9cf0-42d3-9b47-3bbe59d1e608",
   "metadata": {},
   "outputs": [],
   "source": [
    "college_list = list(df_professor.loc[:,['crs_sect_camp','crs_sect_clg']].drop_duplicates().itertuples(index=False, name=None))"
   ]
  },
  {
   "cell_type": "code",
   "execution_count": 39,
   "id": "5e5191dc-924b-40e6-90c2-63a1e8afb45d",
   "metadata": {},
   "outputs": [],
   "source": [
    "process_connection.executemany(\"INSERT INTO campus VALUES(?)\",campus_list)\n",
    "process_connection.commit()"
   ]
  },
  {
   "cell_type": "code",
   "execution_count": 40,
   "id": "1427c08b-4639-4180-9999-68d83cf64ad9",
   "metadata": {},
   "outputs": [],
   "source": [
    "process_connection.executemany(\"INSERT INTO colleges(col_name, campus_id_fk) VALUES(?,?)\",college_list)\n",
    "process_connection.commit()"
   ]
  }
 ],
 "metadata": {
  "environment": {
   "kernel": "python3",
   "name": "common-cpu.m103",
   "type": "gcloud",
   "uri": "gcr.io/deeplearning-platform-release/base-cpu:m103"
  },
  "kernelspec": {
   "display_name": "Python 3",
   "language": "python",
   "name": "python3"
  },
  "language_info": {
   "codemirror_mode": {
    "name": "ipython",
    "version": 3
   },
   "file_extension": ".py",
   "mimetype": "text/x-python",
   "name": "python",
   "nbconvert_exporter": "python",
   "pygments_lexer": "ipython3",
   "version": "3.7.12"
  }
 },
 "nbformat": 4,
 "nbformat_minor": 5
}
