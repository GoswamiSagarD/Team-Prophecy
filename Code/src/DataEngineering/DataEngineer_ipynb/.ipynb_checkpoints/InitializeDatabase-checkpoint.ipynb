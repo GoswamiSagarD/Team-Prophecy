{
 "cells": [
  {
   "cell_type": "code",
   "execution_count": 13,
   "id": "8aa4776d-6c90-4503-8bfc-0514c19dd8ae",
   "metadata": {},
   "outputs": [],
   "source": [
    "import os\n",
    "\n",
    "import sqlite3"
   ]
  },
  {
   "cell_type": "code",
   "execution_count": 14,
   "id": "39325293-843c-4640-809a-aae8339fbacd",
   "metadata": {},
   "outputs": [],
   "source": [
    "process_path = os.path.join(os.sep+\"home\"+os.sep+\"jupyter\"+os.sep+\"Team-Prophecy\",\"Data\",\"02_processed\",\"intermediate.db\")\n",
    "process_connection = sqlite3.connect(process_path)"
   ]
  },
  {
   "cell_type": "code",
   "execution_count": 15,
   "id": "12556e44-7bde-4b3a-8623-8a219a7737af",
   "metadata": {},
   "outputs": [
    {
     "name": "stdout",
     "output_type": "stream",
     "text": [
      "/home/jupyter/Team-Prophecy/Data/02_processed/intermediate.db\n"
     ]
    }
   ],
   "source": [
    "print(process_path)"
   ]
  },
  {
   "cell_type": "code",
   "execution_count": 16,
   "id": "0000290b-b4cb-4d08-9888-360438d50722",
   "metadata": {},
   "outputs": [],
   "source": [
    "raw_path = os.path.join(os.sep+\"home\"+os.sep+\"jupyter\"+os.sep+\"Team-Prophecy\",\"Data\",\"01_raw\",\"CourseData\",\"raw.db\")\n",
    "raw_connection = sqlite3.connect(raw_path)"
   ]
  },
  {
   "cell_type": "code",
   "execution_count": 17,
   "id": "82f70b24-03c4-44a2-bb29-9457da97e8a9",
   "metadata": {},
   "outputs": [
    {
     "name": "stdout",
     "output_type": "stream",
     "text": [
      "/home/jupyter/Team-Prophecy/Data/01_raw/CourseData/raw.db\n"
     ]
    }
   ],
   "source": [
    "print(raw_path)"
   ]
  },
  {
   "cell_type": "markdown",
   "id": "ed6a6a26-885f-4d7a-9b68-4c885a161d47",
   "metadata": {},
   "source": [
    "EXECUTE TO DESTRUCT EVERYTHING"
   ]
  },
  {
   "cell_type": "code",
   "execution_count": 18,
   "id": "99b513e5-1bb0-4f74-8d99-ac63dc50a487",
   "metadata": {},
   "outputs": [],
   "source": [
    "#chittyChittyBangBang()"
   ]
  },
  {
   "cell_type": "markdown",
   "id": "c8dc5808-8279-4c6c-886a-3dcaf90ee265",
   "metadata": {},
   "source": [
    "EXECUTE ONLY WHEN READY TO INITIALIZE THE VALUES"
   ]
  },
  {
   "cell_type": "code",
   "execution_count": 19,
   "id": "7dd0e596-75aa-4550-b6a0-d99ea997cea2",
   "metadata": {},
   "outputs": [
    {
     "name": "stdout",
     "output_type": "stream",
     "text": [
      "Loading all databases for our venture\n"
     ]
    }
   ],
   "source": [
    "buildInitCreateDBS()"
   ]
  },
  {
   "cell_type": "code",
   "execution_count": 20,
   "id": "ecd26f63-37d0-44de-af37-9d02b4c29099",
   "metadata": {},
   "outputs": [
    {
     "name": "stdout",
     "output_type": "stream",
     "text": [
      "Beginning creation of the raw database for later convergence...\n",
      " -> This will help create our initial lookup values for the tables we find.\n"
     ]
    }
   ],
   "source": [
    "buildRawDatabaseData()"
   ]
  },
  {
   "cell_type": "code",
   "execution_count": 10,
   "id": "f2f00028-fbbe-4352-a659-f9f6c2e62976",
   "metadata": {},
   "outputs": [],
   "source": [
    "#These explicitly avoid foreign keys so that values can be temporarily stored prior to being merged in.\n",
    "def buildRawDatabaseData():\n",
    "    print(\"Beginning creation of the raw database for later convergence...\")\n",
    "    print(\" -> This will help create our initial lookup values for the tables we find.\")\n",
    "    raw_connection.execute(\"CREATE TABLE campus(\"\n",
    "                       \"campus_id INTEGER PRIMARY KEY AUTOINCREMENT,\"\n",
    "                       \"campus_name TEXT NOT NULL \"\n",
    "                       \");\")\n",
    "    raw_connection.commit()\n",
    "    \n",
    "    raw_connection.execute(\"CREATE TABLE colleges(\"\n",
    "                       \"col_id INTEGER PRIMARY KEY AUTOINCREMENT, \"\n",
    "                       \"col_name TEXT NOT NULL \"\n",
    "                       \");\")\n",
    "    raw_connection.commit()\n",
    "    \n",
    "    raw_connection.execute(\"CREATE TABLE departments(\"\n",
    "                       \"dept_id INTEGER PRIMARY KEY AUTOINCREMENT, \"\n",
    "                       \"dept_desc TEXT NOT NULL \"\n",
    "                       \");\")\n",
    "    raw_connection.commit()\n",
    "    \n",
    "    raw_connection.execute(\"CREATE TABLE student_details(\"\n",
    "                       \"stu_id TEXT NOT NULL, \"\n",
    "                       \"stu_admit_term_code TEXT NOT NULL, \"\n",
    "                       \"stu_deg_level TEXT NOT NULL, \"\n",
    "                       \"stu_college INTEGER NOT NULL, \"\n",
    "                       \"stu_dept INTEGER NOT NULL, \"\n",
    "                       \"stu_prog INTEGER NOT NULL, \"\n",
    "                       \"stu_res TEXT NOT NULL, \"\n",
    "                       \"stu_visa TEXT NOT NULL, \"\n",
    "                       \"stu_bam TEXT NOT NULL \"\n",
    "                       \");\")\n",
    "    raw_connection.commit()\n",
    "    \n",
    "    raw_connection.execute(\"CREATE TABLE programs(\"\n",
    "                       \"prog_code TEXT PRIMARY KEY, \"\n",
    "                       \"prog_url TEXT NOT NULL, \"\n",
    "                       \"prog_type TEXT NOT NULL \"\n",
    "                       \");\")\n",
    "    raw_connection.commit()\n",
    "    \n",
    "    raw_connection.execute(\"CREATE TABLE courses(\"\n",
    "                       \"crs_id INTEGER PRIMARY KEY AUTOINCREMENT, \"\n",
    "                       \"crs_name TEXT NOT NULL, \"\n",
    "                       \"crs_credits INTEGER NOT NULL\"\n",
    "                       \");\")  # if it's not required, it's an elective\n",
    "    raw_connection.commit()\n",
    "    \n",
    "    raw_connection.execute(\"CREATE TABLE program_course_offerings(\"\n",
    "                       \"prog_code TEXT NOT NULL, \"\n",
    "                       \"crs_id TEXT NOT NULL \"\n",
    "                       \");\")\n",
    "    raw_connection.commit()\n",
    "\n",
    "    #NOTE: We do not know instructors who are hosting the sections here yet...\n",
    "    raw_connection.execute(\"CREATE TABLE course_section(\"\n",
    "                       \"crs TEXT NOT NULL, \"\n",
    "                       \"sect_id TEXT NOT NULL, \"\n",
    "                       \"sect_clg TEXT NOT NULL, \"\n",
    "                       \"sect_dept TEXT NOT NULL, \"\n",
    "                       \"sect_mod TEXT NOT NULL, \"\n",
    "                       \"sect_status TEXT NOT NULL, \"\n",
    "                       \"sect_lvl TEXT NOT NULL, \"\n",
    "                       \"sect_wiley TEXT NOT NULL\"\n",
    "                       \");\")\n",
    "    raw_connection.commit()"
   ]
  },
  {
   "cell_type": "code",
   "execution_count": 11,
   "id": "d8c52a20-5057-423e-896c-7e8fd6fe8199",
   "metadata": {},
   "outputs": [],
   "source": [
    "def chittyChittyBangBang():\n",
    "    print(\"Destructing all databases prior to continuing...\")\n",
    "    proc_tables = [\"campus\", \"colleges\", \"departments\",\n",
    "              \"degree_level\", \"programs\", \"courses\",\n",
    "              \"course_prerequisite\", \"semester_course_offerings\",\n",
    "              \"program_course_offerings\", \"term\", \"student_details\",\n",
    "              \"course_section\", \"registration_status\", \"registration_log\",\n",
    "              \"resultant_values\"]\n",
    "    raw_tables = [\"campus\",\"colleges\",\"departments\",\"course_section\",\n",
    "                 \"student_details\"]\n",
    "    for table in proc_tables:\n",
    "        try:\n",
    "            process_connection.execute(\"DROP TABLE \" + table)\n",
    "            process_connection.commit()\n",
    "        except:\n",
    "            print(\"Could not drop processed table \" + table)\n",
    "    for table in raw_tables:\n",
    "        try:\n",
    "            raw_connection.execute(\"DROP TABLE \" + table)\n",
    "            raw_connection.commit()\n",
    "        except:\n",
    "            print(\"Could not drop raw table \" + table)"
   ]
  },
  {
   "cell_type": "code",
   "execution_count": 25,
   "id": "4a887fa2-6d00-40da-aa25-777bfc092f9e",
   "metadata": {},
   "outputs": [],
   "source": [
    "def buildInitCreateDBS():\n",
    "    #chittyChittyBangBang()\n",
    "    print(\"Loading all databases for our venture\")\n",
    "    # Initializes the campus, colleges, and department tables.\n",
    "    # -> Campus have multiple colleges\n",
    "    # -> Colleges have multiple departments\n",
    "    # -> Departments have multiple courses\n",
    "    process_connection.execute(\"CREATE TABLE campus(\"\n",
    "                       \"campus_name TEXT PRIMARY KEY\"\n",
    "                       \");\")\n",
    "    process_connection.commit()\n",
    "\n",
    "    process_connection.execute(\"CREATE TABLE colleges(\"\n",
    "                       \"col_id INTEGER PRIMARY KEY AUTOINCREMENT, \"\n",
    "                       \"col_name TEXT NOT NULL, \"\n",
    "                       \"campus_id_fk TEXT NOT NULL, \"\n",
    "                       \"FOREIGN KEY(campus_id_fk) REFERENCES campus(campus_id)\"\n",
    "                       \");\")\n",
    "    process_connection.commit()\n",
    "\n",
    "    process_connection.execute(\"CREATE TABLE departments(\"\n",
    "                       \"dept_id INTEGER PRIMARY KEY AUTOINCREMENT, \"\n",
    "                       \"dept_desc TEXT NOT NULL, \"\n",
    "                       \"col_id_fk INTEGER NOT NULL, \"\n",
    "                       \"FOREIGN KEY(col_id_fk) REFERENCES colleges(col_id)\"\n",
    "                       \");\")\n",
    "    process_connection.commit()\n",
    "\n",
    "    #Next, we have to get degree_level\n",
    "    process_connection.execute(\"CREATE TABLE degree_level(\"\n",
    "                       \"deg_level INTEGER PRIMARY KEY AUTOINCREMENT, \"\n",
    "                       \"deg_name TEXT NOT NULL\"\n",
    "                       \");\")\n",
    "    process_connection.commit()\n",
    "    #Then, we get into Programs\n",
    "\n",
    "    process_connection.execute(\"CREATE TABLE programs(\"\n",
    "                       \"prog_code TEXT NOT NULL, \"\n",
    "                       \"prog_url TEXT NOT NULL, \"\n",
    "                       \"prog_type TEXT NOT NULL, \"\n",
    "                       \"prog_clg INTEGER NOT NULL, \"\n",
    "                       \"prog_lvl TEXT NOT NULL, \"\n",
    "                       \"CONSTRAINT prog_code_key PRIMARY KEY(prog_code, prog_type)\"\n",
    "                       \");\")\n",
    "    process_connection.commit()\n",
    "    # This will be our courses available\n",
    "    process_connection.execute(\"CREATE TABLE courses(\"\n",
    "                       \"crs_id INTEGER PRIMARY KEY AUTOINCREMENT, \"\n",
    "                       \"crs TEXT NOT NULL, \"\n",
    "                       \"crs_type TEXT NOT NULL, \"\n",
    "                       \"crs_credits INTEGER NOT NULL, \"\n",
    "                       \"crs_hours INTEGER NOT NULL\"\n",
    "                       \");\")  # if it's not required, it's an elective\n",
    "    process_connection.commit()\n",
    "\n",
    "    # All of this information will be calculated prior before continuing for easy grouping.\n",
    "    process_connection.execute(\"CREATE TABLE course_prerequisite(\"\n",
    "                       \"prereq_id INTEGER PRIMARY KEY AUTOINCREMENT, \"\n",
    "                       \"crs INTEGER NOT NULL, \"\n",
    "                       \"crs_prereq INTEGER NOT NULL,\"\n",
    "                       \"FOREIGN KEY(crs) REFERENCES courses(crs_id)\"\n",
    "                       \");\")\n",
    "    process_connection.commit()\n",
    "\n",
    "    process_connection.execute(\"CREATE TABLE semester_course_offerings(\"\n",
    "                       \"cum_term TEXT NOT NULL, \"\n",
    "                       \"cum_instr TEXT NOT NULL, \"\n",
    "                       \"cum_term_code TEXT NOT NULL, \"\n",
    "                       \"cum_sect_id TEXT, \"\n",
    "                       \"cum_seat_enroll INTEGER NOT NULL, \"\n",
    "                       \"cum_seat_wait INTEGER NOT NULL DEFAULT 0, \"\n",
    "                       \"cum_seat_avail INTEGER NOT NULL DEFAULT 0, \"\n",
    "                       \"CONSTRAINT course_section_pk PRIMARY KEY (cum_term,cum_instr,cum_term_code, cum_sect_id) \"\n",
    "                       \");\")\n",
    "    process_connection.commit()\n",
    "\n",
    "    process_connection.execute(\"CREATE TABLE program_course_offerings(\"\n",
    "                       \"prog_code TEXT NOT NULL, \"\n",
    "                       \"crs_id TEXT NOT NULL, \"\n",
    "                       \"CONSTRAINT prog_req_pk PRIMARY KEY (prog_code, crs_id) \"\n",
    "                       \");\")\n",
    "    process_connection.commit()\n",
    "\n",
    "    process_connection.execute(\"CREATE TABLE term(\"\n",
    "                       \"term_code TEXT PRIMARY KEY, \"\n",
    "                       \"term_year TEXT NOT NULL, \"\n",
    "                       \"term_name TEXT NOT NULL, \"\n",
    "                       \"term_desc TEXT NOT NULL \"\n",
    "                       \");\")\n",
    "\n",
    "    process_connection.execute(\"CREATE TABLE student_details(\"\n",
    "                       \"stu_v_id INTEGER PRIMARY KEY AUTOINCREMENT,\"\n",
    "                       \"stu_id TEXT NOT NULL, \"\n",
    "                       \"stu_admit_term_code TEXT NOT NULL, \"\n",
    "                       \"stu_deg_level TEXT NOT NULL, \"\n",
    "                       \"stu_college INTEGER NOT NULL, \"\n",
    "                       \"stu_dept INTEGER NOT NULL, \"\n",
    "                       \"stu_prog INTEGER NOT NULL, \"\n",
    "                       \"stu_res TEXT NOT NULL, \"\n",
    "                       \"stu_visa TEXT NOT NULL, \"\n",
    "                       \"stu_bam TEXT NOT NULL, \"\n",
    "                       \"FOREIGN KEY(stu_admit_term_code) REFERENCES term(term_code), \"\n",
    "                       \"FOREIGN KEY(stu_deg_level) REFERENCES degree_level(deg_level), \"\n",
    "                       \"FOREIGN KEY(stu_college) REFERENCES colleges(col_id), \"\n",
    "                       \"FOREIGN KEY(stu_dept) REFERENCES departments(dept_id),\"\n",
    "                       \"FOREIGN KEY(stu_prog) REFERENCES programs(prog_code) \"\n",
    "                       \");\")\n",
    "    process_connection.commit()\n",
    "    \n",
    "    \n",
    "    process_connection.execute(\"\"\"\n",
    "        CREATE TABLE instructors(\n",
    "            instr_name TEXT PRIMARY KEY,\n",
    "            instr_home_org TEXT NOT NULL\n",
    "        );\n",
    "    \"\"\")\n",
    "    process_connection.commit()\n",
    "\n",
    "    process_connection.execute(\"CREATE TABLE course_section(\"\n",
    "               \"crs_v_id INTEGER PRIMARY KEY AUTOINCREMENT, \"\n",
    "               \"crs_id TEXT NOT NULL, \"\n",
    "               \"sect_id TEXT NOT NULL, \"\n",
    "               \"sect_clg TEXT NOT NULL, \"\n",
    "               \"sect_dept TEXT NOT NULL, \"\n",
    "               \"sect_camp TEXT NOT NULL, \"\n",
    "               \"sect_mod TEXT NOT NULL, \"\n",
    "               \"sect_status TEXT NOT NULL, \"\n",
    "               \"sect_lvl TEXT NOT NULL, \"\n",
    "               \"sect_wiley TEXT NOT NULL,\"\n",
    "               \"FOREIGN KEY(sect_clg) REFERENCES colleges(col_id), \"\n",
    "               \"FOREIGN KEY(sect_dept) REFERENCES departments(dept_id), \"\n",
    "               \"FOREIGN KEY(sect_camp) REFERENCES campus(camp_id) \"\n",
    "               \");\")\n",
    "    process_connection.commit()\n",
    "\n",
    "    process_connection.execute(\"CREATE TABLE registration_status(\"\n",
    "                       \"reg_id INTEGER NOT NULL, \"\n",
    "                       \"reg_term_code TEXT NOT NULL, \"\n",
    "                       \"reg_stu_id TEXT NOT NULL, \"\n",
    "                       \"crs TEXT NOT NULL, \"\n",
    "                       \"sect_id TEXT NOT NULL, \"\n",
    "                       \"reg_status_date TEXT NOT NULL, \"\n",
    "                       \"reg_final_status TEXT NOT NULL, \"\n",
    "                       \"reg_sect_reg_ind INTEGER NOT NULL, \"\n",
    "                       \"reg_new_ret_stu INTEGER NOT NULL, \"\n",
    "                       \"CONSTRAINT registration_status_pk PRIMARY KEY(reg_term_code, reg_sect_reg_ind, crs, sect_id) \"\n",
    "                       \");\")\n",
    "    process_connection.commit()\n",
    "    \n",
    "    #rec_id just simply represents the personal registration log key. reg_id is going to be our explicit reference to registration_status\n",
    "    process_connection.execute(\"CREATE TABLE registration_log(\"\n",
    "                       \"rec_id INTEGER PRIMARY KEY AUTOINCREMENT DEFAULT 0,\"\n",
    "                       \"reg_id INTEGER NOT NULL, \"\n",
    "                       \"rec_ext_Date TEXT NOT NULL, \"\n",
    "                       \"file_name TEXT NOT NULL, \"\n",
    "                       \"file_index INTEGER NOT NULL \"\n",
    "                       \");\")\n",
    "    process_connection.commit()\n",
    "    \n",
    "\n",
    "    #THIS IS EXPLICITLY FOR OUR RESULTANT_VALUES\n",
    "    process_connection.execute(\"CREATE TABLE resultant_values(\"\n",
    "                       \"result_id INTEGER PRIMARY KEY AUTOINCREMENT, \"\n",
    "                       \"crs_name TEXT NOT NULL, \"\n",
    "                       \"crs_sect_id INTEGER NOT NULL, \"\n",
    "                       \"available_seats INTEGER NOT NULL DEFAULT 0 \"\n",
    "                       \");\")\n",
    "    process_connection.commit()\n",
    "\n",
    "    # MUST create triggers after insert under program_info and course_info"
   ]
  }
 ],
 "metadata": {
  "environment": {
   "kernel": "python3",
   "name": "common-cpu.m103",
   "type": "gcloud",
   "uri": "gcr.io/deeplearning-platform-release/base-cpu:m103"
  },
  "kernelspec": {
   "display_name": "Python 3",
   "language": "python",
   "name": "python3"
  },
  "language_info": {
   "codemirror_mode": {
    "name": "ipython",
    "version": 3
   },
   "file_extension": ".py",
   "mimetype": "text/x-python",
   "name": "python",
   "nbconvert_exporter": "python",
   "pygments_lexer": "ipython3",
   "version": "3.7.12"
  }
 },
 "nbformat": 4,
 "nbformat_minor": 5
}
