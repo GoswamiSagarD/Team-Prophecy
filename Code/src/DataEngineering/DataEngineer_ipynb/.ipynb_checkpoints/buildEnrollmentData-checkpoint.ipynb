{
 "cells": [
  {
   "cell_type": "code",
   "execution_count": 100,
   "id": "019aa72a-2e40-4c86-bb9b-b4ae4d4993cf",
   "metadata": {},
   "outputs": [],
   "source": [
    "# Initiation\n",
    "# importing required libraries\n",
    "import os\n",
    "import glob\n",
    "\n",
    "import numpy as np\n",
    "import pandas as pd"
   ]
  },
  {
   "cell_type": "code",
   "execution_count": 101,
   "id": "55f1a7be-b030-47c2-99f0-dbea15a69142",
   "metadata": {},
   "outputs": [
    {
     "name": "stdout",
     "output_type": "stream",
     "text": [
      "/home/jupyter/Team-Prophecy\n"
     ]
    }
   ],
   "source": [
    "path = os.sep+\"home\"+os.sep+\"jupyter\"+os.sep+\"Team-Prophecy\"\n",
    "print(path)"
   ]
  },
  {
   "cell_type": "code",
   "execution_count": 102,
   "id": "4a180846-a8f9-4b4f-a7bb-618af08f056f",
   "metadata": {},
   "outputs": [],
   "source": [
    "if path != os.getcwd():\n",
    "    os.chdir(path)"
   ]
  },
  {
   "cell_type": "code",
   "execution_count": 103,
   "id": "069075c9-8924-4afe-9163-31f9705d1a36",
   "metadata": {},
   "outputs": [],
   "source": [
    "from Code.src.modules.db_ops import *"
   ]
  },
  {
   "cell_type": "markdown",
   "id": "d33a5d4d-a82d-47eb-b482-bcd57322841c",
   "metadata": {},
   "source": [
    "Be sure to incorporate buildEnrollmentData as a function for all lines below"
   ]
  },
  {
   "cell_type": "code",
   "execution_count": 104,
   "id": "67d8b14b-9f9c-4f9c-8b57-93c6698b6f96",
   "metadata": {},
   "outputs": [],
   "source": [
    "#def buildEnrollmentData():"
   ]
  },
  {
   "cell_type": "code",
   "execution_count": 105,
   "id": "8e31f36d-7cd7-4a68-98ae-a2833042127a",
   "metadata": {},
   "outputs": [
    {
     "name": "stdout",
     "output_type": "stream",
     "text": [
      "######################################## \t \n",
      " Enrollment Data\n",
      "Building the Enrollment Data... [1/3]\n"
     ]
    }
   ],
   "source": [
    "# # Enrollment Data\n",
    "print(\"#\"*40, \"\\t\", \"\\n\", \"Enrollment Data\")\n",
    "print(\"Building the Enrollment Data... [1/3]\")\n",
    "# Merging the Enrollment data from all the CSV files in the EnrollmentData folder\n",
    "files = glob.glob(\n",
    "    os.path.join(os.sep+\"home\"+os.sep+\"jupyter\"+os.sep+\"Team-Prophecy\",\"Data\", \"01_raw\", \"EnrollmentData\", \"*.csv\")\n",
    ")"
   ]
  },
  {
   "cell_type": "code",
   "execution_count": 106,
   "id": "15ed9c91-0a67-42c0-95f4-f37016f27173",
   "metadata": {},
   "outputs": [],
   "source": [
    "df_enrollment = pd.read_csv(files[0])\n",
    "df_enrollment['file_name'] = files[0]\n",
    "for file in files[1:]:\n",
    "    data = pd.read_csv(file)\n",
    "    data['file_name'] = file\n",
    "    df_enrollment = pd.concat([df_enrollment, data], ignore_index=True)\n",
    "\n",
    "# Shape of the final dataframe\n",
    "df_enrollment.shape\n",
    "\n",
    "# renaming all the columns in the dataframe\n",
    "rename_dict = {\n",
    "    'Unnamed: 0'                        : 'file_index',\n",
    "    'Stu Term'                          : 'reg_term_code',\n",
    "    'Unnamed: 1'                        : 'reg_term_desc',\n",
    "    'Stu Admit Term'                    : 'stu_admit_term_code',\n",
    "    'Unnamed: 3'                        : 'stu_admit_term_desc',\n",
    "    'Record ID'                         : 'stu_id',\n",
    "    'Stu Visa Type'                     : 'stu_visa',\n",
    "    'Stu Attribute BAM'                 : 'stu_bam',\n",
    "    'Stu Admit Type'                    : 'stu_prog_level',\n",
    "    'Stu Primary Degree Level'          : 'stu_deg_level',\n",
    "    'Stu Primary Major 1 College'       : 'stu_college',\n",
    "    'Stu Primary Program'               : 'stu_prog_desc',\n",
    "    'Stu Primary Program Code'          : 'stu_prog_code',\n",
    "    'Stu Primary Department'            : 'stu_dept',\n",
    "    'Unnamed: 14'                       : 'stu_dept_desc',\n",
    "    'Stu New/Returning Ind'             : 'stu_new_ret',\n",
    "    'Stu Residency Group'               : 'stu_res',\n",
    "    'Course Sect College'               : 'crs_sect_clg',\n",
    "    'Stu Registered Ind'                : 'stu_act_reg_ind',\n",
    "    'Registration Status'               : 'reg_status',\n",
    "    'Registration Status Date'          : 'reg_status_date',\n",
    "    'Course Desc'                       : 'crs',\n",
    "    'Course Section'                    : 'crs_sect',\n",
    "    'Course Sect Schedule Type'         : 'crs_type',\n",
    "    'Course Sect Wiley Courses Ind'     : 'crs_sect_wiley_ind',\n",
    "    'Course Sect Credits'               : 'crs_credits',\n",
    "    'Stu Course Registered Hours'       : 'crs_hours',\n",
    "    'Course Sect Instruction Delivery Method Group' : 'crs_sect_modality',\n",
    "}\n",
    "df_enrollment.rename(columns=rename_dict, inplace=True)"
   ]
  },
  {
   "cell_type": "code",
   "execution_count": 107,
   "id": "4f9e4877-0ecd-4f79-b70d-07ec58216941",
   "metadata": {},
   "outputs": [
    {
     "name": "stdout",
     "output_type": "stream",
     "text": [
      "Cleaning the Enrollment Data... [2/3]\n",
      "Exporting the Enrollment Data... [3/3]\n"
     ]
    }
   ],
   "source": [
    "df_enrollment['reg_term_name'] = df_enrollment['reg_term_desc'].str.split(' ').str[0]\n",
    "df_enrollment['reg_term_year'] = df_enrollment['reg_term_desc'].str.split(' ').str[1]\n",
    "# splitting the \"stu_admit_term_desc\" column into term and year\n",
    "df_enrollment['stu_admit_term_name'] = df_enrollment['stu_admit_term_desc'].str.split(' ').str[0]\n",
    "df_enrollment['stu_admit_term_year'] = df_enrollment['stu_admit_term_desc'].str.split(' ').str[1]\n",
    "\n",
    "# storing the Record Extraction Date from the \"file_name\" column\n",
    "df_enrollment['rec_ext_date'] = df_enrollment['file_name'].str.split(\"_\").str[-2]\n",
    "df_enrollment['rec_ext_date'] = df_enrollment['rec_ext_date'].str.replace(\".\", \"/\", regex=False)\n",
    "\n",
    "# Cleaning the data\n",
    "print(\"Cleaning the Enrollment Data... [2/3]\")\n",
    "df_enrollment['stu_id'].dropna(inplace=True)\n",
    "df_enrollment['stu_visa'].fillna(\"Not Relevent\", inplace=True)\n",
    "\n",
    "df_enrollment['stu_bam'].replace(\"'--\", \"Not BAM\", inplace=True)\n",
    "df_enrollment['stu_dept'].replace(\"'-----\", \"No Value\", inplace=True)\n",
    "df_enrollment['crs_sect_wiley_ind'].replace(\"'--\", \"No Value\", inplace=True)\n",
    "\n",
    "df_enrollment['crs_credits'] = df_enrollment['crs_credits'].astype(str)\n",
    "\n",
    "df_enrollment['crs_credits'].replace(\"6-Jan\", \"1-6\", inplace=True)\n",
    "df_enrollment['crs_credits'].replace(\"3-Jan\", \"1-3\", inplace=True)\n",
    "df_enrollment['crs_credits'].replace(\"18-Jan\", \"1-18\", inplace=True)\n",
    "df_enrollment['crs_credits'].replace(\"4-Jan\", \"1-4\", inplace=True)\n",
    "df_enrollment['crs_credits'].replace(\"0,3\", \"0-3\", inplace=True)\n",
    "\n",
    "# sorting the dataframe by term code and registration status date\n",
    "df_enrollment.sort_values(\n",
    "    by=['reg_term_code', 'rec_ext_date', 'reg_status_date'], inplace=True\n",
    ")\n",
    "\n",
    "# resetting the index after sorting\n",
    "df_enrollment.reset_index(drop=True, inplace=True)\n",
    "\n",
    "# creating a new rec_id column for identifying each record\n",
    "df_enrollment['rec_id'] = df_enrollment.index\n",
    "\n",
    "# Changing the data type of the columns\n",
    "df_enrollment['rec_ext_date']           = pd.to_datetime(df_enrollment['rec_ext_date'])\n",
    "df_enrollment['reg_term_code']          = df_enrollment['reg_term_code'].astype(str)\n",
    "df_enrollment['reg_term_year']          = df_enrollment['reg_term_year'].astype(int)\n",
    "df_enrollment['reg_term_name']          = df_enrollment['reg_term_name'].astype('category')\n",
    "df_enrollment['stu_new_ret']            = df_enrollment['stu_new_ret'].astype('category')\n",
    "df_enrollment['stu_deg_level']          = df_enrollment['stu_deg_level'].astype('category')\n",
    "df_enrollment['stu_college']            = df_enrollment['stu_college'].astype('category')\n",
    "df_enrollment['stu_prog_desc']          = df_enrollment['stu_prog_desc'].astype('category')\n",
    "df_enrollment['stu_prog_level']         = df_enrollment['stu_prog_level'].astype('category')\n",
    "df_enrollment['stu_dept']               = df_enrollment['stu_dept'].astype('category')\n",
    "df_enrollment['stu_dept_desc']          = df_enrollment['stu_dept_desc'].astype('category')\n",
    "df_enrollment['stu_admit_term_code']    = df_enrollment['stu_admit_term_code'].astype(str)\n",
    "df_enrollment['stu_admit_term_year']    = df_enrollment['stu_admit_term_year'].astype(int)\n",
    "df_enrollment['stu_admit_term_name']    = df_enrollment['stu_admit_term_name'].astype('category')\n",
    "df_enrollment['stu_res']                = df_enrollment['stu_res'].astype('category')\n",
    "df_enrollment['stu_visa']               = df_enrollment['stu_visa'].astype('category')\n",
    "df_enrollment['stu_bam']                = df_enrollment['stu_bam'].astype('category')\n",
    "df_enrollment['crs_sect_clg']           = df_enrollment['crs_sect_clg'].astype('category')\n",
    "df_enrollment['crs_type']               = df_enrollment['crs_type'].astype('category')\n",
    "df_enrollment['crs_sect_modality']      = df_enrollment['crs_sect_modality'].astype('category')\n",
    "df_enrollment['crs_sect_wiley_ind']     = df_enrollment['crs_sect_wiley_ind'].astype('category')\n",
    "df_enrollment['crs_credits']            = df_enrollment['crs_credits'].astype('category')\n",
    "df_enrollment['crs_hours']              = df_enrollment['crs_hours'].astype('category')\n",
    "df_enrollment['stu_act_reg_ind']        = df_enrollment['stu_act_reg_ind'].astype('category')\n",
    "df_enrollment['reg_status']             = df_enrollment['reg_status'].astype('category')\n",
    "df_enrollment['reg_status_date']        = pd.to_datetime(df_enrollment['reg_status_date'])\n",
    "\n",
    "# reordering the columns\n",
    "df_enrollment = df_enrollment[[\n",
    "    # Records Info\n",
    "    'rec_id', 'rec_ext_date', 'file_name', 'file_index',\n",
    "    # Registration Term/Semester Info\n",
    "    'reg_term_code', 'reg_term_year', 'reg_term_name', 'reg_term_desc',\n",
    "    # Student Info\n",
    "    'stu_id', 'stu_deg_level', 'stu_college', 'stu_res', 'stu_visa', 'stu_bam', 'stu_new_ret',\n",
    "    'stu_dept', 'stu_dept_desc', 'stu_prog_code', 'stu_prog_level', 'stu_prog_desc',\n",
    "    'stu_admit_term_code', 'stu_admit_term_year', 'stu_admit_term_name', 'stu_admit_term_desc',\n",
    "    # Course Info\n",
    "    'crs', 'crs_type', 'crs_credits', 'crs_hours',\n",
    "    'crs_sect', 'crs_sect_clg', 'crs_sect_modality', 'crs_sect_wiley_ind',\n",
    "    # Registration Status Info\n",
    "    'reg_status', 'reg_status_date', 'stu_act_reg_ind'\n",
    "]]\n",
    "\n",
    "print(\"Exporting the Enrollment Data... [3/3]\")\n",
    "raw_connection = ConnectDB(os.path.join(os.sep+\"home\"+os.sep+\"jupyter\"+os.sep+\"Team-Prophecy\",\"Data\", \"01_raw\", \"raw.db\"))\n",
    "process_connection = ConnectDB(os.path.join(os.sep+\"home\"+os.sep+\"jupyter\"+os.sep+\"Team-Prophecy\",\"Data\", \"02_processed\", \"intermediate.db\"))"
   ]
  },
  {
   "cell_type": "code",
   "execution_count": 108,
   "id": "61d6992e-802a-4df9-a8d4-b1001073d139",
   "metadata": {},
   "outputs": [],
   "source": [
    "df_enrollment[\"stu_deg_level\"] = df_enrollment[\"stu_deg_level\"].replace(\"Master\",\"ms\").replace(\"Graduate Certificate\",\"gs\").replace(\"PhD\",\"phd\")"
   ]
  },
  {
   "cell_type": "code",
   "execution_count": 109,
   "id": "b4f690ec-49c9-4d04-8160-111cae0b80c0",
   "metadata": {},
   "outputs": [],
   "source": [
    "#df_enrollment.loc[:,[\"stu_id\", \"stu_admit_term_code\",\"stu_deg_level\",\"stu_college\",\"stu_dept\",\"stu_prog_code\",\"stu_res\",\"stu_visa\",\"stu_bam\"]]"
   ]
  },
  {
   "cell_type": "markdown",
   "id": "080281ad-735f-4c68-8eaf-5b556fc9b6d5",
   "metadata": {},
   "source": [
    "THE INFORMATION WILL BE PLACED INTO THE INTERMEDIATE DB"
   ]
  },
  {
   "cell_type": "code",
   "execution_count": 110,
   "id": "65b957f8-bfa3-47eb-a6d9-7634a347f896",
   "metadata": {},
   "outputs": [],
   "source": [
    "reg_status_right = df_enrollment.loc[:,[\"reg_term_code\", \"stu_id\", \"crs_sect\", \"reg_status_date\", \"reg_status\",\"rec_id\",\"stu_new_ret\"]]\n",
    "reg_status = df_enrollment.groupby([\"reg_term_code\", \"stu_id\", \"crs_sect\"]).agg({\"reg_status_date\":[np.max]}).reset_index()\n",
    "reg_status.columns = [\"reg_term_code\", \"stu_id\", \"crs_sect\", \"reg_status_date\"]\n",
    "reg_status = reg_status.merge(reg_status_right,on=[\"reg_term_code\", \"stu_id\", \"crs_sect\",\"reg_status_date\"],how=\"inner\")"
   ]
  },
  {
   "cell_type": "code",
   "execution_count": 111,
   "id": "721e5a44-cf49-4c51-9eef-4a7d93b9e6a5",
   "metadata": {},
   "outputs": [
    {
     "data": {
      "text/plain": [
       "Index(['rec_id', 'rec_ext_date', 'file_name', 'file_index', 'reg_term_code',\n",
       "       'reg_term_year', 'reg_term_name', 'reg_term_desc', 'stu_id',\n",
       "       'stu_deg_level', 'stu_college', 'stu_res', 'stu_visa', 'stu_bam',\n",
       "       'stu_new_ret', 'stu_dept', 'stu_dept_desc', 'stu_prog_code',\n",
       "       'stu_prog_level', 'stu_prog_desc', 'stu_admit_term_code',\n",
       "       'stu_admit_term_year', 'stu_admit_term_name', 'stu_admit_term_desc',\n",
       "       'crs', 'crs_type', 'crs_credits', 'crs_hours', 'crs_sect',\n",
       "       'crs_sect_clg', 'crs_sect_modality', 'crs_sect_wiley_ind', 'reg_status',\n",
       "       'reg_status_date', 'stu_act_reg_ind'],\n",
       "      dtype='object')"
      ]
     },
     "execution_count": 111,
     "metadata": {},
     "output_type": "execute_result"
    }
   ],
   "source": [
    "df_enrollment.columns"
   ]
  },
  {
   "cell_type": "markdown",
   "id": "3bc28f43-d4fe-463a-85a6-5941eca015d6",
   "metadata": {},
   "source": [
    "reg_status is good\n",
    "dept_list is good\n",
    "reg_log is good\n",
    "crs is good (but requires to be merged)\n",
    "term_data is good"
   ]
  },
  {
   "cell_type": "code",
   "execution_count": 112,
   "id": "00f29899-a546-42d2-a751-e71fbe91207d",
   "metadata": {},
   "outputs": [],
   "source": [
    "#Grab record_id, rec_ext_date\n",
    "dept_list = list(df_enrollment.loc[:,[\"stu_dept\",\"stu_college\"]].drop_duplicates().itertuples(index=False, name=None))\n",
    "dept_list = [i for i in dept_list if i[0] != \"No Value\"]\n",
    "student_data = list(df_enrollment.loc[:,[\"stu_id\", \"stu_admit_term_code\",\"stu_deg_level\",\"stu_college\",\"stu_dept\",\"stu_prog_code\",\"stu_res\",\"stu_visa\",\"stu_bam\"]].itertuples(index=False, name=None))\n",
    "reg_log_data = list(df_enrollment.loc[:,[\"rec_id\",\"rec_ext_date\",\"file_name\",\"file_index\"]].itertuples(index=False, name=None))\n",
    "term_data = list(df_enrollment.loc[:,[\"reg_term_code\",\"reg_term_year\",\"reg_term_name\",\"reg_term_desc\"]].drop_duplicates().itertuples(index=False, name=None))"
   ]
  },
  {
   "cell_type": "code",
   "execution_count": 113,
   "id": "8e61170f-18ff-4e8e-b0a1-6c81c1b7e73e",
   "metadata": {},
   "outputs": [],
   "source": [
    "crs_data = list(df_enrollment.loc[:,[\"crs\",\"crs_type\",\"crs_credits\",\"crs_hours\"]].itertuples(index=False, name=None))"
   ]
  },
  {
   "cell_type": "markdown",
   "id": "2831f2ed-0d5a-43de-a7f4-2595074283c4",
   "metadata": {},
   "source": [
    "NOTE: student data is only being placed into a raw data connection because it has many referential database information that must be addressed prior"
   ]
  },
  {
   "cell_type": "code",
   "execution_count": 98,
   "id": "9a54c5f6-c10b-462e-9ee4-f68c9a64ee04",
   "metadata": {},
   "outputs": [],
   "source": [
    "process_connection.connection.executemany(\"INSERT INTO departments VALUES(?,?)\",dept_list)\n",
    "process_connection.connection.commit()\n",
    "\n",
    "process_connection.connection.executemany(\n",
    "    \"INSERT INTO registration_log(?,?)\",\n",
    "    reg_log_data)\n",
    "\n",
    "raw_connection.executemany(\"\"\"\n",
    "INSERT INTO \n",
    "student_details(stu_admit_term_code,stu_deg_level,\n",
    "                stu_college,stu_dept,stu_prog, stu_res,\n",
    "                stu_visa, stu_bam)\n",
    "VALUES(?,?,?,?,?,?,?,?)\n",
    "\"\"\", student_data)\n",
    "raw_connection.commit()\n",
    "\n"
   ]
  },
  {
   "cell_type": "markdown",
   "id": "6ac3804a-7580-4f3f-9fcf-cebe7c6e4313",
   "metadata": {},
   "source": [
    "THE BELOW INFORMATION WILL BE PUT INTO THE RAW DB FOR FURTHER MERGING"
   ]
  },
  {
   "cell_type": "code",
   "execution_count": 26,
   "id": "7c27dc31-c64b-4818-a894-a12a911b2e5e",
   "metadata": {},
   "outputs": [],
   "source": [
    "col_list = df_enrollment.loc[:,[\"stu_college\"]].drop_duplicates()"
   ]
  }
 ],
 "metadata": {
  "environment": {
   "kernel": "python3",
   "name": "common-cpu.m103",
   "type": "gcloud",
   "uri": "gcr.io/deeplearning-platform-release/base-cpu:m103"
  },
  "kernelspec": {
   "display_name": "Python 3",
   "language": "python",
   "name": "python3"
  },
  "language_info": {
   "codemirror_mode": {
    "name": "ipython",
    "version": 3
   },
   "file_extension": ".py",
   "mimetype": "text/x-python",
   "name": "python",
   "nbconvert_exporter": "python",
   "pygments_lexer": "ipython3",
   "version": "3.7.12"
  }
 },
 "nbformat": 4,
 "nbformat_minor": 5
}
