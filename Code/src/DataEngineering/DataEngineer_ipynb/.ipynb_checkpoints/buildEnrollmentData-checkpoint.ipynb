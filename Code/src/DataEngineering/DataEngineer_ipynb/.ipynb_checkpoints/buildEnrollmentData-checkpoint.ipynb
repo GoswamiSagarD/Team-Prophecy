{
 "cells": [
  {
   "cell_type": "code",
   "execution_count": 3,
   "id": "019aa72a-2e40-4c86-bb9b-b4ae4d4993cf",
   "metadata": {},
   "outputs": [],
   "source": [
    "# Initiation\n",
    "# importing required libraries\n",
    "import os\n",
    "import glob\n",
    "\n",
    "import numpy as np\n",
    "import pandas as pd"
   ]
  },
  {
   "cell_type": "code",
   "execution_count": 4,
   "id": "55f1a7be-b030-47c2-99f0-dbea15a69142",
   "metadata": {},
   "outputs": [
    {
     "name": "stdout",
     "output_type": "stream",
     "text": [
      "/home/jupyter/Team-Prophecy\n"
     ]
    }
   ],
   "source": [
    "path = os.sep+\"home\"+os.sep+\"jupyter\"+os.sep+\"Team-Prophecy\"\n",
    "print(path)"
   ]
  },
  {
   "cell_type": "code",
   "execution_count": 5,
   "id": "4a180846-a8f9-4b4f-a7bb-618af08f056f",
   "metadata": {},
   "outputs": [],
   "source": [
    "if path != os.getcwd():\n",
    "    os.chdir(path)"
   ]
  },
  {
   "cell_type": "code",
   "execution_count": 6,
   "id": "069075c9-8924-4afe-9163-31f9705d1a36",
   "metadata": {},
   "outputs": [],
   "source": [
    "from Code.src.modules.db_ops import *"
   ]
  },
  {
   "cell_type": "markdown",
   "id": "d33a5d4d-a82d-47eb-b482-bcd57322841c",
   "metadata": {},
   "source": [
    "Be sure to incorporate buildEnrollmentData as a function for all lines below"
   ]
  },
  {
   "cell_type": "code",
   "execution_count": 3,
   "id": "67d8b14b-9f9c-4f9c-8b57-93c6698b6f96",
   "metadata": {},
   "outputs": [],
   "source": [
    "#def buildEnrollmentData():"
   ]
  },
  {
   "cell_type": "code",
   "execution_count": 7,
   "id": "8e31f36d-7cd7-4a68-98ae-a2833042127a",
   "metadata": {},
   "outputs": [
    {
     "name": "stdout",
     "output_type": "stream",
     "text": [
      "######################################## \t \n",
      " Enrollment Data\n",
      "Building the Enrollment Data... [1/3]\n"
     ]
    }
   ],
   "source": [
    "# # Enrollment Data\n",
    "print(\"#\"*40, \"\\t\", \"\\n\", \"Enrollment Data\")\n",
    "print(\"Building the Enrollment Data... [1/3]\")\n",
    "# Merging the Enrollment data from all the CSV files in the EnrollmentData folder\n",
    "files = glob.glob(\n",
    "    os.path.join(os.sep+\"home\"+os.sep+\"jupyter\"+os.sep+\"Team-Prophecy\",\"Data\", \"01_raw\", \"EnrollmentData\", \"*.csv\")\n",
    ")"
   ]
  },
  {
   "cell_type": "code",
   "execution_count": 8,
   "id": "15ed9c91-0a67-42c0-95f4-f37016f27173",
   "metadata": {},
   "outputs": [],
   "source": [
    "df_enrollment = pd.read_csv(files[0])\n",
    "df_enrollment['file_name'] = files[0]\n",
    "for file in files[1:]:\n",
    "    data = pd.read_csv(file)\n",
    "    data['file_name'] = file\n",
    "    df_enrollment = pd.concat([df_enrollment, data], ignore_index=True)\n",
    "\n",
    "# Shape of the final dataframe\n",
    "df_enrollment.shape\n",
    "\n",
    "# renaming all the columns in the dataframe\n",
    "rename_dict = {\n",
    "    'Unnamed: 0'                        : 'file_index',\n",
    "    'Stu Term'                          : 'reg_term_code',\n",
    "    'Unnamed: 1'                        : 'reg_term_desc',\n",
    "    'Stu Admit Term'                    : 'stu_admit_term_code',\n",
    "    'Unnamed: 3'                        : 'stu_admit_term_desc',\n",
    "    'Record ID'                         : 'stu_id',\n",
    "    'Stu Visa Type'                     : 'stu_visa',\n",
    "    'Stu Attribute BAM'                 : 'stu_bam',\n",
    "    'Stu Admit Type'                    : 'stu_prog_level',\n",
    "    'Stu Primary Degree Level'          : 'stu_deg_level',\n",
    "    'Stu Primary Major 1 College'       : 'stu_college',\n",
    "    'Stu Primary Program'               : 'stu_prog_desc',\n",
    "    'Stu Primary Program Code'          : 'stu_prog_code',\n",
    "    'Stu Primary Department'            : 'stu_dept',\n",
    "    'Unnamed: 14'                       : 'stu_dept_desc',\n",
    "    'Stu New/Returning Ind'             : 'stu_new_ret',\n",
    "    'Stu Residency Group'               : 'stu_res',\n",
    "    'Course Sect College'               : 'crs_sect_clg',\n",
    "    'Stu Registered Ind'                : 'stu_act_reg_ind',\n",
    "    'Registration Status'               : 'reg_status',\n",
    "    'Registration Status Date'          : 'reg_status_date',\n",
    "    'Course Desc'                       : 'crs',\n",
    "    'Course Section'                    : 'crs_sect',\n",
    "    'Course Sect Schedule Type'         : 'crs_type',\n",
    "    'Course Sect Wiley Courses Ind'     : 'crs_sect_wiley_ind',\n",
    "    'Course Sect Credits'               : 'crs_credits',\n",
    "    'Stu Course Registered Hours'       : 'crs_hours',\n",
    "    'Course Sect Instruction Delivery Method Group' : 'crs_sect_modality',\n",
    "}\n",
    "df_enrollment.rename(columns=rename_dict, inplace=True)"
   ]
  },
  {
   "cell_type": "code",
   "execution_count": 9,
   "id": "4f9e4877-0ecd-4f79-b70d-07ec58216941",
   "metadata": {},
   "outputs": [
    {
     "name": "stdout",
     "output_type": "stream",
     "text": [
      "Cleaning the Enrollment Data... [2/3]\n",
      "Exporting the Enrollment Data... [3/3]\n"
     ]
    }
   ],
   "source": [
    "df_enrollment['reg_term_name'] = df_enrollment['reg_term_desc'].str.split(' ').str[0]\n",
    "df_enrollment['reg_term_year'] = df_enrollment['reg_term_desc'].str.split(' ').str[1]\n",
    "# splitting the \"stu_admit_term_desc\" column into term and year\n",
    "df_enrollment['stu_admit_term_name'] = df_enrollment['stu_admit_term_desc'].str.split(' ').str[0]\n",
    "df_enrollment['stu_admit_term_year'] = df_enrollment['stu_admit_term_desc'].str.split(' ').str[1]\n",
    "\n",
    "# storing the Record Extraction Date from the \"file_name\" column\n",
    "df_enrollment['rec_ext_date'] = df_enrollment['file_name'].str.split(\"_\").str[-2]\n",
    "df_enrollment['rec_ext_date'] = df_enrollment['rec_ext_date'].str.replace(\".\", \"/\", regex=False)\n",
    "\n",
    "# Cleaning the data\n",
    "print(\"Cleaning the Enrollment Data... [2/3]\")\n",
    "df_enrollment['stu_id'].dropna(inplace=True)\n",
    "df_enrollment['stu_visa'].fillna(\"Not Relevent\", inplace=True)\n",
    "\n",
    "df_enrollment['stu_bam'].replace(\"'--\", \"Not BAM\", inplace=True)\n",
    "df_enrollment['stu_dept'].replace(\"'-----\", \"No Value\", inplace=True)\n",
    "df_enrollment['crs_sect_wiley_ind'].replace(\"'--\", \"No Value\", inplace=True)\n",
    "\n",
    "df_enrollment['crs_credits'] = df_enrollment['crs_credits'].astype(str)\n",
    "\n",
    "df_enrollment['crs_credits'].replace(\"6-Jan\", \"1-6\", inplace=True)\n",
    "df_enrollment['crs_credits'].replace(\"3-Jan\", \"1-3\", inplace=True)\n",
    "df_enrollment['crs_credits'].replace(\"18-Jan\", \"1-18\", inplace=True)\n",
    "df_enrollment['crs_credits'].replace(\"4-Jan\", \"1-4\", inplace=True)\n",
    "df_enrollment['crs_credits'].replace(\"0,3\", \"0-3\", inplace=True)\n",
    "\n",
    "# sorting the dataframe by term code and registration status date\n",
    "df_enrollment.sort_values(\n",
    "    by=['reg_term_code', 'rec_ext_date', 'reg_status_date'], inplace=True\n",
    ")\n",
    "\n",
    "# resetting the index after sorting\n",
    "df_enrollment.reset_index(drop=True, inplace=True)\n",
    "\n",
    "# creating a new rec_id column for identifying each record\n",
    "df_enrollment['rec_id'] = df_enrollment.index\n",
    "\n",
    "# Changing the data type of the columns\n",
    "df_enrollment['rec_ext_date']           = pd.to_datetime(df_enrollment['rec_ext_date'])\n",
    "df_enrollment['reg_term_code']          = df_enrollment['reg_term_code'].astype(str)\n",
    "df_enrollment['reg_term_year']          = df_enrollment['reg_term_year'].astype(int)\n",
    "df_enrollment['reg_term_name']          = df_enrollment['reg_term_name'].astype('category')\n",
    "df_enrollment['stu_new_ret']            = df_enrollment['stu_new_ret'].astype('category')\n",
    "df_enrollment['stu_deg_level']          = df_enrollment['stu_deg_level'].astype('category')\n",
    "df_enrollment['stu_college']            = df_enrollment['stu_college'].astype('category')\n",
    "df_enrollment['stu_prog_desc']          = df_enrollment['stu_prog_desc'].astype('category')\n",
    "df_enrollment['stu_prog_level']         = df_enrollment['stu_prog_level'].astype('category')\n",
    "df_enrollment['stu_dept']               = df_enrollment['stu_dept'].astype('category')\n",
    "df_enrollment['stu_dept_desc']          = df_enrollment['stu_dept_desc'].astype('category')\n",
    "df_enrollment['stu_admit_term_code']    = df_enrollment['stu_admit_term_code'].astype(str)\n",
    "df_enrollment['stu_admit_term_year']    = df_enrollment['stu_admit_term_year'].astype(int)\n",
    "df_enrollment['stu_admit_term_name']    = df_enrollment['stu_admit_term_name'].astype('category')\n",
    "df_enrollment['stu_res']                = df_enrollment['stu_res'].astype('category')\n",
    "df_enrollment['stu_visa']               = df_enrollment['stu_visa'].astype('category')\n",
    "df_enrollment['stu_bam']                = df_enrollment['stu_bam'].astype('category')\n",
    "df_enrollment['crs_sect_clg']           = df_enrollment['crs_sect_clg'].astype('category')\n",
    "df_enrollment['crs_type']               = df_enrollment['crs_type'].astype('category')\n",
    "df_enrollment['crs_sect_modality']      = df_enrollment['crs_sect_modality'].astype('category')\n",
    "df_enrollment['crs_sect_wiley_ind']     = df_enrollment['crs_sect_wiley_ind'].astype('category')\n",
    "df_enrollment['crs_credits']            = df_enrollment['crs_credits'].astype('category')\n",
    "df_enrollment['crs_hours']              = df_enrollment['crs_hours'].astype('category')\n",
    "df_enrollment['stu_act_reg_ind']        = df_enrollment['stu_act_reg_ind'].astype('category')\n",
    "df_enrollment['reg_status']             = df_enrollment['reg_status'].astype('category')\n",
    "df_enrollment['reg_status_date']        = pd.to_datetime(df_enrollment['reg_status_date'])\n",
    "\n",
    "# reordering the columns\n",
    "df_enrollment = df_enrollment[[\n",
    "    # Records Info\n",
    "    'rec_id', 'rec_ext_date', 'file_name', 'file_index',\n",
    "    # Registration Term/Semester Info\n",
    "    'reg_term_code', 'reg_term_year', 'reg_term_name', 'reg_term_desc',\n",
    "    # Student Info\n",
    "    'stu_id', 'stu_deg_level', 'stu_college', 'stu_res', 'stu_visa', 'stu_bam', 'stu_new_ret',\n",
    "    'stu_dept', 'stu_dept_desc', 'stu_prog_code', 'stu_prog_level', 'stu_prog_desc',\n",
    "    'stu_admit_term_code', 'stu_admit_term_year', 'stu_admit_term_name', 'stu_admit_term_desc',\n",
    "    # Course Info\n",
    "    'crs', 'crs_type', 'crs_credits', 'crs_hours',\n",
    "    'crs_sect', 'crs_sect_clg', 'crs_sect_modality', 'crs_sect_wiley_ind',\n",
    "    # Registration Status Info\n",
    "    'reg_status', 'reg_status_date', 'stu_act_reg_ind'\n",
    "]]\n",
    "\n",
    "print(\"Exporting the Enrollment Data... [3/3]\")\n",
    "db_connection = ConnectDB(os.path.join(os.sep+\"home\"+os.sep+\"jupyter\"+os.sep+\"Team-Prophecy\",\"Data\", \"02_processed\", \"intermediate.db\"))"
   ]
  },
  {
   "cell_type": "code",
   "execution_count": 21,
   "id": "61d6992e-802a-4df9-a8d4-b1001073d139",
   "metadata": {},
   "outputs": [],
   "source": [
    "df_enrollment[\"stu_deg_level\"] = df_enrollment[\"stu_deg_level\"].replace(\"Master\",\"ms\").replace(\"Graduate Certificate\",\"gs\").replace(\"PhD\",\"phd\")"
   ]
  },
  {
   "cell_type": "code",
   "execution_count": null,
   "id": "b4f690ec-49c9-4d04-8160-111cae0b80c0",
   "metadata": {},
   "outputs": [],
   "source": []
  },
  {
   "cell_type": "code",
   "execution_count": 13,
   "id": "00f29899-a546-42d2-a751-e71fbe91207d",
   "metadata": {},
   "outputs": [
    {
     "ename": "KeyError",
     "evalue": "\"['stu_name'] not in index\"",
     "output_type": "error",
     "traceback": [
      "\u001b[0;31m---------------------------------------------------------------------------\u001b[0m",
      "\u001b[0;31mKeyError\u001b[0m                                  Traceback (most recent call last)",
      "\u001b[0;32m/var/tmp/ipykernel_3348/3832463044.py\u001b[0m in \u001b[0;36m<module>\u001b[0;34m\u001b[0m\n\u001b[1;32m      1\u001b[0m \u001b[0;31m#Grab record_id, rec_ext_date\u001b[0m\u001b[0;34m\u001b[0m\u001b[0;34m\u001b[0m\u001b[0;34m\u001b[0m\u001b[0m\n\u001b[1;32m      2\u001b[0m \u001b[0mdeg_lvl_data\u001b[0m \u001b[0;34m=\u001b[0m \u001b[0mdf_enrollment\u001b[0m\u001b[0;34m.\u001b[0m\u001b[0mloc\u001b[0m\u001b[0;34m[\u001b[0m\u001b[0;34m:\u001b[0m\u001b[0;34m,\u001b[0m\u001b[0;34m[\u001b[0m\u001b[0;34m\"stu_deg_level\"\u001b[0m\u001b[0;34m]\u001b[0m\u001b[0;34m]\u001b[0m\u001b[0;34m\u001b[0m\u001b[0;34m\u001b[0m\u001b[0m\n\u001b[0;32m----> 3\u001b[0;31m \u001b[0mstudent_data\u001b[0m \u001b[0;34m=\u001b[0m \u001b[0mdf_enrollment\u001b[0m\u001b[0;34m.\u001b[0m\u001b[0mloc\u001b[0m\u001b[0;34m[\u001b[0m\u001b[0;34m:\u001b[0m\u001b[0;34m,\u001b[0m\u001b[0;34m[\u001b[0m\u001b[0;34m\"stu_name\"\u001b[0m\u001b[0;34m,\u001b[0m \u001b[0;34m\"stu_admit_term_code\"\u001b[0m\u001b[0;34m,\u001b[0m\u001b[0;34m\"stu_deg_level\"\u001b[0m\u001b[0;34m,\u001b[0m\u001b[0;34m\"stu_college\"\u001b[0m\u001b[0;34m,\u001b[0m\u001b[0;34m\"stu_dept\"\u001b[0m\u001b[0;34m,\u001b[0m\u001b[0;34m\"stu_prog_code\"\u001b[0m\u001b[0;34m,\u001b[0m\u001b[0;34m\"stu_res\"\u001b[0m\u001b[0;34m,\u001b[0m\u001b[0;34m\"stu_visa\"\u001b[0m\u001b[0;34m,\u001b[0m\u001b[0;34m\"stu_bam\"\u001b[0m\u001b[0;34m]\u001b[0m\u001b[0;34m]\u001b[0m\u001b[0;34m\u001b[0m\u001b[0;34m\u001b[0m\u001b[0m\n\u001b[0m\u001b[1;32m      4\u001b[0m \u001b[0mreg_status_data\u001b[0m \u001b[0;34m=\u001b[0m \u001b[0mdf_enrollment\u001b[0m\u001b[0;34m.\u001b[0m\u001b[0mgroupby\u001b[0m\u001b[0;34m(\u001b[0m\u001b[0;34m[\u001b[0m\u001b[0;34m\"reg_term_code\"\u001b[0m\u001b[0;34m,\u001b[0m \u001b[0;34m\"stu_id\"\u001b[0m\u001b[0;34m,\u001b[0m \u001b[0;34m\"crs_sect\"\u001b[0m\u001b[0;34m,\u001b[0m\u001b[0;34m\"reg_status\"\u001b[0m\u001b[0;34m,\u001b[0m\u001b[0;34m\"stu_new_ret\"\u001b[0m\u001b[0;34m]\u001b[0m\u001b[0;34m)\u001b[0m\u001b[0;34m.\u001b[0m\u001b[0magg\u001b[0m\u001b[0;34m(\u001b[0m\u001b[0;34m{\u001b[0m\u001b[0;34m\"reg_status_date\"\u001b[0m\u001b[0;34m:\u001b[0m \u001b[0;34m[\u001b[0m\u001b[0mnp\u001b[0m\u001b[0;34m.\u001b[0m\u001b[0mmax\u001b[0m\u001b[0;34m]\u001b[0m\u001b[0;34m}\u001b[0m\u001b[0;34m)\u001b[0m\u001b[0;34m\u001b[0m\u001b[0;34m\u001b[0m\u001b[0m\n\u001b[1;32m      5\u001b[0m \u001b[0mreg_log_data\u001b[0m \u001b[0;34m=\u001b[0m \u001b[0mdf_enrollment\u001b[0m\u001b[0;34m.\u001b[0m\u001b[0mloc\u001b[0m\u001b[0;34m[\u001b[0m\u001b[0;34m:\u001b[0m\u001b[0;34m,\u001b[0m\u001b[0;34m[\u001b[0m\u001b[0;34m\"rec_id\"\u001b[0m\u001b[0;34m,\u001b[0m\u001b[0;34m\"rec_ext_date\"\u001b[0m\u001b[0;34m,\u001b[0m\u001b[0;34m\"file_name\"\u001b[0m\u001b[0;34m,\u001b[0m\u001b[0;34m\"file_index\"\u001b[0m\u001b[0;34m]\u001b[0m\u001b[0;34m]\u001b[0m\u001b[0;34m\u001b[0m\u001b[0;34m\u001b[0m\u001b[0m\n",
      "\u001b[0;32m/opt/conda/lib/python3.7/site-packages/pandas/core/indexing.py\u001b[0m in \u001b[0;36m__getitem__\u001b[0;34m(self, key)\u001b[0m\n\u001b[1;32m    923\u001b[0m                 \u001b[0;32mwith\u001b[0m \u001b[0msuppress\u001b[0m\u001b[0;34m(\u001b[0m\u001b[0mKeyError\u001b[0m\u001b[0;34m,\u001b[0m \u001b[0mIndexError\u001b[0m\u001b[0;34m)\u001b[0m\u001b[0;34m:\u001b[0m\u001b[0;34m\u001b[0m\u001b[0;34m\u001b[0m\u001b[0m\n\u001b[1;32m    924\u001b[0m                     \u001b[0;32mreturn\u001b[0m \u001b[0mself\u001b[0m\u001b[0;34m.\u001b[0m\u001b[0mobj\u001b[0m\u001b[0;34m.\u001b[0m\u001b[0m_get_value\u001b[0m\u001b[0;34m(\u001b[0m\u001b[0;34m*\u001b[0m\u001b[0mkey\u001b[0m\u001b[0;34m,\u001b[0m \u001b[0mtakeable\u001b[0m\u001b[0;34m=\u001b[0m\u001b[0mself\u001b[0m\u001b[0;34m.\u001b[0m\u001b[0m_takeable\u001b[0m\u001b[0;34m)\u001b[0m\u001b[0;34m\u001b[0m\u001b[0;34m\u001b[0m\u001b[0m\n\u001b[0;32m--> 925\u001b[0;31m             \u001b[0;32mreturn\u001b[0m \u001b[0mself\u001b[0m\u001b[0;34m.\u001b[0m\u001b[0m_getitem_tuple\u001b[0m\u001b[0;34m(\u001b[0m\u001b[0mkey\u001b[0m\u001b[0;34m)\u001b[0m\u001b[0;34m\u001b[0m\u001b[0;34m\u001b[0m\u001b[0m\n\u001b[0m\u001b[1;32m    926\u001b[0m         \u001b[0;32melse\u001b[0m\u001b[0;34m:\u001b[0m\u001b[0;34m\u001b[0m\u001b[0;34m\u001b[0m\u001b[0m\n\u001b[1;32m    927\u001b[0m             \u001b[0;31m# we by definition only have the 0th axis\u001b[0m\u001b[0;34m\u001b[0m\u001b[0;34m\u001b[0m\u001b[0;34m\u001b[0m\u001b[0m\n",
      "\u001b[0;32m/opt/conda/lib/python3.7/site-packages/pandas/core/indexing.py\u001b[0m in \u001b[0;36m_getitem_tuple\u001b[0;34m(self, tup)\u001b[0m\n\u001b[1;32m   1107\u001b[0m             \u001b[0;32mreturn\u001b[0m \u001b[0mself\u001b[0m\u001b[0;34m.\u001b[0m\u001b[0m_multi_take\u001b[0m\u001b[0;34m(\u001b[0m\u001b[0mtup\u001b[0m\u001b[0;34m)\u001b[0m\u001b[0;34m\u001b[0m\u001b[0;34m\u001b[0m\u001b[0m\n\u001b[1;32m   1108\u001b[0m \u001b[0;34m\u001b[0m\u001b[0m\n\u001b[0;32m-> 1109\u001b[0;31m         \u001b[0;32mreturn\u001b[0m \u001b[0mself\u001b[0m\u001b[0;34m.\u001b[0m\u001b[0m_getitem_tuple_same_dim\u001b[0m\u001b[0;34m(\u001b[0m\u001b[0mtup\u001b[0m\u001b[0;34m)\u001b[0m\u001b[0;34m\u001b[0m\u001b[0;34m\u001b[0m\u001b[0m\n\u001b[0m\u001b[1;32m   1110\u001b[0m \u001b[0;34m\u001b[0m\u001b[0m\n\u001b[1;32m   1111\u001b[0m     \u001b[0;32mdef\u001b[0m \u001b[0m_get_label\u001b[0m\u001b[0;34m(\u001b[0m\u001b[0mself\u001b[0m\u001b[0;34m,\u001b[0m \u001b[0mlabel\u001b[0m\u001b[0;34m,\u001b[0m \u001b[0maxis\u001b[0m\u001b[0;34m:\u001b[0m \u001b[0mint\u001b[0m\u001b[0;34m)\u001b[0m\u001b[0;34m:\u001b[0m\u001b[0;34m\u001b[0m\u001b[0;34m\u001b[0m\u001b[0m\n",
      "\u001b[0;32m/opt/conda/lib/python3.7/site-packages/pandas/core/indexing.py\u001b[0m in \u001b[0;36m_getitem_tuple_same_dim\u001b[0;34m(self, tup)\u001b[0m\n\u001b[1;32m    804\u001b[0m                 \u001b[0;32mcontinue\u001b[0m\u001b[0;34m\u001b[0m\u001b[0;34m\u001b[0m\u001b[0m\n\u001b[1;32m    805\u001b[0m \u001b[0;34m\u001b[0m\u001b[0m\n\u001b[0;32m--> 806\u001b[0;31m             \u001b[0mretval\u001b[0m \u001b[0;34m=\u001b[0m \u001b[0mgetattr\u001b[0m\u001b[0;34m(\u001b[0m\u001b[0mretval\u001b[0m\u001b[0;34m,\u001b[0m \u001b[0mself\u001b[0m\u001b[0;34m.\u001b[0m\u001b[0mname\u001b[0m\u001b[0;34m)\u001b[0m\u001b[0;34m.\u001b[0m\u001b[0m_getitem_axis\u001b[0m\u001b[0;34m(\u001b[0m\u001b[0mkey\u001b[0m\u001b[0;34m,\u001b[0m \u001b[0maxis\u001b[0m\u001b[0;34m=\u001b[0m\u001b[0mi\u001b[0m\u001b[0;34m)\u001b[0m\u001b[0;34m\u001b[0m\u001b[0;34m\u001b[0m\u001b[0m\n\u001b[0m\u001b[1;32m    807\u001b[0m             \u001b[0;31m# We should never have retval.ndim < self.ndim, as that should\u001b[0m\u001b[0;34m\u001b[0m\u001b[0;34m\u001b[0m\u001b[0;34m\u001b[0m\u001b[0m\n\u001b[1;32m    808\u001b[0m             \u001b[0;31m#  be handled by the _getitem_lowerdim call above.\u001b[0m\u001b[0;34m\u001b[0m\u001b[0;34m\u001b[0m\u001b[0;34m\u001b[0m\u001b[0m\n",
      "\u001b[0;32m/opt/conda/lib/python3.7/site-packages/pandas/core/indexing.py\u001b[0m in \u001b[0;36m_getitem_axis\u001b[0;34m(self, key, axis)\u001b[0m\n\u001b[1;32m   1151\u001b[0m                     \u001b[0;32mraise\u001b[0m \u001b[0mValueError\u001b[0m\u001b[0;34m(\u001b[0m\u001b[0;34m\"Cannot index with multidimensional key\"\u001b[0m\u001b[0;34m)\u001b[0m\u001b[0;34m\u001b[0m\u001b[0;34m\u001b[0m\u001b[0m\n\u001b[1;32m   1152\u001b[0m \u001b[0;34m\u001b[0m\u001b[0m\n\u001b[0;32m-> 1153\u001b[0;31m                 \u001b[0;32mreturn\u001b[0m \u001b[0mself\u001b[0m\u001b[0;34m.\u001b[0m\u001b[0m_getitem_iterable\u001b[0m\u001b[0;34m(\u001b[0m\u001b[0mkey\u001b[0m\u001b[0;34m,\u001b[0m \u001b[0maxis\u001b[0m\u001b[0;34m=\u001b[0m\u001b[0maxis\u001b[0m\u001b[0;34m)\u001b[0m\u001b[0;34m\u001b[0m\u001b[0;34m\u001b[0m\u001b[0m\n\u001b[0m\u001b[1;32m   1154\u001b[0m \u001b[0;34m\u001b[0m\u001b[0m\n\u001b[1;32m   1155\u001b[0m             \u001b[0;31m# nested tuple slicing\u001b[0m\u001b[0;34m\u001b[0m\u001b[0;34m\u001b[0m\u001b[0;34m\u001b[0m\u001b[0m\n",
      "\u001b[0;32m/opt/conda/lib/python3.7/site-packages/pandas/core/indexing.py\u001b[0m in \u001b[0;36m_getitem_iterable\u001b[0;34m(self, key, axis)\u001b[0m\n\u001b[1;32m   1091\u001b[0m \u001b[0;34m\u001b[0m\u001b[0m\n\u001b[1;32m   1092\u001b[0m         \u001b[0;31m# A collection of keys\u001b[0m\u001b[0;34m\u001b[0m\u001b[0;34m\u001b[0m\u001b[0;34m\u001b[0m\u001b[0m\n\u001b[0;32m-> 1093\u001b[0;31m         \u001b[0mkeyarr\u001b[0m\u001b[0;34m,\u001b[0m \u001b[0mindexer\u001b[0m \u001b[0;34m=\u001b[0m \u001b[0mself\u001b[0m\u001b[0;34m.\u001b[0m\u001b[0m_get_listlike_indexer\u001b[0m\u001b[0;34m(\u001b[0m\u001b[0mkey\u001b[0m\u001b[0;34m,\u001b[0m \u001b[0maxis\u001b[0m\u001b[0;34m)\u001b[0m\u001b[0;34m\u001b[0m\u001b[0;34m\u001b[0m\u001b[0m\n\u001b[0m\u001b[1;32m   1094\u001b[0m         return self.obj._reindex_with_indexers(\n\u001b[1;32m   1095\u001b[0m             \u001b[0;34m{\u001b[0m\u001b[0maxis\u001b[0m\u001b[0;34m:\u001b[0m \u001b[0;34m[\u001b[0m\u001b[0mkeyarr\u001b[0m\u001b[0;34m,\u001b[0m \u001b[0mindexer\u001b[0m\u001b[0;34m]\u001b[0m\u001b[0;34m}\u001b[0m\u001b[0;34m,\u001b[0m \u001b[0mcopy\u001b[0m\u001b[0;34m=\u001b[0m\u001b[0;32mTrue\u001b[0m\u001b[0;34m,\u001b[0m \u001b[0mallow_dups\u001b[0m\u001b[0;34m=\u001b[0m\u001b[0;32mTrue\u001b[0m\u001b[0;34m\u001b[0m\u001b[0;34m\u001b[0m\u001b[0m\n",
      "\u001b[0;32m/opt/conda/lib/python3.7/site-packages/pandas/core/indexing.py\u001b[0m in \u001b[0;36m_get_listlike_indexer\u001b[0;34m(self, key, axis)\u001b[0m\n\u001b[1;32m   1312\u001b[0m             \u001b[0mkeyarr\u001b[0m\u001b[0;34m,\u001b[0m \u001b[0mindexer\u001b[0m\u001b[0;34m,\u001b[0m \u001b[0mnew_indexer\u001b[0m \u001b[0;34m=\u001b[0m \u001b[0max\u001b[0m\u001b[0;34m.\u001b[0m\u001b[0m_reindex_non_unique\u001b[0m\u001b[0;34m(\u001b[0m\u001b[0mkeyarr\u001b[0m\u001b[0;34m)\u001b[0m\u001b[0;34m\u001b[0m\u001b[0;34m\u001b[0m\u001b[0m\n\u001b[1;32m   1313\u001b[0m \u001b[0;34m\u001b[0m\u001b[0m\n\u001b[0;32m-> 1314\u001b[0;31m         \u001b[0mself\u001b[0m\u001b[0;34m.\u001b[0m\u001b[0m_validate_read_indexer\u001b[0m\u001b[0;34m(\u001b[0m\u001b[0mkeyarr\u001b[0m\u001b[0;34m,\u001b[0m \u001b[0mindexer\u001b[0m\u001b[0;34m,\u001b[0m \u001b[0maxis\u001b[0m\u001b[0;34m)\u001b[0m\u001b[0;34m\u001b[0m\u001b[0;34m\u001b[0m\u001b[0m\n\u001b[0m\u001b[1;32m   1315\u001b[0m \u001b[0;34m\u001b[0m\u001b[0m\n\u001b[1;32m   1316\u001b[0m         if needs_i8_conversion(ax.dtype) or isinstance(\n",
      "\u001b[0;32m/opt/conda/lib/python3.7/site-packages/pandas/core/indexing.py\u001b[0m in \u001b[0;36m_validate_read_indexer\u001b[0;34m(self, key, indexer, axis)\u001b[0m\n\u001b[1;32m   1375\u001b[0m \u001b[0;34m\u001b[0m\u001b[0m\n\u001b[1;32m   1376\u001b[0m             \u001b[0mnot_found\u001b[0m \u001b[0;34m=\u001b[0m \u001b[0mlist\u001b[0m\u001b[0;34m(\u001b[0m\u001b[0mensure_index\u001b[0m\u001b[0;34m(\u001b[0m\u001b[0mkey\u001b[0m\u001b[0;34m)\u001b[0m\u001b[0;34m[\u001b[0m\u001b[0mmissing_mask\u001b[0m\u001b[0;34m.\u001b[0m\u001b[0mnonzero\u001b[0m\u001b[0;34m(\u001b[0m\u001b[0;34m)\u001b[0m\u001b[0;34m[\u001b[0m\u001b[0;36m0\u001b[0m\u001b[0;34m]\u001b[0m\u001b[0;34m]\u001b[0m\u001b[0;34m.\u001b[0m\u001b[0munique\u001b[0m\u001b[0;34m(\u001b[0m\u001b[0;34m)\u001b[0m\u001b[0;34m)\u001b[0m\u001b[0;34m\u001b[0m\u001b[0;34m\u001b[0m\u001b[0m\n\u001b[0;32m-> 1377\u001b[0;31m             \u001b[0;32mraise\u001b[0m \u001b[0mKeyError\u001b[0m\u001b[0;34m(\u001b[0m\u001b[0;34mf\"{not_found} not in index\"\u001b[0m\u001b[0;34m)\u001b[0m\u001b[0;34m\u001b[0m\u001b[0;34m\u001b[0m\u001b[0m\n\u001b[0m\u001b[1;32m   1378\u001b[0m \u001b[0;34m\u001b[0m\u001b[0m\n\u001b[1;32m   1379\u001b[0m \u001b[0;34m\u001b[0m\u001b[0m\n",
      "\u001b[0;31mKeyError\u001b[0m: \"['stu_name'] not in index\""
     ]
    }
   ],
   "source": [
    "#Grab record_id, rec_ext_date\n",
    "student_data = df_enrollment.loc[:,[\"stu_name\", \"stu_admit_term_code\",\"stu_deg_level\",\"stu_college\",\"stu_dept\",\"stu_prog_code\",\"stu_res\",\"stu_visa\",\"stu_bam\"]]\n",
    "reg_status_data = df_enrollment.groupby([\"reg_term_code\", \"stu_id\", \"crs_sect\",\"reg_status\",\"stu_new_ret\"]).agg({\"reg_status_date\": [np.max]})\n",
    "reg_log_data = df_enrollment.loc[:,[\"rec_id\",\"rec_ext_date\",\"file_name\",\"file_index\"]]\n",
    "crs_data = df_enrollment.loc[:,[\"crs\",\"crs_type\",\"crs_credits\",\"crs_hours\"]]\n",
    "term_data = df_enrollment.loc[:,[\"reg_term_code\",\"reg_term_year\",\"reg_term_name\",\"reg_term_desc\"]]"
   ]
  }
 ],
 "metadata": {
  "environment": {
   "kernel": "python3",
   "name": "common-cpu.m103",
   "type": "gcloud",
   "uri": "gcr.io/deeplearning-platform-release/base-cpu:m103"
  },
  "kernelspec": {
   "display_name": "Python 3",
   "language": "python",
   "name": "python3"
  },
  "language_info": {
   "codemirror_mode": {
    "name": "ipython",
    "version": 3
   },
   "file_extension": ".py",
   "mimetype": "text/x-python",
   "name": "python",
   "nbconvert_exporter": "python",
   "pygments_lexer": "ipython3",
   "version": "3.7.12"
  }
 },
 "nbformat": 4,
 "nbformat_minor": 5
}
