{
 "cells": [
  {
   "cell_type": "markdown",
   "id": "b395aec0-75a5-4819-8dc8-560ab9e14cc7",
   "metadata": {},
   "source": [
    "Note: This file operates as a way to merge new data that may not be present under our enrollment database."
   ]
  },
  {
   "cell_type": "code",
   "execution_count": 42,
   "id": "3f81d3c9-bf13-4ed3-80ee-23743fc59c40",
   "metadata": {},
   "outputs": [],
   "source": [
    "import json\n",
    "import os\n",
    "import re\n",
    "\n",
    "import requests\n",
    "#import pandas as pd\n",
    "import sqlite3\n",
    "\n",
    "from bs4 import BeautifulSoup"
   ]
  },
  {
   "cell_type": "code",
   "execution_count": 43,
   "id": "b4fef9e2-7bdd-4ee9-8a5f-c4854a74a637",
   "metadata": {},
   "outputs": [
    {
     "name": "stdout",
     "output_type": "stream",
     "text": [
      "/home/jupyter/Team-Prophecy/Data/02_processed/intermediate.db\n"
     ]
    }
   ],
   "source": [
    "process_path = os.path.join(os.sep+\"home\"+os.sep+\"jupyter\"+os.sep+\"Team-Prophecy\",\"Data\",\"02_processed\",\"intermediate.db\")\n",
    "print(process_path)"
   ]
  },
  {
   "cell_type": "code",
   "execution_count": 44,
   "id": "f96d5b1f-5450-46bd-ae92-f18e6b7d282d",
   "metadata": {},
   "outputs": [
    {
     "name": "stdout",
     "output_type": "stream",
     "text": [
      "/home/jupyter/Team-Prophecy/Data/01_raw/CourseData/raw.db\n"
     ]
    }
   ],
   "source": [
    "raw_path = os.path.join(os.sep+\"home\"+os.sep+\"jupyter\"+os.sep+\"Team-Prophecy\",\"Data\",\"01_raw\",\"CourseData\",\"raw.db\")\n",
    "print(raw_path)"
   ]
  },
  {
   "cell_type": "code",
   "execution_count": 45,
   "id": "9b6abbc9-2660-4acd-ae52-c0113bde8d03",
   "metadata": {},
   "outputs": [],
   "source": [
    "raw_connection = sqlite3.connect(raw_path)"
   ]
  },
  {
   "cell_type": "code",
   "execution_count": 46,
   "id": "72f39404-4940-4a6a-a181-9afc10537162",
   "metadata": {},
   "outputs": [],
   "source": [
    "process_connection = sqlite3.connect(process_path)"
   ]
  },
  {
   "cell_type": "code",
   "execution_count": 47,
   "id": "b52d3353-b3d9-43d0-a14a-e409d4dae59f",
   "metadata": {},
   "outputs": [],
   "source": [
    "base_catalog = \"https://catalog.gmu.edu\"\n",
    "base_masters_url = \"https://catalog.gmu.edu/programs/#filter=.filter_23\"\n",
    "#base_phd_url = \"https://catalog.gmu.edu/programs/#filter=.filter_23&.filter_28\"\n",
    "base_courses_url = \"https://catalog.gmu.edu/courses/\" "
   ]
  },
  {
   "cell_type": "code",
   "execution_count": 48,
   "id": "d0d0f974-abb9-466f-9eec-236657f04c8f",
   "metadata": {},
   "outputs": [],
   "source": [
    "class CourseInfo:\n",
    "    #We have REQUIRED PREREQUISITES and RECOMMENDED PREREQUISITES\n",
    "    def __init__(self, code, program, credits, required_prereq_classes=\"\"): #, recommended_classes=\"\"):\n",
    "        self.code = code\n",
    "        self.program = program\n",
    "        self.credits = int(credits)\n",
    "        self.required_prereq_classes = required_prereq_classes\n",
    "        #self.recommended_classes = recommended_classes\n",
    "    def to_sql_insert(self):\n",
    "        return tuple((self.code, self.credits))\n",
    "    def to_sql_insert_program_code_key(self):\n",
    "        return tuple((self.program, self.code))"
   ]
  },
  {
   "cell_type": "code",
   "execution_count": 49,
   "id": "c5651090-dbf7-46ef-9461-b4e312f65cc3",
   "metadata": {},
   "outputs": [],
   "source": [
    "class ProgramInfo:\n",
    "    def __init__(self, name, url, program_type):\n",
    "        self.name = name\n",
    "        self.url = url\n",
    "        self.program_type = program_type #i.e. masters/phd\n",
    "\n",
    "    def to_sql_insert(self):\n",
    "        return tuple((self.name, self.url, self.program_type))"
   ]
  },
  {
   "cell_type": "code",
   "execution_count": 50,
   "id": "07a81b62-d0d4-4670-a458-1d559209d818",
   "metadata": {},
   "outputs": [
    {
     "name": "stdout",
     "output_type": "stream",
     "text": [
      "Now, we process our masters...\n",
      "Masters Content List will now be filtered.\n"
     ]
    }
   ],
   "source": [
    "masters_html_listed = requests.get(base_masters_url)\n",
    "print(\"Now, we process our masters...\")\n",
    "masters_content = None\n",
    "if masters_html_listed.status_code != 200:\n",
    "    print(\"Could not retrieve list of masters classes\")\n",
    "    exit()\n",
    "# Match using this: (\\/colleges-schools\\/.+?(?=\\\")) for masters\n",
    "masters_content = str(masters_html_listed.content)\n",
    "masters_content_list = re.findall(r\"(\\/colleges-schools\\/.+?(?=\\\"))\", masters_content)[1:]\n",
    "print(\"Masters Content List will now be filtered.\")"
   ]
  },
  {
   "cell_type": "code",
   "execution_count": 51,
   "id": "c07051aa-a6f3-4172-92ee-08c6b4c619a4",
   "metadata": {},
   "outputs": [],
   "source": [
    "masters_content_list = [m_iter for m_iter in masters_content_list if\n",
    "                            (\"-graduate-certificate\" in m_iter or \"-ms\" in m_iter or \"-phd\" in m_iter)]"
   ]
  },
  {
   "cell_type": "code",
   "execution_count": 52,
   "id": "90d9972a-ade2-47be-84b9-99b8b74114de",
   "metadata": {},
   "outputs": [],
   "source": [
    "#print(masters_content_list)"
   ]
  },
  {
   "cell_type": "markdown",
   "id": "9857bce6-68c9-4473-8083-468d940140f7",
   "metadata": {},
   "source": [
    "We must now declare all values under our colleges, departments, and degree levels so that we can later use them as referential variables"
   ]
  },
  {
   "cell_type": "code",
   "execution_count": 53,
   "id": "809db717-0691-479e-9789-d11a8dc8a740",
   "metadata": {},
   "outputs": [],
   "source": [
    "process_connection.executemany(\"INSERT INTO degree_level(deg_name) VALUES(?)\", [(\"gc\",),(\"ms\",),(\"phd\",)])\n",
    "process_connection.commit()"
   ]
  },
  {
   "cell_type": "code",
   "execution_count": 54,
   "id": "03767265-51d8-4f2c-81d4-b7ce2b3547cb",
   "metadata": {},
   "outputs": [],
   "source": [
    "master_link_dict = {}\n",
    "i = 1;  # This will be our temporary auto-increment value\n",
    "# Now that we have all values listed, we should rework them so that they can be handled\n",
    "for m_iter in masters_content_list:\n",
    "    cert_list = m_iter.split(\"/\")\n",
    "    cert_list = cert_list[1:len(cert_list)-1]\n",
    "    name = cert_list[len(cert_list) - 1]\n",
    "    if \"graduate-certificate\" in name or \"phd\" in name:\n",
    "        continue\n",
    "        #type = \"graduate-certificate\"\n",
    "        #name = name.replace(\"-graduate-certificate\", \"-gc\")  # .replace(\"-ms\", \"\")\n",
    "    #elif \"phd\" in name:\n",
    "        #type = \"phd\"\n",
    "    else:\n",
    "        type = \"ms\"\n",
    "    try:\n",
    "        name = re.findall(r\"Banner Code: ([A-Za-z]*-[A-Za-z]*-[A-Za-z]*)\",str(requests.get(base_catalog+m_iter).content))[0]\n",
    "        if name in master_link_dict.keys():\n",
    "            continue\n",
    "        #school = cert_list[len(cert_list) - 2]\n",
    "        master_link_dict[name] = ProgramInfo(name, m_iter, type)\n",
    "    except Exception as e:\n",
    "        #If they cannot be added, it means that they do not have a formal degree associated with them\n",
    "        #print(f\"Exception provided for name {name}: {e}\")\n",
    "        continue\n",
    "prog_info_list = [i.to_sql_insert() for i in master_link_dict.values()]"
   ]
  },
  {
   "cell_type": "markdown",
   "id": "473d40f2-9ec6-449d-9c56-6c5f950e98ec",
   "metadata": {},
   "source": [
    "NOTE: Student Departments and College info will be merged later when we do enrollment"
   ]
  },
  {
   "cell_type": "code",
   "execution_count": 55,
   "id": "8e3e6eaf-a375-451c-aa7a-d0bf6c88197c",
   "metadata": {},
   "outputs": [],
   "source": [
    "#print(\"\\n\".join([str(i[0]) for i in prog_info_list]))"
   ]
  },
  {
   "cell_type": "code",
   "execution_count": 56,
   "id": "62706db6-1d6b-4263-9e40-eb6935802772",
   "metadata": {},
   "outputs": [],
   "source": [
    "raw_connection.executemany(\"INSERT INTO programs VALUES(?,?,?)\", prog_info_list)\n",
    "raw_connection.commit()"
   ]
  },
  {
   "cell_type": "code",
   "execution_count": 57,
   "id": "6d5ff641-9921-4238-88c0-3e20c5dffaa9",
   "metadata": {},
   "outputs": [],
   "source": [
    "def scrape_course_info(program,core_list,masters_obj_dict,required):\n",
    "    m_dict = masters_obj_dict #This will include all courses listed.\n",
    "    selected_course_info = []\n",
    "    all_course_info = [] #Once we get all of the course information, we want to be notified of it!\n",
    "    program_course_link = set()\n",
    "    c_w_prereqs = []\n",
    "    for course in core_list:\n",
    "        course_w_no = str(course[\"href\"]).replace(\"/search/?P=\", \"\").lower().split(\"%20\")\n",
    "        selected_course_info.append(course_w_no[0].strip() + course_w_no[1].strip())\n",
    "        courses_found = base_courses_url+course_w_no[0]\n",
    "        course_w_no[0] = course_w_no[0].upper()\n",
    "        class_code = course_w_no[0].strip() + course_w_no[1].strip()\n",
    "        \n",
    "        program_course_link.add(tuple((program,class_code,required)))\n",
    "        \"\"\"\n",
    "        if course_w_no[0] not in m_dict.keys():\n",
    "            courses_html = requests.get(courses_found) #Be sure to grab by class courseblocklevel\n",
    "            course_assess = BeautifulSoup(courses_html.content, 'html.parser')\n",
    "            m_dict[course_w_no[0]] = {}\n",
    "            for c_iter in course_assess.find_all(\"div\", {\"class\":\"courseblocklevel\"}):\n",
    "                #spl_iter_text = int(c_iter.get_text().replace(\"\\n\",\"\")[:3])\n",
    "                #if spl_iter_text < 500:\n",
    "                #    continue\n",
    "                course_block_iter = c_iter.find_all_next(\"div\", {\"class\":\"courseblock\"})\n",
    "                for cb_iter in course_block_iter:\n",
    "                    gen_indexing = cb_iter.get_text()\n",
    "                    class_code = cb_iter.find_next(\"strong\",{\"class\": \"cb_code\"}).get_text()[:-1].replace(\"\\xa0\",\"\")\n",
    "                    class_credits = int(re.search(r\"([0-9]{1}) credit\",gen_indexing).group(0)[:1])\n",
    "                    #if tuple((class_code, class_credits)) in all_course_info:\n",
    "                    #    continue\n",
    "                    #class_desc = cb_iter.find_next(\"div\",{\"class\": \"courseblockdesc\"}).get_text()\n",
    "                    class_prereqs_needed = []\n",
    "                    try:\n",
    "                        prereq_needed = gen_indexing.index(\"Required Prerequisite\")\n",
    "                        if prereq_needed > -1:\n",
    "                            class_prereqs_needed = set(re.findall(r\"([A-Z]+.[0-9]{3})\",cb_iter.get_text()[prereq_needed:].split(\".\")[0]))\n",
    "                            class_prereqs_needed = [i.replace(\"\\xa0\", \"\") for i in class_prereqs_needed]\n",
    "                    except:\n",
    "                        class_prereqs_needed = []\n",
    "                    cInfo = CourseInfo(class_code, program, class_credits,class_prereqs_needed) #,class_prereqs_recom)\n",
    "                    program_course_link.add(tuple((cInfo.program,cInfo.code,required)))\n",
    "                    m_dict[course_w_no[0]][cInfo.code] = cInfo\n",
    "                    all_course_info.append(cInfo.to_sql_insert())\n",
    "                    for pr_c in cInfo.required_prereq_classes:\n",
    "                        c_w_prereqs.append(tuple((cInfo.code,pr_c)))\n",
    "            \"\"\" \n",
    "            \n",
    "        #raw_connection.executemany(\"INSERT INTO courses(crs_name,crs_credits) VALUES(?)\",all_course_info)\n",
    "        #raw_connection.commit()\n",
    "\n",
    "        program_course_arr = list(program_course_link)\n",
    "        #print(\"\\n\".join(str(i) for i in program_course_arr))\n",
    "        raw_connection.executemany(\"INSERT INTO program_course_offerings(prog_code, crs_id, required) VALUES(?,?,?)\",program_course_arr)\n",
    "        raw_connection.commit()\n",
    "\n",
    "        \"\"\"\n",
    "        # Prerequisite information\n",
    "        process_connection.executemany(\n",
    "            \"INSERT INTO course_prerequisite(crs, crs_prereq) VALUES(?,?)\",\n",
    "            c_w_prereqs)\n",
    "        process_connection.commit()\n",
    "\n",
    "        all_course_info = []\n",
    "        c_w_prereqs = []\n",
    "        \"\"\"\n",
    "    return selected_course_info, m_dict #program_course_link"
   ]
  },
  {
   "cell_type": "code",
   "execution_count": 58,
   "id": "2e8f0ff2-5956-4f5c-a6f9-7564e8643bd3",
   "metadata": {},
   "outputs": [],
   "source": [
    "error_list = []\n",
    "masters_obj_dict = {} #This handles the extended masters list\n",
    "m_vals = master_link_dict.values()"
   ]
  },
  {
   "cell_type": "code",
   "execution_count": 59,
   "id": "4a1b4b29-2dd6-4a40-8213-9467d96a6488",
   "metadata": {},
   "outputs": [],
   "source": [
    "l_req_words = [\"requirements\",\"required courses\",\"core courses\"]\n",
    "l_ex_words = [\"concentration\",\"electives\",\"msaccel\",\"accelerated\",\"dual\",\"bam\"]\n",
    "l_acc_words = [\"msaccel\",\"accelerated\",\"dual\",\"bam\"]\n",
    "for m_iter in m_vals:\n",
    "    masters_url = base_catalog+m_iter.url+\"#requirementstext\"\n",
    "    masters_courses_html = requests.get(masters_url)\n",
    "    if masters_courses_html.status_code != 200:\n",
    "        print(\"Could not retrieve list of masters classes\")\n",
    "        continue\n",
    "    #masters_courses_types_html = str(masters_courses_html.content).replace(\"\\\\xc2\\\\xa0\", \" \").lower()\n",
    "    be_assess = BeautifulSoup(masters_courses_html.content,'html.parser')\n",
    "    #Either it's a required course, or it's not.\n",
    "    for core_class in be_assess.find_all(\"h3\"):\n",
    "        core_text = core_class.get_text().lower()\n",
    "        if any(r in core_text for r in l_req_words) \\\n",
    "            and (any(x in core_text for x in l_ex_words) == False):\n",
    "            #print(\"======= REQUIRED =======\")\n",
    "            #print(f\"classname = {m_iter.name}\")\n",
    "            #print(f\"classtext = {core_class.get_text()}\")\n",
    "            #print(\"======= REQUIRED =======\")\n",
    "            core_list = core_class.parent.find_all(\"a\",{\"class\":\"bubblelink code\"})\n",
    "            #For any courses that we find, we must add all of them to our database.\n",
    "            # This is IIF we haven't encountered them prior.. (Likely will need to include courses later)\n",
    "            selected_classes, extend_map_list = scrape_course_info(m_iter.name,core_list,masters_obj_dict,1) #master_info,\n",
    "            masters_obj_dict.update(extend_map_list)\n",
    "            #core_class.parent.find_all(\"a\", {\"class\": \"bubblelink code\"})[0][\"onclick\"]\n",
    "        elif (any(a in core_text for a in l_acc_words) == False):\n",
    "            #print(\"======= OPTIONAL =======\")\n",
    "            #print(f\"classname = {m_iter.name}\")\n",
    "            #print(f\"classtext = {core_class.get_text()}\")\n",
    "            #print(\"======= OPTIONAL =======\")\n",
    "            elective_list = core_class.parent.find_all(\"a\", {\"class\": \"bubblelink code\"})\n",
    "            selected_classes, extend_map_list = scrape_course_info(m_iter.name, elective_list, masters_obj_dict,0)  # master_info,\n",
    "            masters_obj_dict.update(extend_map_list)"
   ]
  },
  {
   "cell_type": "code",
   "execution_count": 60,
   "id": "0364d2a0-041b-4737-808d-611b351477ce",
   "metadata": {},
   "outputs": [],
   "source": [
    "required_df = raw_connection.execute(\"SELECT DISTINCT prog_code, crs_id, required FROM program_course_offerings WHERE required == 1\").fetchall()\n",
    "elective_df = raw_connection.execute(\"SELECT DISTINCT prog_code, crs_id, required FROM program_course_offerings WHERE required == 0\").fetchall()\n",
    "#,columns=[\"prog_code\",\"crs_id\",\"required\"])"
   ]
  },
  {
   "cell_type": "code",
   "execution_count": 61,
   "id": "1f09a65a-6160-41df-9ae3-99cd5b27da6a",
   "metadata": {},
   "outputs": [],
   "source": [
    "required_df = {(k[0],k[1]) : k[2] for k in required_df}\n",
    "correct_df = {(k[0],k[1]) : k[2] for k in elective_df}\n",
    "correct_df.update(required_df)\n",
    "correct_df = [(i[0][0],i[0][1],i[1]) for i in correct_df.items()]"
   ]
  },
  {
   "cell_type": "code",
   "execution_count": 62,
   "id": "5650581f-90da-41c1-9b2a-da0e32c204ac",
   "metadata": {},
   "outputs": [],
   "source": [
    "raw_connection.execute(\"DELETE FROM program_course_offerings\")\n",
    "raw_connection.commit()\n",
    "raw_connection.executemany(\"INSERT INTO program_course_offerings(prog_code, crs_id, required) VALUES(?,?,?)\",correct_df)\n",
    "raw_connection.commit()"
   ]
  }
 ],
 "metadata": {
  "environment": {
   "kernel": "python3",
   "name": "common-cpu.m103",
   "type": "gcloud",
   "uri": "gcr.io/deeplearning-platform-release/base-cpu:m103"
  },
  "kernelspec": {
   "display_name": "Python 3",
   "language": "python",
   "name": "python3"
  },
  "language_info": {
   "codemirror_mode": {
    "name": "ipython",
    "version": 3
   },
   "file_extension": ".py",
   "mimetype": "text/x-python",
   "name": "python",
   "nbconvert_exporter": "python",
   "pygments_lexer": "ipython3",
   "version": "3.7.12"
  }
 },
 "nbformat": 4,
 "nbformat_minor": 5
}
