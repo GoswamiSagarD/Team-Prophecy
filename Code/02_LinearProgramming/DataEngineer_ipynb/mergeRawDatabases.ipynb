{
 "cells": [
  {
   "cell_type": "code",
   "execution_count": 1,
   "id": "5e41e96e-bc6a-4416-bc29-05b388e77136",
   "metadata": {},
   "outputs": [],
   "source": [
    "# Initiation\n",
    "# importing required libraries\n",
    "import os\n",
    "import glob\n",
    "\n",
    "import numpy as np\n",
    "import pandas as pd\n",
    "import sqlite3"
   ]
  },
  {
   "cell_type": "code",
   "execution_count": 2,
   "id": "144b7677-aa8d-49cb-9cc9-70b86b1499c7",
   "metadata": {},
   "outputs": [
    {
     "name": "stdout",
     "output_type": "stream",
     "text": [
      "/home/jupyter/Team-Prophecy\n"
     ]
    }
   ],
   "source": [
    "path = os.sep+\"home\"+os.sep+\"jupyter\"+os.sep+\"Team-Prophecy\"\n",
    "print(path)"
   ]
  },
  {
   "cell_type": "code",
   "execution_count": 3,
   "id": "63a821a9-db44-46e5-bd8e-b9453e4398d3",
   "metadata": {},
   "outputs": [],
   "source": [
    "if path != os.getcwd():\n",
    "    os.chdir(path)"
   ]
  },
  {
   "cell_type": "code",
   "execution_count": 4,
   "id": "e0f328d6-c5db-4802-8fad-409f71d93841",
   "metadata": {},
   "outputs": [],
   "source": [
    "from Code.src.modules.db_ops import *"
   ]
  },
  {
   "cell_type": "code",
   "execution_count": 5,
   "id": "041c4ef4-2b39-48fa-94cc-fb5e9352f90c",
   "metadata": {},
   "outputs": [
    {
     "name": "stdout",
     "output_type": "stream",
     "text": [
      "/home/jupyter/Team-Prophecy/Data/02_processed/intermediate.db\n"
     ]
    }
   ],
   "source": [
    "process_path = os.path.join(os.sep+\"home\"+os.sep+\"jupyter\"+os.sep+\"Team-Prophecy\",\"Data\",\"02_processed\",\"intermediate.db\")\n",
    "print(process_path)"
   ]
  },
  {
   "cell_type": "code",
   "execution_count": 6,
   "id": "719ecb3d-3ed9-418b-acc6-ccb127736cca",
   "metadata": {},
   "outputs": [
    {
     "name": "stdout",
     "output_type": "stream",
     "text": [
      "/home/jupyter/Team-Prophecy/Data/01_raw/CourseData/raw.db\n"
     ]
    }
   ],
   "source": [
    "raw_path = os.path.join(os.sep+\"home\"+os.sep+\"jupyter\"+os.sep+\"Team-Prophecy\",\"Data\",\"01_raw\",\"CourseData\",\"raw.db\")\n",
    "print(raw_path)"
   ]
  },
  {
   "cell_type": "code",
   "execution_count": 7,
   "id": "aaed95eb-d9ad-44e8-816e-743bc71f62d1",
   "metadata": {},
   "outputs": [],
   "source": [
    "raw_connection = sqlite3.connect(raw_path)"
   ]
  },
  {
   "cell_type": "code",
   "execution_count": 8,
   "id": "d6a552c4-a7c2-4428-8f2e-b00122ad5fc4",
   "metadata": {},
   "outputs": [],
   "source": [
    "process_connection = sqlite3.connect(process_path)"
   ]
  },
  {
   "cell_type": "code",
   "execution_count": 9,
   "id": "fa8a687d-b279-47bb-99af-650f1e4721e8",
   "metadata": {},
   "outputs": [],
   "source": [
    "r_student_details = pd.DataFrame(raw_connection.execute(\"SELECT * FROM student_details\").fetchall(), columns=[\"stu_id\",\"stu_admit_term_code\",\"stu_deg_level\",\"stu_college\",\"stu_dept\",\"stu_prog\",\"stu_res\",\"stu_visa\",\"stu_bam\"])"
   ]
  },
  {
   "cell_type": "code",
   "execution_count": 10,
   "id": "6d533da6-9387-4bf4-ad00-a7cd80a9ffd4",
   "metadata": {},
   "outputs": [],
   "source": [
    "p_student_details = list(r_student_details.drop_duplicates().itertuples(index=False, name=None))"
   ]
  },
  {
   "cell_type": "code",
   "execution_count": 11,
   "id": "622ccb28-aced-4541-8def-773250adc3e3",
   "metadata": {},
   "outputs": [],
   "source": [
    "process_connection.executemany(\"\"\"\n",
    "INSERT INTO \n",
    "student_details(stu_id, stu_admit_term_code,\n",
    "stu_deg_level, stu_college, stu_dept, \n",
    "stu_prog, stu_res, stu_visa, stu_bam) \n",
    "VALUES(?,?,?,?,?,?,?,?,?)\n",
    "\"\"\",p_student_details)\n",
    "process_connection.commit()"
   ]
  },
  {
   "cell_type": "code",
   "execution_count": 12,
   "id": "7f47ceb6-a269-41b6-b196-6b25172a8c70",
   "metadata": {},
   "outputs": [],
   "source": [
    "p_program = pd.DataFrame(process_connection.execute(\"SELECT prog_code FROM programs\").fetchall(), columns=[\"prog_code\"])\n",
    "p_courses = pd.DataFrame(process_connection.execute(\"SELECT crs FROM courses\").fetchall(), columns=[\"crs\"])\n",
    "p_program[\"temp\"] = 0\n",
    "p_courses[\"temp\"] = 0\n",
    "p_full_programcourses = p_program.merge(p_courses, on=\"temp\", how=\"outer\")\n",
    "p_full_programcourses = p_full_programcourses.drop(\"temp\",axis=1)\n",
    "#r_program_course"
   ]
  },
  {
   "cell_type": "code",
   "execution_count": 13,
   "id": "c6277a2e-b80f-4e69-b91f-a98b85fd7962",
   "metadata": {},
   "outputs": [],
   "source": [
    "r_program_course = pd.DataFrame(raw_connection.execute(\"SELECT prog_code, crs_id, required FROM program_course_offerings\").fetchall(), columns=[\"prog_code\",\"crs\",\"required\"])"
   ]
  },
  {
   "cell_type": "code",
   "execution_count": 14,
   "id": "352eba01-397f-46c5-ada8-8ea4a3bfeea1",
   "metadata": {},
   "outputs": [],
   "source": [
    "p_programcourses = p_full_programcourses.merge(r_program_course,on=[\"prog_code\",\"crs\"],how=\"inner\")"
   ]
  },
  {
   "cell_type": "code",
   "execution_count": 15,
   "id": "395dfdf7-bdc5-45c7-b95b-c83b8531f741",
   "metadata": {},
   "outputs": [],
   "source": [
    "p_programcourses = list(p_programcourses.drop_duplicates().itertuples(index=False, name=None))"
   ]
  },
  {
   "cell_type": "code",
   "execution_count": 16,
   "id": "faa06d46-6ce7-4e13-8e56-4e704aa3ce9a",
   "metadata": {},
   "outputs": [],
   "source": [
    "process_connection.executemany(\"\"\"\n",
    "    INSERT INTO program_course_offerings VALUES(?,?,?)\n",
    "\"\"\",p_programcourses)\n",
    "process_connection.commit()"
   ]
  },
  {
   "cell_type": "code",
   "execution_count": 17,
   "id": "0490fa22-3cde-47da-9c04-7a72b1e61ab1",
   "metadata": {},
   "outputs": [],
   "source": [
    "r_course_section = pd.DataFrame(raw_connection.execute(\"SELECT * FROM course_section\").fetchall(), columns=[\"crs\",\"sect_id\",\"sect_clg\",\"sect_dept\",\"sect_mod\",\"sect_status\",\"sect_lvl\",\"sect_wiley\"]).drop_duplicates()"
   ]
  },
  {
   "cell_type": "code",
   "execution_count": 18,
   "id": "9478acc2-695b-4a01-a859-615e6d038c3d",
   "metadata": {},
   "outputs": [],
   "source": [
    "colleges_camp = pd.DataFrame(process_connection.execute(\"SELECT col_name,campus_id_fk FROM colleges\").fetchall(), columns=[\"sect_camp\",\"sect_clg\"]).drop_duplicates()"
   ]
  },
  {
   "cell_type": "code",
   "execution_count": 19,
   "id": "7751ce9c-580e-4cab-9b64-49f4bef0888e",
   "metadata": {},
   "outputs": [],
   "source": [
    "r_course_section[\"sect_clg\"] = r_course_section[\"sect_clg\"].str.encode('utf-8')\n",
    "colleges_camp[\"sect_clg\"] = colleges_camp[\"sect_clg\"].str.encode('utf-8')"
   ]
  },
  {
   "cell_type": "code",
   "execution_count": 20,
   "id": "d38bb3c1-caa3-4bbb-a8ea-7e96e5926bcb",
   "metadata": {},
   "outputs": [],
   "source": [
    "r_course_section = r_course_section.merge(colleges_camp, on=[\"sect_clg\"])"
   ]
  },
  {
   "cell_type": "code",
   "execution_count": 21,
   "id": "2a73651d-de16-4cb3-8313-f8b37a61c27a",
   "metadata": {},
   "outputs": [],
   "source": [
    "r_course_section_list = list(r_course_section.itertuples(index=False, name=None))"
   ]
  },
  {
   "cell_type": "code",
   "execution_count": 22,
   "id": "bdf50da9-6de0-4286-bc53-133089c4e998",
   "metadata": {},
   "outputs": [],
   "source": [
    "process_connection.executemany(\"\"\"\n",
    "    INSERT INTO course_section(crs_id,\n",
    "    sect_id,sect_clg,sect_dept,sect_camp,\n",
    "    sect_mod,sect_status,sect_lvl,\n",
    "    sect_wiley) \n",
    "    VALUES(?,?,?,?,?,?,?,?,?)\n",
    "\"\"\",r_course_section_list)\n",
    "process_connection.commit()"
   ]
  }
 ],
 "metadata": {
  "environment": {
   "kernel": "python3",
   "name": "common-cpu.m103",
   "type": "gcloud",
   "uri": "gcr.io/deeplearning-platform-release/base-cpu:m103"
  },
  "kernelspec": {
   "display_name": "Python 3",
   "language": "python",
   "name": "python3"
  },
  "language_info": {
   "codemirror_mode": {
    "name": "ipython",
    "version": 3
   },
   "file_extension": ".py",
   "mimetype": "text/x-python",
   "name": "python",
   "nbconvert_exporter": "python",
   "pygments_lexer": "ipython3",
   "version": "3.7.12"
  }
 },
 "nbformat": 4,
 "nbformat_minor": 5
}
